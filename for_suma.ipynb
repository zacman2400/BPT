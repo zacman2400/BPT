{
 "cells": [
  {
   "cell_type": "code",
   "execution_count": null,
   "id": "74bf2b0e-23f7-4f10-86c1-5593128d7d08",
   "metadata": {},
   "outputs": [],
   "source": [
    "!pip install h5py\n",
    "!pip install torch-interpol\n",
    "!pip uninstall numpy -y\n",
    "!pip install numpy==1.22\n",
    "!pip install cupy-cuda113\n",
    "!pip install sigpy\n",
    "!pip install matplotlib\n",
    "pip install cupy-cuda11x\n",
    "!pip install imageio==1.3\n",
    "#!pip install cupy-cuda113"
   ]
  },
  {
   "cell_type": "code",
   "execution_count": null,
   "id": "38cc26f1-889b-430f-963f-a205ee0ff7b3",
   "metadata": {},
   "outputs": [],
   "source": [
    "import numpy as np\n",
    "import cupy\n",
    "import sigpy as sp\n",
    "bpt=np.load('bpt.npy','r+')\n",
    "mps=np.load('mps0.npy','r+')\n",
    "ksp=np.load('kspa0.npy','r+')\n",
    "coord=np.load('coorda0.npy','r+')\n",
    "dcf=np.load('dcfa0.npy','r+')\n"
   ]
  },
  {
   "cell_type": "code",
   "execution_count": null,
   "id": "a0a0c4ba-f054-4179-8789-2fe1d2cf918a",
   "metadata": {},
   "outputs": [],
   "source": [
    "from bpt_map import compute_bpt_over_frames,norm_data,run_unroll1,adj_field_solver\n",
    "from gated_data_loader import init_im,flows, warp1\n",
    "from moco_scripts14 import convert_utea,pca_cc,autofova,gen_template,for_field_solver,inv_field_solver,inv_field_solver_refine,gen_MSLR_for,gen_MSLR_adj,gen,flows,save_images_inv,f,save_images_for,rescale_flow,_updateb,warp1,MoCo_MSLR\n",
    "import torch"
   ]
  },
  {
   "cell_type": "code",
   "execution_count": null,
   "id": "f7fc11b1-fc82-48e5-a7b6-dbe336ef2b12",
   "metadata": {},
   "outputs": [],
   "source": [
    "torch.cuda.empty_cache()\n",
    "import gc\n",
    "gc.collect()"
   ]
  },
  {
   "cell_type": "code",
   "execution_count": null,
   "id": "80fa270f-7927-4509-8616-6a2c8990d296",
   "metadata": {},
   "outputs": [],
   "source": [
    "frames=500 #num frames you wish to reconstruct\n",
    "channels=31 #num coils\n",
    "RO=123 #spatial resolution\n",
    "spokes_per_bin=ksp.shape[1]//frames #sets temporal resolution\n",
    "bpt_norm=compute_bpt_over_frames(frames, channels,bpt,ksp) #normed bpt\n",
    "mps, kspa,coorda,dcfa=norm_data(ksp,coord,dcf,RO,spokes_per_bin) #normed acquisition data\n",
    "im=init_im(torch.from_numpy(kspa).cuda(),torch.from_numpy(dcfa).cuda(),torch.from_numpy(coorda).cuda(),torch.from_numpy(mps).cpu()) #generate initial template image\n",
    "#conjugate gradient descent (iters=num of iterations, alpha is we\n",
    "alpha=torch.zeros([1]).cuda()\n",
    "iters=10\n",
    "im_template=run_unroll1(im,torch.from_numpy(kspa).cuda(),torch.from_numpy(coorda).cuda(),torch.from_numpy(dcfa).cuda(),torch.from_numpy(mps).cuda(),alpha,iters) #data_consistent template image with CG steps\n",
    "\n",
    "#goal of CG descent is to take the template image and when you transform it to k-space that this approximation\n",
    "#of the k-space data is approximately scaled the same as the acquired k-space data"
   ]
  },
  {
   "cell_type": "code",
   "execution_count": null,
   "id": "d583088d-9090-4125-905a-99d1d998a1fa",
   "metadata": {},
   "outputs": [],
   "source": [
    "\n",
    "def calculate_sense0(M_t,ksp,mps_c,coord_t,dcf):\n",
    "        F = sp.linop.NUFFT([mps_c.shape[0], mps_c.shape[1], mps_c.shape[2]], coord_t.detach().cpu().numpy(),1.25,2)\n",
    "        F_torch = sp.to_pytorch_function(F, input_iscomplex=True, output_iscomplex=True)\n",
    "        FH_torch = sp.to_pytorch_function(F.H, input_iscomplex=True, output_iscomplex=True)\n",
    "        e_tc=F_torch.apply(M_t.cuda())\n",
    "        e_tca=torch.complex(e_tc[:,0],e_tc[:,1]) \n",
    "        print(torch.abs(ksp).max())\n",
    "        print(torch.abs(e_tca).max())\n",
    "        res=(ksp-e_tca)*(dcf)**0.5 \n",
    "        res=torch.reshape(res,[1,-1])\n",
    "        lossb=(torch.linalg.norm(res,2))**2 \n",
    "        return lossb\n",
    "\n",
    "def _updateb(img_t,ksp_t,dcf_t,coord_t,mpsa): #ima,deform_adjoint1,ksp,coord,dcf,mps,t,device,tr_per_frame):\n",
    "  \n",
    "# Data consistency.\n",
    "  loss_t=0\n",
    "  for c in range(mpsa.shape[0]):\n",
    "       \n",
    "    \n",
    "    loss_t=loss_t+torch.utils.checkpoint.checkpoint(calculate_sense0,torch.cat([torch.reshape(torch.real(img_t*mpsa[c].cuda()),[mpsa.shape[1],mpsa.shape[2],mpsa.shape[3],1]),torch.reshape(torch.imag(img_t*mpsa[c].cuda()),[mpsa.shape[1],mpsa.shape[2],mpsa.shape[3],1])],axis=3),torch.reshape(ksp_t[c],[-1]),mpsa[c],torch.reshape(coord_t,[-1,3]),torch.reshape(dcf_t,[-1]))\n",
    "   \n",
    "  \n",
    "  return loss_t"
   ]
  },
  {
   "cell_type": "code",
   "execution_count": null,
   "id": "5789480b-b310-44a0-90aa-7bd2dd0911a2",
   "metadata": {},
   "outputs": [],
   "source": [
    "from gated_data_loader import gen_MSLR #initializes the  MSLR motion fields\n",
    "T=500\n",
    "rank=1\n",
    "block_size_for=[8,16,32]\n",
    "block_size_adj=block_size_for\n",
    "scale=1\n",
    "deformL_param_adj0,deformR_param_adj0,deformL_param_for0,deformR_param_for0,block_torch0,ishape0a=gen_MSLR(T,rank,block_size_adj,block_size_for,scale,mps) #initializes the motion fields\n",
    "\n"
   ]
  },
  {
   "cell_type": "code",
   "execution_count": null,
   "id": "f22f3305-80db-46d9-8d21-0c35de1104af",
   "metadata": {
    "scrolled": true
   },
   "outputs": [],
   "source": [
    "#this solves for the MSLR components of the motion fields, goal here is to solve for\n",
    "#estimate of L deformation field spatial basis\n",
    "T=50\n",
    "iter_adj=50 #sets the number of iterations\n",
    "RO=123\n",
    "init_frame=400\n",
    "final_frame=450\n",
    "weight_MSE=20\n",
    "weight_smoother=10\n",
    "adj_field_solver(deformL_param_adj0,deformR_param_adj0,deformL_param_for0,deformR_param_for0,im_template.detach().cpu().numpy(),ksp,coord,dcf,mps,iter_adj,RO,block_torch0,ishape0a,init_frame,final_frame,1,mps,spokes_per_bin,weight_MSE,weight_smoother)\n",
    "\n",
    "\n"
   ]
  },
  {
   "cell_type": "code",
   "execution_count": null,
   "id": "76c39889-017a-4f42-be96-70d06472723a",
   "metadata": {},
   "outputs": [],
   "source": [
    "for i in range(3):\n",
    "    np.save('deformL_param_adj0s'+str(i),deformL_param_adj0[i].detach().cpu().numpy())\n",
    "    np.save('deformR_param_adj0s'+str(i),deformR_param_adj0[i].detach().cpu().numpy())"
   ]
  },
  {
   "cell_type": "code",
   "execution_count": null,
   "id": "302709e1-a7a3-45c4-8a96-6eef4c54aac7",
   "metadata": {},
   "outputs": [],
   "source": [
    "R_blocks=deformR_param_adj0"
   ]
  },
  {
   "cell_type": "code",
   "execution_count": null,
   "id": "e9beec13-7144-43b2-af45-e0444a20c198",
   "metadata": {},
   "outputs": [],
   "source": [
    "#fully connected neural network with a bunch of hard coded parameters, this could be replaced by GP or CNN\n",
    "\n",
    "import torch.nn as nn\n",
    "class NetRresp(nn.Module):\n",
    "    def __init__(self):\n",
    "        super(NetRresp, self).__init__()\n",
    "       # self.conv1b=nn.Conv2d(2,16,[7,1],padding=3,bias=False)\n",
    "       # self.conv2b=nn.Conv2d(16,2,[1,1],padding=0,bias=False)\n",
    "        \n",
    "        self.a0=torch.nn.Linear(31, 3*31*10, bias=False, device=None, dtype=None)\n",
    "      \n",
    "        self.a1=torch.nn.Linear(3*31*10,3*31*10*3, bias=False, device=None, dtype=None)\n",
    "        self.a2=torch.nn.Linear(3*31*10*3,31*10*3, bias=False, device=None, dtype=None)\n",
    "        self.a3=torch.nn.Linear(31*10*3,31*10*3, bias=False, device=None, dtype=None)\n",
    "        self.a4=torch.nn.Linear(31*10*3, 31*10*3, bias=False, device=None, dtype=None)\n",
    "     #   self.R0=torch.nn.Linear(100,8*3, bias=False, device=None, dtype=None)\n",
    "      #  self.R0y=torch.nn.Linear(20,8, bias=False, device=None, dtype=None)\n",
    "      #  self.R0z=torch.nn.Linear(20,8, bias=False, device=None, dtype=None)\n",
    "        self.R0=torch.nn.Linear(31*10*3, R_blocks[0].shape[1]*R_blocks[0].shape[2]*3, bias=False, device=None, dtype=None)\n",
    "        self.R1=torch.nn.Linear(31*10*3, R_blocks[1].shape[1]*R_blocks[1].shape[2]*3, bias=False, device=None, dtype=None)\n",
    "        self.R2=torch.nn.Linear(31*10*3,R_blocks[2].shape[1]*R_blocks[2].shape[2]*3, bias=False, device=None, dtype=None)\n",
    "        self.a5x=torch.nn.Linear(1000, 8, bias=False, device=None, dtype=None)\n",
    "        self.a6x=torch.nn.Linear(8, 1000, bias=False, device=None, dtype=None)\n",
    "        self.a7x=torch.nn.Linear(1000, 1000, bias=False, device=None, dtype=None)\n",
    "        self.R0x=torch.nn.Linear(1000, R_blocks[0].shape[1]*R_blocks[0].shape[2], bias=False, device=None, dtype=None)\n",
    "        self.R1x=torch.nn.Linear(1000, R_blocks[1].shape[1]*R_blocks[1].shape[2], bias=False, device=None, dtype=None)\n",
    "        self.R2x=torch.nn.Linear(1000,R_blocks[2].shape[1]*R_blocks[2].shape[2], bias=False, device=None, dtype=None)\n",
    "\n",
    "        self.a5y=torch.nn.Linear(1000, 8, bias=False, device=None, dtype=None)\n",
    "        self.a6y=torch.nn.Linear(8, 1000, bias=False, device=None, dtype=None)\n",
    "        self.a7y=torch.nn.Linear(1000, 1000, bias=False, device=None, dtype=None)\n",
    "        self.R0y=torch.nn.Linear(1000, R_blocks[0].shape[1]*R_blocks[0].shape[2], bias=False, device=None, dtype=None)\n",
    "        self.R1y=torch.nn.Linear(1000, R_blocks[1].shape[1]*R_blocks[1].shape[2], bias=False, device=None, dtype=None)\n",
    "        self.R2y=torch.nn.Linear(1000,R_blocks[2].shape[1]*R_blocks[2].shape[2], bias=False, device=None, dtype=None)\n",
    "\n",
    "        self.a5z=torch.nn.Linear(1000, 8, bias=False, device=None, dtype=None)\n",
    "        self.a6z=torch.nn.Linear(8, 1000, bias=False, device=None, dtype=None)\n",
    "        self.a7z=torch.nn.Linear(1000, 1000, bias=False, device=None, dtype=None)\n",
    "        self.R0z=torch.nn.Linear(1000, R_blocks[0].shape[1]*R_blocks[0].shape[2], bias=False, device=None, dtype=None)\n",
    "        self.R1z=torch.nn.Linear(1000, R_blocks[1].shape[1]*R_blocks[1].shape[2], bias=False, device=None, dtype=None)\n",
    "        self.R2z=torch.nn.Linear(1000,R_blocks[2].shape[1]*R_blocks[2].shape[2], bias=False, device=None, dtype=None)\n",
    "       # self.Gx\n",
    "       # self.Gy\n",
    "       # self.Gz\n",
    "\n",
    "     \n",
    "       \n",
    "        self.activation=torch.nn.ReLU(inplace=True)\n",
    "        \n",
    "    def forward(self, x):\n",
    "        x=self.a0(x)\n",
    "        x=self.activation(x)\n",
    "        '''\n",
    "        x=self.a0a(x)\n",
    "        x=self.activation(x)\n",
    "        x=self.a0b(x)\n",
    "        T=self.activation(x)\n",
    "        '''\n",
    "        x=self.a1(x)\n",
    "        x=self.activation(x)\n",
    "        x=self.a2(x)\n",
    "        x=self.activation(x)\n",
    "        x=self.a3(x)\n",
    "        x=self.activation(x)\n",
    "        x=self.a4(x)\n",
    "        x=self.activation(x)\n",
    "        Ra=torch.reshape(self.R0(x),[3,1760,1,1])\n",
    "        Rb=torch.reshape(self.R1(x),[3,200,1,1])\n",
    "        Rc=torch.reshape(self.R2(x),[3,16,1,1])\n",
    "        Rresp=[Ra,Rb,Rc]\n",
    "        '''\n",
    "        x=self.a5x(x)\n",
    "        Tx=self.activation(x)\n",
    "        x=self.a6x(Tx)\n",
    "        x=self.activation(x)\n",
    "        x=self.a7x(x)\n",
    "        Rax=torch.reshape(self.R0x(x),[1,1760,1,1])\n",
    "        Rbx=torch.reshape(self.R1x(x),[1,200,1,1])\n",
    "        Rcx=torch.reshape(self.R2x(x),[1,16,1,1])\n",
    "\n",
    "        x=self.a5y(x)\n",
    "        Ty=self.activation(x)\n",
    "        x=self.a6y(Tx)\n",
    "        x=self.activation(x)\n",
    "        x=self.a7y(x)\n",
    "        Ray=torch.reshape(self.R0y(x),[1,1760,1,1])\n",
    "        Rby=torch.reshape(self.R1y(x),[1,200,1,1])\n",
    "        Rcy=torch.reshape(self.R2y(x),[1,16,1,1])\n",
    "\n",
    "        x=self.a5z(x)\n",
    "        Tz=self.activation(x)\n",
    "        x=self.a6z(Tx)\n",
    "        x=self.activation(x)\n",
    "        x=self.a7z(x)\n",
    "        Raz=torch.reshape(self.R0z(x),[1,1760,1,1])\n",
    "        Rbz=torch.reshape(self.R1z(x),[1,200,1,1])\n",
    "        Rcz=torch.reshape(self.R2z(x),[1,16,1,1])\n",
    "        Rresp=[Ra,Rb,Rc]\n",
    "        Rrespx=[Rax,Rbx,Rcx]\n",
    "        Rrespy=[Ray,Rby,Rcz]\n",
    "        Rrespz=[Raz,Rbz,Rcz]\n",
    "       # t0x=torch.reshape(t0x,[3,8,1])\n",
    "       # t0y=self.R0y(x)\n",
    "       # t0y=torch.reshape(t0y,[1,8,1])\n",
    "       # t0z=self.R0z(x)\n",
    "       # t0z=torch.reshape(t0z,[1,8,1])\n",
    "       # t0=torch.cat([t0x,t0y,t0z],axis=0)\n",
    "       # t1=self.R1(x)\n",
    "       # t2=self.R2(x)\n",
    "        '''\n",
    "        return Rresp #,Rrespx,Rrespy,Rrespz,Tx,Ty,Tz\n",
    "\n",
    "netresp=NetRresp()\n",
    "netresp=netresp.cuda() #puts the neural network on the GPU"
   ]
  },
  {
   "cell_type": "code",
   "execution_count": null,
   "id": "0e3f9a89-f34e-4e49-ab41-86814e85243c",
   "metadata": {},
   "outputs": [],
   "source": [
    "#initialize your optimizer\n",
    "optimizer0 = torch.optim.Adam(\n",
    "    netresp.parameters(),\n",
    "    lr= 1e-3\n",
    ")\n",
    "all0=torch.abs(ima).cuda().max()\n",
    "image_look=np.zeros([50,mps.shape[2],mps.shape[3]])"
   ]
  },
  {
   "cell_type": "code",
   "execution_count": null,
   "id": "81d0a585-13d8-4715-bcc5-fc9311a2bdd0",
   "metadata": {},
   "outputs": [],
   "source": [
    "\n",
    "def calculate_sense0(M_t,ksp,mps_c,coord_t,dcf):\n",
    "        torch.cuda.empty_cache()\n",
    "        loss=0\n",
    "      \n",
    "        F = sp.linop.NUFFT([mps_c.shape[0], mps_c.shape[1], mps_c.shape[2]], coord_t.detach().cpu().numpy(),1.25,2)\n",
    "        F_torch = sp.to_pytorch_function(F, input_iscomplex=True, output_iscomplex=True)\n",
    "        FH_torch = sp.to_pytorch_function(F.H, input_iscomplex=True, output_iscomplex=True)\n",
    "        e_tc=F_torch.apply(M_t.cuda())\n",
    "      \n",
    "        e_tca=torch.complex(e_tc[:,0],e_tc[:,1]) #*torch.reshape(Ptc,[-1])\n",
    "        #print(torch.abs(e_tca).max())\n",
    "        #print(torch.abs(ksp).max())\n",
    "        torch.cuda.empty_cache()\n",
    "       \n",
    "        res=(e_tca-ksp)*(dcf)**0.5 #**0.5 #**0.5\n",
    "        res=torch.reshape(res,[1,-1])\n",
    "        lossb=(torch.linalg.norm(res,2))**2 #**2 #**2 #torch.abs(torch.sum(((ksp-e_tca))))\n",
    "        \n",
    "        #loss=(torch.norm(resk)) #/torch.norm(ksp,2)+torch.norm(resk,1)/torch.norm(ksp,1) #torch.abs(torch.sum((e_tca.cuda()*dcf.cuda()**0.5-ksp_t.cuda()*dcf.cuda()**0.5)**2))\n",
    "       \n",
    "        \n",
    "       # torch.cuda.empty_cache()\n",
    "       # loss=torch.norm(resk,1) #*index_all/index_max  #*index_all/ksp.shape[0]\n",
    "        #print(loss)\n",
    "        return lossb\n",
    "\n",
    "def _updateb(img_t,ksp_t,dcf_t,coord_t,mpsa): #ima,deform_adjoint1,ksp,coord,dcf,mps,t,device,tr_per_frame):\n",
    "  \n",
    "# Data consistency.\n",
    "  loss_t=0\n",
    "  #print(mpsa.shape)\n",
    "  #print(img_t.shape)\n",
    "  #n=int(cooo[0])\n",
    "  for c in range(mpsa.shape[0]):\n",
    "       \n",
    "    \n",
    "    loss_t=loss_t+torch.utils.checkpoint.checkpoint(calculate_sense0,torch.cat([torch.reshape(torch.real(img_t*mpsa[c].cuda()),[mpsa.shape[1],mpsa.shape[2],mpsa.shape[3],1]),torch.reshape(torch.imag(img_t*mpsa[c].cuda()),[mpsa.shape[1],mpsa.shape[2],mpsa.shape[3],1])],axis=3),torch.reshape(ksp_t[c],[-1]),mpsa[c],torch.reshape(coord_t,[-1,3]),torch.reshape(dcf_t,[-1]))\n",
    "   # m=mpsa[c].detach().cpu().numpy()\n",
    "   # torch.cuda.empty_cache()\n",
    "  #del img_t\n",
    "  #torch.cuda.empty_cache()\n",
    "  \n",
    "  return loss_t"
   ]
  },
  {
   "cell_type": "code",
   "execution_count": null,
   "id": "e990c093-2da9-4e0f-be6f-fbb1cdaeb0a5",
   "metadata": {},
   "outputs": [],
   "source": [
    "iter_network=100"
   ]
  },
  {
   "cell_type": "code",
   "execution_count": null,
   "id": "ffec4b7c-3fb0-46dc-8a58-0e0aaab85e38",
   "metadata": {},
   "outputs": [],
   "source": [
    "#this is how you train the network\n",
    "for i in range(iter_network):\n",
    "    T1=400\n",
    "    T2=450\n",
    "   \n",
    "   # respa.requires_grad=True\n",
    "   # ecga.requires_grad=True\n",
    "    lossa=0\n",
    "  \n",
    "    K=np.random.randint(T1,T2,50)\n",
    "    a=0\n",
    "    for j in K: #range(450,500):\n",
    "        \n",
    "    \n",
    "        Rresp=netresp(torch.abs(torch.reshape(torch.from_numpy(bpt_norm[j:j+1,:31]).cuda(),[-1]))) #network ouputs estimate of temporal basis\n",
    "      \n",
    "        loss_tot=torch.nn.MSELoss()\n",
    "        deforma=flows(deformL_param_adj0,Rresp,0,block_torch0,ishape0a) #flows is a function that combined the compressed representation into a motion field at time t\n",
    "     \n",
    "        im_out=warp1((im_temp).cuda()/norm0,deforma,mps,complex=True) #warp1 is it warps the template image according to deforma\n",
    "      \n",
    "       \n",
    "        tr_start=spokes_per_bin*j\n",
    "        tr_end=spokes_per_bin*(j+1)\n",
    "        ksp_ta=torch.from_numpy(ksp[:,tr_start:tr_end,:]).cuda()/norm0\n",
    "        coord_t=torch.from_numpy(coord[tr_start:tr_end,:]).cuda()\n",
    "        dcf_t=torch.from_numpy(dcf[tr_start:tr_end,:]).cuda()\n",
    "        loss_grad=f.loss(deforma) #smooth the motion field\n",
    "        index_max=1\n",
    "        index_frame=1\n",
    "    \n",
    "        loss_for=_updateb(im_out.unsqueeze(0),ksp_ta,dcf_t,coord_t,torch.from_numpy(mps).cpu())*1+loss_grad*1e-1 #+loss_ortho*1e-4+loss_grad #*20+loss_grad*10 #minimizing/enforcing the loss in k-space between the warped template image (im_out and the original k-space data at time point t)\n",
    "        loss_for.backward() #backprop gradients\n",
    "   \n",
    "        lossa=lossa+loss_for\n",
    "      \n",
    "        im_out=torch.squeeze(im_out)\n",
    "       \n",
    "        image_look[j-400]=np.abs(im_out[20].detach().cpu().numpy())\n",
    "        a=a+1\n",
    "        \n",
    "       \n",
    "  \n",
    "\n",
    "     \n",
    "  \n",
    "        optimizer0.step()\n",
    "        optimizer0.zero_grad()\n",
    "        optimizer1.step()\n",
    "        optimizer1.zero_grad()\n",
    "    print(lossa) #loss over all frames\n",
    "    import imageio\n",
    "    imageio.mimsave('image.gif', [np.abs(image_look[i,:,:])*1e15 for i in range(50)], fps=5)\n"
   ]
  }
 ],
 "metadata": {
  "kernelspec": {
   "display_name": "Python 3 (ipykernel)",
   "language": "python",
   "name": "python3"
  },
  "language_info": {
   "codemirror_mode": {
    "name": "ipython",
    "version": 3
   },
   "file_extension": ".py",
   "mimetype": "text/x-python",
   "name": "python",
   "nbconvert_exporter": "python",
   "pygments_lexer": "ipython3",
   "version": "3.10.6"
  },
  "widgets": {
   "application/vnd.jupyter.widget-state+json": {
    "state": {
     "000df81d3d5444378788539530d4d2ac": {
      "model_module": "@jupyter-widgets/controls",
      "model_module_version": "2.0.0",
      "model_name": "HBoxModel",
      "state": {
       "children": [
        "IPY_MODEL_b44d11ad4ac1412e86019545f2465421",
        "IPY_MODEL_d2eca4e4fbf94418ba2518bd5724ef57",
        "IPY_MODEL_415ea38d6bfe47938b823a5614b457bc"
       ],
       "layout": "IPY_MODEL_5fec81c5810a4eb48e8d7d6c5a68e793"
      }
     },
     "0030066a82a14357bf6edea498f7dff0": {
      "model_module": "@jupyter-widgets/base",
      "model_module_version": "2.0.0",
      "model_name": "LayoutModel",
      "state": {}
     },
     "003db2c2af8b40699d0e0387c9a59ab3": {
      "model_module": "@jupyter-widgets/controls",
      "model_module_version": "2.0.0",
      "model_name": "HTMLStyleModel",
      "state": {
       "description_width": "",
       "font_size": null,
       "text_color": null
      }
     },
     "0055297a1071434aae56718401bff6f4": {
      "model_module": "@jupyter-widgets/controls",
      "model_module_version": "2.0.0",
      "model_name": "FloatProgressModel",
      "state": {
       "bar_style": "success",
       "layout": "IPY_MODEL_95ca857273a3453a9eecee9b54677bb5",
       "max": 1,
       "style": "IPY_MODEL_28e881e2efc14bde852edb4b0ebd8211",
       "value": 1
      }
     },
     "009021ab31d24e439030ff883ae929d9": {
      "model_module": "@jupyter-widgets/controls",
      "model_module_version": "2.0.0",
      "model_name": "FloatProgressModel",
      "state": {
       "bar_style": "success",
       "layout": "IPY_MODEL_dcd5200bc0ff4424b734f185103240c7",
       "max": 1,
       "style": "IPY_MODEL_fb7059238d4c4019b0ef6397b57bc659",
       "value": 1
      }
     },
     "00a062f4dfe94faf9f8b1ec2d27396fe": {
      "model_module": "@jupyter-widgets/controls",
      "model_module_version": "2.0.0",
      "model_name": "HTMLModel",
      "state": {
       "layout": "IPY_MODEL_4d6528afd697428dabfbbfe8e2a758cb",
       "style": "IPY_MODEL_e5d90f15defb4658b3464c7769e46d00",
       "value": "Epoch 23/60: 100%"
      }
     },
     "00e0e09156874da380079cdfc925c508": {
      "model_module": "@jupyter-widgets/base",
      "model_module_version": "2.0.0",
      "model_name": "LayoutModel",
      "state": {}
     },
     "00e7e26515b7481ea54c5482377cdb80": {
      "model_module": "@jupyter-widgets/controls",
      "model_module_version": "2.0.0",
      "model_name": "HTMLModel",
      "state": {
       "layout": "IPY_MODEL_b34a94ff7df54daaa4fdef0d9a3465a7",
       "style": "IPY_MODEL_d2c2654abedb4336820a18bbea779ff9",
       "value": " 500/500 [00:18&lt;00:00, 27.37it/s, loss=0.00189]"
      }
     },
     "01161b8c79c9426e8352c733b6ac79f9": {
      "model_module": "@jupyter-widgets/base",
      "model_module_version": "2.0.0",
      "model_name": "LayoutModel",
      "state": {}
     },
     "0132c233ae324758b1c12fd6bf1eeace": {
      "model_module": "@jupyter-widgets/controls",
      "model_module_version": "2.0.0",
      "model_name": "HTMLModel",
      "state": {
       "layout": "IPY_MODEL_3bc8267d2a2d463dbf593e3a4dd3224f",
       "style": "IPY_MODEL_69bf7e600266438784ed30f6d2678a9e",
       "value": "Epoch 37/60: 100%"
      }
     },
     "014f0c18bfd74bbe939aa466b3a0b08e": {
      "model_module": "@jupyter-widgets/controls",
      "model_module_version": "2.0.0",
      "model_name": "HTMLModel",
      "state": {
       "layout": "IPY_MODEL_521b01ccdd4b44e290e9192a6f9af022",
       "style": "IPY_MODEL_57863f7a1b5b4b45811a90d2ea55d7f8",
       "value": " 1/1 [00:02&lt;00:00,  2.71s/it, loss=0.0147]"
      }
     },
     "014fb8b644104b35a716330ba9e2d690": {
      "model_module": "@jupyter-widgets/controls",
      "model_module_version": "2.0.0",
      "model_name": "HBoxModel",
      "state": {
       "children": [
        "IPY_MODEL_f9d5942dfdfb4625844bf4f21236698e",
        "IPY_MODEL_3b0a5044edfe4ce484ecfe06d27f6c6c",
        "IPY_MODEL_893c9c9fe61249c8bf22d7eab7cc0e44"
       ],
       "layout": "IPY_MODEL_5b24edf1b88640e3a5de3473cebb31a8"
      }
     },
     "016ccc8169c4452bb159d4dab2745d21": {
      "model_module": "@jupyter-widgets/controls",
      "model_module_version": "2.0.0",
      "model_name": "HTMLStyleModel",
      "state": {
       "description_width": "",
       "font_size": null,
       "text_color": null
      }
     },
     "01909e7798cd49e6830d3f0e75028caa": {
      "model_module": "@jupyter-widgets/controls",
      "model_module_version": "2.0.0",
      "model_name": "FloatProgressModel",
      "state": {
       "bar_style": "success",
       "layout": "IPY_MODEL_731c46911dfc4599b2e3fbfc7db3d2f8",
       "max": 500,
       "style": "IPY_MODEL_0d421adb29034ebd8673436d5a0a71ef",
       "value": 500
      }
     },
     "01a8c3c98c6d457cb7bbb303d6e1a4df": {
      "model_module": "@jupyter-widgets/base",
      "model_module_version": "2.0.0",
      "model_name": "LayoutModel",
      "state": {}
     },
     "01d3fd45cd3641e4a4d71c3f0f6784db": {
      "model_module": "@jupyter-widgets/controls",
      "model_module_version": "2.0.0",
      "model_name": "HTMLStyleModel",
      "state": {
       "description_width": "",
       "font_size": null,
       "text_color": null
      }
     },
     "01d91cbdca834ed98773aeec5bee40aa": {
      "model_module": "@jupyter-widgets/controls",
      "model_module_version": "2.0.0",
      "model_name": "FloatProgressModel",
      "state": {
       "bar_style": "success",
       "layout": "IPY_MODEL_77a658a68e10458f94f77a461e582e3d",
       "max": 1,
       "style": "IPY_MODEL_2e80e46cb6c74d59ac72b928a0f31337",
       "value": 1
      }
     },
     "01e803dfe5ec4565a00e73187efc6c33": {
      "model_module": "@jupyter-widgets/controls",
      "model_module_version": "2.0.0",
      "model_name": "HTMLStyleModel",
      "state": {
       "description_width": "",
       "font_size": null,
       "text_color": null
      }
     },
     "0208b60e9b904897810d06fda68ff2a3": {
      "model_module": "@jupyter-widgets/controls",
      "model_module_version": "2.0.0",
      "model_name": "HTMLStyleModel",
      "state": {
       "description_width": "",
       "font_size": null,
       "text_color": null
      }
     },
     "02551473e0ee46219ae4348737066350": {
      "model_module": "@jupyter-widgets/controls",
      "model_module_version": "2.0.0",
      "model_name": "HTMLModel",
      "state": {
       "layout": "IPY_MODEL_c171184e068e46f5be675c7eda22e704",
       "style": "IPY_MODEL_99b35b81929f4b4f843b7ea9af9a9c1d",
       "value": " 1/1 [00:02&lt;00:00,  2.71s/it, loss=0.00888]"
      }
     },
     "02a6585cd3da46ce977c30687097a4fd": {
      "model_module": "@jupyter-widgets/controls",
      "model_module_version": "2.0.0",
      "model_name": "HTMLModel",
      "state": {
       "layout": "IPY_MODEL_6a03b769e1fe4043bfaba7fdf8ce4925",
       "style": "IPY_MODEL_e749e58528a24451a8759880644878aa",
       "value": "Epoch 32/60: 100%"
      }
     },
     "02b755a145ea4352a25989e330f0fe9b": {
      "model_module": "@jupyter-widgets/base",
      "model_module_version": "2.0.0",
      "model_name": "LayoutModel",
      "state": {}
     },
     "02e650ab092d46699400aaee6e17f547": {
      "model_module": "@jupyter-widgets/controls",
      "model_module_version": "2.0.0",
      "model_name": "HTMLModel",
      "state": {
       "layout": "IPY_MODEL_ba05c8fbbe964d51a9bcc79b35dd8a33",
       "style": "IPY_MODEL_ce234cd8436b44a68f9191de09ec57dc",
       "value": " 500/500 [00:18&lt;00:00, 27.29it/s, loss=0.00199]"
      }
     },
     "02e83de829f84df7ac32773a6d12b10c": {
      "model_module": "@jupyter-widgets/base",
      "model_module_version": "2.0.0",
      "model_name": "LayoutModel",
      "state": {}
     },
     "0347de1eddc240b4b1bad7d78f7cebf8": {
      "model_module": "@jupyter-widgets/controls",
      "model_module_version": "2.0.0",
      "model_name": "HTMLStyleModel",
      "state": {
       "description_width": "",
       "font_size": null,
       "text_color": null
      }
     },
     "03a534a61d114d7eb2ddaa6a2e0eec23": {
      "model_module": "@jupyter-widgets/base",
      "model_module_version": "2.0.0",
      "model_name": "LayoutModel",
      "state": {}
     },
     "03d2deac9295464b9aae69ab244638ef": {
      "model_module": "@jupyter-widgets/controls",
      "model_module_version": "2.0.0",
      "model_name": "HTMLStyleModel",
      "state": {
       "description_width": "",
       "font_size": null,
       "text_color": null
      }
     },
     "03ef697b2c7342cea23d4e4b88d2a8d3": {
      "model_module": "@jupyter-widgets/controls",
      "model_module_version": "2.0.0",
      "model_name": "ProgressStyleModel",
      "state": {
       "description_width": ""
      }
     },
     "04251198b80d4a868d756fbeffc44d74": {
      "model_module": "@jupyter-widgets/base",
      "model_module_version": "2.0.0",
      "model_name": "LayoutModel",
      "state": {}
     },
     "0439b06fcea34215a10a484983907b4f": {
      "model_module": "@jupyter-widgets/controls",
      "model_module_version": "2.0.0",
      "model_name": "HTMLModel",
      "state": {
       "layout": "IPY_MODEL_4a0616aeba3b4be08613047e21107674",
       "style": "IPY_MODEL_c6fc92e8102e4f03ad143d40fa7b32aa",
       "value": "Epoch 8/60: 100%"
      }
     },
     "0444a6e1001d4a49a16aec2148d81411": {
      "model_module": "@jupyter-widgets/base",
      "model_module_version": "2.0.0",
      "model_name": "LayoutModel",
      "state": {}
     },
     "0445eb4ae01e4750af349b5a0043dd97": {
      "model_module": "@jupyter-widgets/controls",
      "model_module_version": "2.0.0",
      "model_name": "HTMLModel",
      "state": {
       "layout": "IPY_MODEL_be7f465a42d34613b99306a697d49e0b",
       "style": "IPY_MODEL_f693c07bcfc148038a133800d7eac20e",
       "value": "PowerIter L 1/5: 100%"
      }
     },
     "0457dde1c93944769f507a2db6e534c7": {
      "model_module": "@jupyter-widgets/base",
      "model_module_version": "2.0.0",
      "model_name": "LayoutModel",
      "state": {}
     },
     "045a405ca4214b7b9390e613a4d9ea67": {
      "model_module": "@jupyter-widgets/base",
      "model_module_version": "2.0.0",
      "model_name": "LayoutModel",
      "state": {}
     },
     "045c3688d7da4fc09e5e1d17813c8452": {
      "model_module": "@jupyter-widgets/controls",
      "model_module_version": "2.0.0",
      "model_name": "HTMLStyleModel",
      "state": {
       "description_width": "",
       "font_size": null,
       "text_color": null
      }
     },
     "0486e6c7af50482eb9965e6ad5e1495a": {
      "model_module": "@jupyter-widgets/controls",
      "model_module_version": "2.0.0",
      "model_name": "HTMLStyleModel",
      "state": {
       "description_width": "",
       "font_size": null,
       "text_color": null
      }
     },
     "0504091070fe4aa7960b85b9166b2097": {
      "model_module": "@jupyter-widgets/controls",
      "model_module_version": "2.0.0",
      "model_name": "HTMLStyleModel",
      "state": {
       "description_width": "",
       "font_size": null,
       "text_color": null
      }
     },
     "058be5471af74531a9c59fc01c8671da": {
      "model_module": "@jupyter-widgets/controls",
      "model_module_version": "2.0.0",
      "model_name": "ProgressStyleModel",
      "state": {
       "description_width": ""
      }
     },
     "05a4ffcaf74f42b2bf7e4115f85763a7": {
      "model_module": "@jupyter-widgets/controls",
      "model_module_version": "2.0.0",
      "model_name": "HBoxModel",
      "state": {
       "children": [
        "IPY_MODEL_fcb2e51b13864d5a91334b0bf404bcd5",
        "IPY_MODEL_44214c8923cc43cba8189bc316932d83",
        "IPY_MODEL_1429e0b3bd354e6399b64f41d128f3b0"
       ],
       "layout": "IPY_MODEL_01a8c3c98c6d457cb7bbb303d6e1a4df"
      }
     },
     "05bddfe63cad4fd9b8cbc531c8936b0e": {
      "model_module": "@jupyter-widgets/controls",
      "model_module_version": "2.0.0",
      "model_name": "HTMLModel",
      "state": {
       "layout": "IPY_MODEL_6cfc2307f13d4342930a0241f9130f82",
       "style": "IPY_MODEL_17a8b941fe9c4f609c829c130bb01ab3",
       "value": "PowerIter L 3/5: 100%"
      }
     },
     "05cbc7483989490588a1c651abb7fd43": {
      "model_module": "@jupyter-widgets/base",
      "model_module_version": "2.0.0",
      "model_name": "LayoutModel",
      "state": {}
     },
     "05f4a094a313483981d6edbe30024c2e": {
      "model_module": "@jupyter-widgets/controls",
      "model_module_version": "2.0.0",
      "model_name": "HBoxModel",
      "state": {
       "children": [
        "IPY_MODEL_ee04089b300f41b08cc019b89abcfe24",
        "IPY_MODEL_74469979ee69470d855a6d39cd296508",
        "IPY_MODEL_4350ffe522214779b40c0e9107f498fb"
       ],
       "layout": "IPY_MODEL_ffeb7639f11b4995bdefeab8b36d7d26"
      }
     },
     "06395d9321c9450baed906f312cf49f2": {
      "model_module": "@jupyter-widgets/controls",
      "model_module_version": "2.0.0",
      "model_name": "HTMLModel",
      "state": {
       "layout": "IPY_MODEL_ca3d5af6452543978f89672f3381e83f",
       "style": "IPY_MODEL_ac942eea018545b7b2276c968710a645",
       "value": "Epoch 57/60: 100%"
      }
     },
     "06583809decb42daad0026a878a28c05": {
      "model_module": "@jupyter-widgets/controls",
      "model_module_version": "2.0.0",
      "model_name": "HBoxModel",
      "state": {
       "children": [
        "IPY_MODEL_1d81087e5593437baacff215b1f2c86b",
        "IPY_MODEL_14b9e230f7a3450bb18b29ff865d3f24",
        "IPY_MODEL_ddd4e3cf1f8a45a0a23b5f750a487aa6"
       ],
       "layout": "IPY_MODEL_2378ce9f42b7462c8027c7b1215fca8c"
      }
     },
     "066d4f9072b74c499c921d7d82e8492d": {
      "model_module": "@jupyter-widgets/controls",
      "model_module_version": "2.0.0",
      "model_name": "FloatProgressModel",
      "state": {
       "bar_style": "success",
       "layout": "IPY_MODEL_2a22814e60134fbb8f178ba8182ae9f4",
       "max": 1,
       "style": "IPY_MODEL_0bc3b8f4da12454c97d948f49ddfcd92",
       "value": 1
      }
     },
     "068ac241f4444482ad84cedd76718cef": {
      "model_module": "@jupyter-widgets/base",
      "model_module_version": "2.0.0",
      "model_name": "LayoutModel",
      "state": {}
     },
     "06b30f354f734fb3873db97f021256ff": {
      "model_module": "@jupyter-widgets/controls",
      "model_module_version": "2.0.0",
      "model_name": "ProgressStyleModel",
      "state": {
       "description_width": ""
      }
     },
     "06d664c7d6da4c9e9aed8eaa23bab411": {
      "model_module": "@jupyter-widgets/controls",
      "model_module_version": "2.0.0",
      "model_name": "ProgressStyleModel",
      "state": {
       "description_width": ""
      }
     },
     "071e1a308405411aa3813621cd626126": {
      "model_module": "@jupyter-widgets/controls",
      "model_module_version": "2.0.0",
      "model_name": "HTMLModel",
      "state": {
       "layout": "IPY_MODEL_33179dec953d47ff8c7954c5072efed5",
       "style": "IPY_MODEL_b76fd43b07964105ba0f55ec05b4fa4d",
       "value": " 1/1 [00:02&lt;00:00,  2.70s/it, loss=0.0446]"
      }
     },
     "073f3ee3909e41efa087d97d00b7e845": {
      "model_module": "@jupyter-widgets/controls",
      "model_module_version": "2.0.0",
      "model_name": "HTMLStyleModel",
      "state": {
       "description_width": "",
       "font_size": null,
       "text_color": null
      }
     },
     "0794a953857e4d71956364a0ca9a55e8": {
      "model_module": "@jupyter-widgets/controls",
      "model_module_version": "2.0.0",
      "model_name": "HBoxModel",
      "state": {
       "children": [
        "IPY_MODEL_245e6c38a40248dd934b3ffac3af6ee1",
        "IPY_MODEL_87a02e237ad94213a47e84957f32b408",
        "IPY_MODEL_ce82c13978364d92b83d2e89dd34b560"
       ],
       "layout": "IPY_MODEL_2befca29a4c64f3c81ebb635b97b9ca0"
      }
     },
     "079c1ffe664f4bc3a0ee48b67214e982": {
      "model_module": "@jupyter-widgets/controls",
      "model_module_version": "2.0.0",
      "model_name": "HTMLStyleModel",
      "state": {
       "description_width": "",
       "font_size": null,
       "text_color": null
      }
     },
     "07b98d3d08004c44bda931918eec881a": {
      "model_module": "@jupyter-widgets/controls",
      "model_module_version": "2.0.0",
      "model_name": "ProgressStyleModel",
      "state": {
       "description_width": ""
      }
     },
     "08063c9afe654c7c91a86ee1883c2fc9": {
      "model_module": "@jupyter-widgets/controls",
      "model_module_version": "2.0.0",
      "model_name": "HTMLModel",
      "state": {
       "layout": "IPY_MODEL_94e15453d5984585aee45d5756b0b04c",
       "style": "IPY_MODEL_33dfe86abdef4e2ab86309121abb50e3",
       "value": "Epoch 19/60: 100%"
      }
     },
     "0821f6396369445c99ddb7c5485f8cde": {
      "model_module": "@jupyter-widgets/base",
      "model_module_version": "2.0.0",
      "model_name": "LayoutModel",
      "state": {}
     },
     "085eacf453274b28a6794f3140ccc1bd": {
      "model_module": "@jupyter-widgets/controls",
      "model_module_version": "2.0.0",
      "model_name": "ProgressStyleModel",
      "state": {
       "description_width": ""
      }
     },
     "087d9695b42a42948b7425ee7cd3a1ca": {
      "model_module": "@jupyter-widgets/controls",
      "model_module_version": "2.0.0",
      "model_name": "ProgressStyleModel",
      "state": {
       "description_width": ""
      }
     },
     "08c91ee4fecd483e9bb7928174505a29": {
      "model_module": "@jupyter-widgets/base",
      "model_module_version": "2.0.0",
      "model_name": "LayoutModel",
      "state": {}
     },
     "08cf360faa3a44c684f8cefb8970a22e": {
      "model_module": "@jupyter-widgets/controls",
      "model_module_version": "2.0.0",
      "model_name": "HTMLStyleModel",
      "state": {
       "description_width": "",
       "font_size": null,
       "text_color": null
      }
     },
     "08f0dc9bc4ca4a49bb9b1254e13f656d": {
      "model_module": "@jupyter-widgets/controls",
      "model_module_version": "2.0.0",
      "model_name": "FloatProgressModel",
      "state": {
       "bar_style": "success",
       "layout": "IPY_MODEL_da77935e6c0c43488f134ff8e3e47014",
       "max": 1,
       "style": "IPY_MODEL_a93626cf407d4d74a3b3a9911bd6887b",
       "value": 1
      }
     },
     "093ca13e39ad48978bbc0a13357084a8": {
      "model_module": "@jupyter-widgets/controls",
      "model_module_version": "2.0.0",
      "model_name": "HTMLModel",
      "state": {
       "layout": "IPY_MODEL_d893dbd030f14962bd5bd7a5978f1dad",
       "style": "IPY_MODEL_910870fbf2b3468d91535a1743f1d8c7",
       "value": " 500/500 [00:18&lt;00:00, 27.36it/s, loss=0.0018]"
      }
     },
     "094841d5f62b46b4ab881351b10dbb73": {
      "model_module": "@jupyter-widgets/base",
      "model_module_version": "2.0.0",
      "model_name": "LayoutModel",
      "state": {}
     },
     "0953e7dda9d5468dbaf3675115c8dd6f": {
      "model_module": "@jupyter-widgets/base",
      "model_module_version": "2.0.0",
      "model_name": "LayoutModel",
      "state": {}
     },
     "096732e00cf7478b9f413471316a757e": {
      "model_module": "@jupyter-widgets/controls",
      "model_module_version": "2.0.0",
      "model_name": "HTMLModel",
      "state": {
       "layout": "IPY_MODEL_49d5e6d115f141cbae3cf91d50e6b7fe",
       "style": "IPY_MODEL_4f2c20b8a6084270b6b7b31894454e28",
       "value": " 1/1 [00:01&lt;00:00,  1.32s/it]"
      }
     },
     "0970b1ca9b0f4c12b78a08cc1231ec42": {
      "model_module": "@jupyter-widgets/base",
      "model_module_version": "2.0.0",
      "model_name": "LayoutModel",
      "state": {}
     },
     "09a727822105412b9e13a546f6d730ac": {
      "model_module": "@jupyter-widgets/controls",
      "model_module_version": "2.0.0",
      "model_name": "HBoxModel",
      "state": {
       "children": [
        "IPY_MODEL_f28279b5504849bfb354fbc9280a2dee",
        "IPY_MODEL_113d47704b2a408e9d1e14b85f7cd4a2",
        "IPY_MODEL_8fb8d7654000467f8eab4133a47791b6"
       ],
       "layout": "IPY_MODEL_d3c52bca68af43c6a111d8229ef17985"
      }
     },
     "09acb9e1fc3d4d81910543b18b8a9f97": {
      "model_module": "@jupyter-widgets/controls",
      "model_module_version": "2.0.0",
      "model_name": "HTMLModel",
      "state": {
       "layout": "IPY_MODEL_2351898433cf4211b69c8424d246c2de",
       "style": "IPY_MODEL_6ed676e0dc394ee08bf1f8c65e4af037",
       "value": "Epoch 30/60: 100%"
      }
     },
     "09cb0d30d8484c38a966483753268349": {
      "model_module": "@jupyter-widgets/controls",
      "model_module_version": "2.0.0",
      "model_name": "ProgressStyleModel",
      "state": {
       "description_width": ""
      }
     },
     "09d0c55257604df9aebba1aff0972835": {
      "model_module": "@jupyter-widgets/controls",
      "model_module_version": "2.0.0",
      "model_name": "HTMLStyleModel",
      "state": {
       "description_width": "",
       "font_size": null,
       "text_color": null
      }
     },
     "09f9e71efd404e57953ad2ae775f97bd": {
      "model_module": "@jupyter-widgets/controls",
      "model_module_version": "2.0.0",
      "model_name": "HTMLStyleModel",
      "state": {
       "description_width": "",
       "font_size": null,
       "text_color": null
      }
     },
     "0a20e783b75d4c30b0739bb72c7f9549": {
      "model_module": "@jupyter-widgets/controls",
      "model_module_version": "2.0.0",
      "model_name": "HBoxModel",
      "state": {
       "children": [
        "IPY_MODEL_1b7841b59a4d423592ee694cb1889385",
        "IPY_MODEL_46efd50abb50427d9e44f4efd09a5732",
        "IPY_MODEL_2cb4ba6758e04edf82817f7e934aec97"
       ],
       "layout": "IPY_MODEL_db78076200224459baa4052c28e293b5"
      }
     },
     "0a611a3b696f46dcb059aa0c88626727": {
      "model_module": "@jupyter-widgets/controls",
      "model_module_version": "2.0.0",
      "model_name": "ProgressStyleModel",
      "state": {
       "description_width": ""
      }
     },
     "0a67a584f36b469ca392555f4011f1d6": {
      "model_module": "@jupyter-widgets/controls",
      "model_module_version": "2.0.0",
      "model_name": "HTMLModel",
      "state": {
       "layout": "IPY_MODEL_dd6a50d5d1114b28990644d4be1cd234",
       "style": "IPY_MODEL_bd84ad65e7fc40e7a472d72951d3c344",
       "value": "Epoch 40/60: 100%"
      }
     },
     "0aae0e1df5ef4c8b8a9938b6d02fe1a7": {
      "model_module": "@jupyter-widgets/controls",
      "model_module_version": "2.0.0",
      "model_name": "HTMLModel",
      "state": {
       "layout": "IPY_MODEL_937b4e88b3234d1bb561f6721a637db2",
       "style": "IPY_MODEL_9d07760e2bdd4876862ac21a8f63280a",
       "value": "Epoch 50/60: 100%"
      }
     },
     "0aff42a1e0c54822b738d18859857000": {
      "model_module": "@jupyter-widgets/controls",
      "model_module_version": "2.0.0",
      "model_name": "HTMLModel",
      "state": {
       "layout": "IPY_MODEL_8ed1d63fa6544d6cb815eb1897bb513d",
       "style": "IPY_MODEL_016ccc8169c4452bb159d4dab2745d21",
       "value": " 1/1 [00:02&lt;00:00,  2.70s/it, loss=0.0788]"
      }
     },
     "0b106d0cffd24c7c9ffc9ea384eab824": {
      "model_module": "@jupyter-widgets/base",
      "model_module_version": "2.0.0",
      "model_name": "LayoutModel",
      "state": {}
     },
     "0b31706a89054fb7ade80e44cf7b1136": {
      "model_module": "@jupyter-widgets/base",
      "model_module_version": "2.0.0",
      "model_name": "LayoutModel",
      "state": {}
     },
     "0b4edf393fa14982920f3cba74f34fde": {
      "model_module": "@jupyter-widgets/controls",
      "model_module_version": "2.0.0",
      "model_name": "FloatProgressModel",
      "state": {
       "bar_style": "success",
       "layout": "IPY_MODEL_db550db059ba40a484ac3bb7c1e8d5c0",
       "max": 500,
       "style": "IPY_MODEL_6dff8b8f2c16470c8c41aa81b0f146ec",
       "value": 500
      }
     },
     "0b9a8a0c469d4238b0223828fb5f13ed": {
      "model_module": "@jupyter-widgets/controls",
      "model_module_version": "2.0.0",
      "model_name": "HTMLStyleModel",
      "state": {
       "description_width": "",
       "font_size": null,
       "text_color": null
      }
     },
     "0ba315f1b6254f669ec62e431d95b5e7": {
      "model_module": "@jupyter-widgets/base",
      "model_module_version": "2.0.0",
      "model_name": "LayoutModel",
      "state": {}
     },
     "0bbdd2a9b2994cc7a4507b22c78ed395": {
      "model_module": "@jupyter-widgets/base",
      "model_module_version": "2.0.0",
      "model_name": "LayoutModel",
      "state": {}
     },
     "0bc3b8f4da12454c97d948f49ddfcd92": {
      "model_module": "@jupyter-widgets/controls",
      "model_module_version": "2.0.0",
      "model_name": "ProgressStyleModel",
      "state": {
       "description_width": ""
      }
     },
     "0bdab18c0480438193641250432da37c": {
      "model_module": "@jupyter-widgets/base",
      "model_module_version": "2.0.0",
      "model_name": "LayoutModel",
      "state": {}
     },
     "0bed0b5081e1408488e7f491e0a1572d": {
      "model_module": "@jupyter-widgets/base",
      "model_module_version": "2.0.0",
      "model_name": "LayoutModel",
      "state": {}
     },
     "0c18bc6e85ab4c24ac437e9813ec5cf3": {
      "model_module": "@jupyter-widgets/controls",
      "model_module_version": "2.0.0",
      "model_name": "HTMLModel",
      "state": {
       "layout": "IPY_MODEL_4698f08a96304df5ba04912b89ab10f6",
       "style": "IPY_MODEL_6426582c57bc450293a46af3ef6dcec8",
       "value": " 1/1 [00:02&lt;00:00,  2.70s/it, loss=0.0848]"
      }
     },
     "0c424b2cacd441d889a8f4f4a582d0c6": {
      "model_module": "@jupyter-widgets/base",
      "model_module_version": "2.0.0",
      "model_name": "LayoutModel",
      "state": {}
     },
     "0c57bce6240842a4b5e04db88d336278": {
      "model_module": "@jupyter-widgets/controls",
      "model_module_version": "2.0.0",
      "model_name": "HTMLModel",
      "state": {
       "layout": "IPY_MODEL_3104c61fea424b8fb37394b2f4046b8f",
       "style": "IPY_MODEL_966eff4dd4b44979a42e83072cdea1a1",
       "value": " 1/1 [00:02&lt;00:00,  2.70s/it, loss=0.0194]"
      }
     },
     "0c62331aa80d4f12949d5a5dd7dbfbb8": {
      "model_module": "@jupyter-widgets/controls",
      "model_module_version": "2.0.0",
      "model_name": "HTMLModel",
      "state": {
       "layout": "IPY_MODEL_533838c4a8f44e8d96d3ad9749959cd2",
       "style": "IPY_MODEL_f8bdf6c19ea64394a269e289c2a5e093",
       "value": "Epoch 53/60: 100%"
      }
     },
     "0cd616dc33364547afcf2cc2ba20e84b": {
      "model_module": "@jupyter-widgets/controls",
      "model_module_version": "2.0.0",
      "model_name": "FloatProgressModel",
      "state": {
       "bar_style": "success",
       "layout": "IPY_MODEL_cd9f9851b63b496ebfad6ecca74ae2a2",
       "max": 500,
       "style": "IPY_MODEL_0a611a3b696f46dcb059aa0c88626727",
       "value": 500
      }
     },
     "0d421adb29034ebd8673436d5a0a71ef": {
      "model_module": "@jupyter-widgets/controls",
      "model_module_version": "2.0.0",
      "model_name": "ProgressStyleModel",
      "state": {
       "description_width": ""
      }
     },
     "0d4fb3c695e84f1da563a516a484ed6a": {
      "model_module": "@jupyter-widgets/controls",
      "model_module_version": "2.0.0",
      "model_name": "ProgressStyleModel",
      "state": {
       "description_width": ""
      }
     },
     "0d5409622ea544b8be22a971d56cd377": {
      "model_module": "@jupyter-widgets/controls",
      "model_module_version": "2.0.0",
      "model_name": "HBoxModel",
      "state": {
       "children": [
        "IPY_MODEL_58935a4e748c4ffa891ec8d65bc06748",
        "IPY_MODEL_b6e11dc79f7e4fb9a15e5f3d4d9b4f12",
        "IPY_MODEL_72f389b82b034cefa70e834dd74360aa"
       ],
       "layout": "IPY_MODEL_a724f2d2454d4e7daf921891e5d0918c"
      }
     },
     "0d77a9f454fa4f25816064842b4bd0e2": {
      "model_module": "@jupyter-widgets/base",
      "model_module_version": "2.0.0",
      "model_name": "LayoutModel",
      "state": {}
     },
     "0dac2a069a504c0a8571306d069f01f6": {
      "model_module": "@jupyter-widgets/controls",
      "model_module_version": "2.0.0",
      "model_name": "ProgressStyleModel",
      "state": {
       "description_width": ""
      }
     },
     "0db0a24e603845738342f4bfe42c8f51": {
      "model_module": "@jupyter-widgets/base",
      "model_module_version": "2.0.0",
      "model_name": "LayoutModel",
      "state": {}
     },
     "0dcc431c1b3f47069ef9f22d47b6179a": {
      "model_module": "@jupyter-widgets/controls",
      "model_module_version": "2.0.0",
      "model_name": "HTMLModel",
      "state": {
       "layout": "IPY_MODEL_2d198999cf454851aa66050b0090f768",
       "style": "IPY_MODEL_53fa172baebf400db61511c6b00875e3",
       "value": " 500/500 [00:17&lt;00:00, 27.91it/s, loss=0.00184]"
      }
     },
     "0e0a2ab25f7944c6933201dc83e2c7db": {
      "model_module": "@jupyter-widgets/controls",
      "model_module_version": "2.0.0",
      "model_name": "ProgressStyleModel",
      "state": {
       "description_width": ""
      }
     },
     "0e0c791e689b476fbaf85993cde15142": {
      "model_module": "@jupyter-widgets/controls",
      "model_module_version": "2.0.0",
      "model_name": "HBoxModel",
      "state": {
       "children": [
        "IPY_MODEL_e02eb9469ba44094a6b12624c591bb48",
        "IPY_MODEL_b8646425ee834c2a9ffb6581d3140ef8",
        "IPY_MODEL_b26f9c2b059d4072ab4ca789b4736afc"
       ],
       "layout": "IPY_MODEL_a108ef9cac7e437bbc750db3d9b4bb6d"
      }
     },
     "0e4b26984b734fffa577cb65f997d998": {
      "model_module": "@jupyter-widgets/controls",
      "model_module_version": "2.0.0",
      "model_name": "HTMLStyleModel",
      "state": {
       "description_width": "",
       "font_size": null,
       "text_color": null
      }
     },
     "0e5d898ff1d24ba785f388d77e23d615": {
      "model_module": "@jupyter-widgets/base",
      "model_module_version": "2.0.0",
      "model_name": "LayoutModel",
      "state": {}
     },
     "0ef3bec1acbc4295bfd42cd2e3e0f949": {
      "model_module": "@jupyter-widgets/base",
      "model_module_version": "2.0.0",
      "model_name": "LayoutModel",
      "state": {}
     },
     "0ef927e4f23f4b47bd0ac15176ee787a": {
      "model_module": "@jupyter-widgets/base",
      "model_module_version": "2.0.0",
      "model_name": "LayoutModel",
      "state": {}
     },
     "0f5cd82e30534adea58549862ca58810": {
      "model_module": "@jupyter-widgets/controls",
      "model_module_version": "2.0.0",
      "model_name": "FloatProgressModel",
      "state": {
       "bar_style": "success",
       "layout": "IPY_MODEL_02e83de829f84df7ac32773a6d12b10c",
       "max": 500,
       "style": "IPY_MODEL_3bf22b9bd1b247ab9eb9883d88a4a430",
       "value": 500
      }
     },
     "0f74289fe8354f23a81e0d48dfbd40f0": {
      "model_module": "@jupyter-widgets/base",
      "model_module_version": "2.0.0",
      "model_name": "LayoutModel",
      "state": {}
     },
     "0f840f9fbfd14aa68fbc70732199e77a": {
      "model_module": "@jupyter-widgets/base",
      "model_module_version": "2.0.0",
      "model_name": "LayoutModel",
      "state": {}
     },
     "0faad35998e34cacad191759007f944b": {
      "model_module": "@jupyter-widgets/base",
      "model_module_version": "2.0.0",
      "model_name": "LayoutModel",
      "state": {}
     },
     "0fc3f86a1af64181a0068ca613a827b4": {
      "model_module": "@jupyter-widgets/controls",
      "model_module_version": "2.0.0",
      "model_name": "FloatProgressModel",
      "state": {
       "bar_style": "success",
       "layout": "IPY_MODEL_d7f9eefd1fa64bd087d46cfbacb7cfa2",
       "max": 500,
       "style": "IPY_MODEL_c24eb9b2f4aa443f8ae29154582ce084",
       "value": 500
      }
     },
     "1003ac7cc7684fd88eaea799a6f18860": {
      "model_module": "@jupyter-widgets/controls",
      "model_module_version": "2.0.0",
      "model_name": "HTMLModel",
      "state": {
       "layout": "IPY_MODEL_a5e4bd8b233f41dba154276899c3ce87",
       "style": "IPY_MODEL_319e1c8458604e5db9fa39a294211c36",
       "value": "Epoch 35/60: 100%"
      }
     },
     "10071e3f77374d0eb5abe91079cc2706": {
      "model_module": "@jupyter-widgets/controls",
      "model_module_version": "2.0.0",
      "model_name": "FloatProgressModel",
      "state": {
       "bar_style": "success",
       "layout": "IPY_MODEL_390048accb8041f781a20c337636e585",
       "max": 1,
       "style": "IPY_MODEL_65a1b96301e749698940d0d79ee70ab9",
       "value": 1
      }
     },
     "100899bb3a004f128757fe1e10797ce2": {
      "model_module": "@jupyter-widgets/base",
      "model_module_version": "2.0.0",
      "model_name": "LayoutModel",
      "state": {}
     },
     "101e75eebfe5441aaedbfb407910ec57": {
      "model_module": "@jupyter-widgets/controls",
      "model_module_version": "2.0.0",
      "model_name": "HTMLStyleModel",
      "state": {
       "description_width": "",
       "font_size": null,
       "text_color": null
      }
     },
     "10654d6f680541c4975ba25240bc898c": {
      "model_module": "@jupyter-widgets/base",
      "model_module_version": "2.0.0",
      "model_name": "LayoutModel",
      "state": {}
     },
     "10c3b9b83f7e48bbb66d1e56440992b0": {
      "model_module": "@jupyter-widgets/controls",
      "model_module_version": "2.0.0",
      "model_name": "FloatProgressModel",
      "state": {
       "bar_style": "success",
       "layout": "IPY_MODEL_fa990fc3f9574fe08d422baaab343b5b",
       "max": 500,
       "style": "IPY_MODEL_0d4fb3c695e84f1da563a516a484ed6a",
       "value": 500
      }
     },
     "10ce801d51ad400b99c67e10c08a634e": {
      "model_module": "@jupyter-widgets/base",
      "model_module_version": "2.0.0",
      "model_name": "LayoutModel",
      "state": {}
     },
     "10fae2fed488426a9f0c7073462b9338": {
      "model_module": "@jupyter-widgets/controls",
      "model_module_version": "2.0.0",
      "model_name": "FloatProgressModel",
      "state": {
       "bar_style": "success",
       "layout": "IPY_MODEL_0f840f9fbfd14aa68fbc70732199e77a",
       "max": 500,
       "style": "IPY_MODEL_4d3f2f20d40246ca93a89f2e71206264",
       "value": 500
      }
     },
     "11255ccf334247c39e4388f6d9b76cc6": {
      "model_module": "@jupyter-widgets/controls",
      "model_module_version": "2.0.0",
      "model_name": "ProgressStyleModel",
      "state": {
       "description_width": ""
      }
     },
     "11282a0e5fc94ad1b02be85d50d82209": {
      "model_module": "@jupyter-widgets/controls",
      "model_module_version": "2.0.0",
      "model_name": "HTMLModel",
      "state": {
       "layout": "IPY_MODEL_db32196502ee44018a1a5f241588a30f",
       "style": "IPY_MODEL_7799c0ea146e4440a8ff5194368e1495",
       "value": "Epoch 54/60: 100%"
      }
     },
     "112e11de1b0644db90fdd13aec4a6764": {
      "model_module": "@jupyter-widgets/controls",
      "model_module_version": "2.0.0",
      "model_name": "HTMLStyleModel",
      "state": {
       "description_width": "",
       "font_size": null,
       "text_color": null
      }
     },
     "113b09d8a72c424dbf863841aaf99380": {
      "model_module": "@jupyter-widgets/controls",
      "model_module_version": "2.0.0",
      "model_name": "HTMLStyleModel",
      "state": {
       "description_width": "",
       "font_size": null,
       "text_color": null
      }
     },
     "113d47704b2a408e9d1e14b85f7cd4a2": {
      "model_module": "@jupyter-widgets/controls",
      "model_module_version": "2.0.0",
      "model_name": "FloatProgressModel",
      "state": {
       "bar_style": "success",
       "layout": "IPY_MODEL_e4026519442343498be7d95dd7a5e54c",
       "max": 500,
       "style": "IPY_MODEL_bfab51c64d43441fb28c59230d7edd0f",
       "value": 500
      }
     },
     "114d1563a69d480ebb65361ab0e24bcb": {
      "model_module": "@jupyter-widgets/base",
      "model_module_version": "2.0.0",
      "model_name": "LayoutModel",
      "state": {}
     },
     "1152fd93a66d48e19b17e30c5ac20c7c": {
      "model_module": "@jupyter-widgets/controls",
      "model_module_version": "2.0.0",
      "model_name": "FloatProgressModel",
      "state": {
       "bar_style": "success",
       "layout": "IPY_MODEL_bff1704525a14eeda9d3bb1d6e6bedf0",
       "max": 1,
       "style": "IPY_MODEL_b2113491b17445cebc9d40815cb10798",
       "value": 1
      }
     },
     "1176b9ba281a4543b6cebb9cb6848d6c": {
      "model_module": "@jupyter-widgets/controls",
      "model_module_version": "2.0.0",
      "model_name": "HTMLModel",
      "state": {
       "layout": "IPY_MODEL_ffbbddc153f7413c8871fb2c5915045e",
       "style": "IPY_MODEL_edb8d8a8f0ec42b982b4011e13204f48",
       "value": "Epoch 12/60: 100%"
      }
     },
     "11c662b523324e71a5fbb316b2a00067": {
      "model_module": "@jupyter-widgets/base",
      "model_module_version": "2.0.0",
      "model_name": "LayoutModel",
      "state": {}
     },
     "11f9ae5820ec4e0897122fa47d01e3c6": {
      "model_module": "@jupyter-widgets/controls",
      "model_module_version": "2.0.0",
      "model_name": "ProgressStyleModel",
      "state": {
       "description_width": ""
      }
     },
     "1228613d0f4a4a18b821e73d5b05c0d5": {
      "model_module": "@jupyter-widgets/controls",
      "model_module_version": "2.0.0",
      "model_name": "HTMLModel",
      "state": {
       "layout": "IPY_MODEL_f8bb004f6ffb4974a9a50e2c7595568c",
       "style": "IPY_MODEL_50e269d1485d49deba49a9571e275153",
       "value": "Epoch 1/60: 100%"
      }
     },
     "1232076a052d47caafdfab051ed69704": {
      "model_module": "@jupyter-widgets/controls",
      "model_module_version": "2.0.0",
      "model_name": "HTMLModel",
      "state": {
       "layout": "IPY_MODEL_ea90996dce974694a8ef59ff82f60140",
       "style": "IPY_MODEL_3d5a5d42b87448e98c2de02a6027168f",
       "value": "Epoch 47/60: 100%"
      }
     },
     "127002cfa73b4432b014a53d2e076002": {
      "model_module": "@jupyter-widgets/controls",
      "model_module_version": "2.0.0",
      "model_name": "HBoxModel",
      "state": {
       "children": [
        "IPY_MODEL_c75b38e3a93a4a558d3a242d78fb766f",
        "IPY_MODEL_4168b844218d4ffb8facb39f0ee9d002",
        "IPY_MODEL_701ecc5fa9544947b8bd64b1c20d6f7f"
       ],
       "layout": "IPY_MODEL_815b72ff2f1b4992b3f81307460376fb"
      }
     },
     "1279c46f59404b8f870ba9ec87ebe880": {
      "model_module": "@jupyter-widgets/controls",
      "model_module_version": "2.0.0",
      "model_name": "ProgressStyleModel",
      "state": {
       "description_width": ""
      }
     },
     "1282014c01ee4ac0b852900b8cacda34": {
      "model_module": "@jupyter-widgets/controls",
      "model_module_version": "2.0.0",
      "model_name": "HTMLModel",
      "state": {
       "layout": "IPY_MODEL_d6da9f997fef4c6c8d2c3cd2cf6acac2",
       "style": "IPY_MODEL_112e11de1b0644db90fdd13aec4a6764",
       "value": "PowerIter R 3/5: 100%"
      }
     },
     "1289a27e5e9d40a4816d618688d43464": {
      "model_module": "@jupyter-widgets/controls",
      "model_module_version": "2.0.0",
      "model_name": "ProgressStyleModel",
      "state": {
       "description_width": ""
      }
     },
     "128ff278871545b7b7b985863bc7c278": {
      "model_module": "@jupyter-widgets/controls",
      "model_module_version": "2.0.0",
      "model_name": "HTMLModel",
      "state": {
       "layout": "IPY_MODEL_ea7c521e9ed94aa3b3cba1da55b41a9c",
       "style": "IPY_MODEL_2f5c404a14784a0a8934d5bf3ba313bd",
       "value": "Epoch 56/60: 100%"
      }
     },
     "12939c3348984e1d8e8f8a7989378d2b": {
      "model_module": "@jupyter-widgets/controls",
      "model_module_version": "2.0.0",
      "model_name": "HTMLStyleModel",
      "state": {
       "description_width": "",
       "font_size": null,
       "text_color": null
      }
     },
     "12be0b00805144ba85d7a301dafb9ab9": {
      "model_module": "@jupyter-widgets/controls",
      "model_module_version": "2.0.0",
      "model_name": "HTMLStyleModel",
      "state": {
       "description_width": "",
       "font_size": null,
       "text_color": null
      }
     },
     "1317e790dcee426eab8fd1ceb5428294": {
      "model_module": "@jupyter-widgets/controls",
      "model_module_version": "2.0.0",
      "model_name": "HTMLStyleModel",
      "state": {
       "description_width": "",
       "font_size": null,
       "text_color": null
      }
     },
     "132e234c6a484897a96cb61464d5515b": {
      "model_module": "@jupyter-widgets/base",
      "model_module_version": "2.0.0",
      "model_name": "LayoutModel",
      "state": {}
     },
     "13628cac91124f6091151c828a4ad1ed": {
      "model_module": "@jupyter-widgets/base",
      "model_module_version": "2.0.0",
      "model_name": "LayoutModel",
      "state": {}
     },
     "13f175947db94259abd641d12cddea44": {
      "model_module": "@jupyter-widgets/base",
      "model_module_version": "2.0.0",
      "model_name": "LayoutModel",
      "state": {}
     },
     "1429e0b3bd354e6399b64f41d128f3b0": {
      "model_module": "@jupyter-widgets/controls",
      "model_module_version": "2.0.0",
      "model_name": "HTMLModel",
      "state": {
       "layout": "IPY_MODEL_c98edb1fd98845288ec1f2126318ca6c",
       "style": "IPY_MODEL_9ac02d57cc334011bdc69bbe85bacec2",
       "value": " 500/500 [00:18&lt;00:00, 27.96it/s, loss=0.00207]"
      }
     },
     "14355b8f40ad41fba22e6a1e7591b807": {
      "model_module": "@jupyter-widgets/base",
      "model_module_version": "2.0.0",
      "model_name": "LayoutModel",
      "state": {}
     },
     "14530d24d892466ea1b99338f575b47c": {
      "model_module": "@jupyter-widgets/controls",
      "model_module_version": "2.0.0",
      "model_name": "ProgressStyleModel",
      "state": {
       "description_width": ""
      }
     },
     "14847e8c833f416f9b620b5258725b44": {
      "model_module": "@jupyter-widgets/base",
      "model_module_version": "2.0.0",
      "model_name": "LayoutModel",
      "state": {}
     },
     "14ac8e8c5af54c38a972d186a4f3fdd3": {
      "model_module": "@jupyter-widgets/controls",
      "model_module_version": "2.0.0",
      "model_name": "HBoxModel",
      "state": {
       "children": [
        "IPY_MODEL_4a8b69b0f25c44e587e6b3c314ea243f",
        "IPY_MODEL_fdd34fb5edb145c58eac6fd1ce825f46",
        "IPY_MODEL_014f0c18bfd74bbe939aa466b3a0b08e"
       ],
       "layout": "IPY_MODEL_b6127403cd8840f2b666869c8e6ac216"
      }
     },
     "14b9e230f7a3450bb18b29ff865d3f24": {
      "model_module": "@jupyter-widgets/controls",
      "model_module_version": "2.0.0",
      "model_name": "FloatProgressModel",
      "state": {
       "bar_style": "success",
       "layout": "IPY_MODEL_9b18475e6bc84bd7a2a19ec535ec2621",
       "max": 1,
       "style": "IPY_MODEL_07b98d3d08004c44bda931918eec881a",
       "value": 1
      }
     },
     "15036cc425fe447a8a5bb1dc5671166d": {
      "model_module": "@jupyter-widgets/base",
      "model_module_version": "2.0.0",
      "model_name": "LayoutModel",
      "state": {}
     },
     "1516ee0f65e34b45a8ce3be02e60e663": {
      "model_module": "@jupyter-widgets/base",
      "model_module_version": "2.0.0",
      "model_name": "LayoutModel",
      "state": {}
     },
     "153fcd53f9bb4baead687d4e6f5f3d0a": {
      "model_module": "@jupyter-widgets/controls",
      "model_module_version": "2.0.0",
      "model_name": "HTMLStyleModel",
      "state": {
       "description_width": "",
       "font_size": null,
       "text_color": null
      }
     },
     "15585c3513c64b2c9317ba836583480d": {
      "model_module": "@jupyter-widgets/controls",
      "model_module_version": "2.0.0",
      "model_name": "HTMLStyleModel",
      "state": {
       "description_width": "",
       "font_size": null,
       "text_color": null
      }
     },
     "15606063209f4dc3b51eac4bc6393d34": {
      "model_module": "@jupyter-widgets/controls",
      "model_module_version": "2.0.0",
      "model_name": "HBoxModel",
      "state": {
       "children": [
        "IPY_MODEL_1232076a052d47caafdfab051ed69704",
        "IPY_MODEL_a43013b88a3d400da3a94b414de7e1bd",
        "IPY_MODEL_9b7dee3809534c46b178186727e15b35"
       ],
       "layout": "IPY_MODEL_cc961f62508644c8b3332680a01c7690"
      }
     },
     "1569a613cde0491299518695816f7763": {
      "model_module": "@jupyter-widgets/base",
      "model_module_version": "2.0.0",
      "model_name": "LayoutModel",
      "state": {}
     },
     "15981adc77c741ca95dab3e618a32bbc": {
      "model_module": "@jupyter-widgets/controls",
      "model_module_version": "2.0.0",
      "model_name": "FloatProgressModel",
      "state": {
       "bar_style": "success",
       "layout": "IPY_MODEL_3a1d620f6b6c456aa5072abb21727a50",
       "max": 1,
       "style": "IPY_MODEL_d867e35fafa04212b5030882e279c66f",
       "value": 1
      }
     },
     "15a7d0ef4b634a3f9449e5dc08c1153f": {
      "model_module": "@jupyter-widgets/controls",
      "model_module_version": "2.0.0",
      "model_name": "FloatProgressModel",
      "state": {
       "bar_style": "success",
       "layout": "IPY_MODEL_ed2fc7cf954645bfbadc365ee0d49c43",
       "max": 1,
       "style": "IPY_MODEL_ec04dd225f9740ea89b6c8f95b4ef9c2",
       "value": 1
      }
     },
     "15d2e5f613934c859d485769300e0702": {
      "model_module": "@jupyter-widgets/controls",
      "model_module_version": "2.0.0",
      "model_name": "HBoxModel",
      "state": {
       "children": [
        "IPY_MODEL_79afaf8601764f57bc02574344532a2c",
        "IPY_MODEL_b7f26fa901bc4fa2b72278b1de2e9693",
        "IPY_MODEL_d4e614c3fceb4a0cb971052698a99b86"
       ],
       "layout": "IPY_MODEL_bcb26e035a63455e9897e8f8e77e58b3"
      }
     },
     "16425a597f0d40e983d39774e170629e": {
      "model_module": "@jupyter-widgets/controls",
      "model_module_version": "2.0.0",
      "model_name": "HTMLStyleModel",
      "state": {
       "description_width": "",
       "font_size": null,
       "text_color": null
      }
     },
     "165239c7701a49d7b6cdc844ab96ab6f": {
      "model_module": "@jupyter-widgets/controls",
      "model_module_version": "2.0.0",
      "model_name": "HBoxModel",
      "state": {
       "children": [
        "IPY_MODEL_60d2ffcefff64054b75a14f3c35631ce",
        "IPY_MODEL_dce619a8e6574e56aaa656fc76d95af6",
        "IPY_MODEL_a0453a0c309344f394511b38aa150bf4"
       ],
       "layout": "IPY_MODEL_d13116a0ed354ee88ac7ec476fd4aee7"
      }
     },
     "16d551e4b3384f2e93413bf9d5d84f3b": {
      "model_module": "@jupyter-widgets/base",
      "model_module_version": "2.0.0",
      "model_name": "LayoutModel",
      "state": {}
     },
     "170be1e11e0249efbd3d9efcdae475d0": {
      "model_module": "@jupyter-widgets/base",
      "model_module_version": "2.0.0",
      "model_name": "LayoutModel",
      "state": {}
     },
     "17144e36043740bf9676bec0efd72840": {
      "model_module": "@jupyter-widgets/controls",
      "model_module_version": "2.0.0",
      "model_name": "HTMLModel",
      "state": {
       "layout": "IPY_MODEL_430c887696564e1ab9c7098aba04a1ac",
       "style": "IPY_MODEL_bea3e9bdb4514450ad70bef463c54da3",
       "value": "Epoch 53/60: 100%"
      }
     },
     "171790ad5ebf4754bd4289e75c4f9e27": {
      "model_module": "@jupyter-widgets/controls",
      "model_module_version": "2.0.0",
      "model_name": "HTMLModel",
      "state": {
       "layout": "IPY_MODEL_e75f32e64a97403099aed437d3aa93fd",
       "style": "IPY_MODEL_dddd949e1bdf459a94a7bdab2d48a6cf",
       "value": "Epoch 1/60: 100%"
      }
     },
     "1745c29a128a4b7a9531c92ea7fe8135": {
      "model_module": "@jupyter-widgets/controls",
      "model_module_version": "2.0.0",
      "model_name": "FloatProgressModel",
      "state": {
       "bar_style": "success",
       "layout": "IPY_MODEL_4c6a5dde56a246a58fc83405b27dc660",
       "max": 500,
       "style": "IPY_MODEL_a66961ba17104a97806b4fe35c8df648",
       "value": 500
      }
     },
     "175f0cba2f2c4cd3a4391faf0d6e6897": {
      "model_module": "@jupyter-widgets/base",
      "model_module_version": "2.0.0",
      "model_name": "LayoutModel",
      "state": {}
     },
     "17a8b941fe9c4f609c829c130bb01ab3": {
      "model_module": "@jupyter-widgets/controls",
      "model_module_version": "2.0.0",
      "model_name": "HTMLStyleModel",
      "state": {
       "description_width": "",
       "font_size": null,
       "text_color": null
      }
     },
     "17effaf76df2411aaa2d3acca0f8b783": {
      "model_module": "@jupyter-widgets/controls",
      "model_module_version": "2.0.0",
      "model_name": "HBoxModel",
      "state": {
       "children": [
        "IPY_MODEL_7f6407a2d5b447fe9f5f39addea9dd65",
        "IPY_MODEL_0fc3f86a1af64181a0068ca613a827b4",
        "IPY_MODEL_98ae0c5553ac4847b1780e042f13e660"
       ],
       "layout": "IPY_MODEL_b254205a806f4dd1b3fb295c178f8996"
      }
     },
     "183e3755ea1a42f3a25460cf44019d38": {
      "model_module": "@jupyter-widgets/controls",
      "model_module_version": "2.0.0",
      "model_name": "HTMLStyleModel",
      "state": {
       "description_width": "",
       "font_size": null,
       "text_color": null
      }
     },
     "18678cebbf9e45ffaefabd4d705c79ee": {
      "model_module": "@jupyter-widgets/base",
      "model_module_version": "2.0.0",
      "model_name": "LayoutModel",
      "state": {}
     },
     "186b78655e9949b99bc63cafff39a61f": {
      "model_module": "@jupyter-widgets/controls",
      "model_module_version": "2.0.0",
      "model_name": "HBoxModel",
      "state": {
       "children": [
        "IPY_MODEL_f083cb7468f54a1d936defe1d598d048",
        "IPY_MODEL_1a49aca537724c1ab6a012fe616697fb",
        "IPY_MODEL_ea8b015ae7c8419fa06e709f8c59ee9f"
       ],
       "layout": "IPY_MODEL_6d01dd0c89784abdadd9c29a2f2dbc3d"
      }
     },
     "1893dc4b235b458a91bf0bc3ccc4818e": {
      "model_module": "@jupyter-widgets/controls",
      "model_module_version": "2.0.0",
      "model_name": "FloatProgressModel",
      "state": {
       "bar_style": "success",
       "layout": "IPY_MODEL_aaa208c451d64ff694593b06ea601391",
       "max": 1,
       "style": "IPY_MODEL_c057e9a59b27404688aa6b44e239a392",
       "value": 1
      }
     },
     "19345e2277e64ff3b5d24a26f265d96f": {
      "model_module": "@jupyter-widgets/controls",
      "model_module_version": "2.0.0",
      "model_name": "FloatProgressModel",
      "state": {
       "bar_style": "success",
       "layout": "IPY_MODEL_e921b8b791424e66802b659dd59011fa",
       "max": 500,
       "style": "IPY_MODEL_b32cf2e7fcfa4a42acb81653884fa5b2",
       "value": 500
      }
     },
     "198d4c5fe65a44a2b22992ab6fa985f0": {
      "model_module": "@jupyter-widgets/base",
      "model_module_version": "2.0.0",
      "model_name": "LayoutModel",
      "state": {}
     },
     "19903631cd324cc4ac1c22e6cfbb37fe": {
      "model_module": "@jupyter-widgets/controls",
      "model_module_version": "2.0.0",
      "model_name": "ProgressStyleModel",
      "state": {
       "description_width": ""
      }
     },
     "19922eb4f3d04e58a2dd9d3e06400ae7": {
      "model_module": "@jupyter-widgets/controls",
      "model_module_version": "2.0.0",
      "model_name": "HBoxModel",
      "state": {
       "children": [
        "IPY_MODEL_a83b3683798b49c7bd53fce53deb0810",
        "IPY_MODEL_38606d958de743a281c4de18bfca7b2d",
        "IPY_MODEL_99fe1396842b451f930fa58786e4648c"
       ],
       "layout": "IPY_MODEL_7455e740fb434c869ab4a7239382c874"
      }
     },
     "19d9c36512dc4fd39df17fcfb8005114": {
      "model_module": "@jupyter-widgets/base",
      "model_module_version": "2.0.0",
      "model_name": "LayoutModel",
      "state": {}
     },
     "19ea73f1a7854f48bf82a36e90219e28": {
      "model_module": "@jupyter-widgets/controls",
      "model_module_version": "2.0.0",
      "model_name": "HBoxModel",
      "state": {
       "children": [
        "IPY_MODEL_fea78cea3c524ad6b8eb5d64bc6dc67f",
        "IPY_MODEL_26886f3b784a44ac89c42a95fc6e8f9f",
        "IPY_MODEL_dd31e08821c94105b1f07af66710fa02"
       ],
       "layout": "IPY_MODEL_3c46a259f9264c7192e2070f1b8c4700"
      }
     },
     "1a49aca537724c1ab6a012fe616697fb": {
      "model_module": "@jupyter-widgets/controls",
      "model_module_version": "2.0.0",
      "model_name": "FloatProgressModel",
      "state": {
       "bar_style": "success",
       "layout": "IPY_MODEL_dcfff6b451b442839d4d18b70e1f9d4a",
       "max": 1,
       "style": "IPY_MODEL_be7ae70200f640f0a30b20ff6ed0dd4f",
       "value": 1
      }
     },
     "1a4d836f68644e5183b59a687d3dcadc": {
      "model_module": "@jupyter-widgets/controls",
      "model_module_version": "2.0.0",
      "model_name": "HBoxModel",
      "state": {
       "children": [
        "IPY_MODEL_06395d9321c9450baed906f312cf49f2",
        "IPY_MODEL_f50464b15d2e4c319b51bc795e36879b",
        "IPY_MODEL_296b55ea95154a9492e7a5ef877fc5f6"
       ],
       "layout": "IPY_MODEL_f9102f9a0d1740fcabef26f2802cb07d"
      }
     },
     "1aacd20516744cd78bc8fc048c26acb0": {
      "model_module": "@jupyter-widgets/base",
      "model_module_version": "2.0.0",
      "model_name": "LayoutModel",
      "state": {}
     },
     "1b0d522e21584ff5b7c90fd49c26a391": {
      "model_module": "@jupyter-widgets/controls",
      "model_module_version": "2.0.0",
      "model_name": "HTMLModel",
      "state": {
       "layout": "IPY_MODEL_22ad32e37d8b447eb34fe60831777e70",
       "style": "IPY_MODEL_ba8158ca1803423da1d481b328b69882",
       "value": "Epoch 18/60: 100%"
      }
     },
     "1b1db4e113e7419580c8b8f89f4c1ef9": {
      "model_module": "@jupyter-widgets/controls",
      "model_module_version": "2.0.0",
      "model_name": "ProgressStyleModel",
      "state": {
       "description_width": ""
      }
     },
     "1b39af08828644ceb5cc4ef093d1268f": {
      "model_module": "@jupyter-widgets/base",
      "model_module_version": "2.0.0",
      "model_name": "LayoutModel",
      "state": {}
     },
     "1b614220e123444baf839a1b96085b89": {
      "model_module": "@jupyter-widgets/base",
      "model_module_version": "2.0.0",
      "model_name": "LayoutModel",
      "state": {}
     },
     "1b7841b59a4d423592ee694cb1889385": {
      "model_module": "@jupyter-widgets/controls",
      "model_module_version": "2.0.0",
      "model_name": "HTMLModel",
      "state": {
       "layout": "IPY_MODEL_be98c691d72c4fcda3cce72780c1093f",
       "style": "IPY_MODEL_468a79381dfc4b4bab2c27015fcd721d",
       "value": "Epoch 9/60: 100%"
      }
     },
     "1bf42a84de5847108dcd36b24fc9a177": {
      "model_module": "@jupyter-widgets/base",
      "model_module_version": "2.0.0",
      "model_name": "LayoutModel",
      "state": {}
     },
     "1c4e2e5040f74862bc862757ad102727": {
      "model_module": "@jupyter-widgets/base",
      "model_module_version": "2.0.0",
      "model_name": "LayoutModel",
      "state": {}
     },
     "1c7b0948c4cf4993ae7126e1ec38240a": {
      "model_module": "@jupyter-widgets/controls",
      "model_module_version": "2.0.0",
      "model_name": "HTMLModel",
      "state": {
       "layout": "IPY_MODEL_b2bbecbf13fd4fdabc2254dbc27084a4",
       "style": "IPY_MODEL_c4ca1d4170e84162819729fc9fc84660",
       "value": "Epoch 39/60: 100%"
      }
     },
     "1c7b977a60b641c69176962ac3ac9df1": {
      "model_module": "@jupyter-widgets/base",
      "model_module_version": "2.0.0",
      "model_name": "LayoutModel",
      "state": {}
     },
     "1c8133e05b904e13a0121cc97a648bd8": {
      "model_module": "@jupyter-widgets/controls",
      "model_module_version": "2.0.0",
      "model_name": "ProgressStyleModel",
      "state": {
       "description_width": ""
      }
     },
     "1c82744cc9ec416abd971e7df0974723": {
      "model_module": "@jupyter-widgets/controls",
      "model_module_version": "2.0.0",
      "model_name": "HBoxModel",
      "state": {
       "children": [
        "IPY_MODEL_e98e9bccdac3496d829758404a004f72",
        "IPY_MODEL_6a3be24df2f3442083a6ca98482e627c",
        "IPY_MODEL_85c42303500e4188af1119cc4593cfe4"
       ],
       "layout": "IPY_MODEL_4a39de3d029a4a0ba4b9fafb19a870d5"
      }
     },
     "1c929661b53945bab6d7462395018015": {
      "model_module": "@jupyter-widgets/base",
      "model_module_version": "2.0.0",
      "model_name": "LayoutModel",
      "state": {}
     },
     "1c97f6bf37b34189b84ffba69452a76f": {
      "model_module": "@jupyter-widgets/controls",
      "model_module_version": "2.0.0",
      "model_name": "HBoxModel",
      "state": {
       "children": [
        "IPY_MODEL_1d3deb0ab60f4cd89ed82cb219c145a3",
        "IPY_MODEL_01d91cbdca834ed98773aeec5bee40aa",
        "IPY_MODEL_a311c534a24e4818bfc21f0c6fdebbe5"
       ],
       "layout": "IPY_MODEL_fb6de6ffd1f24d989efde0d868643006"
      }
     },
     "1ca2e1d6b0e34902892587320ff914ac": {
      "model_module": "@jupyter-widgets/controls",
      "model_module_version": "2.0.0",
      "model_name": "HTMLStyleModel",
      "state": {
       "description_width": "",
       "font_size": null,
       "text_color": null
      }
     },
     "1cdfd0342107421aab989264b4c6116b": {
      "model_module": "@jupyter-widgets/base",
      "model_module_version": "2.0.0",
      "model_name": "LayoutModel",
      "state": {}
     },
     "1cf781992d774541a1a8c6181089fb81": {
      "model_module": "@jupyter-widgets/controls",
      "model_module_version": "2.0.0",
      "model_name": "HTMLStyleModel",
      "state": {
       "description_width": "",
       "font_size": null,
       "text_color": null
      }
     },
     "1d3a177b25fc470c8a9be5f450a6dbee": {
      "model_module": "@jupyter-widgets/base",
      "model_module_version": "2.0.0",
      "model_name": "LayoutModel",
      "state": {}
     },
     "1d3ccab73e9c4f07878b3569e7cfea4e": {
      "model_module": "@jupyter-widgets/base",
      "model_module_version": "2.0.0",
      "model_name": "LayoutModel",
      "state": {}
     },
     "1d3deb0ab60f4cd89ed82cb219c145a3": {
      "model_module": "@jupyter-widgets/controls",
      "model_module_version": "2.0.0",
      "model_name": "HTMLModel",
      "state": {
       "layout": "IPY_MODEL_edeac7b431f549029c5747fabe15830e",
       "style": "IPY_MODEL_113b09d8a72c424dbf863841aaf99380",
       "value": "Epoch 4/60: 100%"
      }
     },
     "1d786258d62f44b9a3c3fe6e6cb7b577": {
      "model_module": "@jupyter-widgets/base",
      "model_module_version": "2.0.0",
      "model_name": "LayoutModel",
      "state": {}
     },
     "1d81087e5593437baacff215b1f2c86b": {
      "model_module": "@jupyter-widgets/controls",
      "model_module_version": "2.0.0",
      "model_name": "HTMLModel",
      "state": {
       "layout": "IPY_MODEL_14847e8c833f416f9b620b5258725b44",
       "style": "IPY_MODEL_d8a7a00d1ec749e6bdb75cbbb02f1420",
       "value": "Epoch 21/60: 100%"
      }
     },
     "1de1b46de7de44c191f36e44a3ba7440": {
      "model_module": "@jupyter-widgets/controls",
      "model_module_version": "2.0.0",
      "model_name": "ProgressStyleModel",
      "state": {
       "description_width": ""
      }
     },
     "1e2c23fcb9b341019ecdec297a69a1fe": {
      "model_module": "@jupyter-widgets/base",
      "model_module_version": "2.0.0",
      "model_name": "LayoutModel",
      "state": {}
     },
     "1e2d357184ec45d0bf26c486a641d820": {
      "model_module": "@jupyter-widgets/base",
      "model_module_version": "2.0.0",
      "model_name": "LayoutModel",
      "state": {}
     },
     "1e71644f855c438186b66e1b845a39cb": {
      "model_module": "@jupyter-widgets/controls",
      "model_module_version": "2.0.0",
      "model_name": "HTMLStyleModel",
      "state": {
       "description_width": "",
       "font_size": null,
       "text_color": null
      }
     },
     "1e7307ce5aec43269d92189a27ed3676": {
      "model_module": "@jupyter-widgets/controls",
      "model_module_version": "2.0.0",
      "model_name": "HBoxModel",
      "state": {
       "children": [
        "IPY_MODEL_3ada1c636054491eb6bc9c1eceeff871",
        "IPY_MODEL_91f2c9d63f04433e8b0a40497061ee94",
        "IPY_MODEL_ee5ed59e0f1b43699ac4a316b27a5294"
       ],
       "layout": "IPY_MODEL_bea934ff037645689b2860eaba760106"
      }
     },
     "1ea68a98cc48420c98d6e2fe35726994": {
      "model_module": "@jupyter-widgets/controls",
      "model_module_version": "2.0.0",
      "model_name": "HBoxModel",
      "state": {
       "children": [
        "IPY_MODEL_0aae0e1df5ef4c8b8a9938b6d02fe1a7",
        "IPY_MODEL_74e6b78e81c94711b4b67923ae72514b",
        "IPY_MODEL_2ddcfd284da8425c9f1452980a091195"
       ],
       "layout": "IPY_MODEL_6a5b4bbf39314d108eec3d65c76ea61c"
      }
     },
     "1eb31230986b4548868ac73053a11c8e": {
      "model_module": "@jupyter-widgets/controls",
      "model_module_version": "2.0.0",
      "model_name": "HBoxModel",
      "state": {
       "children": [
        "IPY_MODEL_84c27ed26f4e44efbd95541c5d2e4d60",
        "IPY_MODEL_ecf68a19ab6241e09bf5a89b3e03bb50",
        "IPY_MODEL_febd852158f74ab7a3a061359e699fee"
       ],
       "layout": "IPY_MODEL_799b37849f1b4c63a71a0f357177e54f"
      }
     },
     "1eb48eaf46ff457db83e550738308277": {
      "model_module": "@jupyter-widgets/base",
      "model_module_version": "2.0.0",
      "model_name": "LayoutModel",
      "state": {}
     },
     "1ecc27e1db4c449a87b97a94a617812e": {
      "model_module": "@jupyter-widgets/base",
      "model_module_version": "2.0.0",
      "model_name": "LayoutModel",
      "state": {}
     },
     "1f1b1d70d23e43f8888831581d7070ab": {
      "model_module": "@jupyter-widgets/base",
      "model_module_version": "2.0.0",
      "model_name": "LayoutModel",
      "state": {}
     },
     "1f7d54b868e840328518692c087489a4": {
      "model_module": "@jupyter-widgets/controls",
      "model_module_version": "2.0.0",
      "model_name": "ProgressStyleModel",
      "state": {
       "description_width": ""
      }
     },
     "1f929d63019349d18ce312ccd843b703": {
      "model_module": "@jupyter-widgets/controls",
      "model_module_version": "2.0.0",
      "model_name": "HTMLStyleModel",
      "state": {
       "description_width": "",
       "font_size": null,
       "text_color": null
      }
     },
     "1fd87197a5b641a7926db66c379a8ee4": {
      "model_module": "@jupyter-widgets/controls",
      "model_module_version": "2.0.0",
      "model_name": "HTMLModel",
      "state": {
       "layout": "IPY_MODEL_0030066a82a14357bf6edea498f7dff0",
       "style": "IPY_MODEL_e98c4f48aa4c4054a1ab91a14458a22e",
       "value": "Epoch 46/60: 100%"
      }
     },
     "2092a4d8da7345a7b8d8eb86972ec522": {
      "model_module": "@jupyter-widgets/base",
      "model_module_version": "2.0.0",
      "model_name": "LayoutModel",
      "state": {}
     },
     "20975f73880948f48e25de5a77cf5dca": {
      "model_module": "@jupyter-widgets/base",
      "model_module_version": "2.0.0",
      "model_name": "LayoutModel",
      "state": {}
     },
     "20bd9fc3de1947ecb7d8d37f5eebb2b8": {
      "model_module": "@jupyter-widgets/base",
      "model_module_version": "2.0.0",
      "model_name": "LayoutModel",
      "state": {}
     },
     "20bf09fe9f534e3faaf1c26e6e7be927": {
      "model_module": "@jupyter-widgets/base",
      "model_module_version": "2.0.0",
      "model_name": "LayoutModel",
      "state": {}
     },
     "20eb870b61c746558e763ff71e324594": {
      "model_module": "@jupyter-widgets/base",
      "model_module_version": "2.0.0",
      "model_name": "LayoutModel",
      "state": {}
     },
     "20ec734693a0485991c4d3247c43b1c1": {
      "model_module": "@jupyter-widgets/controls",
      "model_module_version": "2.0.0",
      "model_name": "HTMLStyleModel",
      "state": {
       "description_width": "",
       "font_size": null,
       "text_color": null
      }
     },
     "20f54cf91d59434da235ae5bb1918379": {
      "model_module": "@jupyter-widgets/controls",
      "model_module_version": "2.0.0",
      "model_name": "HBoxModel",
      "state": {
       "children": [
        "IPY_MODEL_1003ac7cc7684fd88eaea799a6f18860",
        "IPY_MODEL_68d3cf64dfc4467aacb2a8d6ef1f16ff",
        "IPY_MODEL_b60db463d58e4c3ea6a82721ef07026a"
       ],
       "layout": "IPY_MODEL_41b774ed2f82415caa30fc2b1393c6d4"
      }
     },
     "20f6ec4f4154489fb5c66ad5d365530f": {
      "model_module": "@jupyter-widgets/controls",
      "model_module_version": "2.0.0",
      "model_name": "ProgressStyleModel",
      "state": {
       "description_width": ""
      }
     },
     "2109ac8e15094f0cb2fc0dac4a234ec7": {
      "model_module": "@jupyter-widgets/base",
      "model_module_version": "2.0.0",
      "model_name": "LayoutModel",
      "state": {}
     },
     "214a5d05bebc4639b8c666061f37024e": {
      "model_module": "@jupyter-widgets/controls",
      "model_module_version": "2.0.0",
      "model_name": "HBoxModel",
      "state": {
       "children": [
        "IPY_MODEL_fa9aa79ba96946a89ccada05ca43c68b",
        "IPY_MODEL_d9d6af76acc34d98a6ee8e89a038a17e",
        "IPY_MODEL_28af9636aa8a4e508def01746ed475ce"
       ],
       "layout": "IPY_MODEL_453ff9ce1984437a8e8365eab833ca28"
      }
     },
     "21935231543749ed9024bd27c04874b9": {
      "model_module": "@jupyter-widgets/controls",
      "model_module_version": "2.0.0",
      "model_name": "HTMLStyleModel",
      "state": {
       "description_width": "",
       "font_size": null,
       "text_color": null
      }
     },
     "21a7498625994868a0ecd4b2ac680bd9": {
      "model_module": "@jupyter-widgets/controls",
      "model_module_version": "2.0.0",
      "model_name": "HTMLModel",
      "state": {
       "layout": "IPY_MODEL_40a9479b7df54168b498ad3f29b4b3d1",
       "style": "IPY_MODEL_6998b1676a634e2cb6a4abcda26227c9",
       "value": " 1/1 [00:02&lt;00:00,  2.70s/it, loss=0.0875]"
      }
     },
     "2246c48643c64f7f80496004ad7db4a1": {
      "model_module": "@jupyter-widgets/controls",
      "model_module_version": "2.0.0",
      "model_name": "HTMLModel",
      "state": {
       "layout": "IPY_MODEL_a0eec49b9c6649c291ab934f58f588fe",
       "style": "IPY_MODEL_d730259848634176afb170951ffad0a2",
       "value": "Epoch 59/60: 100%"
      }
     },
     "225bfb94a4a24dc490cee625ff278990": {
      "model_module": "@jupyter-widgets/controls",
      "model_module_version": "2.0.0",
      "model_name": "HTMLStyleModel",
      "state": {
       "description_width": "",
       "font_size": null,
       "text_color": null
      }
     },
     "2287f6893a5341ffafa8228d8e0699a6": {
      "model_module": "@jupyter-widgets/base",
      "model_module_version": "2.0.0",
      "model_name": "LayoutModel",
      "state": {}
     },
     "229b3e918b67400c80364330a7d0866c": {
      "model_module": "@jupyter-widgets/controls",
      "model_module_version": "2.0.0",
      "model_name": "HTMLStyleModel",
      "state": {
       "description_width": "",
       "font_size": null,
       "text_color": null
      }
     },
     "22ad32e37d8b447eb34fe60831777e70": {
      "model_module": "@jupyter-widgets/base",
      "model_module_version": "2.0.0",
      "model_name": "LayoutModel",
      "state": {}
     },
     "22d37e95ca5b4376a2f5384fc5941b1a": {
      "model_module": "@jupyter-widgets/base",
      "model_module_version": "2.0.0",
      "model_name": "LayoutModel",
      "state": {}
     },
     "232b8675ecaa4735b8596219a0b2ab26": {
      "model_module": "@jupyter-widgets/controls",
      "model_module_version": "2.0.0",
      "model_name": "HTMLModel",
      "state": {
       "layout": "IPY_MODEL_36c47ef1a36f48b5932e80efbff72dac",
       "style": "IPY_MODEL_91f915a897f9450885bdb3770c495e4c",
       "value": " 1/1 [00:02&lt;00:00,  2.72s/it, loss=0.0062]"
      }
     },
     "233099a649db49e9a149d3139ff4684d": {
      "model_module": "@jupyter-widgets/controls",
      "model_module_version": "2.0.0",
      "model_name": "HTMLModel",
      "state": {
       "layout": "IPY_MODEL_28b582c16585443d9578d2a694bfa658",
       "style": "IPY_MODEL_d01f21148adf490394535cc7bc6997dc",
       "value": "Epoch 33/60: 100%"
      }
     },
     "2348f8dc772d4e1683a32c53c969653b": {
      "model_module": "@jupyter-widgets/controls",
      "model_module_version": "2.0.0",
      "model_name": "FloatProgressModel",
      "state": {
       "bar_style": "success",
       "layout": "IPY_MODEL_3f9f8b14fdc04e30b4994121782fb974",
       "max": 1,
       "style": "IPY_MODEL_dfb0cad82f55458294710d400e39e40c",
       "value": 1
      }
     },
     "234a9ba108e94462aa1e059a62d3a3b4": {
      "model_module": "@jupyter-widgets/controls",
      "model_module_version": "2.0.0",
      "model_name": "ProgressStyleModel",
      "state": {
       "description_width": ""
      }
     },
     "2351898433cf4211b69c8424d246c2de": {
      "model_module": "@jupyter-widgets/base",
      "model_module_version": "2.0.0",
      "model_name": "LayoutModel",
      "state": {}
     },
     "2378ce9f42b7462c8027c7b1215fca8c": {
      "model_module": "@jupyter-widgets/base",
      "model_module_version": "2.0.0",
      "model_name": "LayoutModel",
      "state": {}
     },
     "24215ec02bac456b8c3a1d04b17a2d88": {
      "model_module": "@jupyter-widgets/controls",
      "model_module_version": "2.0.0",
      "model_name": "HTMLStyleModel",
      "state": {
       "description_width": "",
       "font_size": null,
       "text_color": null
      }
     },
     "245e6c38a40248dd934b3ffac3af6ee1": {
      "model_module": "@jupyter-widgets/controls",
      "model_module_version": "2.0.0",
      "model_name": "HTMLModel",
      "state": {
       "layout": "IPY_MODEL_f0d9e76c5b5246aba7f2556120fe1cf5",
       "style": "IPY_MODEL_b205667552374ed695626fe71f2600e9",
       "value": "Epoch 31/60: 100%"
      }
     },
     "2462276477a444f5a86a085a661780b3": {
      "model_module": "@jupyter-widgets/base",
      "model_module_version": "2.0.0",
      "model_name": "LayoutModel",
      "state": {}
     },
     "2491abd988af48fbb30b0af0ac05e960": {
      "model_module": "@jupyter-widgets/controls",
      "model_module_version": "2.0.0",
      "model_name": "HTMLStyleModel",
      "state": {
       "description_width": "",
       "font_size": null,
       "text_color": null
      }
     },
     "2492e4347d8746719df46fd2933ace03": {
      "model_module": "@jupyter-widgets/base",
      "model_module_version": "2.0.0",
      "model_name": "LayoutModel",
      "state": {}
     },
     "24a44eac644f4f94b76a2de5f5873ef5": {
      "model_module": "@jupyter-widgets/controls",
      "model_module_version": "2.0.0",
      "model_name": "FloatProgressModel",
      "state": {
       "bar_style": "success",
       "layout": "IPY_MODEL_bbe854d7814544878e04bc3f507b97b5",
       "max": 1,
       "style": "IPY_MODEL_c26c487668f24d3c92a9b2e9d97094f1",
       "value": 1
      }
     },
     "24b0ca797d6e4a96b799aa611bc917b6": {
      "model_module": "@jupyter-widgets/controls",
      "model_module_version": "2.0.0",
      "model_name": "HTMLModel",
      "state": {
       "layout": "IPY_MODEL_9b512cd97177421b8f065c934d9fe399",
       "style": "IPY_MODEL_153fcd53f9bb4baead687d4e6f5f3d0a",
       "value": " 1/1 [00:02&lt;00:00,  2.71s/it, loss=0.0121]"
      }
     },
     "24b6902957ef4f25a2e6021f0ce2ec58": {
      "model_module": "@jupyter-widgets/controls",
      "model_module_version": "2.0.0",
      "model_name": "FloatProgressModel",
      "state": {
       "bar_style": "success",
       "layout": "IPY_MODEL_989806482a0a44489b99fc6171e458e6",
       "max": 1,
       "style": "IPY_MODEL_14530d24d892466ea1b99338f575b47c",
       "value": 1
      }
     },
     "24c0b99ef9824add881d6573c387d28f": {
      "model_module": "@jupyter-widgets/controls",
      "model_module_version": "2.0.0",
      "model_name": "HTMLModel",
      "state": {
       "layout": "IPY_MODEL_99a528f65f4840b18fff16a1e8029c51",
       "style": "IPY_MODEL_5e08a66fb73d44109be1543043c0e164",
       "value": " 500/500 [00:18&lt;00:00, 27.93it/s, loss=0.00188]"
      }
     },
     "24c39240bb9a42579221c606217d9246": {
      "model_module": "@jupyter-widgets/base",
      "model_module_version": "2.0.0",
      "model_name": "LayoutModel",
      "state": {}
     },
     "24e29bd6edf14cf7898f58c318003960": {
      "model_module": "@jupyter-widgets/base",
      "model_module_version": "2.0.0",
      "model_name": "LayoutModel",
      "state": {}
     },
     "25193cbf93d043c78e8eefb591129ad8": {
      "model_module": "@jupyter-widgets/base",
      "model_module_version": "2.0.0",
      "model_name": "LayoutModel",
      "state": {}
     },
     "25274073d8a242338d28f767e4f2abf9": {
      "model_module": "@jupyter-widgets/controls",
      "model_module_version": "2.0.0",
      "model_name": "HTMLModel",
      "state": {
       "layout": "IPY_MODEL_0db0a24e603845738342f4bfe42c8f51",
       "style": "IPY_MODEL_045c3688d7da4fc09e5e1d17813c8452",
       "value": " 1/1 [00:02&lt;00:00,  2.70s/it, loss=0.0224]"
      }
     },
     "253e66084ddb47a882363790b9df7e1b": {
      "model_module": "@jupyter-widgets/controls",
      "model_module_version": "2.0.0",
      "model_name": "HTMLStyleModel",
      "state": {
       "description_width": "",
       "font_size": null,
       "text_color": null
      }
     },
     "254df9b5efa8489492f4b58c03640d59": {
      "model_module": "@jupyter-widgets/controls",
      "model_module_version": "2.0.0",
      "model_name": "HBoxModel",
      "state": {
       "children": [
        "IPY_MODEL_d8a6f5af87c8462eab0628004e75631f",
        "IPY_MODEL_566d5e74b66b4f489b79e53f8573c812",
        "IPY_MODEL_878989a915bc4d1898b4adae177dd419"
       ],
       "layout": "IPY_MODEL_34de0703641846ff822042f44085764b"
      }
     },
     "256d6e15f29e4671bc78533e45724664": {
      "model_module": "@jupyter-widgets/controls",
      "model_module_version": "2.0.0",
      "model_name": "HTMLStyleModel",
      "state": {
       "description_width": "",
       "font_size": null,
       "text_color": null
      }
     },
     "2596e011d7ea4e0ebf9c76216ab74a2e": {
      "model_module": "@jupyter-widgets/base",
      "model_module_version": "2.0.0",
      "model_name": "LayoutModel",
      "state": {}
     },
     "25a1c22df8fd4686b15aa7732d94b414": {
      "model_module": "@jupyter-widgets/controls",
      "model_module_version": "2.0.0",
      "model_name": "ProgressStyleModel",
      "state": {
       "description_width": ""
      }
     },
     "26838c395d384faa89259a5b5101d785": {
      "model_module": "@jupyter-widgets/base",
      "model_module_version": "2.0.0",
      "model_name": "LayoutModel",
      "state": {}
     },
     "26886f3b784a44ac89c42a95fc6e8f9f": {
      "model_module": "@jupyter-widgets/controls",
      "model_module_version": "2.0.0",
      "model_name": "FloatProgressModel",
      "state": {
       "bar_style": "success",
       "layout": "IPY_MODEL_13f175947db94259abd641d12cddea44",
       "max": 1,
       "style": "IPY_MODEL_fa2c553a33c045fb9fd55ec5564ab6a6",
       "value": 1
      }
     },
     "26ccd9360a7a4dcabfc66d06ed0ea664": {
      "model_module": "@jupyter-widgets/controls",
      "model_module_version": "2.0.0",
      "model_name": "ProgressStyleModel",
      "state": {
       "description_width": ""
      }
     },
     "26fb71aa61d646fe9b2ad68719eafde4": {
      "model_module": "@jupyter-widgets/controls",
      "model_module_version": "2.0.0",
      "model_name": "ProgressStyleModel",
      "state": {
       "description_width": ""
      }
     },
     "2718384a0e2945ab87616ef04e813c04": {
      "model_module": "@jupyter-widgets/controls",
      "model_module_version": "2.0.0",
      "model_name": "HTMLStyleModel",
      "state": {
       "description_width": "",
       "font_size": null,
       "text_color": null
      }
     },
     "275f129c9c444612ac049fb4d16f3023": {
      "model_module": "@jupyter-widgets/base",
      "model_module_version": "2.0.0",
      "model_name": "LayoutModel",
      "state": {}
     },
     "2762adcc8eca4f5caa875835eba527ea": {
      "model_module": "@jupyter-widgets/controls",
      "model_module_version": "2.0.0",
      "model_name": "HTMLModel",
      "state": {
       "layout": "IPY_MODEL_0ef3bec1acbc4295bfd42cd2e3e0f949",
       "style": "IPY_MODEL_a6816eb1abcd417db3a2aa166a0865ff",
       "value": "Epoch 16/60: 100%"
      }
     },
     "277eb66a3955470a9b42f4f1eb07218e": {
      "model_module": "@jupyter-widgets/controls",
      "model_module_version": "2.0.0",
      "model_name": "ProgressStyleModel",
      "state": {
       "description_width": ""
      }
     },
     "278cd4f5cebe469c80d49474804c3474": {
      "model_module": "@jupyter-widgets/base",
      "model_module_version": "2.0.0",
      "model_name": "LayoutModel",
      "state": {}
     },
     "281bed9502604b59bf1526414d7e5d7e": {
      "model_module": "@jupyter-widgets/controls",
      "model_module_version": "2.0.0",
      "model_name": "HBoxModel",
      "state": {
       "children": [
        "IPY_MODEL_0a67a584f36b469ca392555f4011f1d6",
        "IPY_MODEL_912d10a4715a4865bdea42f44c4c93e8",
        "IPY_MODEL_8514c255aa6649b28e51de2b2bbea0e3"
       ],
       "layout": "IPY_MODEL_509d062dca1d45c3a094a28ee935d253"
      }
     },
     "283110951e3a4dd49bca51009d7f9177": {
      "model_module": "@jupyter-widgets/controls",
      "model_module_version": "2.0.0",
      "model_name": "ProgressStyleModel",
      "state": {
       "description_width": ""
      }
     },
     "28683a55d79742dfbd3dfd51f0110932": {
      "model_module": "@jupyter-widgets/controls",
      "model_module_version": "2.0.0",
      "model_name": "FloatProgressModel",
      "state": {
       "bar_style": "success",
       "layout": "IPY_MODEL_7f82e5a038b144408911b84940b12b7e",
       "max": 500,
       "style": "IPY_MODEL_55ee3755763346e28c9e641c502e6056",
       "value": 500
      }
     },
     "288bb92232d444dc9e9cd568c7aca76b": {
      "model_module": "@jupyter-widgets/base",
      "model_module_version": "2.0.0",
      "model_name": "LayoutModel",
      "state": {}
     },
     "28a3dc5f8fe34202990078b40a9dc259": {
      "model_module": "@jupyter-widgets/controls",
      "model_module_version": "2.0.0",
      "model_name": "HTMLStyleModel",
      "state": {
       "description_width": "",
       "font_size": null,
       "text_color": null
      }
     },
     "28af9636aa8a4e508def01746ed475ce": {
      "model_module": "@jupyter-widgets/controls",
      "model_module_version": "2.0.0",
      "model_name": "HTMLModel",
      "state": {
       "layout": "IPY_MODEL_b2be7b09cc3448d083fc4367c6fefade",
       "style": "IPY_MODEL_36f4a673b2164cea9224bbc420b957fe",
       "value": " 0/1 [00:02&lt;?, ?it/s]"
      }
     },
     "28b582c16585443d9578d2a694bfa658": {
      "model_module": "@jupyter-widgets/base",
      "model_module_version": "2.0.0",
      "model_name": "LayoutModel",
      "state": {}
     },
     "28c826de5e094262aaade38026fd567a": {
      "model_module": "@jupyter-widgets/controls",
      "model_module_version": "2.0.0",
      "model_name": "ProgressStyleModel",
      "state": {
       "description_width": ""
      }
     },
     "28e881e2efc14bde852edb4b0ebd8211": {
      "model_module": "@jupyter-widgets/controls",
      "model_module_version": "2.0.0",
      "model_name": "ProgressStyleModel",
      "state": {
       "description_width": ""
      }
     },
     "2925f9b5d6b549379b6366683c7945a1": {
      "model_module": "@jupyter-widgets/base",
      "model_module_version": "2.0.0",
      "model_name": "LayoutModel",
      "state": {}
     },
     "296b55ea95154a9492e7a5ef877fc5f6": {
      "model_module": "@jupyter-widgets/controls",
      "model_module_version": "2.0.0",
      "model_name": "HTMLModel",
      "state": {
       "layout": "IPY_MODEL_c25e767dc97d4b0384dff2e9380caeea",
       "style": "IPY_MODEL_183e3755ea1a42f3a25460cf44019d38",
       "value": " 1/1 [00:02&lt;00:00,  2.71s/it, loss=0.00592]"
      }
     },
     "29e33afe8a4a430fae184149fd059e4c": {
      "model_module": "@jupyter-widgets/controls",
      "model_module_version": "2.0.0",
      "model_name": "HTMLModel",
      "state": {
       "layout": "IPY_MODEL_952d3c91e4e346e6a36c1885c843a8d4",
       "style": "IPY_MODEL_101e75eebfe5441aaedbfb407910ec57",
       "value": "Epoch 10/60: 100%"
      }
     },
     "29f9cab286de43c29f22290de8719cca": {
      "model_module": "@jupyter-widgets/controls",
      "model_module_version": "2.0.0",
      "model_name": "HTMLStyleModel",
      "state": {
       "description_width": "",
       "font_size": null,
       "text_color": null
      }
     },
     "2a0a81e8b47e42ca92272f76f6de96fd": {
      "model_module": "@jupyter-widgets/controls",
      "model_module_version": "2.0.0",
      "model_name": "HBoxModel",
      "state": {
       "children": [
        "IPY_MODEL_6502b977a406492d83eb78a11eb21f6a",
        "IPY_MODEL_55264f3bf78341d1ba971bd25c9a44e6",
        "IPY_MODEL_02551473e0ee46219ae4348737066350"
       ],
       "layout": "IPY_MODEL_444267b20f6e4f688e7b82352dea239d"
      }
     },
     "2a1929e786f84fa792f86b24430d130c": {
      "model_module": "@jupyter-widgets/controls",
      "model_module_version": "2.0.0",
      "model_name": "HTMLStyleModel",
      "state": {
       "description_width": "",
       "font_size": null,
       "text_color": null
      }
     },
     "2a22814e60134fbb8f178ba8182ae9f4": {
      "model_module": "@jupyter-widgets/base",
      "model_module_version": "2.0.0",
      "model_name": "LayoutModel",
      "state": {}
     },
     "2a5827c680384c98abb37fa1c31a5833": {
      "model_module": "@jupyter-widgets/controls",
      "model_module_version": "2.0.0",
      "model_name": "HTMLModel",
      "state": {
       "layout": "IPY_MODEL_2e33af87d16f40f0afc36e4174a9aca8",
       "style": "IPY_MODEL_8b6d99bc93154826bb2ad2dfbaaecfb4",
       "value": " 1/1 [00:02&lt;00:00,  2.70s/it, loss=0.0408]"
      }
     },
     "2aa520babbb94361bb8014183ab504d6": {
      "model_module": "@jupyter-widgets/controls",
      "model_module_version": "2.0.0",
      "model_name": "HTMLStyleModel",
      "state": {
       "description_width": "",
       "font_size": null,
       "text_color": null
      }
     },
     "2abc53f50280446ea490572334e61cf8": {
      "model_module": "@jupyter-widgets/base",
      "model_module_version": "2.0.0",
      "model_name": "LayoutModel",
      "state": {}
     },
     "2ac272099ed941cb867d8a72b6cfb3d5": {
      "model_module": "@jupyter-widgets/controls",
      "model_module_version": "2.0.0",
      "model_name": "HTMLStyleModel",
      "state": {
       "description_width": "",
       "font_size": null,
       "text_color": null
      }
     },
     "2b080fbeacc24fb29b3a48078aaf6249": {
      "model_module": "@jupyter-widgets/controls",
      "model_module_version": "2.0.0",
      "model_name": "HTMLModel",
      "state": {
       "layout": "IPY_MODEL_94608fef9e344bb2a1162530450c511f",
       "style": "IPY_MODEL_2b98517e1e784e7887c4a7b427e0edc5",
       "value": " 1/1 [00:02&lt;00:00,  2.70s/it, loss=0.00706]"
      }
     },
     "2b1ede474ef1466c97d46bf8b9ad173a": {
      "model_module": "@jupyter-widgets/base",
      "model_module_version": "2.0.0",
      "model_name": "LayoutModel",
      "state": {}
     },
     "2b26edc59f13404ba5a8da4e898e7b30": {
      "model_module": "@jupyter-widgets/controls",
      "model_module_version": "2.0.0",
      "model_name": "HBoxModel",
      "state": {
       "children": [
        "IPY_MODEL_08063c9afe654c7c91a86ee1883c2fc9",
        "IPY_MODEL_9853aa64973c4c39aa98df53bf17ee4d",
        "IPY_MODEL_52aea616ba974a9f8f0db5c1f409bd9c"
       ],
       "layout": "IPY_MODEL_ef3867af0c9443d69cbd66d0ff6a3b0e"
      }
     },
     "2b3dc941e17946acb47ee0bb07353f63": {
      "model_module": "@jupyter-widgets/controls",
      "model_module_version": "2.0.0",
      "model_name": "HBoxModel",
      "state": {
       "children": [
        "IPY_MODEL_e57ad25c9825415887d71839c00a3554",
        "IPY_MODEL_c7196d21518b4c3294ec41ea24c72735",
        "IPY_MODEL_f129d9bc62134d15bb6a2f701aea9c15"
       ],
       "layout": "IPY_MODEL_b1b71ff61fd84eab8e7fd1e6ce7ae591"
      }
     },
     "2b590831f7be4a9eb17be29539d0b032": {
      "model_module": "@jupyter-widgets/controls",
      "model_module_version": "2.0.0",
      "model_name": "HBoxModel",
      "state": {
       "children": [
        "IPY_MODEL_97161636a9b949b79ff3bdc670cf198e",
        "IPY_MODEL_a19c8d41e42b4bc5ae4d96b6751d6703",
        "IPY_MODEL_abf2a1b458774d97a98ea06d00a3cb3d"
       ],
       "layout": "IPY_MODEL_00e0e09156874da380079cdfc925c508"
      }
     },
     "2b98517e1e784e7887c4a7b427e0edc5": {
      "model_module": "@jupyter-widgets/controls",
      "model_module_version": "2.0.0",
      "model_name": "HTMLStyleModel",
      "state": {
       "description_width": "",
       "font_size": null,
       "text_color": null
      }
     },
     "2bc97362a9344f13bd2faa4abddd70fe": {
      "model_module": "@jupyter-widgets/controls",
      "model_module_version": "2.0.0",
      "model_name": "HBoxModel",
      "state": {
       "children": [
        "IPY_MODEL_8742138f681e48b0897a7a882c6ad85d",
        "IPY_MODEL_ba2f90dd222843c58962ed7ce744444f",
        "IPY_MODEL_2cb28514c6514fc38db5ee5e22a943b6"
       ],
       "layout": "IPY_MODEL_2f38ad1b96cf4d58afac88e0c27305d5"
      }
     },
     "2bdf79b356ce40249f7af8ab06bbe767": {
      "model_module": "@jupyter-widgets/controls",
      "model_module_version": "2.0.0",
      "model_name": "HBoxModel",
      "state": {
       "children": [
        "IPY_MODEL_49dd4df587ae4e919f50690ca7b601b3",
        "IPY_MODEL_749e052863d149e594c690d1703a74da",
        "IPY_MODEL_63bd3b4db81344c0a39be46713e3e8bb"
       ],
       "layout": "IPY_MODEL_810f0e87cca841d8a537ae4ec55841e5"
      }
     },
     "2beab91557d840909e24387031d8ff34": {
      "model_module": "@jupyter-widgets/controls",
      "model_module_version": "2.0.0",
      "model_name": "ProgressStyleModel",
      "state": {
       "description_width": ""
      }
     },
     "2befca29a4c64f3c81ebb635b97b9ca0": {
      "model_module": "@jupyter-widgets/base",
      "model_module_version": "2.0.0",
      "model_name": "LayoutModel",
      "state": {}
     },
     "2bf50fca009942c283d7573b02b332f4": {
      "model_module": "@jupyter-widgets/base",
      "model_module_version": "2.0.0",
      "model_name": "LayoutModel",
      "state": {}
     },
     "2c2fbb619f0641b587c181f279f6bfdc": {
      "model_module": "@jupyter-widgets/controls",
      "model_module_version": "2.0.0",
      "model_name": "HTMLModel",
      "state": {
       "layout": "IPY_MODEL_67d3634160da409a8a70aab4d193d1c4",
       "style": "IPY_MODEL_8aff1ab21e43476dbf6aa6846f422bc1",
       "value": "Epoch 44/60: 100%"
      }
     },
     "2c3c11411be148138f9659c07d909394": {
      "model_module": "@jupyter-widgets/base",
      "model_module_version": "2.0.0",
      "model_name": "LayoutModel",
      "state": {}
     },
     "2c4f2de84e2c48119fe3abc98ecc3318": {
      "model_module": "@jupyter-widgets/controls",
      "model_module_version": "2.0.0",
      "model_name": "ProgressStyleModel",
      "state": {
       "description_width": ""
      }
     },
     "2c683bc832e84d64b6ede79ebf71c591": {
      "model_module": "@jupyter-widgets/base",
      "model_module_version": "2.0.0",
      "model_name": "LayoutModel",
      "state": {}
     },
     "2c685e3c264d42998b45edbab15e3554": {
      "model_module": "@jupyter-widgets/controls",
      "model_module_version": "2.0.0",
      "model_name": "ProgressStyleModel",
      "state": {
       "description_width": ""
      }
     },
     "2c6cd94c67ae41a6bdba18f4f5b06c55": {
      "model_module": "@jupyter-widgets/base",
      "model_module_version": "2.0.0",
      "model_name": "LayoutModel",
      "state": {}
     },
     "2c88d422911240e8805640dea3db5107": {
      "model_module": "@jupyter-widgets/base",
      "model_module_version": "2.0.0",
      "model_name": "LayoutModel",
      "state": {}
     },
     "2c91616e02904d22bc434b3b3f5dc0bf": {
      "model_module": "@jupyter-widgets/base",
      "model_module_version": "2.0.0",
      "model_name": "LayoutModel",
      "state": {}
     },
     "2ca9a614551a4ae2b7998cdfeddebb97": {
      "model_module": "@jupyter-widgets/controls",
      "model_module_version": "2.0.0",
      "model_name": "HTMLStyleModel",
      "state": {
       "description_width": "",
       "font_size": null,
       "text_color": null
      }
     },
     "2cafeadeb5844145bebb31c04842250b": {
      "model_module": "@jupyter-widgets/base",
      "model_module_version": "2.0.0",
      "model_name": "LayoutModel",
      "state": {}
     },
     "2cb28514c6514fc38db5ee5e22a943b6": {
      "model_module": "@jupyter-widgets/controls",
      "model_module_version": "2.0.0",
      "model_name": "HTMLModel",
      "state": {
       "layout": "IPY_MODEL_611154f43c054ef397ff248d0ed138c3",
       "style": "IPY_MODEL_44da1581938f4f0e96d16bd5be471cf6",
       "value": " 1/1 [00:02&lt;00:00,  2.70s/it, loss=0.0347]"
      }
     },
     "2cb4ba6758e04edf82817f7e934aec97": {
      "model_module": "@jupyter-widgets/controls",
      "model_module_version": "2.0.0",
      "model_name": "HTMLModel",
      "state": {
       "layout": "IPY_MODEL_05cbc7483989490588a1c651abb7fd43",
       "style": "IPY_MODEL_aa177c5787864122885d0dbfe3b2430f",
       "value": " 1/1 [00:02&lt;00:00,  2.70s/it, loss=0.0819]"
      }
     },
     "2cc32cac22e243b680873b70fb949419": {
      "model_module": "@jupyter-widgets/base",
      "model_module_version": "2.0.0",
      "model_name": "LayoutModel",
      "state": {}
     },
     "2cdd50d91d8b4ce9b366744569724a52": {
      "model_module": "@jupyter-widgets/base",
      "model_module_version": "2.0.0",
      "model_name": "LayoutModel",
      "state": {}
     },
     "2d198999cf454851aa66050b0090f768": {
      "model_module": "@jupyter-widgets/base",
      "model_module_version": "2.0.0",
      "model_name": "LayoutModel",
      "state": {}
     },
     "2d1d0beb1d5441d7b8d77d00f54e32af": {
      "model_module": "@jupyter-widgets/base",
      "model_module_version": "2.0.0",
      "model_name": "LayoutModel",
      "state": {}
     },
     "2d1e06fb234a4e3eac738a2cf28844b4": {
      "model_module": "@jupyter-widgets/controls",
      "model_module_version": "2.0.0",
      "model_name": "HBoxModel",
      "state": {
       "children": [
        "IPY_MODEL_b3445fe6f5c744968431a0e475a1eec6",
        "IPY_MODEL_82fd0e1c1a8246e1a4389d8b54247c6d",
        "IPY_MODEL_f57f67bbbae74ef3aff90ce9a17bbd95"
       ],
       "layout": "IPY_MODEL_f432da6406564623974d4ee8fd194c0a"
      }
     },
     "2d829c98c5d249e4aab1d66a3c318bc3": {
      "model_module": "@jupyter-widgets/controls",
      "model_module_version": "2.0.0",
      "model_name": "ProgressStyleModel",
      "state": {
       "description_width": ""
      }
     },
     "2ddcfd284da8425c9f1452980a091195": {
      "model_module": "@jupyter-widgets/controls",
      "model_module_version": "2.0.0",
      "model_name": "HTMLModel",
      "state": {
       "layout": "IPY_MODEL_6fb6bc563d4344759c4cd3d45a443040",
       "style": "IPY_MODEL_38ed5d4ea63348e4a05f33f3d6742af9",
       "value": " 500/500 [00:17&lt;00:00, 27.94it/s, loss=0.00182]"
      }
     },
     "2e33af87d16f40f0afc36e4174a9aca8": {
      "model_module": "@jupyter-widgets/base",
      "model_module_version": "2.0.0",
      "model_name": "LayoutModel",
      "state": {}
     },
     "2e5fab6ff1434238ab7a3eac3518b359": {
      "model_module": "@jupyter-widgets/controls",
      "model_module_version": "2.0.0",
      "model_name": "HTMLStyleModel",
      "state": {
       "description_width": "",
       "font_size": null,
       "text_color": null
      }
     },
     "2e648908dd0044089c516ba64839a23d": {
      "model_module": "@jupyter-widgets/base",
      "model_module_version": "2.0.0",
      "model_name": "LayoutModel",
      "state": {}
     },
     "2e80e46cb6c74d59ac72b928a0f31337": {
      "model_module": "@jupyter-widgets/controls",
      "model_module_version": "2.0.0",
      "model_name": "ProgressStyleModel",
      "state": {
       "description_width": ""
      }
     },
     "2e8bd4a1355d4c7b9173c767fe25b726": {
      "model_module": "@jupyter-widgets/controls",
      "model_module_version": "2.0.0",
      "model_name": "HTMLModel",
      "state": {
       "layout": "IPY_MODEL_95482193ba454ed49c52470c1af85c01",
       "style": "IPY_MODEL_ed68303bb9554044b74d9a2620fb4b66",
       "value": " 500/500 [00:18&lt;00:00, 26.98it/s, loss=0.00223]"
      }
     },
     "2ebb2bb60a2443938d281e51ab899b66": {
      "model_module": "@jupyter-widgets/controls",
      "model_module_version": "2.0.0",
      "model_name": "ProgressStyleModel",
      "state": {
       "description_width": ""
      }
     },
     "2f1223dfb6604b1ebced007974e664af": {
      "model_module": "@jupyter-widgets/controls",
      "model_module_version": "2.0.0",
      "model_name": "FloatProgressModel",
      "state": {
       "bar_style": "success",
       "layout": "IPY_MODEL_447ac243a5ae4b94998bd11ae5e6c05e",
       "max": 1,
       "style": "IPY_MODEL_6c8dfb48744d4b6f8eafbee8313f447f",
       "value": 1
      }
     },
     "2f38ad1b96cf4d58afac88e0c27305d5": {
      "model_module": "@jupyter-widgets/base",
      "model_module_version": "2.0.0",
      "model_name": "LayoutModel",
      "state": {}
     },
     "2f5c404a14784a0a8934d5bf3ba313bd": {
      "model_module": "@jupyter-widgets/controls",
      "model_module_version": "2.0.0",
      "model_name": "HTMLStyleModel",
      "state": {
       "description_width": "",
       "font_size": null,
       "text_color": null
      }
     },
     "2fd932e087e647898de9e9c71bcecafb": {
      "model_module": "@jupyter-widgets/controls",
      "model_module_version": "2.0.0",
      "model_name": "ProgressStyleModel",
      "state": {
       "description_width": ""
      }
     },
     "3042a309352e401fa6e6a8e5a46db8b1": {
      "model_module": "@jupyter-widgets/base",
      "model_module_version": "2.0.0",
      "model_name": "LayoutModel",
      "state": {}
     },
     "3053e42b2ffc4c0e91568c931cd94dec": {
      "model_module": "@jupyter-widgets/controls",
      "model_module_version": "2.0.0",
      "model_name": "FloatProgressModel",
      "state": {
       "bar_style": "success",
       "layout": "IPY_MODEL_1516ee0f65e34b45a8ce3be02e60e663",
       "max": 1,
       "style": "IPY_MODEL_11f9ae5820ec4e0897122fa47d01e3c6",
       "value": 1
      }
     },
     "307a0fdebd10463dbe9da042e3a9b1f2": {
      "model_module": "@jupyter-widgets/controls",
      "model_module_version": "2.0.0",
      "model_name": "HBoxModel",
      "state": {
       "children": [
        "IPY_MODEL_70b3ab3825084523973d436ce11e3c93",
        "IPY_MODEL_672e73906e3b44faa2fd7f02883f1045",
        "IPY_MODEL_b44cb03c41154106925eabd78567ee19"
       ],
       "layout": "IPY_MODEL_a3540f7efaf0460dbe01d8c6e4d6c43e"
      }
     },
     "30b23d8e56de4b9db681ff370308219e": {
      "model_module": "@jupyter-widgets/controls",
      "model_module_version": "2.0.0",
      "model_name": "ProgressStyleModel",
      "state": {
       "description_width": ""
      }
     },
     "30b46099b06c4acca38034ad5781fcdb": {
      "model_module": "@jupyter-widgets/controls",
      "model_module_version": "2.0.0",
      "model_name": "HBoxModel",
      "state": {
       "children": [
        "IPY_MODEL_dc38e988940a4f85a125aa2bdca6367b",
        "IPY_MODEL_066d4f9072b74c499c921d7d82e8492d",
        "IPY_MODEL_35a65da3f4414087a961de2005541e3f"
       ],
       "layout": "IPY_MODEL_aca7feb709eb4c0998b85661f0450211"
      }
     },
     "30d62d132a5c427db844779b8e0cb901": {
      "model_module": "@jupyter-widgets/controls",
      "model_module_version": "2.0.0",
      "model_name": "FloatProgressModel",
      "state": {
       "bar_style": "success",
       "layout": "IPY_MODEL_a0db54ff3e844274a939d27c82b5d662",
       "max": 1,
       "style": "IPY_MODEL_8d1f56dc029546b5a3e961055d72b6d2",
       "value": 1
      }
     },
     "3104c61fea424b8fb37394b2f4046b8f": {
      "model_module": "@jupyter-widgets/base",
      "model_module_version": "2.0.0",
      "model_name": "LayoutModel",
      "state": {}
     },
     "319e1c8458604e5db9fa39a294211c36": {
      "model_module": "@jupyter-widgets/controls",
      "model_module_version": "2.0.0",
      "model_name": "HTMLStyleModel",
      "state": {
       "description_width": "",
       "font_size": null,
       "text_color": null
      }
     },
     "31b891c1672f41b799125440205a5809": {
      "model_module": "@jupyter-widgets/controls",
      "model_module_version": "2.0.0",
      "model_name": "ProgressStyleModel",
      "state": {
       "description_width": ""
      }
     },
     "31fa10ef97174228ac2585d12789c0e4": {
      "model_module": "@jupyter-widgets/controls",
      "model_module_version": "2.0.0",
      "model_name": "ProgressStyleModel",
      "state": {
       "description_width": ""
      }
     },
     "3201fa07eb3f4ce4a0d57fb58d32b930": {
      "model_module": "@jupyter-widgets/base",
      "model_module_version": "2.0.0",
      "model_name": "LayoutModel",
      "state": {}
     },
     "3208d38809074094981a0e5ebb589e2e": {
      "model_module": "@jupyter-widgets/controls",
      "model_module_version": "2.0.0",
      "model_name": "ProgressStyleModel",
      "state": {
       "description_width": ""
      }
     },
     "320ba92b2ad54ba5a1b1f6beaa887e7c": {
      "model_module": "@jupyter-widgets/base",
      "model_module_version": "2.0.0",
      "model_name": "LayoutModel",
      "state": {}
     },
     "32275f161758410ebbfa76f07e7de735": {
      "model_module": "@jupyter-widgets/base",
      "model_module_version": "2.0.0",
      "model_name": "LayoutModel",
      "state": {}
     },
     "3252a02844f84d6b828334204267d0ef": {
      "model_module": "@jupyter-widgets/controls",
      "model_module_version": "2.0.0",
      "model_name": "HTMLStyleModel",
      "state": {
       "description_width": "",
       "font_size": null,
       "text_color": null
      }
     },
     "328fe07f2da24bc18d93ea2fba3769e0": {
      "model_module": "@jupyter-widgets/base",
      "model_module_version": "2.0.0",
      "model_name": "LayoutModel",
      "state": {}
     },
     "32eb01be1b92434db0a12ab294cccfbd": {
      "model_module": "@jupyter-widgets/controls",
      "model_module_version": "2.0.0",
      "model_name": "HBoxModel",
      "state": {
       "children": [
        "IPY_MODEL_cf41852ac753498185b8bde427ff4672",
        "IPY_MODEL_9c5221fa09ff4244b8b5e97398065cbe",
        "IPY_MODEL_8c1c2b3885b641238889ca52ca962f84"
       ],
       "layout": "IPY_MODEL_02b755a145ea4352a25989e330f0fe9b"
      }
     },
     "3310f1f84d05459d80e0411eeb7449ca": {
      "model_module": "@jupyter-widgets/controls",
      "model_module_version": "2.0.0",
      "model_name": "HTMLModel",
      "state": {
       "layout": "IPY_MODEL_c3e54f5c13d84801aa4422c2f58bb159",
       "style": "IPY_MODEL_366e14fdfc744a4da441b21e914e7fae",
       "value": "Epoch 13/60: 100%"
      }
     },
     "33179dec953d47ff8c7954c5072efed5": {
      "model_module": "@jupyter-widgets/base",
      "model_module_version": "2.0.0",
      "model_name": "LayoutModel",
      "state": {}
     },
     "332de29de7284e6199086016e2aef232": {
      "model_module": "@jupyter-widgets/base",
      "model_module_version": "2.0.0",
      "model_name": "LayoutModel",
      "state": {}
     },
     "333706eb46794bd385b45c43910d0735": {
      "model_module": "@jupyter-widgets/controls",
      "model_module_version": "2.0.0",
      "model_name": "HTMLStyleModel",
      "state": {
       "description_width": "",
       "font_size": null,
       "text_color": null
      }
     },
     "335a5e8f759b4839ac07ce50ce51c48b": {
      "model_module": "@jupyter-widgets/controls",
      "model_module_version": "2.0.0",
      "model_name": "ProgressStyleModel",
      "state": {
       "description_width": ""
      }
     },
     "33884ac83c1b43ad82f0b92d62ab17c4": {
      "model_module": "@jupyter-widgets/base",
      "model_module_version": "2.0.0",
      "model_name": "LayoutModel",
      "state": {}
     },
     "33b8bd7aadbf478e9c3d4b35d6a06163": {
      "model_module": "@jupyter-widgets/base",
      "model_module_version": "2.0.0",
      "model_name": "LayoutModel",
      "state": {}
     },
     "33bd51b8964944dc9267e466b79d668d": {
      "model_module": "@jupyter-widgets/controls",
      "model_module_version": "2.0.0",
      "model_name": "ProgressStyleModel",
      "state": {
       "description_width": ""
      }
     },
     "33d87d30230747088baaf358e6bfa3bf": {
      "model_module": "@jupyter-widgets/controls",
      "model_module_version": "2.0.0",
      "model_name": "HTMLStyleModel",
      "state": {
       "description_width": "",
       "font_size": null,
       "text_color": null
      }
     },
     "33dfe86abdef4e2ab86309121abb50e3": {
      "model_module": "@jupyter-widgets/controls",
      "model_module_version": "2.0.0",
      "model_name": "HTMLStyleModel",
      "state": {
       "description_width": "",
       "font_size": null,
       "text_color": null
      }
     },
     "33f132e6c9d242afa786b990e31fc265": {
      "model_module": "@jupyter-widgets/controls",
      "model_module_version": "2.0.0",
      "model_name": "HBoxModel",
      "state": {
       "children": [
        "IPY_MODEL_77b686dc356946708786adbb2eb286b1",
        "IPY_MODEL_f5115cc215dc4afa9b35023c9596a1de",
        "IPY_MODEL_b6a84e179d254f48b8b5870876013f50"
       ],
       "layout": "IPY_MODEL_ac2357bbc5134f35b3402c3168830368"
      }
     },
     "34099dc8c89f4263905786239019f842": {
      "model_module": "@jupyter-widgets/controls",
      "model_module_version": "2.0.0",
      "model_name": "HBoxModel",
      "state": {
       "children": [
        "IPY_MODEL_51943687907a4b7389f70d815495f074",
        "IPY_MODEL_0055297a1071434aae56718401bff6f4",
        "IPY_MODEL_792cb263b11b4f1199ecaaf0cbb9edcd"
       ],
       "layout": "IPY_MODEL_9e908081d1744244beff91d14f3b6c67"
      }
     },
     "345b5802c56545cdbff0fe234b2be1e9": {
      "model_module": "@jupyter-widgets/controls",
      "model_module_version": "2.0.0",
      "model_name": "FloatProgressModel",
      "state": {
       "bar_style": "success",
       "layout": "IPY_MODEL_4810ab7530e14890878980befb06d8d9",
       "max": 1,
       "style": "IPY_MODEL_e1b79cb03d624acda0329ed8c23591c4",
       "value": 1
      }
     },
     "347597028b1a4c768a836f8aa4bd71b2": {
      "model_module": "@jupyter-widgets/controls",
      "model_module_version": "2.0.0",
      "model_name": "HTMLModel",
      "state": {
       "layout": "IPY_MODEL_6aeb8c7e52cb4c249749d5c18442a7fc",
       "style": "IPY_MODEL_229b3e918b67400c80364330a7d0866c",
       "value": "Epoch 13/60: 100%"
      }
     },
     "34b99577e73844bc82ffc9082e33ee30": {
      "model_module": "@jupyter-widgets/controls",
      "model_module_version": "2.0.0",
      "model_name": "HTMLStyleModel",
      "state": {
       "description_width": "",
       "font_size": null,
       "text_color": null
      }
     },
     "34d2a9b6503847568fd16dbe08a680db": {
      "model_module": "@jupyter-widgets/controls",
      "model_module_version": "2.0.0",
      "model_name": "HTMLStyleModel",
      "state": {
       "description_width": "",
       "font_size": null,
       "text_color": null
      }
     },
     "34dd112b66a84713ac1ba12f6e19e48d": {
      "model_module": "@jupyter-widgets/controls",
      "model_module_version": "2.0.0",
      "model_name": "HBoxModel",
      "state": {
       "children": [
        "IPY_MODEL_36cf50d5741c47b380a712f85e57f5ca",
        "IPY_MODEL_98d8de4ee0f44e318ca649eda032ce24",
        "IPY_MODEL_0dcc431c1b3f47069ef9f22d47b6179a"
       ],
       "layout": "IPY_MODEL_9219f1238c274d4a9ca076f4528297b0"
      }
     },
     "34de0703641846ff822042f44085764b": {
      "model_module": "@jupyter-widgets/base",
      "model_module_version": "2.0.0",
      "model_name": "LayoutModel",
      "state": {}
     },
     "34e4ce140f4f4e4ba67c4742775044b7": {
      "model_module": "@jupyter-widgets/controls",
      "model_module_version": "2.0.0",
      "model_name": "HTMLStyleModel",
      "state": {
       "description_width": "",
       "font_size": null,
       "text_color": null
      }
     },
     "34ec09fc56b249c39789e5971bfead6f": {
      "model_module": "@jupyter-widgets/controls",
      "model_module_version": "2.0.0",
      "model_name": "HTMLStyleModel",
      "state": {
       "description_width": "",
       "font_size": null,
       "text_color": null
      }
     },
     "359a46a1a63b424fb920a63894bc7b4e": {
      "model_module": "@jupyter-widgets/controls",
      "model_module_version": "2.0.0",
      "model_name": "ProgressStyleModel",
      "state": {
       "description_width": ""
      }
     },
     "35a65da3f4414087a961de2005541e3f": {
      "model_module": "@jupyter-widgets/controls",
      "model_module_version": "2.0.0",
      "model_name": "HTMLModel",
      "state": {
       "layout": "IPY_MODEL_c16a23a9b2724c44853370fe706d50ac",
       "style": "IPY_MODEL_4e06f512424444e0acf7b3238f478720",
       "value": " 1/1 [00:02&lt;00:00,  2.70s/it, loss=0.0279]"
      }
     },
     "366419491f85415fa34a7699d3c5d4fe": {
      "model_module": "@jupyter-widgets/controls",
      "model_module_version": "2.0.0",
      "model_name": "FloatProgressModel",
      "state": {
       "bar_style": "success",
       "layout": "IPY_MODEL_c0029ddcb0a84c1286d3b265ef6f33a7",
       "max": 1,
       "style": "IPY_MODEL_4baa3056a5d74fa5a54c27dbd2ccf16b",
       "value": 1
      }
     },
     "3667e5165cb248d18bb5e87026b752cf": {
      "model_module": "@jupyter-widgets/base",
      "model_module_version": "2.0.0",
      "model_name": "LayoutModel",
      "state": {}
     },
     "366e14fdfc744a4da441b21e914e7fae": {
      "model_module": "@jupyter-widgets/controls",
      "model_module_version": "2.0.0",
      "model_name": "HTMLStyleModel",
      "state": {
       "description_width": "",
       "font_size": null,
       "text_color": null
      }
     },
     "36c47ef1a36f48b5932e80efbff72dac": {
      "model_module": "@jupyter-widgets/base",
      "model_module_version": "2.0.0",
      "model_name": "LayoutModel",
      "state": {}
     },
     "36cf50d5741c47b380a712f85e57f5ca": {
      "model_module": "@jupyter-widgets/controls",
      "model_module_version": "2.0.0",
      "model_name": "HTMLModel",
      "state": {
       "layout": "IPY_MODEL_eeabe0fb50d441e98ec724250daca3c9",
       "style": "IPY_MODEL_5f1d3324442149c0a95bebd5c4b4f237",
       "value": "Epoch 43/60: 100%"
      }
     },
     "36f4a673b2164cea9224bbc420b957fe": {
      "model_module": "@jupyter-widgets/controls",
      "model_module_version": "2.0.0",
      "model_name": "HTMLStyleModel",
      "state": {
       "description_width": "",
       "font_size": null,
       "text_color": null
      }
     },
     "3784eb3450d144acbb95fbab5630529f": {
      "model_module": "@jupyter-widgets/controls",
      "model_module_version": "2.0.0",
      "model_name": "HTMLStyleModel",
      "state": {
       "description_width": "",
       "font_size": null,
       "text_color": null
      }
     },
     "37d2e9f5c6fe4600ab05024f398f7145": {
      "model_module": "@jupyter-widgets/base",
      "model_module_version": "2.0.0",
      "model_name": "LayoutModel",
      "state": {}
     },
     "3813f1a4a2f747ee9a9c74e6922da36c": {
      "model_module": "@jupyter-widgets/base",
      "model_module_version": "2.0.0",
      "model_name": "LayoutModel",
      "state": {}
     },
     "383a16a82fe34d049f96ebe22ecea601": {
      "model_module": "@jupyter-widgets/controls",
      "model_module_version": "2.0.0",
      "model_name": "HTMLStyleModel",
      "state": {
       "description_width": "",
       "font_size": null,
       "text_color": null
      }
     },
     "38606d958de743a281c4de18bfca7b2d": {
      "model_module": "@jupyter-widgets/controls",
      "model_module_version": "2.0.0",
      "model_name": "FloatProgressModel",
      "state": {
       "bar_style": "success",
       "layout": "IPY_MODEL_320ba92b2ad54ba5a1b1f6beaa887e7c",
       "max": 1,
       "style": "IPY_MODEL_d13034da54494e6c8684f994f46ea31a",
       "value": 1
      }
     },
     "38c32110e70f439691870d609db55f52": {
      "model_module": "@jupyter-widgets/controls",
      "model_module_version": "2.0.0",
      "model_name": "ProgressStyleModel",
      "state": {
       "description_width": ""
      }
     },
     "38ddb705a990477383a0bbf250d5fd16": {
      "model_module": "@jupyter-widgets/controls",
      "model_module_version": "2.0.0",
      "model_name": "HTMLStyleModel",
      "state": {
       "description_width": "",
       "font_size": null,
       "text_color": null
      }
     },
     "38e01d66eea44278ad0fc15b31be6e98": {
      "model_module": "@jupyter-widgets/base",
      "model_module_version": "2.0.0",
      "model_name": "LayoutModel",
      "state": {}
     },
     "38ed5d4ea63348e4a05f33f3d6742af9": {
      "model_module": "@jupyter-widgets/controls",
      "model_module_version": "2.0.0",
      "model_name": "HTMLStyleModel",
      "state": {
       "description_width": "",
       "font_size": null,
       "text_color": null
      }
     },
     "390048accb8041f781a20c337636e585": {
      "model_module": "@jupyter-widgets/base",
      "model_module_version": "2.0.0",
      "model_name": "LayoutModel",
      "state": {}
     },
     "3962f9448ef44991ad410945e738ec70": {
      "model_module": "@jupyter-widgets/controls",
      "model_module_version": "2.0.0",
      "model_name": "HBoxModel",
      "state": {
       "children": [
        "IPY_MODEL_9be60e523574402eb5d139173c0c8bce",
        "IPY_MODEL_8e2dfac92bdb4293bc4a0f994bc586f8",
        "IPY_MODEL_9bb7d2ce8710453380bd9e42c29f691a"
       ],
       "layout": "IPY_MODEL_4e145593730c41a98ecbfe8c21b309ee"
      }
     },
     "39854f199b9e4a93aa6893bd071fd107": {
      "model_module": "@jupyter-widgets/controls",
      "model_module_version": "2.0.0",
      "model_name": "HTMLStyleModel",
      "state": {
       "description_width": "",
       "font_size": null,
       "text_color": null
      }
     },
     "3994adb0650444ffac28e0ed3b47f526": {
      "model_module": "@jupyter-widgets/controls",
      "model_module_version": "2.0.0",
      "model_name": "HBoxModel",
      "state": {
       "children": [
        "IPY_MODEL_54da70055f79480899df459254a0fb66",
        "IPY_MODEL_66f1f7f3457c4dbca745783c45a68ab3",
        "IPY_MODEL_415e3e0a7a72468c93b0fec686f1cfb3"
       ],
       "layout": "IPY_MODEL_3bb55256384f4fab888c5ec79c474df4"
      }
     },
     "39a9442d428d4342acaa5efea7382b99": {
      "model_module": "@jupyter-widgets/controls",
      "model_module_version": "2.0.0",
      "model_name": "ProgressStyleModel",
      "state": {
       "description_width": ""
      }
     },
     "39c4fce33ebc41428a46295c33351425": {
      "model_module": "@jupyter-widgets/base",
      "model_module_version": "2.0.0",
      "model_name": "LayoutModel",
      "state": {}
     },
     "3a1d620f6b6c456aa5072abb21727a50": {
      "model_module": "@jupyter-widgets/base",
      "model_module_version": "2.0.0",
      "model_name": "LayoutModel",
      "state": {}
     },
     "3a29813fd54140c1bda24e4020f7d23b": {
      "model_module": "@jupyter-widgets/base",
      "model_module_version": "2.0.0",
      "model_name": "LayoutModel",
      "state": {}
     },
     "3a4dee5be096410eb82c9846d8d32865": {
      "model_module": "@jupyter-widgets/controls",
      "model_module_version": "2.0.0",
      "model_name": "HTMLStyleModel",
      "state": {
       "description_width": "",
       "font_size": null,
       "text_color": null
      }
     },
     "3a79e98c41ad44d5a0b6c8d990c5ba59": {
      "model_module": "@jupyter-widgets/base",
      "model_module_version": "2.0.0",
      "model_name": "LayoutModel",
      "state": {}
     },
     "3aa30f82bdf142bfb352b9deb5938631": {
      "model_module": "@jupyter-widgets/controls",
      "model_module_version": "2.0.0",
      "model_name": "HTMLStyleModel",
      "state": {
       "description_width": "",
       "font_size": null,
       "text_color": null
      }
     },
     "3ada1c636054491eb6bc9c1eceeff871": {
      "model_module": "@jupyter-widgets/controls",
      "model_module_version": "2.0.0",
      "model_name": "HTMLModel",
      "state": {
       "layout": "IPY_MODEL_d6618d2f3c004e408eaac9acebe2a75b",
       "style": "IPY_MODEL_6dd3235c28b54836984590cca92b01d0",
       "value": "Epoch 4/60:   2%"
      }
     },
     "3adbec7ad66348eeb2095697a1718274": {
      "model_module": "@jupyter-widgets/base",
      "model_module_version": "2.0.0",
      "model_name": "LayoutModel",
      "state": {}
     },
     "3aeefaf7216047eb979dd81bb6b76e13": {
      "model_module": "@jupyter-widgets/controls",
      "model_module_version": "2.0.0",
      "model_name": "ProgressStyleModel",
      "state": {
       "description_width": ""
      }
     },
     "3af8b93e560541e7be3cebae4729b3d0": {
      "model_module": "@jupyter-widgets/controls",
      "model_module_version": "2.0.0",
      "model_name": "HTMLStyleModel",
      "state": {
       "description_width": "",
       "font_size": null,
       "text_color": null
      }
     },
     "3afc15fd1d844a7bb8706c070960e453": {
      "model_module": "@jupyter-widgets/controls",
      "model_module_version": "2.0.0",
      "model_name": "HTMLStyleModel",
      "state": {
       "description_width": "",
       "font_size": null,
       "text_color": null
      }
     },
     "3b0a5044edfe4ce484ecfe06d27f6c6c": {
      "model_module": "@jupyter-widgets/controls",
      "model_module_version": "2.0.0",
      "model_name": "FloatProgressModel",
      "state": {
       "bar_style": "success",
       "layout": "IPY_MODEL_d553bdb12cae4c8e8b1e7d809c13fb7d",
       "max": 1,
       "style": "IPY_MODEL_bd66f29ff2e249128bf20f5362676f21",
       "value": 1
      }
     },
     "3bb55256384f4fab888c5ec79c474df4": {
      "model_module": "@jupyter-widgets/base",
      "model_module_version": "2.0.0",
      "model_name": "LayoutModel",
      "state": {}
     },
     "3bc14162b5014f2596d0a0b641c09a48": {
      "model_module": "@jupyter-widgets/base",
      "model_module_version": "2.0.0",
      "model_name": "LayoutModel",
      "state": {}
     },
     "3bc8267d2a2d463dbf593e3a4dd3224f": {
      "model_module": "@jupyter-widgets/base",
      "model_module_version": "2.0.0",
      "model_name": "LayoutModel",
      "state": {}
     },
     "3bd715f7e4cb434f8f5c6473d2554912": {
      "model_module": "@jupyter-widgets/controls",
      "model_module_version": "2.0.0",
      "model_name": "HTMLStyleModel",
      "state": {
       "description_width": "",
       "font_size": null,
       "text_color": null
      }
     },
     "3be0e0db6fc84314a95d00c8b4434b21": {
      "model_module": "@jupyter-widgets/base",
      "model_module_version": "2.0.0",
      "model_name": "LayoutModel",
      "state": {}
     },
     "3be79816485b4ebb901d1b40247593a4": {
      "model_module": "@jupyter-widgets/controls",
      "model_module_version": "2.0.0",
      "model_name": "HTMLStyleModel",
      "state": {
       "description_width": "",
       "font_size": null,
       "text_color": null
      }
     },
     "3bf22b9bd1b247ab9eb9883d88a4a430": {
      "model_module": "@jupyter-widgets/controls",
      "model_module_version": "2.0.0",
      "model_name": "ProgressStyleModel",
      "state": {
       "description_width": ""
      }
     },
     "3bfd270daa3342e094488a9a34160cb6": {
      "model_module": "@jupyter-widgets/controls",
      "model_module_version": "2.0.0",
      "model_name": "ProgressStyleModel",
      "state": {
       "description_width": ""
      }
     },
     "3c2d5d45124c467985f9ea7f2681ac65": {
      "model_module": "@jupyter-widgets/base",
      "model_module_version": "2.0.0",
      "model_name": "LayoutModel",
      "state": {}
     },
     "3c30dbbdaba34ff2aee78b2f789adcae": {
      "model_module": "@jupyter-widgets/controls",
      "model_module_version": "2.0.0",
      "model_name": "HTMLStyleModel",
      "state": {
       "description_width": "",
       "font_size": null,
       "text_color": null
      }
     },
     "3c4630df48de473b8c1b586fa3fa881e": {
      "model_module": "@jupyter-widgets/base",
      "model_module_version": "2.0.0",
      "model_name": "LayoutModel",
      "state": {}
     },
     "3c46a259f9264c7192e2070f1b8c4700": {
      "model_module": "@jupyter-widgets/base",
      "model_module_version": "2.0.0",
      "model_name": "LayoutModel",
      "state": {}
     },
     "3c6492b6a561465c864484b339af45af": {
      "model_module": "@jupyter-widgets/controls",
      "model_module_version": "2.0.0",
      "model_name": "HTMLStyleModel",
      "state": {
       "description_width": "",
       "font_size": null,
       "text_color": null
      }
     },
     "3c68536582334eaba440378778ec8fc5": {
      "model_module": "@jupyter-widgets/controls",
      "model_module_version": "2.0.0",
      "model_name": "HBoxModel",
      "state": {
       "children": [
        "IPY_MODEL_e52965d09eda422e9827b3ccb3a11226",
        "IPY_MODEL_0f5cd82e30534adea58549862ca58810",
        "IPY_MODEL_fcedb0723fe14944b8135bfdcc7296cd"
       ],
       "layout": "IPY_MODEL_82428660e68f494eafae47a31381b1ac"
      }
     },
     "3cb7f6ff9e1346668ef8dbc78f380a57": {
      "model_module": "@jupyter-widgets/controls",
      "model_module_version": "2.0.0",
      "model_name": "FloatProgressModel",
      "state": {
       "bar_style": "success",
       "layout": "IPY_MODEL_5dad6c6a9c474da2a2c2154a35db9381",
       "max": 500,
       "style": "IPY_MODEL_087d9695b42a42948b7425ee7cd3a1ca",
       "value": 500
      }
     },
     "3cbd2e0cde4d4bcea1ec981b65da283c": {
      "model_module": "@jupyter-widgets/controls",
      "model_module_version": "2.0.0",
      "model_name": "ProgressStyleModel",
      "state": {
       "description_width": ""
      }
     },
     "3d11a447026140319f8d86c06cc0a104": {
      "model_module": "@jupyter-widgets/controls",
      "model_module_version": "2.0.0",
      "model_name": "HBoxModel",
      "state": {
       "children": [
        "IPY_MODEL_73070a69252448ad8189fd472df0e801",
        "IPY_MODEL_b98b8baf343a44f98cf43b6a1123eb03",
        "IPY_MODEL_c0f7f7d70927484fbdcee0cd52a8a54b"
       ],
       "layout": "IPY_MODEL_acbae75ad52d409b9f79270d96be0db3"
      }
     },
     "3d5a5d42b87448e98c2de02a6027168f": {
      "model_module": "@jupyter-widgets/controls",
      "model_module_version": "2.0.0",
      "model_name": "HTMLStyleModel",
      "state": {
       "description_width": "",
       "font_size": null,
       "text_color": null
      }
     },
     "3db476ee05ff44bdaaafe0b2f5e7f05a": {
      "model_module": "@jupyter-widgets/controls",
      "model_module_version": "2.0.0",
      "model_name": "HTMLStyleModel",
      "state": {
       "description_width": "",
       "font_size": null,
       "text_color": null
      }
     },
     "3ddb85aa62a54c15a409c8b0af1fd33a": {
      "model_module": "@jupyter-widgets/controls",
      "model_module_version": "2.0.0",
      "model_name": "FloatProgressModel",
      "state": {
       "bar_style": "success",
       "layout": "IPY_MODEL_fb0aae80999b49b7adf71fc33ea4a4be",
       "max": 500,
       "style": "IPY_MODEL_06d664c7d6da4c9e9aed8eaa23bab411",
       "value": 500
      }
     },
     "3eaa85b3877c459693bc1ad29d93ca3d": {
      "model_module": "@jupyter-widgets/controls",
      "model_module_version": "2.0.0",
      "model_name": "FloatProgressModel",
      "state": {
       "bar_style": "success",
       "layout": "IPY_MODEL_983040d2cb8c4e4d81880dd4c11e9f38",
       "max": 1,
       "style": "IPY_MODEL_4341f11bc5d14e87af113e6982db79d7",
       "value": 1
      }
     },
     "3f6774423dcb4d5786c3446d6496f8ca": {
      "model_module": "@jupyter-widgets/controls",
      "model_module_version": "2.0.0",
      "model_name": "HBoxModel",
      "state": {
       "children": [
        "IPY_MODEL_6acfd55fe4f44fd5a2983adafb381d8b",
        "IPY_MODEL_8dfe1a1dd38a412db7921953b2db5866",
        "IPY_MODEL_b64b804cd7464749af513cbae08eca31"
       ],
       "layout": "IPY_MODEL_af9ad397a1ff4a458c07d55817cf12d5"
      }
     },
     "3f9f8b14fdc04e30b4994121782fb974": {
      "model_module": "@jupyter-widgets/base",
      "model_module_version": "2.0.0",
      "model_name": "LayoutModel",
      "state": {}
     },
     "3ffeba0c04f8488faa3b1a686a632116": {
      "model_module": "@jupyter-widgets/controls",
      "model_module_version": "2.0.0",
      "model_name": "ProgressStyleModel",
      "state": {
       "description_width": ""
      }
     },
     "4013ab0bb9404fddae12ee72c81e837b": {
      "model_module": "@jupyter-widgets/base",
      "model_module_version": "2.0.0",
      "model_name": "LayoutModel",
      "state": {}
     },
     "40202147af424b4b8badb8e1ec446c44": {
      "model_module": "@jupyter-widgets/base",
      "model_module_version": "2.0.0",
      "model_name": "LayoutModel",
      "state": {}
     },
     "406d8e8e274d4d9f90467b0eb8ab45a7": {
      "model_module": "@jupyter-widgets/base",
      "model_module_version": "2.0.0",
      "model_name": "LayoutModel",
      "state": {}
     },
     "407edb0600b149b689fd1b246c8c5a7e": {
      "model_module": "@jupyter-widgets/controls",
      "model_module_version": "2.0.0",
      "model_name": "HBoxModel",
      "state": {
       "children": [
        "IPY_MODEL_bd7a978ce6cb4eb9ba8c2dc2a37ec0bc",
        "IPY_MODEL_7173af254806470594054fd1ed8c42b5",
        "IPY_MODEL_b58d6e3a5be94ea198651d0e3dfbaa2e"
       ],
       "layout": "IPY_MODEL_5b74d59014ea4028b26acfc37880051c"
      }
     },
     "40a9479b7df54168b498ad3f29b4b3d1": {
      "model_module": "@jupyter-widgets/base",
      "model_module_version": "2.0.0",
      "model_name": "LayoutModel",
      "state": {}
     },
     "40b6a2c4536b48339a464ac792a1313a": {
      "model_module": "@jupyter-widgets/controls",
      "model_module_version": "2.0.0",
      "model_name": "HTMLModel",
      "state": {
       "layout": "IPY_MODEL_a73d29b916e846118a4166130e5d9f39",
       "style": "IPY_MODEL_3bd715f7e4cb434f8f5c6473d2554912",
       "value": "Epoch 51/60: 100%"
      }
     },
     "40ba4655691946c7843cc8b45f3ee6df": {
      "model_module": "@jupyter-widgets/base",
      "model_module_version": "2.0.0",
      "model_name": "LayoutModel",
      "state": {}
     },
     "4146e317a6854da4af8e4650dd6aed5d": {
      "model_module": "@jupyter-widgets/controls",
      "model_module_version": "2.0.0",
      "model_name": "HBoxModel",
      "state": {
       "children": [
        "IPY_MODEL_ba37ea40101b42109c4a1e504681409d",
        "IPY_MODEL_009021ab31d24e439030ff883ae929d9",
        "IPY_MODEL_c55342fa85bf4169854a74bcc3ce1bbb"
       ],
       "layout": "IPY_MODEL_4b70d6305ce94bec9328f0cc43ff0376"
      }
     },
     "4150e59835114e99a83e37ffa4665449": {
      "model_module": "@jupyter-widgets/base",
      "model_module_version": "2.0.0",
      "model_name": "LayoutModel",
      "state": {}
     },
     "4159cbec588442ca9608a6bb5a8550cb": {
      "model_module": "@jupyter-widgets/controls",
      "model_module_version": "2.0.0",
      "model_name": "ProgressStyleModel",
      "state": {
       "description_width": ""
      }
     },
     "415e3e0a7a72468c93b0fec686f1cfb3": {
      "model_module": "@jupyter-widgets/controls",
      "model_module_version": "2.0.0",
      "model_name": "HTMLModel",
      "state": {
       "layout": "IPY_MODEL_b29c08afc3d241689d8bb121678489ef",
       "style": "IPY_MODEL_9a69a632fdc54e5e9e947270c2047935",
       "value": " 1/1 [00:02&lt;00:00,  2.70s/it, loss=0.0899]"
      }
     },
     "415ea38d6bfe47938b823a5614b457bc": {
      "model_module": "@jupyter-widgets/controls",
      "model_module_version": "2.0.0",
      "model_name": "HTMLModel",
      "state": {
       "layout": "IPY_MODEL_e6092565300f4457b6a837587bfb663a",
       "style": "IPY_MODEL_2e5fab6ff1434238ab7a3eac3518b359",
       "value": " 1/1 [00:02&lt;00:00,  2.71s/it, loss=0.0058]"
      }
     },
     "4168b844218d4ffb8facb39f0ee9d002": {
      "model_module": "@jupyter-widgets/controls",
      "model_module_version": "2.0.0",
      "model_name": "FloatProgressModel",
      "state": {
       "bar_style": "success",
       "layout": "IPY_MODEL_46d948db3b6d4ff7848baaf186b3851d",
       "max": 500,
       "style": "IPY_MODEL_39a9442d428d4342acaa5efea7382b99",
       "value": 500
      }
     },
     "4192f36596394719a4be251386bf7017": {
      "model_module": "@jupyter-widgets/base",
      "model_module_version": "2.0.0",
      "model_name": "LayoutModel",
      "state": {}
     },
     "41b774ed2f82415caa30fc2b1393c6d4": {
      "model_module": "@jupyter-widgets/base",
      "model_module_version": "2.0.0",
      "model_name": "LayoutModel",
      "state": {}
     },
     "422deedea0f14c22969b998809ae863a": {
      "model_module": "@jupyter-widgets/controls",
      "model_module_version": "2.0.0",
      "model_name": "HTMLModel",
      "state": {
       "layout": "IPY_MODEL_59e72221e3994ff1a21c168663bad0c9",
       "style": "IPY_MODEL_d5cf7fba08304471ba5c922f6374cd7c",
       "value": "Epoch 38/60: 100%"
      }
     },
     "430351228a094541beed843e91fd9edc": {
      "model_module": "@jupyter-widgets/base",
      "model_module_version": "2.0.0",
      "model_name": "LayoutModel",
      "state": {}
     },
     "430c887696564e1ab9c7098aba04a1ac": {
      "model_module": "@jupyter-widgets/base",
      "model_module_version": "2.0.0",
      "model_name": "LayoutModel",
      "state": {}
     },
     "4335b332c8c948319c3d2cb5cbd881e9": {
      "model_module": "@jupyter-widgets/controls",
      "model_module_version": "2.0.0",
      "model_name": "FloatProgressModel",
      "state": {
       "bar_style": "success",
       "layout": "IPY_MODEL_d0c4d556d6db43a5bdf5934974c43759",
       "max": 1,
       "style": "IPY_MODEL_8d086f66c8d84c318337777f421f0489",
       "value": 1
      }
     },
     "4341f11bc5d14e87af113e6982db79d7": {
      "model_module": "@jupyter-widgets/controls",
      "model_module_version": "2.0.0",
      "model_name": "ProgressStyleModel",
      "state": {
       "description_width": ""
      }
     },
     "4350ffe522214779b40c0e9107f498fb": {
      "model_module": "@jupyter-widgets/controls",
      "model_module_version": "2.0.0",
      "model_name": "HTMLModel",
      "state": {
       "layout": "IPY_MODEL_87afa191bbc24c2fad747e0f8ca05a56",
       "style": "IPY_MODEL_079c1ffe664f4bc3a0ee48b67214e982",
       "value": " 1/1 [00:02&lt;00:00,  2.70s/it, loss=1.97e+30]"
      }
     },
     "4369b719948548548f0a7a99fce1aaac": {
      "model_module": "@jupyter-widgets/base",
      "model_module_version": "2.0.0",
      "model_name": "LayoutModel",
      "state": {}
     },
     "43a7fa50081a4166b4797f6cab2f1340": {
      "model_module": "@jupyter-widgets/base",
      "model_module_version": "2.0.0",
      "model_name": "LayoutModel",
      "state": {}
     },
     "43b71e46fab2475d8149db9c77246160": {
      "model_module": "@jupyter-widgets/controls",
      "model_module_version": "2.0.0",
      "model_name": "HTMLModel",
      "state": {
       "layout": "IPY_MODEL_682718516ec64b0baed3ba9e19bf08d0",
       "style": "IPY_MODEL_f89fb551b5f94cc4a49f8b8caf4c4410",
       "value": "Epoch 20/60: 100%"
      }
     },
     "43e328c0664547779c703c2eba13b32e": {
      "model_module": "@jupyter-widgets/base",
      "model_module_version": "2.0.0",
      "model_name": "LayoutModel",
      "state": {}
     },
     "43fc5af59daf492fb3fa6ea32c48d548": {
      "model_module": "@jupyter-widgets/base",
      "model_module_version": "2.0.0",
      "model_name": "LayoutModel",
      "state": {}
     },
     "44214c8923cc43cba8189bc316932d83": {
      "model_module": "@jupyter-widgets/controls",
      "model_module_version": "2.0.0",
      "model_name": "FloatProgressModel",
      "state": {
       "bar_style": "success",
       "layout": "IPY_MODEL_4b31a7b650de42e1b533df7b805260f1",
       "max": 500,
       "style": "IPY_MODEL_63e8b2669c284bb180b5ebde9d5c39b9",
       "value": 500
      }
     },
     "4432b5ca2907455d97a846c88179467a": {
      "model_module": "@jupyter-widgets/controls",
      "model_module_version": "2.0.0",
      "model_name": "HTMLModel",
      "state": {
       "layout": "IPY_MODEL_5ff2a9df1da54d97af50a772f9e090b2",
       "style": "IPY_MODEL_01d3fd45cd3641e4a4d71c3f0f6784db",
       "value": " 500/500 [00:08&lt;00:00, 55.79it/s]"
      }
     },
     "444267b20f6e4f688e7b82352dea239d": {
      "model_module": "@jupyter-widgets/base",
      "model_module_version": "2.0.0",
      "model_name": "LayoutModel",
      "state": {}
     },
     "44426f1e201a425aac244a1ccfa1562b": {
      "model_module": "@jupyter-widgets/controls",
      "model_module_version": "2.0.0",
      "model_name": "HTMLStyleModel",
      "state": {
       "description_width": "",
       "font_size": null,
       "text_color": null
      }
     },
     "4456f2bfb8e846f8ab9409b3d45af5d3": {
      "model_module": "@jupyter-widgets/base",
      "model_module_version": "2.0.0",
      "model_name": "LayoutModel",
      "state": {}
     },
     "447ac243a5ae4b94998bd11ae5e6c05e": {
      "model_module": "@jupyter-widgets/base",
      "model_module_version": "2.0.0",
      "model_name": "LayoutModel",
      "state": {}
     },
     "4487d159717240479ee83b0305b06aa6": {
      "model_module": "@jupyter-widgets/controls",
      "model_module_version": "2.0.0",
      "model_name": "HTMLStyleModel",
      "state": {
       "description_width": "",
       "font_size": null,
       "text_color": null
      }
     },
     "44da1581938f4f0e96d16bd5be471cf6": {
      "model_module": "@jupyter-widgets/controls",
      "model_module_version": "2.0.0",
      "model_name": "HTMLStyleModel",
      "state": {
       "description_width": "",
       "font_size": null,
       "text_color": null
      }
     },
     "44f95c198e3e474d9cd27fa920cb2811": {
      "model_module": "@jupyter-widgets/controls",
      "model_module_version": "2.0.0",
      "model_name": "HTMLStyleModel",
      "state": {
       "description_width": "",
       "font_size": null,
       "text_color": null
      }
     },
     "45167c76bc2e47b99399ca2e0f5cd82c": {
      "model_module": "@jupyter-widgets/controls",
      "model_module_version": "2.0.0",
      "model_name": "HTMLModel",
      "state": {
       "layout": "IPY_MODEL_01161b8c79c9426e8352c733b6ac79f9",
       "style": "IPY_MODEL_8a0bf4976e164aa98b26d668028513b3",
       "value": " 500/500 [00:18&lt;00:00, 26.60it/s, loss=0.00195]"
      }
     },
     "4537332647d64c04af7e932a400b42a9": {
      "model_module": "@jupyter-widgets/controls",
      "model_module_version": "2.0.0",
      "model_name": "ProgressStyleModel",
      "state": {
       "description_width": ""
      }
     },
     "453ff9ce1984437a8e8365eab833ca28": {
      "model_module": "@jupyter-widgets/base",
      "model_module_version": "2.0.0",
      "model_name": "LayoutModel",
      "state": {}
     },
     "4578771dfac942479eb862b6f234a96c": {
      "model_module": "@jupyter-widgets/controls",
      "model_module_version": "2.0.0",
      "model_name": "HBoxModel",
      "state": {
       "children": [
        "IPY_MODEL_b7043fa785c44fb2a44c8b354c6dde85",
        "IPY_MODEL_5c9704ec024c4115af547c696f43bdd5",
        "IPY_MODEL_73c1d4656c444dd386d24b844eef21f9"
       ],
       "layout": "IPY_MODEL_b97d323121b647adaf5038324fbd5c39"
      }
     },
     "45a02f9bbf37421596be877b825d6d8e": {
      "model_module": "@jupyter-widgets/controls",
      "model_module_version": "2.0.0",
      "model_name": "FloatProgressModel",
      "state": {
       "bar_style": "success",
       "layout": "IPY_MODEL_b95a9db4123641f4b6744cfa56e002af",
       "max": 500,
       "style": "IPY_MODEL_8901ba01731e472f8c50b577ffa1e67c",
       "value": 500
      }
     },
     "45ccdefbe14b4071888c38c42faed235": {
      "model_module": "@jupyter-widgets/controls",
      "model_module_version": "2.0.0",
      "model_name": "HBoxModel",
      "state": {
       "children": [
        "IPY_MODEL_49e52d88c00749cb9c61049bf0170415",
        "IPY_MODEL_2f1223dfb6604b1ebced007974e664af",
        "IPY_MODEL_7c71aa031952437386522a90519f2f4d"
       ],
       "layout": "IPY_MODEL_dc79bcf3a9b24c65af2207cff560ebe3"
      }
     },
     "45d02aa159384d88abf2a681222d5972": {
      "model_module": "@jupyter-widgets/controls",
      "model_module_version": "2.0.0",
      "model_name": "HTMLStyleModel",
      "state": {
       "description_width": "",
       "font_size": null,
       "text_color": null
      }
     },
     "45ebc0f90b6d4628a5150acad9982ea1": {
      "model_module": "@jupyter-widgets/base",
      "model_module_version": "2.0.0",
      "model_name": "LayoutModel",
      "state": {}
     },
     "45f255c8ee604679ac76bfab29eaaed6": {
      "model_module": "@jupyter-widgets/base",
      "model_module_version": "2.0.0",
      "model_name": "LayoutModel",
      "state": {}
     },
     "4628e6e058b34c20b37d5d533ed95c71": {
      "model_module": "@jupyter-widgets/controls",
      "model_module_version": "2.0.0",
      "model_name": "HTMLStyleModel",
      "state": {
       "description_width": "",
       "font_size": null,
       "text_color": null
      }
     },
     "464c8c6944424db0a7f4bcb91d0fd2c2": {
      "model_module": "@jupyter-widgets/base",
      "model_module_version": "2.0.0",
      "model_name": "LayoutModel",
      "state": {}
     },
     "468a79381dfc4b4bab2c27015fcd721d": {
      "model_module": "@jupyter-widgets/controls",
      "model_module_version": "2.0.0",
      "model_name": "HTMLStyleModel",
      "state": {
       "description_width": "",
       "font_size": null,
       "text_color": null
      }
     },
     "4698f08a96304df5ba04912b89ab10f6": {
      "model_module": "@jupyter-widgets/base",
      "model_module_version": "2.0.0",
      "model_name": "LayoutModel",
      "state": {}
     },
     "46d948db3b6d4ff7848baaf186b3851d": {
      "model_module": "@jupyter-widgets/base",
      "model_module_version": "2.0.0",
      "model_name": "LayoutModel",
      "state": {}
     },
     "46ee31d059ea4351b87f85997ba6717d": {
      "model_module": "@jupyter-widgets/base",
      "model_module_version": "2.0.0",
      "model_name": "LayoutModel",
      "state": {}
     },
     "46efd50abb50427d9e44f4efd09a5732": {
      "model_module": "@jupyter-widgets/controls",
      "model_module_version": "2.0.0",
      "model_name": "FloatProgressModel",
      "state": {
       "bar_style": "success",
       "layout": "IPY_MODEL_75e06e84f0ee445483d9e605d5bf0acc",
       "max": 1,
       "style": "IPY_MODEL_b6796cf4d4fc48dbbf21aca7f62ef718",
       "value": 1
      }
     },
     "470c22e1fe7048be88d685a9e8685bb0": {
      "model_module": "@jupyter-widgets/base",
      "model_module_version": "2.0.0",
      "model_name": "LayoutModel",
      "state": {}
     },
     "4722c0727db74d0893fc2841cb8ae842": {
      "model_module": "@jupyter-widgets/controls",
      "model_module_version": "2.0.0",
      "model_name": "FloatProgressModel",
      "state": {
       "bar_style": "success",
       "layout": "IPY_MODEL_3be0e0db6fc84314a95d00c8b4434b21",
       "max": 500,
       "style": "IPY_MODEL_277eb66a3955470a9b42f4f1eb07218e",
       "value": 500
      }
     },
     "4729bf0372b64df9bca517edf5bcc030": {
      "model_module": "@jupyter-widgets/controls",
      "model_module_version": "2.0.0",
      "model_name": "FloatProgressModel",
      "state": {
       "bar_style": "success",
       "layout": "IPY_MODEL_278cd4f5cebe469c80d49474804c3474",
       "max": 1,
       "style": "IPY_MODEL_058be5471af74531a9c59fc01c8671da",
       "value": 1
      }
     },
     "4764ae7f78ab45ffbdd6716e7249477a": {
      "model_module": "@jupyter-widgets/base",
      "model_module_version": "2.0.0",
      "model_name": "LayoutModel",
      "state": {}
     },
     "4789b06e997946208b730644fe92d0fc": {
      "model_module": "@jupyter-widgets/controls",
      "model_module_version": "2.0.0",
      "model_name": "HBoxModel",
      "state": {
       "children": [
        "IPY_MODEL_bb66d284c26d43a282eb3e44c8a2f247",
        "IPY_MODEL_a74235d74e894e05aba425f70fdde13f",
        "IPY_MODEL_b133144f77df4e868dd05bec9712b198"
       ],
       "layout": "IPY_MODEL_cb57ba3c716744519ea927a1e204a09e"
      }
     },
     "47d51071cc26475db28106f94d97e3eb": {
      "model_module": "@jupyter-widgets/controls",
      "model_module_version": "2.0.0",
      "model_name": "HTMLStyleModel",
      "state": {
       "description_width": "",
       "font_size": null,
       "text_color": null
      }
     },
     "47e36b0ef1a447cbae668963967458de": {
      "model_module": "@jupyter-widgets/controls",
      "model_module_version": "2.0.0",
      "model_name": "HTMLStyleModel",
      "state": {
       "description_width": "",
       "font_size": null,
       "text_color": null
      }
     },
     "4810ab7530e14890878980befb06d8d9": {
      "model_module": "@jupyter-widgets/base",
      "model_module_version": "2.0.0",
      "model_name": "LayoutModel",
      "state": {}
     },
     "4855e3af533a453fa0993407ac086d05": {
      "model_module": "@jupyter-widgets/controls",
      "model_module_version": "2.0.0",
      "model_name": "HTMLStyleModel",
      "state": {
       "description_width": "",
       "font_size": null,
       "text_color": null
      }
     },
     "48aa2fa1e1644e13a91ae38fbe11d092": {
      "model_module": "@jupyter-widgets/base",
      "model_module_version": "2.0.0",
      "model_name": "LayoutModel",
      "state": {}
     },
     "48d1c6b4129f44cbbfbe23715f336b21": {
      "model_module": "@jupyter-widgets/controls",
      "model_module_version": "2.0.0",
      "model_name": "HTMLStyleModel",
      "state": {
       "description_width": "",
       "font_size": null,
       "text_color": null
      }
     },
     "48e722b4c16a429284e60912087a1ce2": {
      "model_module": "@jupyter-widgets/base",
      "model_module_version": "2.0.0",
      "model_name": "LayoutModel",
      "state": {}
     },
     "49088ef0847a454bba13d1726c4bab8c": {
      "model_module": "@jupyter-widgets/controls",
      "model_module_version": "2.0.0",
      "model_name": "FloatProgressModel",
      "state": {
       "bar_style": "success",
       "layout": "IPY_MODEL_1d3a177b25fc470c8a9be5f450a6dbee",
       "max": 500,
       "style": "IPY_MODEL_f9e0ecb4795d4048a3d8a872d79bbe98",
       "value": 500
      }
     },
     "493712613cb144b687955cb3c0c2f2bc": {
      "model_module": "@jupyter-widgets/controls",
      "model_module_version": "2.0.0",
      "model_name": "HTMLModel",
      "state": {
       "layout": "IPY_MODEL_5fdd62884a3e4cc0b8a6278ab2ca8fbf",
       "style": "IPY_MODEL_b61ca312e61b44afa426d34a88a4612b",
       "value": "Epoch 30/60: 100%"
      }
     },
     "49384856edf4408f865472a41156284d": {
      "model_module": "@jupyter-widgets/controls",
      "model_module_version": "2.0.0",
      "model_name": "HTMLModel",
      "state": {
       "layout": "IPY_MODEL_9fedbafec72244f39958bf26976b124b",
       "style": "IPY_MODEL_4855e3af533a453fa0993407ac086d05",
       "value": " 1/1 [00:00&lt;00:00,  7.24it/s]"
      }
     },
     "494293a264ab474b912e274a782ceb0b": {
      "model_module": "@jupyter-widgets/base",
      "model_module_version": "2.0.0",
      "model_name": "LayoutModel",
      "state": {}
     },
     "494ce93458bb4171a6a37a456747785e": {
      "model_module": "@jupyter-widgets/controls",
      "model_module_version": "2.0.0",
      "model_name": "FloatProgressModel",
      "state": {
       "bar_style": "success",
       "layout": "IPY_MODEL_577e11a655f34af8879dc1761f489d84",
       "max": 500,
       "style": "IPY_MODEL_699fa6dbe526465d972f295d7a4d4829",
       "value": 500
      }
     },
     "4951c914e4464f0abedda7fdd1536666": {
      "model_module": "@jupyter-widgets/controls",
      "model_module_version": "2.0.0",
      "model_name": "HTMLStyleModel",
      "state": {
       "description_width": "",
       "font_size": null,
       "text_color": null
      }
     },
     "49a0c1cad9384f1ebe9f842d839c368c": {
      "model_module": "@jupyter-widgets/base",
      "model_module_version": "2.0.0",
      "model_name": "LayoutModel",
      "state": {}
     },
     "49a22fde9fe246178aa1eaab90053e1c": {
      "model_module": "@jupyter-widgets/controls",
      "model_module_version": "2.0.0",
      "model_name": "FloatProgressModel",
      "state": {
       "bar_style": "success",
       "layout": "IPY_MODEL_cc857c1325ba4d1c830915fc60e89a7a",
       "max": 500,
       "style": "IPY_MODEL_819eab186f654330aa3796f2004ff9fa",
       "value": 500
      }
     },
     "49a73e29c963475a854bde4e8d379a6f": {
      "model_module": "@jupyter-widgets/controls",
      "model_module_version": "2.0.0",
      "model_name": "HTMLStyleModel",
      "state": {
       "description_width": "",
       "font_size": null,
       "text_color": null
      }
     },
     "49af531a6f894506ba43f8d0e3b989c0": {
      "model_module": "@jupyter-widgets/controls",
      "model_module_version": "2.0.0",
      "model_name": "HTMLStyleModel",
      "state": {
       "description_width": "",
       "font_size": null,
       "text_color": null
      }
     },
     "49b25016dcff4b68861d4953643593d5": {
      "model_module": "@jupyter-widgets/controls",
      "model_module_version": "2.0.0",
      "model_name": "HBoxModel",
      "state": {
       "children": [
        "IPY_MODEL_d2c272bdb4384cec8a4a3d87110ef0df",
        "IPY_MODEL_71120b4c6c4a44958c561acbca38dbef",
        "IPY_MODEL_57177c5bbe5744d9b7dfbf24dfff4e42"
       ],
       "layout": "IPY_MODEL_9bb3248dcf944477b13b24545dedb69b"
      }
     },
     "49d5e6d115f141cbae3cf91d50e6b7fe": {
      "model_module": "@jupyter-widgets/base",
      "model_module_version": "2.0.0",
      "model_name": "LayoutModel",
      "state": {}
     },
     "49dd4df587ae4e919f50690ca7b601b3": {
      "model_module": "@jupyter-widgets/controls",
      "model_module_version": "2.0.0",
      "model_name": "HTMLModel",
      "state": {
       "layout": "IPY_MODEL_3adbec7ad66348eeb2095697a1718274",
       "style": "IPY_MODEL_54be758d8d3f4408a9604f0284fee982",
       "value": "Epoch 24/60: 100%"
      }
     },
     "49e52d88c00749cb9c61049bf0170415": {
      "model_module": "@jupyter-widgets/controls",
      "model_module_version": "2.0.0",
      "model_name": "HTMLModel",
      "state": {
       "layout": "IPY_MODEL_f6f1ffeff1c74273b3bfb6563b2a11f7",
       "style": "IPY_MODEL_50cba706fc264a55afa1bf21c9e5b403",
       "value": "PowerIter L 5/5: 100%"
      }
     },
     "49f80d3fb0f140b280abf4af933f755d": {
      "model_module": "@jupyter-widgets/controls",
      "model_module_version": "2.0.0",
      "model_name": "HBoxModel",
      "state": {
       "children": [
        "IPY_MODEL_c1c6c9e74fcc426da194eed5f3b5e176",
        "IPY_MODEL_8c1473f4240d42c7a89852e8aeed59ca",
        "IPY_MODEL_facf19dda6ac4f44998c752393f065bf"
       ],
       "layout": "IPY_MODEL_95613d8418114f8584f08617b036fdac"
      }
     },
     "4a0616aeba3b4be08613047e21107674": {
      "model_module": "@jupyter-widgets/base",
      "model_module_version": "2.0.0",
      "model_name": "LayoutModel",
      "state": {}
     },
     "4a39de3d029a4a0ba4b9fafb19a870d5": {
      "model_module": "@jupyter-widgets/base",
      "model_module_version": "2.0.0",
      "model_name": "LayoutModel",
      "state": {}
     },
     "4a8a8e829eef4d67af4fc0d12f531ece": {
      "model_module": "@jupyter-widgets/controls",
      "model_module_version": "2.0.0",
      "model_name": "HTMLModel",
      "state": {
       "layout": "IPY_MODEL_1cdfd0342107421aab989264b4c6116b",
       "style": "IPY_MODEL_6f599d8774894d11afd563082dee141f",
       "value": " 500/500 [00:02&lt;00:00, 216.10it/s, max_eig=1.10E+03]"
      }
     },
     "4a8b69b0f25c44e587e6b3c314ea243f": {
      "model_module": "@jupyter-widgets/controls",
      "model_module_version": "2.0.0",
      "model_name": "HTMLModel",
      "state": {
       "layout": "IPY_MODEL_a5fd9b2d558d4a51964d4cb3b819ac1b",
       "style": "IPY_MODEL_1f929d63019349d18ce312ccd843b703",
       "value": "Epoch 34/60: 100%"
      }
     },
     "4aa22641a62b40159b42925f50adbf3d": {
      "model_module": "@jupyter-widgets/controls",
      "model_module_version": "2.0.0",
      "model_name": "HTMLModel",
      "state": {
       "layout": "IPY_MODEL_797cb4395091495687904056765ba5f2",
       "style": "IPY_MODEL_be78cbd2be0d444f8c17abb293a214c8",
       "value": " 1/1 [00:01&lt;00:00,  1.16s/it]"
      }
     },
     "4ac1847bed564c0a83065826ca900b8b": {
      "model_module": "@jupyter-widgets/controls",
      "model_module_version": "2.0.0",
      "model_name": "HBoxModel",
      "state": {
       "children": [
        "IPY_MODEL_d2ab2fafb4314871a48a6659e1a2d0eb",
        "IPY_MODEL_4c6a8211eb6844219173dc0f078b3481",
        "IPY_MODEL_a43b9b18de024fbd893bec85569f2b43"
       ],
       "layout": "IPY_MODEL_e50fc2954acf47d8ac79f552dc8e161c"
      }
     },
     "4ac76b60bfda4263a51295cfd95fd744": {
      "model_module": "@jupyter-widgets/controls",
      "model_module_version": "2.0.0",
      "model_name": "HTMLStyleModel",
      "state": {
       "description_width": "",
       "font_size": null,
       "text_color": null
      }
     },
     "4b0c0ab90c61402a85cd6258959858e5": {
      "model_module": "@jupyter-widgets/base",
      "model_module_version": "2.0.0",
      "model_name": "LayoutModel",
      "state": {}
     },
     "4b31a7b650de42e1b533df7b805260f1": {
      "model_module": "@jupyter-widgets/base",
      "model_module_version": "2.0.0",
      "model_name": "LayoutModel",
      "state": {}
     },
     "4b70d6305ce94bec9328f0cc43ff0376": {
      "model_module": "@jupyter-widgets/base",
      "model_module_version": "2.0.0",
      "model_name": "LayoutModel",
      "state": {}
     },
     "4baa3056a5d74fa5a54c27dbd2ccf16b": {
      "model_module": "@jupyter-widgets/controls",
      "model_module_version": "2.0.0",
      "model_name": "ProgressStyleModel",
      "state": {
       "description_width": ""
      }
     },
     "4bf403c613f941c185e4f184de154fbb": {
      "model_module": "@jupyter-widgets/controls",
      "model_module_version": "2.0.0",
      "model_name": "FloatProgressModel",
      "state": {
       "bar_style": "success",
       "layout": "IPY_MODEL_f4ba66f5edaf4b8db46af8d7472dacfd",
       "max": 1,
       "style": "IPY_MODEL_4537332647d64c04af7e932a400b42a9",
       "value": 1
      }
     },
     "4c1c999617054dc3a510778743e41da6": {
      "model_module": "@jupyter-widgets/base",
      "model_module_version": "2.0.0",
      "model_name": "LayoutModel",
      "state": {}
     },
     "4c320ff5bfa743d4a87c8bfa929eed93": {
      "model_module": "@jupyter-widgets/controls",
      "model_module_version": "2.0.0",
      "model_name": "FloatProgressModel",
      "state": {
       "bar_style": "success",
       "layout": "IPY_MODEL_430351228a094541beed843e91fd9edc",
       "max": 1,
       "style": "IPY_MODEL_b404ce3d44bb4e7fa8c7cf108dd91555",
       "value": 1
      }
     },
     "4c38019511384628871a006fef3432d0": {
      "model_module": "@jupyter-widgets/controls",
      "model_module_version": "2.0.0",
      "model_name": "HTMLModel",
      "state": {
       "layout": "IPY_MODEL_19d9c36512dc4fd39df17fcfb8005114",
       "style": "IPY_MODEL_f9967fc23c1c48ca9ab3773bb9e04aea",
       "value": " 1/1 [00:02&lt;00:00,  2.71s/it, loss=0.0101]"
      }
     },
     "4c5b3f7aa3e64aa6971995fa378db8c1": {
      "model_module": "@jupyter-widgets/controls",
      "model_module_version": "2.0.0",
      "model_name": "HBoxModel",
      "state": {
       "children": [
        "IPY_MODEL_eac54208018d42a6a77a61bcd39fdf25",
        "IPY_MODEL_e4c0269805a1458c96f2a37dbe312e1d",
        "IPY_MODEL_b120c41ce74647a6a32e0c67df75d953"
       ],
       "layout": "IPY_MODEL_a0feb88a18ce451093958efc7bf0b730"
      }
     },
     "4c6a5dde56a246a58fc83405b27dc660": {
      "model_module": "@jupyter-widgets/base",
      "model_module_version": "2.0.0",
      "model_name": "LayoutModel",
      "state": {}
     },
     "4c6a8211eb6844219173dc0f078b3481": {
      "model_module": "@jupyter-widgets/controls",
      "model_module_version": "2.0.0",
      "model_name": "FloatProgressModel",
      "state": {
       "bar_style": "success",
       "layout": "IPY_MODEL_f2286f051c7d4a2c853b3418ab33ee85",
       "max": 500,
       "style": "IPY_MODEL_3cbd2e0cde4d4bcea1ec981b65da283c",
       "value": 500
      }
     },
     "4cc963c6f8f4420e80f49936dc3874a5": {
      "model_module": "@jupyter-widgets/controls",
      "model_module_version": "2.0.0",
      "model_name": "ProgressStyleModel",
      "state": {
       "description_width": ""
      }
     },
     "4cf5fc60388b4ad09cdcb65add360078": {
      "model_module": "@jupyter-widgets/controls",
      "model_module_version": "2.0.0",
      "model_name": "HBoxModel",
      "state": {
       "children": [
        "IPY_MODEL_1176b9ba281a4543b6cebb9cb6848d6c",
        "IPY_MODEL_c90176a8d5524ec68e1ddc4072201a62",
        "IPY_MODEL_b7befab6208f4bddb107af1e77774295"
       ],
       "layout": "IPY_MODEL_98774a156d594bd59f5c70b626f3dd68"
      }
     },
     "4cf7f839b9eb4e8bbb1fb89616657932": {
      "model_module": "@jupyter-widgets/base",
      "model_module_version": "2.0.0",
      "model_name": "LayoutModel",
      "state": {}
     },
     "4d3f2f20d40246ca93a89f2e71206264": {
      "model_module": "@jupyter-widgets/controls",
      "model_module_version": "2.0.0",
      "model_name": "ProgressStyleModel",
      "state": {
       "description_width": ""
      }
     },
     "4d6528afd697428dabfbbfe8e2a758cb": {
      "model_module": "@jupyter-widgets/base",
      "model_module_version": "2.0.0",
      "model_name": "LayoutModel",
      "state": {}
     },
     "4d9c176f76a04ed98f012ef65257d043": {
      "model_module": "@jupyter-widgets/controls",
      "model_module_version": "2.0.0",
      "model_name": "HTMLModel",
      "state": {
       "layout": "IPY_MODEL_04251198b80d4a868d756fbeffc44d74",
       "style": "IPY_MODEL_3db476ee05ff44bdaaafe0b2f5e7f05a",
       "value": " 1/1 [00:02&lt;00:00,  2.71s/it, loss=0.00606]"
      }
     },
     "4dbfffd147f5475daf38e57050bc25ac": {
      "model_module": "@jupyter-widgets/controls",
      "model_module_version": "2.0.0",
      "model_name": "HTMLModel",
      "state": {
       "layout": "IPY_MODEL_e9dd38c5498640d89053e7ee52034afa",
       "style": "IPY_MODEL_971403280aea4b75954838c7fa80eae8",
       "value": " 500/500 [00:18&lt;00:00, 27.17it/s, loss=0.00191]"
      }
     },
     "4dff948e6e244ad185572e17fdd854d8": {
      "model_module": "@jupyter-widgets/controls",
      "model_module_version": "2.0.0",
      "model_name": "HBoxModel",
      "state": {
       "children": [
        "IPY_MODEL_d372da035f59437f89d77311b5b92e48",
        "IPY_MODEL_4722c0727db74d0893fc2841cb8ae842",
        "IPY_MODEL_97e15423a1f848279295148269210c46"
       ],
       "layout": "IPY_MODEL_7f07b117da8d4b569c970c023059e3f5"
      }
     },
     "4e06f512424444e0acf7b3238f478720": {
      "model_module": "@jupyter-widgets/controls",
      "model_module_version": "2.0.0",
      "model_name": "HTMLStyleModel",
      "state": {
       "description_width": "",
       "font_size": null,
       "text_color": null
      }
     },
     "4e145593730c41a98ecbfe8c21b309ee": {
      "model_module": "@jupyter-widgets/base",
      "model_module_version": "2.0.0",
      "model_name": "LayoutModel",
      "state": {}
     },
     "4e4ac642fc784b95a6a769977e665374": {
      "model_module": "@jupyter-widgets/controls",
      "model_module_version": "2.0.0",
      "model_name": "ProgressStyleModel",
      "state": {
       "description_width": ""
      }
     },
     "4e5144a201ca4dc18db4d1b5b1432ffd": {
      "model_module": "@jupyter-widgets/controls",
      "model_module_version": "2.0.0",
      "model_name": "HTMLModel",
      "state": {
       "layout": "IPY_MODEL_7948cf5a38ae478e9c31838efc76895f",
       "style": "IPY_MODEL_e840c0955ce449b397f27cf6550dca1a",
       "value": " 500/500 [00:18&lt;00:00, 27.45it/s, loss=0.00191]"
      }
     },
     "4e5c7522da9747beb2e57692e666f390": {
      "model_module": "@jupyter-widgets/base",
      "model_module_version": "2.0.0",
      "model_name": "LayoutModel",
      "state": {}
     },
     "4e67b1a0ea81410b969eba71ef489696": {
      "model_module": "@jupyter-widgets/base",
      "model_module_version": "2.0.0",
      "model_name": "LayoutModel",
      "state": {}
     },
     "4ee41c4879b84f0bb8d53ee3b9634cbb": {
      "model_module": "@jupyter-widgets/controls",
      "model_module_version": "2.0.0",
      "model_name": "HBoxModel",
      "state": {
       "children": [
        "IPY_MODEL_58dd2e6d782d489d99b5637c217b708d",
        "IPY_MODEL_bde148d14c704fdcb7bd9baa574e94a5",
        "IPY_MODEL_fdd3cb9738c54e78912f2ea28a6266bf"
       ],
       "layout": "IPY_MODEL_7d518ec8f4784faea1507a9f010b1635"
      }
     },
     "4efd3d5c7f42490888c732c0099dcaff": {
      "model_module": "@jupyter-widgets/base",
      "model_module_version": "2.0.0",
      "model_name": "LayoutModel",
      "state": {}
     },
     "4f2c20b8a6084270b6b7b31894454e28": {
      "model_module": "@jupyter-widgets/controls",
      "model_module_version": "2.0.0",
      "model_name": "HTMLStyleModel",
      "state": {
       "description_width": "",
       "font_size": null,
       "text_color": null
      }
     },
     "4f6e141c95d043f684338c44ce594a87": {
      "model_module": "@jupyter-widgets/controls",
      "model_module_version": "2.0.0",
      "model_name": "FloatProgressModel",
      "state": {
       "bar_style": "success",
       "layout": "IPY_MODEL_2abc53f50280446ea490572334e61cf8",
       "max": 1,
       "style": "IPY_MODEL_2c685e3c264d42998b45edbab15e3554",
       "value": 1
      }
     },
     "4f8df09810e3406b94dc0a01f925005c": {
      "model_module": "@jupyter-widgets/controls",
      "model_module_version": "2.0.0",
      "model_name": "HTMLStyleModel",
      "state": {
       "description_width": "",
       "font_size": null,
       "text_color": null
      }
     },
     "4f948122af7e4f3e91056953f1179575": {
      "model_module": "@jupyter-widgets/base",
      "model_module_version": "2.0.0",
      "model_name": "LayoutModel",
      "state": {}
     },
     "509d062dca1d45c3a094a28ee935d253": {
      "model_module": "@jupyter-widgets/base",
      "model_module_version": "2.0.0",
      "model_name": "LayoutModel",
      "state": {}
     },
     "50cba706fc264a55afa1bf21c9e5b403": {
      "model_module": "@jupyter-widgets/controls",
      "model_module_version": "2.0.0",
      "model_name": "HTMLStyleModel",
      "state": {
       "description_width": "",
       "font_size": null,
       "text_color": null
      }
     },
     "50e269d1485d49deba49a9571e275153": {
      "model_module": "@jupyter-widgets/controls",
      "model_module_version": "2.0.0",
      "model_name": "HTMLStyleModel",
      "state": {
       "description_width": "",
       "font_size": null,
       "text_color": null
      }
     },
     "518a65bba58243afaa1d65f846a28a5f": {
      "model_module": "@jupyter-widgets/controls",
      "model_module_version": "2.0.0",
      "model_name": "HTMLStyleModel",
      "state": {
       "description_width": "",
       "font_size": null,
       "text_color": null
      }
     },
     "51943687907a4b7389f70d815495f074": {
      "model_module": "@jupyter-widgets/controls",
      "model_module_version": "2.0.0",
      "model_name": "HTMLModel",
      "state": {
       "layout": "IPY_MODEL_43e328c0664547779c703c2eba13b32e",
       "style": "IPY_MODEL_3aa30f82bdf142bfb352b9deb5938631",
       "value": "Epoch 41/60: 100%"
      }
     },
     "51a47d249e4b426b9825f86348d224f4": {
      "model_module": "@jupyter-widgets/controls",
      "model_module_version": "2.0.0",
      "model_name": "HBoxModel",
      "state": {
       "children": [
        "IPY_MODEL_2246c48643c64f7f80496004ad7db4a1",
        "IPY_MODEL_6ae11525dcc94c38b4ed4e91b4ac5864",
        "IPY_MODEL_70d5772bb6c943f785a540ebf3bc7672"
       ],
       "layout": "IPY_MODEL_9a3dc3e3f0c247a6b7a70c466fbb4bba"
      }
     },
     "52186f329e0d4ee788f08094983b025d": {
      "model_module": "@jupyter-widgets/controls",
      "model_module_version": "2.0.0",
      "model_name": "ProgressStyleModel",
      "state": {
       "description_width": ""
      }
     },
     "521b01ccdd4b44e290e9192a6f9af022": {
      "model_module": "@jupyter-widgets/base",
      "model_module_version": "2.0.0",
      "model_name": "LayoutModel",
      "state": {}
     },
     "5268ca2ab4c54f53a2cb4ad9f7e3c134": {
      "model_module": "@jupyter-widgets/base",
      "model_module_version": "2.0.0",
      "model_name": "LayoutModel",
      "state": {}
     },
     "5276b1d9c82b48d2a9f80153d43884a6": {
      "model_module": "@jupyter-widgets/controls",
      "model_module_version": "2.0.0",
      "model_name": "FloatProgressModel",
      "state": {
       "bar_style": "success",
       "layout": "IPY_MODEL_58c4dd7b6970456e8da8988d7c818f95",
       "max": 1,
       "style": "IPY_MODEL_c997eb8be6344acbbc28051c15a87023",
       "value": 1
      }
     },
     "52aea616ba974a9f8f0db5c1f409bd9c": {
      "model_module": "@jupyter-widgets/controls",
      "model_module_version": "2.0.0",
      "model_name": "HTMLModel",
      "state": {
       "layout": "IPY_MODEL_dbbb3cb0e91e4b18ad56d280210d9ccf",
       "style": "IPY_MODEL_961c65e6f21440fcb1de33e5d14194ca",
       "value": " 500/500 [00:18&lt;00:00, 26.90it/s, loss=0.00203]"
      }
     },
     "52be216f45d848c4ba1fa33ac34b6d2d": {
      "model_module": "@jupyter-widgets/controls",
      "model_module_version": "2.0.0",
      "model_name": "HTMLModel",
      "state": {
       "layout": "IPY_MODEL_7f7a4200e73f43f393e603678c048888",
       "style": "IPY_MODEL_d759528df4ef466698dc79d3fcfdb38c",
       "value": "Epoch 11/60: 100%"
      }
     },
     "52fb11edc0954c389ec1639f9f45342e": {
      "model_module": "@jupyter-widgets/base",
      "model_module_version": "2.0.0",
      "model_name": "LayoutModel",
      "state": {}
     },
     "533838c4a8f44e8d96d3ad9749959cd2": {
      "model_module": "@jupyter-widgets/base",
      "model_module_version": "2.0.0",
      "model_name": "LayoutModel",
      "state": {}
     },
     "53579a86455a415f8f5ad52c99e8f41c": {
      "model_module": "@jupyter-widgets/base",
      "model_module_version": "2.0.0",
      "model_name": "LayoutModel",
      "state": {}
     },
     "538e87e5233f4e269da6fdd3a6b9552c": {
      "model_module": "@jupyter-widgets/base",
      "model_module_version": "2.0.0",
      "model_name": "LayoutModel",
      "state": {}
     },
     "5396f1d46c164858a1b8d578433c52e4": {
      "model_module": "@jupyter-widgets/base",
      "model_module_version": "2.0.0",
      "model_name": "LayoutModel",
      "state": {}
     },
     "53adb570ff394dd5a11b7602d398ed63": {
      "model_module": "@jupyter-widgets/controls",
      "model_module_version": "2.0.0",
      "model_name": "HTMLStyleModel",
      "state": {
       "description_width": "",
       "font_size": null,
       "text_color": null
      }
     },
     "53fa172baebf400db61511c6b00875e3": {
      "model_module": "@jupyter-widgets/controls",
      "model_module_version": "2.0.0",
      "model_name": "HTMLStyleModel",
      "state": {
       "description_width": "",
       "font_size": null,
       "text_color": null
      }
     },
     "541b7b14241e4b4dad3c9c283b7a53df": {
      "model_module": "@jupyter-widgets/controls",
      "model_module_version": "2.0.0",
      "model_name": "HBoxModel",
      "state": {
       "children": [
        "IPY_MODEL_c36d810d2f494b6b94316f9f13fbbb5e",
        "IPY_MODEL_62ed00fb144349159d35fb95f3205e80",
        "IPY_MODEL_82970235a82b4ddcb02e578213691abb"
       ],
       "layout": "IPY_MODEL_20bd9fc3de1947ecb7d8d37f5eebb2b8"
      }
     },
     "54346785a3764e90b7bb36d1499c8fad": {
      "model_module": "@jupyter-widgets/controls",
      "model_module_version": "2.0.0",
      "model_name": "ProgressStyleModel",
      "state": {
       "description_width": ""
      }
     },
     "5469f8eeae60430e90de5119358dd1bf": {
      "model_module": "@jupyter-widgets/controls",
      "model_module_version": "2.0.0",
      "model_name": "HBoxModel",
      "state": {
       "children": [
        "IPY_MODEL_7ede7e113d9742d9bbcb49e5ef8b4eda",
        "IPY_MODEL_bef503037fa9499bba4ede1a0e5137fc",
        "IPY_MODEL_ef8d728fcc3f4562ab72367d4f6240ec"
       ],
       "layout": "IPY_MODEL_8482f595e35240b2adcbe4a855b024c9"
      }
     },
     "546e97ba329044d58ca04a10ff824c98": {
      "model_module": "@jupyter-widgets/base",
      "model_module_version": "2.0.0",
      "model_name": "LayoutModel",
      "state": {}
     },
     "54be758d8d3f4408a9604f0284fee982": {
      "model_module": "@jupyter-widgets/controls",
      "model_module_version": "2.0.0",
      "model_name": "HTMLStyleModel",
      "state": {
       "description_width": "",
       "font_size": null,
       "text_color": null
      }
     },
     "54c45114cdde4c37ab6a7d05afdc4840": {
      "model_module": "@jupyter-widgets/base",
      "model_module_version": "2.0.0",
      "model_name": "LayoutModel",
      "state": {}
     },
     "54d05bbcafb748dba4775f481f556875": {
      "model_module": "@jupyter-widgets/base",
      "model_module_version": "2.0.0",
      "model_name": "LayoutModel",
      "state": {}
     },
     "54da70055f79480899df459254a0fb66": {
      "model_module": "@jupyter-widgets/controls",
      "model_module_version": "2.0.0",
      "model_name": "HTMLModel",
      "state": {
       "layout": "IPY_MODEL_2596e011d7ea4e0ebf9c76216ab74a2e",
       "style": "IPY_MODEL_6aaa45f9561642589aafd309c990f7f7",
       "value": "Epoch 6/60: 100%"
      }
     },
     "551ee243dd314aafa70b0b5bd13e95da": {
      "model_module": "@jupyter-widgets/controls",
      "model_module_version": "2.0.0",
      "model_name": "ProgressStyleModel",
      "state": {
       "description_width": ""
      }
     },
     "55264f3bf78341d1ba971bd25c9a44e6": {
      "model_module": "@jupyter-widgets/controls",
      "model_module_version": "2.0.0",
      "model_name": "FloatProgressModel",
      "state": {
       "bar_style": "success",
       "layout": "IPY_MODEL_9d938f449bc44280a0379310f3cb55db",
       "max": 1,
       "style": "IPY_MODEL_e0ec599ef7824e9c98d0219e542a037a",
       "value": 1
      }
     },
     "557a70a60bcd4e1cb5a9d6997b36944a": {
      "model_module": "@jupyter-widgets/base",
      "model_module_version": "2.0.0",
      "model_name": "LayoutModel",
      "state": {}
     },
     "55986acbac3b4daa86e988998909e4a7": {
      "model_module": "@jupyter-widgets/controls",
      "model_module_version": "2.0.0",
      "model_name": "HTMLStyleModel",
      "state": {
       "description_width": "",
       "font_size": null,
       "text_color": null
      }
     },
     "55bd206d91cb49f0bf9b4eee75ed72fe": {
      "model_module": "@jupyter-widgets/controls",
      "model_module_version": "2.0.0",
      "model_name": "ProgressStyleModel",
      "state": {
       "description_width": ""
      }
     },
     "55ee3755763346e28c9e641c502e6056": {
      "model_module": "@jupyter-widgets/controls",
      "model_module_version": "2.0.0",
      "model_name": "ProgressStyleModel",
      "state": {
       "description_width": ""
      }
     },
     "566d5e74b66b4f489b79e53f8573c812": {
      "model_module": "@jupyter-widgets/controls",
      "model_module_version": "2.0.0",
      "model_name": "FloatProgressModel",
      "state": {
       "bar_style": "success",
       "layout": "IPY_MODEL_e1a3236de51e417c8b2f353707cc49d8",
       "max": 500,
       "style": "IPY_MODEL_1b1db4e113e7419580c8b8f89f4c1ef9",
       "value": 500
      }
     },
     "567dd0bae2ad4ddab406934b9878562e": {
      "model_module": "@jupyter-widgets/controls",
      "model_module_version": "2.0.0",
      "model_name": "HBoxModel",
      "state": {
       "children": [
        "IPY_MODEL_574e9a8c9f3b48a6a41af138d1c6115a",
        "IPY_MODEL_6bb4210909894c5dac97cbb8dbe2a70e",
        "IPY_MODEL_02e650ab092d46699400aaee6e17f547"
       ],
       "layout": "IPY_MODEL_7ecc144ebf0b420caf50410306678b0a"
      }
     },
     "56e26303b7b949079dba1bd5274fa175": {
      "model_module": "@jupyter-widgets/controls",
      "model_module_version": "2.0.0",
      "model_name": "HBoxModel",
      "state": {
       "children": [
        "IPY_MODEL_73fdd51e2e3f47ad851911d282aa6e20",
        "IPY_MODEL_3053e42b2ffc4c0e91568c931cd94dec",
        "IPY_MODEL_b20e8b1118194a88a0d208d4a820552b"
       ],
       "layout": "IPY_MODEL_c6441c21cad645639292e175c2b099af"
      }
     },
     "57177c5bbe5744d9b7dfbf24dfff4e42": {
      "model_module": "@jupyter-widgets/controls",
      "model_module_version": "2.0.0",
      "model_name": "HTMLModel",
      "state": {
       "layout": "IPY_MODEL_3042a309352e401fa6e6a8e5a46db8b1",
       "style": "IPY_MODEL_76ae9191f7ad4e2e84a89aa5633b6c75",
       "value": " 1/1 [00:02&lt;00:00,  2.71s/it, loss=0.0921]"
      }
     },
     "574e9a8c9f3b48a6a41af138d1c6115a": {
      "model_module": "@jupyter-widgets/controls",
      "model_module_version": "2.0.0",
      "model_name": "HTMLModel",
      "state": {
       "layout": "IPY_MODEL_8ffdd38d96db43cda05d5165e8595c8a",
       "style": "IPY_MODEL_809760bb1ae64ed8b1efb72566040c06",
       "value": "Epoch 21/60: 100%"
      }
     },
     "5769ada6717a4c0c865c396652ee92cc": {
      "model_module": "@jupyter-widgets/base",
      "model_module_version": "2.0.0",
      "model_name": "LayoutModel",
      "state": {}
     },
     "577e11a655f34af8879dc1761f489d84": {
      "model_module": "@jupyter-widgets/base",
      "model_module_version": "2.0.0",
      "model_name": "LayoutModel",
      "state": {}
     },
     "57863f7a1b5b4b45811a90d2ea55d7f8": {
      "model_module": "@jupyter-widgets/controls",
      "model_module_version": "2.0.0",
      "model_name": "HTMLStyleModel",
      "state": {
       "description_width": "",
       "font_size": null,
       "text_color": null
      }
     },
     "5786b063d582492aa00b3ff56d014321": {
      "model_module": "@jupyter-widgets/controls",
      "model_module_version": "2.0.0",
      "model_name": "ProgressStyleModel",
      "state": {
       "description_width": ""
      }
     },
     "57cadd2cf9e841bdb14c1a6aabdb386f": {
      "model_module": "@jupyter-widgets/controls",
      "model_module_version": "2.0.0",
      "model_name": "HBoxModel",
      "state": {
       "children": [
        "IPY_MODEL_422deedea0f14c22969b998809ae863a",
        "IPY_MODEL_08f0dc9bc4ca4a49bb9b1254e13f656d",
        "IPY_MODEL_d167d2d75b924b0a8e1f63c03d630c8e"
       ],
       "layout": "IPY_MODEL_464c8c6944424db0a7f4bcb91d0fd2c2"
      }
     },
     "5847bd28cac54ba88e5ee3bc996834c0": {
      "model_module": "@jupyter-widgets/controls",
      "model_module_version": "2.0.0",
      "model_name": "ProgressStyleModel",
      "state": {
       "description_width": ""
      }
     },
     "58935a4e748c4ffa891ec8d65bc06748": {
      "model_module": "@jupyter-widgets/controls",
      "model_module_version": "2.0.0",
      "model_name": "HTMLModel",
      "state": {
       "layout": "IPY_MODEL_cdfe6f4c7e64424facbec0c7134a7238",
       "style": "IPY_MODEL_45d02aa159384d88abf2a681222d5972",
       "value": "Epoch 41/60: 100%"
      }
     },
     "58959ef4ee734e5c9d4302ffd937555c": {
      "model_module": "@jupyter-widgets/controls",
      "model_module_version": "2.0.0",
      "model_name": "HBoxModel",
      "state": {
       "children": [
        "IPY_MODEL_493712613cb144b687955cb3c0c2f2bc",
        "IPY_MODEL_8c9ae8ceb30941128a3292eb1bcf8139",
        "IPY_MODEL_4dbfffd147f5475daf38e57050bc25ac"
       ],
       "layout": "IPY_MODEL_0821f6396369445c99ddb7c5485f8cde"
      }
     },
     "58c4dd7b6970456e8da8988d7c818f95": {
      "model_module": "@jupyter-widgets/base",
      "model_module_version": "2.0.0",
      "model_name": "LayoutModel",
      "state": {}
     },
     "58dd2e6d782d489d99b5637c217b708d": {
      "model_module": "@jupyter-widgets/controls",
      "model_module_version": "2.0.0",
      "model_name": "HTMLModel",
      "state": {
       "layout": "IPY_MODEL_d91a2a3305c04e4bb5f3afcaa4b3e98e",
       "style": "IPY_MODEL_e5a210347663413b906be9b866d466d5",
       "value": "Epoch 22/60: 100%"
      }
     },
     "59598afa15f343a1a7678d91e3faaf66": {
      "model_module": "@jupyter-widgets/base",
      "model_module_version": "2.0.0",
      "model_name": "LayoutModel",
      "state": {}
     },
     "59e72221e3994ff1a21c168663bad0c9": {
      "model_module": "@jupyter-widgets/base",
      "model_module_version": "2.0.0",
      "model_name": "LayoutModel",
      "state": {}
     },
     "5a00cdcd337d49a980e88fb2aef511f5": {
      "model_module": "@jupyter-widgets/controls",
      "model_module_version": "2.0.0",
      "model_name": "ProgressStyleModel",
      "state": {
       "description_width": ""
      }
     },
     "5a3747306fb74662a3b4088d8193cce2": {
      "model_module": "@jupyter-widgets/controls",
      "model_module_version": "2.0.0",
      "model_name": "FloatProgressModel",
      "state": {
       "bar_style": "success",
       "layout": "IPY_MODEL_db660362269b4921af6f3469bf014280",
       "max": 1,
       "style": "IPY_MODEL_a3e135f0189e46299178cae71ca5157d",
       "value": 1
      }
     },
     "5aab12d5292b44038f69f0dbc1000f1f": {
      "model_module": "@jupyter-widgets/controls",
      "model_module_version": "2.0.0",
      "model_name": "ProgressStyleModel",
      "state": {
       "description_width": ""
      }
     },
     "5aad2c730cb645229f7d983073d5a2cb": {
      "model_module": "@jupyter-widgets/base",
      "model_module_version": "2.0.0",
      "model_name": "LayoutModel",
      "state": {}
     },
     "5b0aafd5f43c43009c9e525d262cef5f": {
      "model_module": "@jupyter-widgets/controls",
      "model_module_version": "2.0.0",
      "model_name": "HTMLModel",
      "state": {
       "layout": "IPY_MODEL_f32c38953dd54667b7f259828812bd95",
       "style": "IPY_MODEL_53adb570ff394dd5a11b7602d398ed63",
       "value": " 1/1 [00:01&lt;00:00,  1.32s/it]"
      }
     },
     "5b151f482bb943eab6497d5d039f0dc2": {
      "model_module": "@jupyter-widgets/base",
      "model_module_version": "2.0.0",
      "model_name": "LayoutModel",
      "state": {}
     },
     "5b24edf1b88640e3a5de3473cebb31a8": {
      "model_module": "@jupyter-widgets/base",
      "model_module_version": "2.0.0",
      "model_name": "LayoutModel",
      "state": {}
     },
     "5b26599c2f5b4b39979037d4f208c4d4": {
      "model_module": "@jupyter-widgets/base",
      "model_module_version": "2.0.0",
      "model_name": "LayoutModel",
      "state": {}
     },
     "5b45cdb9507c4becaec21c80cf7a254d": {
      "model_module": "@jupyter-widgets/controls",
      "model_module_version": "2.0.0",
      "model_name": "HTMLModel",
      "state": {
       "layout": "IPY_MODEL_39c4fce33ebc41428a46295c33351425",
       "style": "IPY_MODEL_a1227f8d793e4fe5b740dffc71b91dab",
       "value": "Epoch 2/60: 100%"
      }
     },
     "5b74d59014ea4028b26acfc37880051c": {
      "model_module": "@jupyter-widgets/base",
      "model_module_version": "2.0.0",
      "model_name": "LayoutModel",
      "state": {}
     },
     "5b82cc932ed046b7ab0f2f8fafadab01": {
      "model_module": "@jupyter-widgets/controls",
      "model_module_version": "2.0.0",
      "model_name": "FloatProgressModel",
      "state": {
       "bar_style": "success",
       "layout": "IPY_MODEL_89d93be841d8495fa035aff8858dd3f0",
       "max": 500,
       "style": "IPY_MODEL_f76121fef5b24958a2ce7cf6e9f94d44",
       "value": 500
      }
     },
     "5b82de7ff8754a8c9266eebb4278207b": {
      "model_module": "@jupyter-widgets/controls",
      "model_module_version": "2.0.0",
      "model_name": "HBoxModel",
      "state": {
       "children": [
        "IPY_MODEL_676ff71c520748d3ab9486515d637bfb",
        "IPY_MODEL_45a02f9bbf37421596be877b825d6d8e",
        "IPY_MODEL_4e5144a201ca4dc18db4d1b5b1432ffd"
       ],
       "layout": "IPY_MODEL_cccdb548004f40b1b9c4074a8991aa64"
      }
     },
     "5bb3721343ac4e0cad7315d73bcd9543": {
      "model_module": "@jupyter-widgets/controls",
      "model_module_version": "2.0.0",
      "model_name": "HTMLStyleModel",
      "state": {
       "description_width": "",
       "font_size": null,
       "text_color": null
      }
     },
     "5bec79bfc8ac41aca1f00cb0c4f265fe": {
      "model_module": "@jupyter-widgets/controls",
      "model_module_version": "2.0.0",
      "model_name": "HTMLStyleModel",
      "state": {
       "description_width": "",
       "font_size": null,
       "text_color": null
      }
     },
     "5c311fefa8a14c1f91907b8e93d73de9": {
      "model_module": "@jupyter-widgets/controls",
      "model_module_version": "2.0.0",
      "model_name": "HBoxModel",
      "state": {
       "children": [
        "IPY_MODEL_3310f1f84d05459d80e0411eeb7449ca",
        "IPY_MODEL_10c3b9b83f7e48bbb66d1e56440992b0",
        "IPY_MODEL_f2ec8333e43143ad80565c4676f104d8"
       ],
       "layout": "IPY_MODEL_f9ae2f8923914d4fb3e6e7fe11847bf2"
      }
     },
     "5c722e55c95a472b991dfe7639c11444": {
      "model_module": "@jupyter-widgets/base",
      "model_module_version": "2.0.0",
      "model_name": "LayoutModel",
      "state": {}
     },
     "5c83c1038a024ae68130231b1f31f8a6": {
      "model_module": "@jupyter-widgets/controls",
      "model_module_version": "2.0.0",
      "model_name": "HTMLStyleModel",
      "state": {
       "description_width": "",
       "font_size": null,
       "text_color": null
      }
     },
     "5c8aaaac230b4dd0b911cd28ade87936": {
      "model_module": "@jupyter-widgets/controls",
      "model_module_version": "2.0.0",
      "model_name": "HBoxModel",
      "state": {
       "children": [
        "IPY_MODEL_7230fc8f53a1400c82d2bef2aed3bfd0",
        "IPY_MODEL_4335b332c8c948319c3d2cb5cbd881e9",
        "IPY_MODEL_8b4133f31f304294ab0d4a4a5a8ee5a1"
       ],
       "layout": "IPY_MODEL_e416a1554e70467dab21a0a3534e9086"
      }
     },
     "5c9704ec024c4115af547c696f43bdd5": {
      "model_module": "@jupyter-widgets/controls",
      "model_module_version": "2.0.0",
      "model_name": "FloatProgressModel",
      "state": {
       "bar_style": "success",
       "layout": "IPY_MODEL_de0126ed75024fff8d84b2f2ac0b9e54",
       "max": 1,
       "style": "IPY_MODEL_31b891c1672f41b799125440205a5809",
       "value": 1
      }
     },
     "5cb7fb3aed324ec6a7e372b7ca60aa93": {
      "model_module": "@jupyter-widgets/controls",
      "model_module_version": "2.0.0",
      "model_name": "ProgressStyleModel",
      "state": {
       "description_width": ""
      }
     },
     "5dad6c6a9c474da2a2c2154a35db9381": {
      "model_module": "@jupyter-widgets/base",
      "model_module_version": "2.0.0",
      "model_name": "LayoutModel",
      "state": {}
     },
     "5dbbb759898a452da7ff43ff760ee261": {
      "model_module": "@jupyter-widgets/controls",
      "model_module_version": "2.0.0",
      "model_name": "HTMLStyleModel",
      "state": {
       "description_width": "",
       "font_size": null,
       "text_color": null
      }
     },
     "5dc0a475ee70470b8296d2bd812f3c4b": {
      "model_module": "@jupyter-widgets/base",
      "model_module_version": "2.0.0",
      "model_name": "LayoutModel",
      "state": {}
     },
     "5dcd33bb5dd5447e8992ebc63d5c836c": {
      "model_module": "@jupyter-widgets/controls",
      "model_module_version": "2.0.0",
      "model_name": "HTMLModel",
      "state": {
       "layout": "IPY_MODEL_9ccfa20673bd4d8f9635e068b97a9fe0",
       "style": "IPY_MODEL_a48584192baa4445a6c133c9a837c974",
       "value": "Epoch 10/60: 100%"
      }
     },
     "5df3cd0771df4f618fe05f4898216a3a": {
      "model_module": "@jupyter-widgets/base",
      "model_module_version": "2.0.0",
      "model_name": "LayoutModel",
      "state": {}
     },
     "5e08a66fb73d44109be1543043c0e164": {
      "model_module": "@jupyter-widgets/controls",
      "model_module_version": "2.0.0",
      "model_name": "HTMLStyleModel",
      "state": {
       "description_width": "",
       "font_size": null,
       "text_color": null
      }
     },
     "5e2fa5c6a1e1457687e58552764851ec": {
      "model_module": "@jupyter-widgets/base",
      "model_module_version": "2.0.0",
      "model_name": "LayoutModel",
      "state": {}
     },
     "5e9f5f3010c04aa7a76e07740fde5c20": {
      "model_module": "@jupyter-widgets/controls",
      "model_module_version": "2.0.0",
      "model_name": "ProgressStyleModel",
      "state": {
       "description_width": ""
      }
     },
     "5ec9e4f8d1fa4f809a56896bebf16a0d": {
      "model_module": "@jupyter-widgets/base",
      "model_module_version": "2.0.0",
      "model_name": "LayoutModel",
      "state": {}
     },
     "5f1d3324442149c0a95bebd5c4b4f237": {
      "model_module": "@jupyter-widgets/controls",
      "model_module_version": "2.0.0",
      "model_name": "HTMLStyleModel",
      "state": {
       "description_width": "",
       "font_size": null,
       "text_color": null
      }
     },
     "5f201ad31e2d4311bd8d63c6f2a44f2e": {
      "model_module": "@jupyter-widgets/controls",
      "model_module_version": "2.0.0",
      "model_name": "HTMLModel",
      "state": {
       "layout": "IPY_MODEL_c762547bb69c44fabf767ddc8f8721c3",
       "style": "IPY_MODEL_880e4e2809a44744be65f1ec08637dbf",
       "value": " 1/1 [00:02&lt;00:00,  2.70s/it, loss=0.0485]"
      }
     },
     "5f28fdc3f9f049cfafaed0f63e59a83a": {
      "model_module": "@jupyter-widgets/controls",
      "model_module_version": "2.0.0",
      "model_name": "HTMLModel",
      "state": {
       "layout": "IPY_MODEL_f3b19ce2ef234c0b8a12ec6a74b69f68",
       "style": "IPY_MODEL_518a65bba58243afaa1d65f846a28a5f",
       "value": "PowerIter L 1/5: 100%"
      }
     },
     "5f36ba3b35674203ac3dd7458a1e0212": {
      "model_module": "@jupyter-widgets/controls",
      "model_module_version": "2.0.0",
      "model_name": "FloatProgressModel",
      "state": {
       "bar_style": "success",
       "layout": "IPY_MODEL_bdf1bba551554fdeafc1ee0452b1ebe6",
       "max": 500,
       "style": "IPY_MODEL_8c93e5cccf7649108e696abc33a10bdf",
       "value": 500
      }
     },
     "5f4fc4f1946d41069dd439e2cc861edd": {
      "model_module": "@jupyter-widgets/controls",
      "model_module_version": "2.0.0",
      "model_name": "HTMLModel",
      "state": {
       "layout": "IPY_MODEL_95571cce526d431ca1e3c7bf540cd36e",
       "style": "IPY_MODEL_2ca9a614551a4ae2b7998cdfeddebb97",
       "value": " 500/500 [00:18&lt;00:00, 26.91it/s, loss=0.00194]"
      }
     },
     "5f651eaa04c64ef9bab085c547d231c2": {
      "model_module": "@jupyter-widgets/controls",
      "model_module_version": "2.0.0",
      "model_name": "HTMLModel",
      "state": {
       "layout": "IPY_MODEL_170be1e11e0249efbd3d9efcdae475d0",
       "style": "IPY_MODEL_68a7c0b30d2c474dbf6087ddc6c7af06",
       "value": " 500/500 [00:18&lt;00:00, 26.82it/s, loss=0.0022]"
      }
     },
     "5fd8a14e5bc04253817105321a708f1f": {
      "model_module": "@jupyter-widgets/controls",
      "model_module_version": "2.0.0",
      "model_name": "HTMLStyleModel",
      "state": {
       "description_width": "",
       "font_size": null,
       "text_color": null
      }
     },
     "5fdd62884a3e4cc0b8a6278ab2ca8fbf": {
      "model_module": "@jupyter-widgets/base",
      "model_module_version": "2.0.0",
      "model_name": "LayoutModel",
      "state": {}
     },
     "5fec81c5810a4eb48e8d7d6c5a68e793": {
      "model_module": "@jupyter-widgets/base",
      "model_module_version": "2.0.0",
      "model_name": "LayoutModel",
      "state": {}
     },
     "5ff2a9df1da54d97af50a772f9e090b2": {
      "model_module": "@jupyter-widgets/base",
      "model_module_version": "2.0.0",
      "model_name": "LayoutModel",
      "state": {}
     },
     "603f1b912c6549448b37f11ef907c4e8": {
      "model_module": "@jupyter-widgets/controls",
      "model_module_version": "2.0.0",
      "model_name": "HTMLStyleModel",
      "state": {
       "description_width": "",
       "font_size": null,
       "text_color": null
      }
     },
     "60d2ffcefff64054b75a14f3c35631ce": {
      "model_module": "@jupyter-widgets/controls",
      "model_module_version": "2.0.0",
      "model_name": "HTMLModel",
      "state": {
       "layout": "IPY_MODEL_9d72e96bee284e57aab72810af003ecf",
       "style": "IPY_MODEL_6bd2b0a6ec8945539de4fc2f832761ca",
       "value": "Epoch 27/60: 100%"
      }
     },
     "60df315d0e17433b8856b3ae3abd4696": {
      "model_module": "@jupyter-widgets/base",
      "model_module_version": "2.0.0",
      "model_name": "LayoutModel",
      "state": {}
     },
     "60ec38999ca44a31bfeb6cff6be46f0e": {
      "model_module": "@jupyter-widgets/controls",
      "model_module_version": "2.0.0",
      "model_name": "HBoxModel",
      "state": {
       "children": [
        "IPY_MODEL_347597028b1a4c768a836f8aa4bd71b2",
        "IPY_MODEL_2348f8dc772d4e1683a32c53c969653b",
        "IPY_MODEL_967ba1b187884dc09f79e4472ac2700a"
       ],
       "layout": "IPY_MODEL_97aca79a193e4f65b4950b7ea430b499"
      }
     },
     "6100b17cb284451fb549a36b58e32a26": {
      "model_module": "@jupyter-widgets/base",
      "model_module_version": "2.0.0",
      "model_name": "LayoutModel",
      "state": {}
     },
     "610c6cffcbdc4e9791c8f405287d12b8": {
      "model_module": "@jupyter-widgets/controls",
      "model_module_version": "2.0.0",
      "model_name": "HTMLModel",
      "state": {
       "layout": "IPY_MODEL_e928d616e8ac4b5b88fa23b9f86ba688",
       "style": "IPY_MODEL_fff3fe58a5264139845748a4b6719d8c",
       "value": " 500/500 [00:18&lt;00:00, 26.90it/s, loss=0.00234]"
      }
     },
     "611154f43c054ef397ff248d0ed138c3": {
      "model_module": "@jupyter-widgets/base",
      "model_module_version": "2.0.0",
      "model_name": "LayoutModel",
      "state": {}
     },
     "61517cd643e04a8aa971b2ccc4f2397b": {
      "model_module": "@jupyter-widgets/base",
      "model_module_version": "2.0.0",
      "model_name": "LayoutModel",
      "state": {}
     },
     "618920d4aafe414d9cb36cf579e4f0ff": {
      "model_module": "@jupyter-widgets/controls",
      "model_module_version": "2.0.0",
      "model_name": "HTMLModel",
      "state": {
       "layout": "IPY_MODEL_7a75af72cc4f440a9d0b11ce09b8193f",
       "style": "IPY_MODEL_83a80f1c75764843a856650becf6cc12",
       "value": "Epoch 35/60: 100%"
      }
     },
     "618fa98dd898487787401d9505bf01b6": {
      "model_module": "@jupyter-widgets/controls",
      "model_module_version": "2.0.0",
      "model_name": "FloatProgressModel",
      "state": {
       "bar_style": "success",
       "layout": "IPY_MODEL_33b8bd7aadbf478e9c3d4b35d6a06163",
       "max": 1,
       "style": "IPY_MODEL_d1b1e6883da94af1ae2e45740b52f8b3",
       "value": 1
      }
     },
     "61ae7a0a68c84cc68677f0090b635fa4": {
      "model_module": "@jupyter-widgets/base",
      "model_module_version": "2.0.0",
      "model_name": "LayoutModel",
      "state": {}
     },
     "61e7da40833e452ca80fafc394168b11": {
      "model_module": "@jupyter-widgets/controls",
      "model_module_version": "2.0.0",
      "model_name": "HBoxModel",
      "state": {
       "children": [
        "IPY_MODEL_e61ba46a42834d5a993cfdfbfd4c79df",
        "IPY_MODEL_a987505344694ba0bf77e0824a75969b",
        "IPY_MODEL_9a8b6471da7749a6888c85e60104b316"
       ],
       "layout": "IPY_MODEL_ed4011e0299546a2bb9cb57fb9dc1eb6"
      }
     },
     "61e9f54b07cc4e7dbfc542f3c198176e": {
      "model_module": "@jupyter-widgets/controls",
      "model_module_version": "2.0.0",
      "model_name": "HTMLStyleModel",
      "state": {
       "description_width": "",
       "font_size": null,
       "text_color": null
      }
     },
     "61f22a7107984f5087deaf72aeb4f6dd": {
      "model_module": "@jupyter-widgets/controls",
      "model_module_version": "2.0.0",
      "model_name": "ProgressStyleModel",
      "state": {
       "description_width": ""
      }
     },
     "622252dc673e423f83d7b7455fb06f4b": {
      "model_module": "@jupyter-widgets/controls",
      "model_module_version": "2.0.0",
      "model_name": "FloatProgressModel",
      "state": {
       "bar_style": "success",
       "layout": "IPY_MODEL_722afa02983144899298d2c820e628f4",
       "max": 1,
       "style": "IPY_MODEL_a3761353bbce40b88c2e3ecbd3b615cc",
       "value": 1
      }
     },
     "625ad4fedb0d46d592dfdb2e12f5c039": {
      "model_module": "@jupyter-widgets/base",
      "model_module_version": "2.0.0",
      "model_name": "LayoutModel",
      "state": {}
     },
     "628755122a914b58bbf5ef80ecbf170a": {
      "model_module": "@jupyter-widgets/base",
      "model_module_version": "2.0.0",
      "model_name": "LayoutModel",
      "state": {}
     },
     "62a750ad35844c07a64103de74e67958": {
      "model_module": "@jupyter-widgets/base",
      "model_module_version": "2.0.0",
      "model_name": "LayoutModel",
      "state": {}
     },
     "62afab3866204475bc31fa9afd1521c1": {
      "model_module": "@jupyter-widgets/controls",
      "model_module_version": "2.0.0",
      "model_name": "HBoxModel",
      "state": {
       "children": [
        "IPY_MODEL_52be216f45d848c4ba1fa33ac34b6d2d",
        "IPY_MODEL_803d5f25bc76409a9170dd13c6b906b9",
        "IPY_MODEL_5f651eaa04c64ef9bab085c547d231c2"
       ],
       "layout": "IPY_MODEL_0953e7dda9d5468dbaf3675115c8dd6f"
      }
     },
     "62cf2ff887e54823bf1d3a77e2f87334": {
      "model_module": "@jupyter-widgets/controls",
      "model_module_version": "2.0.0",
      "model_name": "HBoxModel",
      "state": {
       "children": [
        "IPY_MODEL_ceb5b89d0ff34e6eae153ceb284e8ffc",
        "IPY_MODEL_622252dc673e423f83d7b7455fb06f4b",
        "IPY_MODEL_9fe005364ba4414f8496039dbeac2d1f"
       ],
       "layout": "IPY_MODEL_9d6ef27f34684e26880359bf7da53fe2"
      }
     },
     "62ed00fb144349159d35fb95f3205e80": {
      "model_module": "@jupyter-widgets/controls",
      "model_module_version": "2.0.0",
      "model_name": "FloatProgressModel",
      "state": {
       "bar_style": "success",
       "layout": "IPY_MODEL_a3db6314719141c69e6a925ebcf9c51c",
       "max": 500,
       "style": "IPY_MODEL_6e3f9e92f3ff4ae6a2a063b6cc0076ca",
       "value": 500
      }
     },
     "63139b42fa544696a9139286335c2442": {
      "model_module": "@jupyter-widgets/base",
      "model_module_version": "2.0.0",
      "model_name": "LayoutModel",
      "state": {}
     },
     "639349ada9b745f8ba2809994a077fa6": {
      "model_module": "@jupyter-widgets/base",
      "model_module_version": "2.0.0",
      "model_name": "LayoutModel",
      "state": {}
     },
     "63bd3b4db81344c0a39be46713e3e8bb": {
      "model_module": "@jupyter-widgets/controls",
      "model_module_version": "2.0.0",
      "model_name": "HTMLModel",
      "state": {
       "layout": "IPY_MODEL_fb7c830ba589475f98106f4ee4ba4cb1",
       "style": "IPY_MODEL_3af8b93e560541e7be3cebae4729b3d0",
       "value": " 500/500 [00:18&lt;00:00, 27.24it/s, loss=0.00196]"
      }
     },
     "63e8b2669c284bb180b5ebde9d5c39b9": {
      "model_module": "@jupyter-widgets/controls",
      "model_module_version": "2.0.0",
      "model_name": "ProgressStyleModel",
      "state": {
       "description_width": ""
      }
     },
     "6426582c57bc450293a46af3ef6dcec8": {
      "model_module": "@jupyter-widgets/controls",
      "model_module_version": "2.0.0",
      "model_name": "HTMLStyleModel",
      "state": {
       "description_width": "",
       "font_size": null,
       "text_color": null
      }
     },
     "648dfc2c688846e6a2c608c0bfc8a48b": {
      "model_module": "@jupyter-widgets/controls",
      "model_module_version": "2.0.0",
      "model_name": "HTMLModel",
      "state": {
       "layout": "IPY_MODEL_a0eb3631b85b4ed38a656627a666b4bc",
       "style": "IPY_MODEL_94e11782bb1f4b68bd5a4d7d2ffd5c23",
       "value": "PowerIter R 2/5: 100%"
      }
     },
     "64938176d7854eda87dd668b23a9ff84": {
      "model_module": "@jupyter-widgets/base",
      "model_module_version": "2.0.0",
      "model_name": "LayoutModel",
      "state": {}
     },
     "64abbd2205df45eeb0309e83b4afac34": {
      "model_module": "@jupyter-widgets/base",
      "model_module_version": "2.0.0",
      "model_name": "LayoutModel",
      "state": {}
     },
     "64b2fa5623c14e29811820f1bcfd7c98": {
      "model_module": "@jupyter-widgets/controls",
      "model_module_version": "2.0.0",
      "model_name": "FloatProgressModel",
      "state": {
       "bar_style": "success",
       "layout": "IPY_MODEL_b20fc0a346214f8f83064bf5898cfb94",
       "max": 500,
       "style": "IPY_MODEL_bb00b6aa73a3431fb75f5873589b93c3",
       "value": 500
      }
     },
     "64f824ca18db4076b7d86a620bdba536": {
      "model_module": "@jupyter-widgets/base",
      "model_module_version": "2.0.0",
      "model_name": "LayoutModel",
      "state": {}
     },
     "6502b977a406492d83eb78a11eb21f6a": {
      "model_module": "@jupyter-widgets/controls",
      "model_module_version": "2.0.0",
      "model_name": "HTMLModel",
      "state": {
       "layout": "IPY_MODEL_900c2688d2b944d1a86e145cbafc1dc9",
       "style": "IPY_MODEL_a360f55d724544709eee1ec43630a9cc",
       "value": "Epoch 43/60: 100%"
      }
     },
     "657ffece016f4adea2e46a11e1f967b5": {
      "model_module": "@jupyter-widgets/base",
      "model_module_version": "2.0.0",
      "model_name": "LayoutModel",
      "state": {}
     },
     "6584c0263edd4bd48713faeb32a71c06": {
      "model_module": "@jupyter-widgets/controls",
      "model_module_version": "2.0.0",
      "model_name": "HTMLStyleModel",
      "state": {
       "description_width": "",
       "font_size": null,
       "text_color": null
      }
     },
     "65999ab891ea4981b7964f3114ef27fd": {
      "model_module": "@jupyter-widgets/controls",
      "model_module_version": "2.0.0",
      "model_name": "HTMLModel",
      "state": {
       "layout": "IPY_MODEL_639349ada9b745f8ba2809994a077fa6",
       "style": "IPY_MODEL_e61c0c0fdc79476aab809cb5be8f7667",
       "value": " 500/500 [00:18&lt;00:00, 27.86it/s, loss=0.0193]"
      }
     },
     "65a1b96301e749698940d0d79ee70ab9": {
      "model_module": "@jupyter-widgets/controls",
      "model_module_version": "2.0.0",
      "model_name": "ProgressStyleModel",
      "state": {
       "description_width": ""
      }
     },
     "65d0a02782d94952a0ce900143b2cf2d": {
      "model_module": "@jupyter-widgets/controls",
      "model_module_version": "2.0.0",
      "model_name": "ProgressStyleModel",
      "state": {
       "description_width": ""
      }
     },
     "66f1f7f3457c4dbca745783c45a68ab3": {
      "model_module": "@jupyter-widgets/controls",
      "model_module_version": "2.0.0",
      "model_name": "FloatProgressModel",
      "state": {
       "bar_style": "success",
       "layout": "IPY_MODEL_ff81e2bbd2684dfc8f4f5cae4c7024cb",
       "max": 1,
       "style": "IPY_MODEL_b9b54350911b4b1a977d57a2155cfaee",
       "value": 1
      }
     },
     "66f751daffb446528956735200e9b4be": {
      "model_module": "@jupyter-widgets/controls",
      "model_module_version": "2.0.0",
      "model_name": "HTMLModel",
      "state": {
       "layout": "IPY_MODEL_6a2b99d167644b2386fe00c368b5d020",
       "style": "IPY_MODEL_bade033feea04e21a728207ab547efa5",
       "value": "Epoch 28/60: 100%"
      }
     },
     "6720f8067f354a56af87234412573930": {
      "model_module": "@jupyter-widgets/base",
      "model_module_version": "2.0.0",
      "model_name": "LayoutModel",
      "state": {}
     },
     "672e73906e3b44faa2fd7f02883f1045": {
      "model_module": "@jupyter-widgets/controls",
      "model_module_version": "2.0.0",
      "model_name": "FloatProgressModel",
      "state": {
       "bar_style": "success",
       "layout": "IPY_MODEL_4cf7f839b9eb4e8bbb1fb89616657932",
       "max": 500,
       "style": "IPY_MODEL_3ffeba0c04f8488faa3b1a686a632116",
       "value": 500
      }
     },
     "676ff71c520748d3ab9486515d637bfb": {
      "model_module": "@jupyter-widgets/controls",
      "model_module_version": "2.0.0",
      "model_name": "HTMLModel",
      "state": {
       "layout": "IPY_MODEL_7ffa3b24d7eb45a1b63c03764e4dc937",
       "style": "IPY_MODEL_e6c60814c5324cb1aeacb8bdf02e30ba",
       "value": "Epoch 31/60: 100%"
      }
     },
     "67a94c1eb8344369826ad3868890678f": {
      "model_module": "@jupyter-widgets/base",
      "model_module_version": "2.0.0",
      "model_name": "LayoutModel",
      "state": {}
     },
     "67d3634160da409a8a70aab4d193d1c4": {
      "model_module": "@jupyter-widgets/base",
      "model_module_version": "2.0.0",
      "model_name": "LayoutModel",
      "state": {}
     },
     "682718516ec64b0baed3ba9e19bf08d0": {
      "model_module": "@jupyter-widgets/base",
      "model_module_version": "2.0.0",
      "model_name": "LayoutModel",
      "state": {}
     },
     "6840002b03be445aa7e416f64f655110": {
      "model_module": "@jupyter-widgets/base",
      "model_module_version": "2.0.0",
      "model_name": "LayoutModel",
      "state": {}
     },
     "68910dc05db640c4b390a6fd58ce1cf1": {
      "model_module": "@jupyter-widgets/base",
      "model_module_version": "2.0.0",
      "model_name": "LayoutModel",
      "state": {}
     },
     "68a7c0b30d2c474dbf6087ddc6c7af06": {
      "model_module": "@jupyter-widgets/controls",
      "model_module_version": "2.0.0",
      "model_name": "HTMLStyleModel",
      "state": {
       "description_width": "",
       "font_size": null,
       "text_color": null
      }
     },
     "68b537c9eeb946228651f3a8e835145a": {
      "model_module": "@jupyter-widgets/controls",
      "model_module_version": "2.0.0",
      "model_name": "HBoxModel",
      "state": {
       "children": [
        "IPY_MODEL_86226c85de24460e9ef9fa94ac085dc4",
        "IPY_MODEL_f4ef1dba5d704a7a90cc7fbddc6ccfe8",
        "IPY_MODEL_70fa4a973ba54498b636e7c11555199c"
       ],
       "layout": "IPY_MODEL_ee3b217a2c4745e5805599615591acd6"
      }
     },
     "68d3cf64dfc4467aacb2a8d6ef1f16ff": {
      "model_module": "@jupyter-widgets/controls",
      "model_module_version": "2.0.0",
      "model_name": "FloatProgressModel",
      "state": {
       "bar_style": "success",
       "layout": "IPY_MODEL_dcae0a84f1724fb1ac1345714971ed88",
       "max": 1,
       "style": "IPY_MODEL_f25cf5cd3b95403a98863397cd09c766",
       "value": 1
      }
     },
     "691d299633314d10aaf7e910473b5ee3": {
      "model_module": "@jupyter-widgets/base",
      "model_module_version": "2.0.0",
      "model_name": "LayoutModel",
      "state": {}
     },
     "692f09dd7db44cc08ac9aea5046e5552": {
      "model_module": "@jupyter-widgets/controls",
      "model_module_version": "2.0.0",
      "model_name": "HBoxModel",
      "state": {
       "children": [
        "IPY_MODEL_87c6f1c15e54455b866acdbf83d7475e",
        "IPY_MODEL_716a08bfe34a4e79b06c54baa87e8363",
        "IPY_MODEL_dc1cc7f053844a2c9ba133fb6f68fe33"
       ],
       "layout": "IPY_MODEL_5e2fa5c6a1e1457687e58552764851ec"
      }
     },
     "6998b1676a634e2cb6a4abcda26227c9": {
      "model_module": "@jupyter-widgets/controls",
      "model_module_version": "2.0.0",
      "model_name": "HTMLStyleModel",
      "state": {
       "description_width": "",
       "font_size": null,
       "text_color": null
      }
     },
     "699fa6dbe526465d972f295d7a4d4829": {
      "model_module": "@jupyter-widgets/controls",
      "model_module_version": "2.0.0",
      "model_name": "ProgressStyleModel",
      "state": {
       "description_width": ""
      }
     },
     "69bf7e600266438784ed30f6d2678a9e": {
      "model_module": "@jupyter-widgets/controls",
      "model_module_version": "2.0.0",
      "model_name": "HTMLStyleModel",
      "state": {
       "description_width": "",
       "font_size": null,
       "text_color": null
      }
     },
     "69c411121ff44882b3332e00ce12f187": {
      "model_module": "@jupyter-widgets/controls",
      "model_module_version": "2.0.0",
      "model_name": "HTMLStyleModel",
      "state": {
       "description_width": "",
       "font_size": null,
       "text_color": null
      }
     },
     "6a03b769e1fe4043bfaba7fdf8ce4925": {
      "model_module": "@jupyter-widgets/base",
      "model_module_version": "2.0.0",
      "model_name": "LayoutModel",
      "state": {}
     },
     "6a2b99d167644b2386fe00c368b5d020": {
      "model_module": "@jupyter-widgets/base",
      "model_module_version": "2.0.0",
      "model_name": "LayoutModel",
      "state": {}
     },
     "6a3be24df2f3442083a6ca98482e627c": {
      "model_module": "@jupyter-widgets/controls",
      "model_module_version": "2.0.0",
      "model_name": "FloatProgressModel",
      "state": {
       "bar_style": "success",
       "layout": "IPY_MODEL_bcc7636b433340ebafeed6ce1d1d3c2d",
       "max": 500,
       "style": "IPY_MODEL_5a00cdcd337d49a980e88fb2aef511f5",
       "value": 500
      }
     },
     "6a4fb7a6e3ac493c961885b3f23103d9": {
      "model_module": "@jupyter-widgets/controls",
      "model_module_version": "2.0.0",
      "model_name": "HTMLStyleModel",
      "state": {
       "description_width": "",
       "font_size": null,
       "text_color": null
      }
     },
     "6a5278167fb8404d83992181aa4c6236": {
      "model_module": "@jupyter-widgets/controls",
      "model_module_version": "2.0.0",
      "model_name": "HTMLStyleModel",
      "state": {
       "description_width": "",
       "font_size": null,
       "text_color": null
      }
     },
     "6a5b4bbf39314d108eec3d65c76ea61c": {
      "model_module": "@jupyter-widgets/base",
      "model_module_version": "2.0.0",
      "model_name": "LayoutModel",
      "state": {}
     },
     "6a6963191c3d40b796ed1ea08e3bedce": {
      "model_module": "@jupyter-widgets/base",
      "model_module_version": "2.0.0",
      "model_name": "LayoutModel",
      "state": {}
     },
     "6a937805984a4d34819b2d59c911ee60": {
      "model_module": "@jupyter-widgets/base",
      "model_module_version": "2.0.0",
      "model_name": "LayoutModel",
      "state": {}
     },
     "6a9c02300bb24b7b8e4a08be12b05ff2": {
      "model_module": "@jupyter-widgets/controls",
      "model_module_version": "2.0.0",
      "model_name": "HBoxModel",
      "state": {
       "children": [
        "IPY_MODEL_00a062f4dfe94faf9f8b1ec2d27396fe",
        "IPY_MODEL_f90f5cca8ab74984b21eb84b09350b61",
        "IPY_MODEL_b3e3d47268b4491da803eb281f51fe6f"
       ],
       "layout": "IPY_MODEL_a579b827f75d44d5a508d001531685f8"
      }
     },
     "6aaa45f9561642589aafd309c990f7f7": {
      "model_module": "@jupyter-widgets/controls",
      "model_module_version": "2.0.0",
      "model_name": "HTMLStyleModel",
      "state": {
       "description_width": "",
       "font_size": null,
       "text_color": null
      }
     },
     "6accdf9dc6a240409f55cda1e25fb203": {
      "model_module": "@jupyter-widgets/controls",
      "model_module_version": "2.0.0",
      "model_name": "FloatProgressModel",
      "state": {
       "bar_style": "success",
       "layout": "IPY_MODEL_0ba315f1b6254f669ec62e431d95b5e7",
       "max": 500,
       "style": "IPY_MODEL_780bab6b302c42f2af3b87d393cf31f7",
       "value": 500
      }
     },
     "6acfd55fe4f44fd5a2983adafb381d8b": {
      "model_module": "@jupyter-widgets/controls",
      "model_module_version": "2.0.0",
      "model_name": "HTMLModel",
      "state": {
       "layout": "IPY_MODEL_eeae0f46e4e74e55a4b798165bc8e088",
       "style": "IPY_MODEL_1e71644f855c438186b66e1b845a39cb",
       "value": "PowerIter L 2/5: 100%"
      }
     },
     "6ae11525dcc94c38b4ed4e91b4ac5864": {
      "model_module": "@jupyter-widgets/controls",
      "model_module_version": "2.0.0",
      "model_name": "FloatProgressModel",
      "state": {
       "bar_style": "success",
       "layout": "IPY_MODEL_46ee31d059ea4351b87f85997ba6717d",
       "max": 1,
       "style": "IPY_MODEL_31fa10ef97174228ac2585d12789c0e4",
       "value": 1
      }
     },
     "6aeb8c7e52cb4c249749d5c18442a7fc": {
      "model_module": "@jupyter-widgets/base",
      "model_module_version": "2.0.0",
      "model_name": "LayoutModel",
      "state": {}
     },
     "6b055a9a681d41d8be7f68e070f54892": {
      "model_module": "@jupyter-widgets/base",
      "model_module_version": "2.0.0",
      "model_name": "LayoutModel",
      "state": {}
     },
     "6b08a8d4809e41faad925f5dd7ee4811": {
      "model_module": "@jupyter-widgets/controls",
      "model_module_version": "2.0.0",
      "model_name": "HTMLModel",
      "state": {
       "layout": "IPY_MODEL_557a70a60bcd4e1cb5a9d6997b36944a",
       "style": "IPY_MODEL_f43b73d7262a40c6b02394a55a817e3c",
       "value": " 1/1 [00:02&lt;00:00,  2.71s/it, loss=0.00668]"
      }
     },
     "6b122081d4f147be951a597942c08c0d": {
      "model_module": "@jupyter-widgets/base",
      "model_module_version": "2.0.0",
      "model_name": "LayoutModel",
      "state": {}
     },
     "6b2bfb375c3f41da9ed521e6803261dd": {
      "model_module": "@jupyter-widgets/base",
      "model_module_version": "2.0.0",
      "model_name": "LayoutModel",
      "state": {}
     },
     "6b300c7218f9470f9141997af95d872f": {
      "model_module": "@jupyter-widgets/controls",
      "model_module_version": "2.0.0",
      "model_name": "HBoxModel",
      "state": {
       "children": [
        "IPY_MODEL_9c968103619b41d08aae8e5c69d664e8",
        "IPY_MODEL_8c3f9a053e4b4ab18f836f19a09b95dd",
        "IPY_MODEL_ea413f43e037477bb68ef93d483143dc"
       ],
       "layout": "IPY_MODEL_13628cac91124f6091151c828a4ad1ed"
      }
     },
     "6b7fd21014954504bd25e1b27119c58b": {
      "model_module": "@jupyter-widgets/controls",
      "model_module_version": "2.0.0",
      "model_name": "FloatProgressModel",
      "state": {
       "bar_style": "success",
       "layout": "IPY_MODEL_68910dc05db640c4b390a6fd58ce1cf1",
       "max": 1,
       "style": "IPY_MODEL_72de3a4ab1334b3a898178c390b112b1",
       "value": 1
      }
     },
     "6b8f957939244eb089b11a8ee3e54ab5": {
      "model_module": "@jupyter-widgets/base",
      "model_module_version": "2.0.0",
      "model_name": "LayoutModel",
      "state": {}
     },
     "6ba1c41bb4a6427594e721d44e20b184": {
      "model_module": "@jupyter-widgets/controls",
      "model_module_version": "2.0.0",
      "model_name": "HTMLStyleModel",
      "state": {
       "description_width": "",
       "font_size": null,
       "text_color": null
      }
     },
     "6bb4210909894c5dac97cbb8dbe2a70e": {
      "model_module": "@jupyter-widgets/controls",
      "model_module_version": "2.0.0",
      "model_name": "FloatProgressModel",
      "state": {
       "bar_style": "success",
       "layout": "IPY_MODEL_c571623e6e334af99924581c82c9ddc3",
       "max": 500,
       "style": "IPY_MODEL_977b0da01cb1425986854eb139cdebc3",
       "value": 500
      }
     },
     "6bd2b0a6ec8945539de4fc2f832761ca": {
      "model_module": "@jupyter-widgets/controls",
      "model_module_version": "2.0.0",
      "model_name": "HTMLStyleModel",
      "state": {
       "description_width": "",
       "font_size": null,
       "text_color": null
      }
     },
     "6bec08ee3e9a41b4911bb505e11af0c5": {
      "model_module": "@jupyter-widgets/controls",
      "model_module_version": "2.0.0",
      "model_name": "ProgressStyleModel",
      "state": {
       "description_width": ""
      }
     },
     "6bf1f671445a44f88d3e4e9c5db696a4": {
      "model_module": "@jupyter-widgets/base",
      "model_module_version": "2.0.0",
      "model_name": "LayoutModel",
      "state": {}
     },
     "6c40e5a2fd2c4444be7e211fe54ea6d8": {
      "model_module": "@jupyter-widgets/controls",
      "model_module_version": "2.0.0",
      "model_name": "ProgressStyleModel",
      "state": {
       "description_width": ""
      }
     },
     "6c458968651a4e1e98dff366e239fb70": {
      "model_module": "@jupyter-widgets/controls",
      "model_module_version": "2.0.0",
      "model_name": "HTMLStyleModel",
      "state": {
       "description_width": "",
       "font_size": null,
       "text_color": null
      }
     },
     "6c6f74a3ab71407790bf50969334d702": {
      "model_module": "@jupyter-widgets/base",
      "model_module_version": "2.0.0",
      "model_name": "LayoutModel",
      "state": {}
     },
     "6c846060c0474761a207ab191d69066c": {
      "model_module": "@jupyter-widgets/controls",
      "model_module_version": "2.0.0",
      "model_name": "HTMLStyleModel",
      "state": {
       "description_width": "",
       "font_size": null,
       "text_color": null
      }
     },
     "6c8dfb48744d4b6f8eafbee8313f447f": {
      "model_module": "@jupyter-widgets/controls",
      "model_module_version": "2.0.0",
      "model_name": "ProgressStyleModel",
      "state": {
       "description_width": ""
      }
     },
     "6cb3d4fbd0ea41a5b7f6e03391a95698": {
      "model_module": "@jupyter-widgets/controls",
      "model_module_version": "2.0.0",
      "model_name": "HTMLModel",
      "state": {
       "layout": "IPY_MODEL_03a534a61d114d7eb2ddaa6a2e0eec23",
       "style": "IPY_MODEL_bcd99b51f9ca414f9c5842dafe8625a9",
       "value": " 1/1 [00:03&lt;00:00,  3.59s/it, loss=16.3]"
      }
     },
     "6cfc2307f13d4342930a0241f9130f82": {
      "model_module": "@jupyter-widgets/base",
      "model_module_version": "2.0.0",
      "model_name": "LayoutModel",
      "state": {}
     },
     "6d01dd0c89784abdadd9c29a2f2dbc3d": {
      "model_module": "@jupyter-widgets/base",
      "model_module_version": "2.0.0",
      "model_name": "LayoutModel",
      "state": {}
     },
     "6d586ef184a046f9aca2baba18a1e5d7": {
      "model_module": "@jupyter-widgets/controls",
      "model_module_version": "2.0.0",
      "model_name": "ProgressStyleModel",
      "state": {
       "description_width": ""
      }
     },
     "6d5d105ede7740febe8ae4a6b70ea12f": {
      "model_module": "@jupyter-widgets/base",
      "model_module_version": "2.0.0",
      "model_name": "LayoutModel",
      "state": {}
     },
     "6dd3235c28b54836984590cca92b01d0": {
      "model_module": "@jupyter-widgets/controls",
      "model_module_version": "2.0.0",
      "model_name": "HTMLStyleModel",
      "state": {
       "description_width": "",
       "font_size": null,
       "text_color": null
      }
     },
     "6de9299b5e4d4bb592f3067f5116b67d": {
      "model_module": "@jupyter-widgets/base",
      "model_module_version": "2.0.0",
      "model_name": "LayoutModel",
      "state": {}
     },
     "6df18fb72408497685bc7c8efb70d616": {
      "model_module": "@jupyter-widgets/base",
      "model_module_version": "2.0.0",
      "model_name": "LayoutModel",
      "state": {}
     },
     "6dff8b8f2c16470c8c41aa81b0f146ec": {
      "model_module": "@jupyter-widgets/controls",
      "model_module_version": "2.0.0",
      "model_name": "ProgressStyleModel",
      "state": {
       "description_width": ""
      }
     },
     "6e1e2faebd7f41e78ba69dc56cf618df": {
      "model_module": "@jupyter-widgets/base",
      "model_module_version": "2.0.0",
      "model_name": "LayoutModel",
      "state": {}
     },
     "6e1f448b359c4d0badf55768bd5489e7": {
      "model_module": "@jupyter-widgets/controls",
      "model_module_version": "2.0.0",
      "model_name": "ProgressStyleModel",
      "state": {
       "description_width": ""
      }
     },
     "6e3befa78c9848bfbeee8575243bfd1e": {
      "model_module": "@jupyter-widgets/controls",
      "model_module_version": "2.0.0",
      "model_name": "HTMLStyleModel",
      "state": {
       "description_width": "",
       "font_size": null,
       "text_color": null
      }
     },
     "6e3f9e92f3ff4ae6a2a063b6cc0076ca": {
      "model_module": "@jupyter-widgets/controls",
      "model_module_version": "2.0.0",
      "model_name": "ProgressStyleModel",
      "state": {
       "description_width": ""
      }
     },
     "6e590c962ca149a5a18724da573975dc": {
      "model_module": "@jupyter-widgets/controls",
      "model_module_version": "2.0.0",
      "model_name": "HTMLStyleModel",
      "state": {
       "description_width": "",
       "font_size": null,
       "text_color": null
      }
     },
     "6ec1882852e2498ba843ad103487ba59": {
      "model_module": "@jupyter-widgets/controls",
      "model_module_version": "2.0.0",
      "model_name": "FloatProgressModel",
      "state": {
       "bar_style": "success",
       "layout": "IPY_MODEL_1d3ccab73e9c4f07878b3569e7cfea4e",
       "max": 1,
       "style": "IPY_MODEL_c5cb4d540fac438bb20db7dd5ece239b",
       "value": 1
      }
     },
     "6ed676e0dc394ee08bf1f8c65e4af037": {
      "model_module": "@jupyter-widgets/controls",
      "model_module_version": "2.0.0",
      "model_name": "HTMLStyleModel",
      "state": {
       "description_width": "",
       "font_size": null,
       "text_color": null
      }
     },
     "6ee7baf24887446f974ae1261026aca2": {
      "model_module": "@jupyter-widgets/controls",
      "model_module_version": "2.0.0",
      "model_name": "HTMLModel",
      "state": {
       "layout": "IPY_MODEL_f2e9898dd4f34b14bb2104d8207f8cec",
       "style": "IPY_MODEL_9e0ca847b89142edacede0cec932fd6c",
       "value": "Epoch 57/60: 100%"
      }
     },
     "6f2c95ff0c9f40b480eb5fa073b77d00": {
      "model_module": "@jupyter-widgets/base",
      "model_module_version": "2.0.0",
      "model_name": "LayoutModel",
      "state": {}
     },
     "6f599d8774894d11afd563082dee141f": {
      "model_module": "@jupyter-widgets/controls",
      "model_module_version": "2.0.0",
      "model_name": "HTMLStyleModel",
      "state": {
       "description_width": "",
       "font_size": null,
       "text_color": null
      }
     },
     "6f75d6e6c32148cca3db6a869beec9ef": {
      "model_module": "@jupyter-widgets/controls",
      "model_module_version": "2.0.0",
      "model_name": "HBoxModel",
      "state": {
       "children": [
        "IPY_MODEL_e9c5df82486e498bb59d810c0208b58f",
        "IPY_MODEL_9db65253fbe84b7ba6ac4734554966f5",
        "IPY_MODEL_5f4fc4f1946d41069dd439e2cc861edd"
       ],
       "layout": "IPY_MODEL_5c722e55c95a472b991dfe7639c11444"
      }
     },
     "6fb6bc563d4344759c4cd3d45a443040": {
      "model_module": "@jupyter-widgets/base",
      "model_module_version": "2.0.0",
      "model_name": "LayoutModel",
      "state": {}
     },
     "6fb8cf26986343f593bd123e82caf3a9": {
      "model_module": "@jupyter-widgets/base",
      "model_module_version": "2.0.0",
      "model_name": "LayoutModel",
      "state": {}
     },
     "6fcc9b206644439fa10193241e507b46": {
      "model_module": "@jupyter-widgets/base",
      "model_module_version": "2.0.0",
      "model_name": "LayoutModel",
      "state": {}
     },
     "701ecc5fa9544947b8bd64b1c20d6f7f": {
      "model_module": "@jupyter-widgets/controls",
      "model_module_version": "2.0.0",
      "model_name": "HTMLModel",
      "state": {
       "layout": "IPY_MODEL_6a6963191c3d40b796ed1ea08e3bedce",
       "style": "IPY_MODEL_e3c7329aae43429f9f8be6f1871b79aa",
       "value": " 500/500 [00:08&lt;00:00, 56.60it/s]"
      }
     },
     "701fddf6672749719154add69a4cc6c5": {
      "model_module": "@jupyter-widgets/controls",
      "model_module_version": "2.0.0",
      "model_name": "HTMLStyleModel",
      "state": {
       "description_width": "",
       "font_size": null,
       "text_color": null
      }
     },
     "70af24c9445541dea9a882fd84f78858": {
      "model_module": "@jupyter-widgets/base",
      "model_module_version": "2.0.0",
      "model_name": "LayoutModel",
      "state": {}
     },
     "70b3ab3825084523973d436ce11e3c93": {
      "model_module": "@jupyter-widgets/controls",
      "model_module_version": "2.0.0",
      "model_name": "HTMLModel",
      "state": {
       "layout": "IPY_MODEL_ced7a0ccf2424a928d8bf861d7c19714",
       "style": "IPY_MODEL_08cf360faa3a44c684f8cefb8970a22e",
       "value": "Epoch 60/60: 100%"
      }
     },
     "70d5772bb6c943f785a540ebf3bc7672": {
      "model_module": "@jupyter-widgets/controls",
      "model_module_version": "2.0.0",
      "model_name": "HTMLModel",
      "state": {
       "layout": "IPY_MODEL_e286eaca0efc41adbc6ba180cdaf3f25",
       "style": "IPY_MODEL_cc397a3d2ca443ecbc854e11c5d63014",
       "value": " 1/1 [00:02&lt;00:00,  2.71s/it, loss=0.00568]"
      }
     },
     "70d588f68869441a9cc12b6c5e8a69a7": {
      "model_module": "@jupyter-widgets/base",
      "model_module_version": "2.0.0",
      "model_name": "LayoutModel",
      "state": {}
     },
     "70d95e2312c84fe088d63063c9f58f71": {
      "model_module": "@jupyter-widgets/controls",
      "model_module_version": "2.0.0",
      "model_name": "HTMLStyleModel",
      "state": {
       "description_width": "",
       "font_size": null,
       "text_color": null
      }
     },
     "70fa4a973ba54498b636e7c11555199c": {
      "model_module": "@jupyter-widgets/controls",
      "model_module_version": "2.0.0",
      "model_name": "HTMLModel",
      "state": {
       "layout": "IPY_MODEL_3a79e98c41ad44d5a0b6c8d990c5ba59",
       "style": "IPY_MODEL_bc68d1109f094c68a8b7d91e342afd08",
       "value": " 500/500 [00:17&lt;00:00, 27.79it/s, loss=0.0018]"
      }
     },
     "71120b4c6c4a44958c561acbca38dbef": {
      "model_module": "@jupyter-widgets/controls",
      "model_module_version": "2.0.0",
      "model_name": "FloatProgressModel",
      "state": {
       "bar_style": "success",
       "layout": "IPY_MODEL_924f9d1c811747de8a293ecd3d9220b6",
       "max": 1,
       "style": "IPY_MODEL_26fb71aa61d646fe9b2ad68719eafde4",
       "value": 1
      }
     },
     "71174d5ff05449a8a11b4bd5134a1dcf": {
      "model_module": "@jupyter-widgets/controls",
      "model_module_version": "2.0.0",
      "model_name": "HBoxModel",
      "state": {
       "children": [
        "IPY_MODEL_1fd87197a5b641a7926db66c379a8ee4",
        "IPY_MODEL_c0c68abb9aed46e1b34166b004f76e29",
        "IPY_MODEL_f9d90979d9d2400ebcd89216bd213a49"
       ],
       "layout": "IPY_MODEL_59598afa15f343a1a7678d91e3faaf66"
      }
     },
     "716a08bfe34a4e79b06c54baa87e8363": {
      "model_module": "@jupyter-widgets/controls",
      "model_module_version": "2.0.0",
      "model_name": "FloatProgressModel",
      "state": {
       "bar_style": "success",
       "layout": "IPY_MODEL_b96d7ac919af47228028d6cb9907097d",
       "max": 500,
       "style": "IPY_MODEL_1c8133e05b904e13a0121cc97a648bd8",
       "value": 500
      }
     },
     "7173af254806470594054fd1ed8c42b5": {
      "model_module": "@jupyter-widgets/controls",
      "model_module_version": "2.0.0",
      "model_name": "FloatProgressModel",
      "state": {
       "bar_style": "success",
       "layout": "IPY_MODEL_14355b8f40ad41fba22e6a1e7591b807",
       "max": 1,
       "style": "IPY_MODEL_551ee243dd314aafa70b0b5bd13e95da",
       "value": 1
      }
     },
     "71b9f85175fc440ca69bc25a1bc33694": {
      "model_module": "@jupyter-widgets/base",
      "model_module_version": "2.0.0",
      "model_name": "LayoutModel",
      "state": {}
     },
     "722afa02983144899298d2c820e628f4": {
      "model_module": "@jupyter-widgets/base",
      "model_module_version": "2.0.0",
      "model_name": "LayoutModel",
      "state": {}
     },
     "7230fc8f53a1400c82d2bef2aed3bfd0": {
      "model_module": "@jupyter-widgets/controls",
      "model_module_version": "2.0.0",
      "model_name": "HTMLModel",
      "state": {
       "layout": "IPY_MODEL_0f74289fe8354f23a81e0d48dfbd40f0",
       "style": "IPY_MODEL_bd7f2e2098df4ae5900b394c4d86a042",
       "value": "Epoch 45/60: 100%"
      }
     },
     "72aa6c8e1b8a4bb09669f28c1c208e19": {
      "model_module": "@jupyter-widgets/controls",
      "model_module_version": "2.0.0",
      "model_name": "HTMLStyleModel",
      "state": {
       "description_width": "",
       "font_size": null,
       "text_color": null
      }
     },
     "72dcd5d5c25848ec873c59170c45e10c": {
      "model_module": "@jupyter-widgets/controls",
      "model_module_version": "2.0.0",
      "model_name": "HTMLStyleModel",
      "state": {
       "description_width": "",
       "font_size": null,
       "text_color": null
      }
     },
     "72de3a4ab1334b3a898178c390b112b1": {
      "model_module": "@jupyter-widgets/controls",
      "model_module_version": "2.0.0",
      "model_name": "ProgressStyleModel",
      "state": {
       "description_width": ""
      }
     },
     "72e7ece5304c4b3d8c875de9eaadd635": {
      "model_module": "@jupyter-widgets/controls",
      "model_module_version": "2.0.0",
      "model_name": "FloatProgressModel",
      "state": {
       "bar_style": "success",
       "layout": "IPY_MODEL_18678cebbf9e45ffaefabd4d705c79ee",
       "max": 500,
       "style": "IPY_MODEL_2beab91557d840909e24387031d8ff34",
       "value": 500
      }
     },
     "72f2ab3054e9480ca3cd6e039cfae68e": {
      "model_module": "@jupyter-widgets/controls",
      "model_module_version": "2.0.0",
      "model_name": "HTMLModel",
      "state": {
       "layout": "IPY_MODEL_85efc6f559804eb6a66435365557b7e6",
       "style": "IPY_MODEL_7d8b24e6eed4493fa71fe6761dfd781d",
       "value": " 1/1 [00:02&lt;00:00,  2.70s/it, loss=23.9]"
      }
     },
     "72f389b82b034cefa70e834dd74360aa": {
      "model_module": "@jupyter-widgets/controls",
      "model_module_version": "2.0.0",
      "model_name": "HTMLModel",
      "state": {
       "layout": "IPY_MODEL_f49ef747a1ad4fd4aa0196681be79403",
       "style": "IPY_MODEL_f255cd0c083141baad6f7fd9a6331e40",
       "value": " 500/500 [00:18&lt;00:00, 27.25it/s, loss=0.00185]"
      }
     },
     "73070a69252448ad8189fd472df0e801": {
      "model_module": "@jupyter-widgets/controls",
      "model_module_version": "2.0.0",
      "model_name": "HTMLModel",
      "state": {
       "layout": "IPY_MODEL_0bed0b5081e1408488e7f491e0a1572d",
       "style": "IPY_MODEL_d7e32753944041b7bab65c5646debc82",
       "value": "Epoch 34/60: 100%"
      }
     },
     "731c46911dfc4599b2e3fbfc7db3d2f8": {
      "model_module": "@jupyter-widgets/base",
      "model_module_version": "2.0.0",
      "model_name": "LayoutModel",
      "state": {}
     },
     "73457fbb68324fdfa5c268ac18dd1b4d": {
      "model_module": "@jupyter-widgets/controls",
      "model_module_version": "2.0.0",
      "model_name": "HTMLStyleModel",
      "state": {
       "description_width": "",
       "font_size": null,
       "text_color": null
      }
     },
     "7390b1db1eb54d6282a245151a0dde2b": {
      "model_module": "@jupyter-widgets/controls",
      "model_module_version": "2.0.0",
      "model_name": "HBoxModel",
      "state": {
       "children": [
        "IPY_MODEL_c371a30deeac406e9668031ed0aa11d3",
        "IPY_MODEL_a267464edd744093a6ab603a73e208a0",
        "IPY_MODEL_f560dae6486446eda7ee4323808339db"
       ],
       "layout": "IPY_MODEL_0bdab18c0480438193641250432da37c"
      }
     },
     "73c1d4656c444dd386d24b844eef21f9": {
      "model_module": "@jupyter-widgets/controls",
      "model_module_version": "2.0.0",
      "model_name": "HTMLModel",
      "state": {
       "layout": "IPY_MODEL_a3b09349a21943c79fd2812b079114dd",
       "style": "IPY_MODEL_ea385909c7524001805bc77916097b07",
       "value": " 1/1 [00:02&lt;00:00,  2.71s/it, loss=0.0157]"
      }
     },
     "73fdd51e2e3f47ad851911d282aa6e20": {
      "model_module": "@jupyter-widgets/controls",
      "model_module_version": "2.0.0",
      "model_name": "HTMLModel",
      "state": {
       "layout": "IPY_MODEL_6bf1f671445a44f88d3e4e9c5db696a4",
       "style": "IPY_MODEL_6584c0263edd4bd48713faeb32a71c06",
       "value": "Epoch 11/60: 100%"
      }
     },
     "743bff2dda174a75ab0921dad1c7b8f4": {
      "model_module": "@jupyter-widgets/base",
      "model_module_version": "2.0.0",
      "model_name": "LayoutModel",
      "state": {}
     },
     "74469979ee69470d855a6d39cd296508": {
      "model_module": "@jupyter-widgets/controls",
      "model_module_version": "2.0.0",
      "model_name": "FloatProgressModel",
      "state": {
       "bar_style": "success",
       "layout": "IPY_MODEL_aeb30594548e4775a6353f830213594e",
       "max": 1,
       "style": "IPY_MODEL_2c4f2de84e2c48119fe3abc98ecc3318",
       "value": 1
      }
     },
     "7455e740fb434c869ab4a7239382c874": {
      "model_module": "@jupyter-widgets/base",
      "model_module_version": "2.0.0",
      "model_name": "LayoutModel",
      "state": {}
     },
     "746167c09ce44e6b9ff6212af4975c47": {
      "model_module": "@jupyter-widgets/base",
      "model_module_version": "2.0.0",
      "model_name": "LayoutModel",
      "state": {}
     },
     "749e052863d149e594c690d1703a74da": {
      "model_module": "@jupyter-widgets/controls",
      "model_module_version": "2.0.0",
      "model_name": "FloatProgressModel",
      "state": {
       "bar_style": "success",
       "layout": "IPY_MODEL_37d2e9f5c6fe4600ab05024f398f7145",
       "max": 500,
       "style": "IPY_MODEL_28c826de5e094262aaade38026fd567a",
       "value": 500
      }
     },
     "74e6b78e81c94711b4b67923ae72514b": {
      "model_module": "@jupyter-widgets/controls",
      "model_module_version": "2.0.0",
      "model_name": "FloatProgressModel",
      "state": {
       "bar_style": "success",
       "layout": "IPY_MODEL_60df315d0e17433b8856b3ae3abd4696",
       "max": 500,
       "style": "IPY_MODEL_06b30f354f734fb3873db97f021256ff",
       "value": 500
      }
     },
     "74e884eedbd54390acee18576ee6cdd0": {
      "model_module": "@jupyter-widgets/base",
      "model_module_version": "2.0.0",
      "model_name": "LayoutModel",
      "state": {}
     },
     "75069137d7414cf098e7af5f7b0df3f2": {
      "model_module": "@jupyter-widgets/controls",
      "model_module_version": "2.0.0",
      "model_name": "HTMLModel",
      "state": {
       "layout": "IPY_MODEL_62a750ad35844c07a64103de74e67958",
       "style": "IPY_MODEL_d1c1574520a34f81ad4eca5b5201edfa",
       "value": "Epoch 3/60: 100%"
      }
     },
     "75600d7e284249138a5889ad0eb0d310": {
      "model_module": "@jupyter-widgets/controls",
      "model_module_version": "2.0.0",
      "model_name": "FloatProgressModel",
      "state": {
       "bar_style": "success",
       "layout": "IPY_MODEL_045a405ca4214b7b9390e613a4d9ea67",
       "max": 1,
       "style": "IPY_MODEL_9fb55427447f4c16b06bb879b4f8fc84",
       "value": 1
      }
     },
     "7564b12b5e634ea7a659b76fab6669ea": {
      "model_module": "@jupyter-widgets/controls",
      "model_module_version": "2.0.0",
      "model_name": "FloatProgressModel",
      "state": {
       "bar_style": "danger",
       "layout": "IPY_MODEL_1e2d357184ec45d0bf26c486a641d820",
       "max": 1,
       "style": "IPY_MODEL_77cc1cc4e67c4bcb81710c0326398d21"
      }
     },
     "75a5eff13d0946cf84783887146b6116": {
      "model_module": "@jupyter-widgets/controls",
      "model_module_version": "2.0.0",
      "model_name": "HTMLStyleModel",
      "state": {
       "description_width": "",
       "font_size": null,
       "text_color": null
      }
     },
     "75e06e84f0ee445483d9e605d5bf0acc": {
      "model_module": "@jupyter-widgets/base",
      "model_module_version": "2.0.0",
      "model_name": "LayoutModel",
      "state": {}
     },
     "75e529c64abe48c0b9dd1c7baf41f95c": {
      "model_module": "@jupyter-widgets/controls",
      "model_module_version": "2.0.0",
      "model_name": "HBoxModel",
      "state": {
       "children": [
        "IPY_MODEL_d1f8e13c973545a490a20fb3634e1e21",
        "IPY_MODEL_df53d84b6f73456f9a39ac2a1381fb4d",
        "IPY_MODEL_eb491f58d0e74e55b5321e8a22bc5066"
       ],
       "layout": "IPY_MODEL_e4ac114037564218a1d30fb69732f7e2"
      }
     },
     "7635a191c5f04992b6d1c4779217dde4": {
      "model_module": "@jupyter-widgets/base",
      "model_module_version": "2.0.0",
      "model_name": "LayoutModel",
      "state": {}
     },
     "76ae9191f7ad4e2e84a89aa5633b6c75": {
      "model_module": "@jupyter-widgets/controls",
      "model_module_version": "2.0.0",
      "model_name": "HTMLStyleModel",
      "state": {
       "description_width": "",
       "font_size": null,
       "text_color": null
      }
     },
     "76ce56bd19e24756b9924acbcd309271": {
      "model_module": "@jupyter-widgets/base",
      "model_module_version": "2.0.0",
      "model_name": "LayoutModel",
      "state": {}
     },
     "76d4e8082671478e9ca7da8f9144a082": {
      "model_module": "@jupyter-widgets/base",
      "model_module_version": "2.0.0",
      "model_name": "LayoutModel",
      "state": {}
     },
     "76e07d523c644806801389a07c383702": {
      "model_module": "@jupyter-widgets/base",
      "model_module_version": "2.0.0",
      "model_name": "LayoutModel",
      "state": {}
     },
     "76e534cb88734f5a9b0faffe7f33f1ba": {
      "model_module": "@jupyter-widgets/base",
      "model_module_version": "2.0.0",
      "model_name": "LayoutModel",
      "state": {}
     },
     "76f7b342eac44937a294fe3d9e1ab170": {
      "model_module": "@jupyter-widgets/controls",
      "model_module_version": "2.0.0",
      "model_name": "HBoxModel",
      "state": {
       "children": [
        "IPY_MODEL_77667c24c5494acea18f5517bc84a9ca",
        "IPY_MODEL_ce8a292c1c3a46a792d2546089cec564",
        "IPY_MODEL_232b8675ecaa4735b8596219a0b2ab26"
       ],
       "layout": "IPY_MODEL_f2955991320c4196806ef046f7253e10"
      }
     },
     "775719ef0fd24b9a878081769c788ba4": {
      "model_module": "@jupyter-widgets/base",
      "model_module_version": "2.0.0",
      "model_name": "LayoutModel",
      "state": {}
     },
     "77667c24c5494acea18f5517bc84a9ca": {
      "model_module": "@jupyter-widgets/controls",
      "model_module_version": "2.0.0",
      "model_name": "HTMLModel",
      "state": {
       "layout": "IPY_MODEL_c49a8dbb207a4be8b0a6abf85f832c28",
       "style": "IPY_MODEL_2491abd988af48fbb30b0af0ac05e960",
       "value": "Epoch 55/60: 100%"
      }
     },
     "778e1fc7257d45b7a5cb85134369f8d8": {
      "model_module": "@jupyter-widgets/controls",
      "model_module_version": "2.0.0",
      "model_name": "ProgressStyleModel",
      "state": {
       "description_width": ""
      }
     },
     "7799c0ea146e4440a8ff5194368e1495": {
      "model_module": "@jupyter-widgets/controls",
      "model_module_version": "2.0.0",
      "model_name": "HTMLStyleModel",
      "state": {
       "description_width": "",
       "font_size": null,
       "text_color": null
      }
     },
     "77a3ab422b2e4cf48f7a6b4404fa093d": {
      "model_module": "@jupyter-widgets/base",
      "model_module_version": "2.0.0",
      "model_name": "LayoutModel",
      "state": {}
     },
     "77a658a68e10458f94f77a461e582e3d": {
      "model_module": "@jupyter-widgets/base",
      "model_module_version": "2.0.0",
      "model_name": "LayoutModel",
      "state": {}
     },
     "77b686dc356946708786adbb2eb286b1": {
      "model_module": "@jupyter-widgets/controls",
      "model_module_version": "2.0.0",
      "model_name": "HTMLModel",
      "state": {
       "layout": "IPY_MODEL_ffc8b68011a143f7bbf426079c0a7bb5",
       "style": "IPY_MODEL_4951c914e4464f0abedda7fdd1536666",
       "value": "Epoch 37/60: 100%"
      }
     },
     "77cc1cc4e67c4bcb81710c0326398d21": {
      "model_module": "@jupyter-widgets/controls",
      "model_module_version": "2.0.0",
      "model_name": "ProgressStyleModel",
      "state": {
       "description_width": ""
      }
     },
     "77e22dbda9cb4ad68cb3d631b2918418": {
      "model_module": "@jupyter-widgets/controls",
      "model_module_version": "2.0.0",
      "model_name": "HTMLStyleModel",
      "state": {
       "description_width": "",
       "font_size": null,
       "text_color": null
      }
     },
     "77ed884c93de4f23a6f21dce8c3353a1": {
      "model_module": "@jupyter-widgets/controls",
      "model_module_version": "2.0.0",
      "model_name": "HTMLModel",
      "state": {
       "layout": "IPY_MODEL_c02bac9a90ec449b85c60ec9de53c5f6",
       "style": "IPY_MODEL_f5b707478ba44698b723a2e838f5bb97",
       "value": " 500/500 [00:17&lt;00:00, 27.83it/s, loss=0.00181]"
      }
     },
     "780bab6b302c42f2af3b87d393cf31f7": {
      "model_module": "@jupyter-widgets/controls",
      "model_module_version": "2.0.0",
      "model_name": "ProgressStyleModel",
      "state": {
       "description_width": ""
      }
     },
     "78449dc12df3454f913ad4c99f32b75b": {
      "model_module": "@jupyter-widgets/controls",
      "model_module_version": "2.0.0",
      "model_name": "HTMLStyleModel",
      "state": {
       "description_width": "",
       "font_size": null,
       "text_color": null
      }
     },
     "78540a5ca0574a25897a904eb65cc25e": {
      "model_module": "@jupyter-widgets/controls",
      "model_module_version": "2.0.0",
      "model_name": "HTMLStyleModel",
      "state": {
       "description_width": "",
       "font_size": null,
       "text_color": null
      }
     },
     "786b4070f2db44dd83c94fb77c4165c7": {
      "model_module": "@jupyter-widgets/controls",
      "model_module_version": "2.0.0",
      "model_name": "HTMLModel",
      "state": {
       "layout": "IPY_MODEL_20975f73880948f48e25de5a77cf5dca",
       "style": "IPY_MODEL_34e4ce140f4f4e4ba67c4742775044b7",
       "value": " 500/500 [00:18&lt;00:00, 27.37it/s, loss=6.19e+4]"
      }
     },
     "787d7dd24df84e8f822fa9b0f6ca8f58": {
      "model_module": "@jupyter-widgets/controls",
      "model_module_version": "2.0.0",
      "model_name": "HBoxModel",
      "state": {
       "children": [
        "IPY_MODEL_b5d22d71af394e2198f2245ffcdea705",
        "IPY_MODEL_3cb7f6ff9e1346668ef8dbc78f380a57",
        "IPY_MODEL_ab54610c1efb456a9dd4a54ce29207b5"
       ],
       "layout": "IPY_MODEL_4013ab0bb9404fddae12ee72c81e837b"
      }
     },
     "78b49cac9fe24047a0f9666096e42312": {
      "model_module": "@jupyter-widgets/base",
      "model_module_version": "2.0.0",
      "model_name": "LayoutModel",
      "state": {}
     },
     "78df17d2aa2e4083898a00c60eab2c74": {
      "model_module": "@jupyter-widgets/controls",
      "model_module_version": "2.0.0",
      "model_name": "HBoxModel",
      "state": {
       "children": [
        "IPY_MODEL_85217c376ea04176b1810ec1ed1f4919",
        "IPY_MODEL_1893dc4b235b458a91bf0bc3ccc4818e",
        "IPY_MODEL_5b0aafd5f43c43009c9e525d262cef5f"
       ],
       "layout": "IPY_MODEL_fcd6fa5d20e247d3b5c16a9230567141"
      }
     },
     "792cb263b11b4f1199ecaaf0cbb9edcd": {
      "model_module": "@jupyter-widgets/controls",
      "model_module_version": "2.0.0",
      "model_name": "HTMLModel",
      "state": {
       "layout": "IPY_MODEL_2462276477a444f5a86a085a661780b3",
       "style": "IPY_MODEL_70d95e2312c84fe088d63063c9f58f71",
       "value": " 1/1 [00:02&lt;00:00,  2.71s/it, loss=0.00958]"
      }
     },
     "7948cf5a38ae478e9c31838efc76895f": {
      "model_module": "@jupyter-widgets/base",
      "model_module_version": "2.0.0",
      "model_name": "LayoutModel",
      "state": {}
     },
     "795b9dd34b754f9a8ea1b356eae27fa1": {
      "model_module": "@jupyter-widgets/controls",
      "model_module_version": "2.0.0",
      "model_name": "ProgressStyleModel",
      "state": {
       "description_width": ""
      }
     },
     "79721246d85449ccb5e2382c5edd4b1e": {
      "model_module": "@jupyter-widgets/controls",
      "model_module_version": "2.0.0",
      "model_name": "HBoxModel",
      "state": {
       "children": [
        "IPY_MODEL_40b6a2c4536b48339a464ac792a1313a",
        "IPY_MODEL_e21b4e1033394ebc82687da337d67ea6",
        "IPY_MODEL_c4c9d759b5e346e4a4b0f81dd048fe25"
       ],
       "layout": "IPY_MODEL_fa4a446a048143be882de892270937bc"
      }
     },
     "797cb4395091495687904056765ba5f2": {
      "model_module": "@jupyter-widgets/base",
      "model_module_version": "2.0.0",
      "model_name": "LayoutModel",
      "state": {}
     },
     "799b37849f1b4c63a71a0f357177e54f": {
      "model_module": "@jupyter-widgets/base",
      "model_module_version": "2.0.0",
      "model_name": "LayoutModel",
      "state": {}
     },
     "79afaf8601764f57bc02574344532a2c": {
      "model_module": "@jupyter-widgets/controls",
      "model_module_version": "2.0.0",
      "model_name": "HTMLModel",
      "state": {
       "layout": "IPY_MODEL_67a94c1eb8344369826ad3868890678f",
       "style": "IPY_MODEL_73457fbb68324fdfa5c268ac18dd1b4d",
       "value": "Epoch 42/60: 100%"
      }
     },
     "7a111fbd87ac47a88434a880ad2edf3c": {
      "model_module": "@jupyter-widgets/controls",
      "model_module_version": "2.0.0",
      "model_name": "ProgressStyleModel",
      "state": {
       "description_width": ""
      }
     },
     "7a45f805c10e4602b68092a61210652d": {
      "model_module": "@jupyter-widgets/controls",
      "model_module_version": "2.0.0",
      "model_name": "HTMLModel",
      "state": {
       "layout": "IPY_MODEL_48e722b4c16a429284e60912087a1ce2",
       "style": "IPY_MODEL_e68b3b101d5142b392f253c53cfe8d16",
       "value": "Epoch 14/60: 100%"
      }
     },
     "7a75af72cc4f440a9d0b11ce09b8193f": {
      "model_module": "@jupyter-widgets/base",
      "model_module_version": "2.0.0",
      "model_name": "LayoutModel",
      "state": {}
     },
     "7a87b99ce7e34c648fb5c1f4d21db249": {
      "model_module": "@jupyter-widgets/base",
      "model_module_version": "2.0.0",
      "model_name": "LayoutModel",
      "state": {}
     },
     "7a95b6652ed9464188cd5ac110896655": {
      "model_module": "@jupyter-widgets/base",
      "model_module_version": "2.0.0",
      "model_name": "LayoutModel",
      "state": {}
     },
     "7bb3521a8bf74fb58a62e73bf347ec88": {
      "model_module": "@jupyter-widgets/base",
      "model_module_version": "2.0.0",
      "model_name": "LayoutModel",
      "state": {}
     },
     "7c71aa031952437386522a90519f2f4d": {
      "model_module": "@jupyter-widgets/controls",
      "model_module_version": "2.0.0",
      "model_name": "HTMLModel",
      "state": {
       "layout": "IPY_MODEL_4150e59835114e99a83e37ffa4665449",
       "style": "IPY_MODEL_5c83c1038a024ae68130231b1f31f8a6",
       "value": " 1/1 [00:01&lt;00:00,  1.32s/it]"
      }
     },
     "7c93700715f54cd6bbb66619f78be4f2": {
      "model_module": "@jupyter-widgets/controls",
      "model_module_version": "2.0.0",
      "model_name": "HTMLModel",
      "state": {
       "layout": "IPY_MODEL_d56ae77745874feea265b28218921491",
       "style": "IPY_MODEL_82aff16f03054824995b29a2478375dd",
       "value": " 500/500 [00:18&lt;00:00, 27.87it/s, loss=0.00187]"
      }
     },
     "7c950070b97d4e71a8dc5d7f108e764b": {
      "model_module": "@jupyter-widgets/base",
      "model_module_version": "2.0.0",
      "model_name": "LayoutModel",
      "state": {}
     },
     "7cbff67e961d4b2eabbcd3d5b7ff1b46": {
      "model_module": "@jupyter-widgets/base",
      "model_module_version": "2.0.0",
      "model_name": "LayoutModel",
      "state": {}
     },
     "7cd003d65039403da115237164812a00": {
      "model_module": "@jupyter-widgets/base",
      "model_module_version": "2.0.0",
      "model_name": "LayoutModel",
      "state": {}
     },
     "7cddedb745ad424e9bc71ac563f3a71a": {
      "model_module": "@jupyter-widgets/controls",
      "model_module_version": "2.0.0",
      "model_name": "FloatProgressModel",
      "state": {
       "bar_style": "success",
       "layout": "IPY_MODEL_c389ff4f166c44e3a4f703fbb23a1a83",
       "max": 500,
       "style": "IPY_MODEL_2fd932e087e647898de9e9c71bcecafb",
       "value": 500
      }
     },
     "7d0eaddc995e49c0abde42a8da2ed679": {
      "model_module": "@jupyter-widgets/base",
      "model_module_version": "2.0.0",
      "model_name": "LayoutModel",
      "state": {}
     },
     "7d22880d30834276be4bc4e4107a08bc": {
      "model_module": "@jupyter-widgets/base",
      "model_module_version": "2.0.0",
      "model_name": "LayoutModel",
      "state": {}
     },
     "7d518ec8f4784faea1507a9f010b1635": {
      "model_module": "@jupyter-widgets/base",
      "model_module_version": "2.0.0",
      "model_name": "LayoutModel",
      "state": {}
     },
     "7d51f7de994a46458e77e3454cec0d98": {
      "model_module": "@jupyter-widgets/controls",
      "model_module_version": "2.0.0",
      "model_name": "HTMLModel",
      "state": {
       "layout": "IPY_MODEL_cb3087a6ec30401682a0926767326a03",
       "style": "IPY_MODEL_20ec734693a0485991c4d3247c43b1c1",
       "value": "Epoch 25/60: 100%"
      }
     },
     "7d74f72d6d4f45ddb4dda4912cef5794": {
      "model_module": "@jupyter-widgets/controls",
      "model_module_version": "2.0.0",
      "model_name": "HTMLStyleModel",
      "state": {
       "description_width": "",
       "font_size": null,
       "text_color": null
      }
     },
     "7d8b24e6eed4493fa71fe6761dfd781d": {
      "model_module": "@jupyter-widgets/controls",
      "model_module_version": "2.0.0",
      "model_name": "HTMLStyleModel",
      "state": {
       "description_width": "",
       "font_size": null,
       "text_color": null
      }
     },
     "7e13dc73afd44ffe813d949e5ac417e6": {
      "model_module": "@jupyter-widgets/controls",
      "model_module_version": "2.0.0",
      "model_name": "HTMLStyleModel",
      "state": {
       "description_width": "",
       "font_size": null,
       "text_color": null
      }
     },
     "7e30f9cbcef54472a4e41884ff1fa132": {
      "model_module": "@jupyter-widgets/base",
      "model_module_version": "2.0.0",
      "model_name": "LayoutModel",
      "state": {}
     },
     "7eb35d61a419435991d0ca7f473d1a23": {
      "model_module": "@jupyter-widgets/controls",
      "model_module_version": "2.0.0",
      "model_name": "HTMLModel",
      "state": {
       "layout": "IPY_MODEL_6840002b03be445aa7e416f64f655110",
       "style": "IPY_MODEL_8a82b4c48369471cb15dca87211b402e",
       "value": " 500/500 [00:18&lt;00:00, 25.55it/s, loss=0.00244]"
      }
     },
     "7ebaa100a1004ba4b1f3fcc673ef5174": {
      "model_module": "@jupyter-widgets/base",
      "model_module_version": "2.0.0",
      "model_name": "LayoutModel",
      "state": {}
     },
     "7ec76bb7fa6a470ab20417e0324d3925": {
      "model_module": "@jupyter-widgets/base",
      "model_module_version": "2.0.0",
      "model_name": "LayoutModel",
      "state": {}
     },
     "7ecc144ebf0b420caf50410306678b0a": {
      "model_module": "@jupyter-widgets/base",
      "model_module_version": "2.0.0",
      "model_name": "LayoutModel",
      "state": {}
     },
     "7ede7e113d9742d9bbcb49e5ef8b4eda": {
      "model_module": "@jupyter-widgets/controls",
      "model_module_version": "2.0.0",
      "model_name": "HTMLModel",
      "state": {
       "layout": "IPY_MODEL_25193cbf93d043c78e8eefb591129ad8",
       "style": "IPY_MODEL_f9ccdac8a2fb4478a57835547b139d7a",
       "value": "Epoch 12/60: 100%"
      }
     },
     "7f07b117da8d4b569c970c023059e3f5": {
      "model_module": "@jupyter-widgets/base",
      "model_module_version": "2.0.0",
      "model_name": "LayoutModel",
      "state": {}
     },
     "7f415436bf7c49bfafa97749e932d864": {
      "model_module": "@jupyter-widgets/controls",
      "model_module_version": "2.0.0",
      "model_name": "HTMLStyleModel",
      "state": {
       "description_width": "",
       "font_size": null,
       "text_color": null
      }
     },
     "7f6407a2d5b447fe9f5f39addea9dd65": {
      "model_module": "@jupyter-widgets/controls",
      "model_module_version": "2.0.0",
      "model_name": "HTMLModel",
      "state": {
       "layout": "IPY_MODEL_743bff2dda174a75ab0921dad1c7b8f4",
       "style": "IPY_MODEL_12939c3348984e1d8e8f8a7989378d2b",
       "value": "Epoch 38/60: 100%"
      }
     },
     "7f6b6bc7095e4c6a93b7f971857f6ee9": {
      "model_module": "@jupyter-widgets/base",
      "model_module_version": "2.0.0",
      "model_name": "LayoutModel",
      "state": {}
     },
     "7f7a4200e73f43f393e603678c048888": {
      "model_module": "@jupyter-widgets/base",
      "model_module_version": "2.0.0",
      "model_name": "LayoutModel",
      "state": {}
     },
     "7f82e5a038b144408911b84940b12b7e": {
      "model_module": "@jupyter-widgets/base",
      "model_module_version": "2.0.0",
      "model_name": "LayoutModel",
      "state": {}
     },
     "7f8b45e1bc9046ee868168e3e808f8e8": {
      "model_module": "@jupyter-widgets/controls",
      "model_module_version": "2.0.0",
      "model_name": "HTMLStyleModel",
      "state": {
       "description_width": "",
       "font_size": null,
       "text_color": null
      }
     },
     "7f8da8d393ba471c8642241447046b82": {
      "model_module": "@jupyter-widgets/controls",
      "model_module_version": "2.0.0",
      "model_name": "HTMLModel",
      "state": {
       "layout": "IPY_MODEL_4369b719948548548f0a7a99fce1aaac",
       "style": "IPY_MODEL_55986acbac3b4daa86e988998909e4a7",
       "value": " 500/500 [00:18&lt;00:00, 27.85it/s, loss=0.00209]"
      }
     },
     "7ffa3b24d7eb45a1b63c03764e4dc937": {
      "model_module": "@jupyter-widgets/base",
      "model_module_version": "2.0.0",
      "model_name": "LayoutModel",
      "state": {}
     },
     "80377ddc2d284b2b8a46dd46f9761af7": {
      "model_module": "@jupyter-widgets/base",
      "model_module_version": "2.0.0",
      "model_name": "LayoutModel",
      "state": {}
     },
     "803d5f25bc76409a9170dd13c6b906b9": {
      "model_module": "@jupyter-widgets/controls",
      "model_module_version": "2.0.0",
      "model_name": "FloatProgressModel",
      "state": {
       "bar_style": "success",
       "layout": "IPY_MODEL_a45643419f9847249c184ba842151f94",
       "max": 500,
       "style": "IPY_MODEL_a782da42875b4c13afbc14f704739f50",
       "value": 500
      }
     },
     "80686860a0df4c6bbe8b5508cd6437d0": {
      "model_module": "@jupyter-widgets/controls",
      "model_module_version": "2.0.0",
      "model_name": "HBoxModel",
      "state": {
       "children": [
        "IPY_MODEL_ce4ca5379e894b579bbe5820c21b3f22",
        "IPY_MODEL_825fca22168e412ebad7deea04cd342a",
        "IPY_MODEL_e353269077d645d998d2f3c92faadbf8"
       ],
       "layout": "IPY_MODEL_7cbff67e961d4b2eabbcd3d5b7ff1b46"
      }
     },
     "809760bb1ae64ed8b1efb72566040c06": {
      "model_module": "@jupyter-widgets/controls",
      "model_module_version": "2.0.0",
      "model_name": "HTMLStyleModel",
      "state": {
       "description_width": "",
       "font_size": null,
       "text_color": null
      }
     },
     "810f0e87cca841d8a537ae4ec55841e5": {
      "model_module": "@jupyter-widgets/base",
      "model_module_version": "2.0.0",
      "model_name": "LayoutModel",
      "state": {}
     },
     "814154ad08c3458cb0d746f50a4ee9a3": {
      "model_module": "@jupyter-widgets/controls",
      "model_module_version": "2.0.0",
      "model_name": "ProgressStyleModel",
      "state": {
       "description_width": ""
      }
     },
     "815b72ff2f1b4992b3f81307460376fb": {
      "model_module": "@jupyter-widgets/base",
      "model_module_version": "2.0.0",
      "model_name": "LayoutModel",
      "state": {}
     },
     "817fc0805ae14bca890d1f0f54eaf3ab": {
      "model_module": "@jupyter-widgets/controls",
      "model_module_version": "2.0.0",
      "model_name": "HTMLStyleModel",
      "state": {
       "description_width": "",
       "font_size": null,
       "text_color": null
      }
     },
     "819eab186f654330aa3796f2004ff9fa": {
      "model_module": "@jupyter-widgets/controls",
      "model_module_version": "2.0.0",
      "model_name": "ProgressStyleModel",
      "state": {
       "description_width": ""
      }
     },
     "81b860a5ed30411c9d7aee70d0686a6e": {
      "model_module": "@jupyter-widgets/controls",
      "model_module_version": "2.0.0",
      "model_name": "FloatProgressModel",
      "state": {
       "bar_style": "success",
       "layout": "IPY_MODEL_dbb8abfa370045c7a0496dde6161e787",
       "max": 1,
       "style": "IPY_MODEL_82b374c25d6f441babc6348422b51f96",
       "value": 1
      }
     },
     "82314d837b0e4173a5655086c7f6647e": {
      "model_module": "@jupyter-widgets/controls",
      "model_module_version": "2.0.0",
      "model_name": "HTMLStyleModel",
      "state": {
       "description_width": "",
       "font_size": null,
       "text_color": null
      }
     },
     "82428660e68f494eafae47a31381b1ac": {
      "model_module": "@jupyter-widgets/base",
      "model_module_version": "2.0.0",
      "model_name": "LayoutModel",
      "state": {}
     },
     "825757adaac04d02ae7977eb721c6f96": {
      "model_module": "@jupyter-widgets/base",
      "model_module_version": "2.0.0",
      "model_name": "LayoutModel",
      "state": {}
     },
     "825fca22168e412ebad7deea04cd342a": {
      "model_module": "@jupyter-widgets/controls",
      "model_module_version": "2.0.0",
      "model_name": "FloatProgressModel",
      "state": {
       "bar_style": "success",
       "layout": "IPY_MODEL_5df3cd0771df4f618fe05f4898216a3a",
       "max": 1,
       "style": "IPY_MODEL_54346785a3764e90b7bb36d1499c8fad",
       "value": 1
      }
     },
     "826cfb4187874c0e96c820705ecce2a4": {
      "model_module": "@jupyter-widgets/controls",
      "model_module_version": "2.0.0",
      "model_name": "HTMLModel",
      "state": {
       "layout": "IPY_MODEL_175f0cba2f2c4cd3a4391faf0d6e6897",
       "style": "IPY_MODEL_09d0c55257604df9aebba1aff0972835",
       "value": " 500/500 [00:18&lt;00:00, 27.69it/s, loss=0.00181]"
      }
     },
     "82939cfd17d34bed8d35db71fd014636": {
      "model_module": "@jupyter-widgets/controls",
      "model_module_version": "2.0.0",
      "model_name": "FloatProgressModel",
      "state": {
       "bar_style": "success",
       "layout": "IPY_MODEL_af001648d8f748f18fd0bca8abbc7bc8",
       "max": 1,
       "style": "IPY_MODEL_fd3a5887066a489a8b5947a35c80db8a",
       "value": 1
      }
     },
     "82970235a82b4ddcb02e578213691abb": {
      "model_module": "@jupyter-widgets/controls",
      "model_module_version": "2.0.0",
      "model_name": "HTMLModel",
      "state": {
       "layout": "IPY_MODEL_24c39240bb9a42579221c606217d9246",
       "style": "IPY_MODEL_882974779ab845769b44a40c9d69a1ee",
       "value": " 500/500 [00:08&lt;00:00, 56.96it/s]"
      }
     },
     "82aff16f03054824995b29a2478375dd": {
      "model_module": "@jupyter-widgets/controls",
      "model_module_version": "2.0.0",
      "model_name": "HTMLStyleModel",
      "state": {
       "description_width": "",
       "font_size": null,
       "text_color": null
      }
     },
     "82b374c25d6f441babc6348422b51f96": {
      "model_module": "@jupyter-widgets/controls",
      "model_module_version": "2.0.0",
      "model_name": "ProgressStyleModel",
      "state": {
       "description_width": ""
      }
     },
     "82dbeb1ae33943a5ae3a89ba82c335f7": {
      "model_module": "@jupyter-widgets/controls",
      "model_module_version": "2.0.0",
      "model_name": "HTMLStyleModel",
      "state": {
       "description_width": "",
       "font_size": null,
       "text_color": null
      }
     },
     "82f41365161949b1a39db6b8a05bd08c": {
      "model_module": "@jupyter-widgets/base",
      "model_module_version": "2.0.0",
      "model_name": "LayoutModel",
      "state": {}
     },
     "82fd0e1c1a8246e1a4389d8b54247c6d": {
      "model_module": "@jupyter-widgets/controls",
      "model_module_version": "2.0.0",
      "model_name": "FloatProgressModel",
      "state": {
       "bar_style": "success",
       "layout": "IPY_MODEL_6b122081d4f147be951a597942c08c0d",
       "max": 500,
       "style": "IPY_MODEL_90d3bb9b58384b18890685ce45b011e5",
       "value": 500
      }
     },
     "83418678e28141da96dc02cbe643d8a3": {
      "model_module": "@jupyter-widgets/controls",
      "model_module_version": "2.0.0",
      "model_name": "HTMLModel",
      "state": {
       "layout": "IPY_MODEL_ffb421ada6744dacb831140c923ee973",
       "style": "IPY_MODEL_c725a5823f3f4a5a8ffa00a10684bc05",
       "value": "Epoch 47/60: 100%"
      }
     },
     "83751e83f6084b98a0bdb3d85d0072db": {
      "model_module": "@jupyter-widgets/base",
      "model_module_version": "2.0.0",
      "model_name": "LayoutModel",
      "state": {}
     },
     "83a80f1c75764843a856650becf6cc12": {
      "model_module": "@jupyter-widgets/controls",
      "model_module_version": "2.0.0",
      "model_name": "HTMLStyleModel",
      "state": {
       "description_width": "",
       "font_size": null,
       "text_color": null
      }
     },
     "83cae6ffeb0546629a9dc59bb5cdfad3": {
      "model_module": "@jupyter-widgets/base",
      "model_module_version": "2.0.0",
      "model_name": "LayoutModel",
      "state": {}
     },
     "83d2f887d32e4cc38650f9bd4d47f7c1": {
      "model_module": "@jupyter-widgets/controls",
      "model_module_version": "2.0.0",
      "model_name": "HBoxModel",
      "state": {
       "children": [
        "IPY_MODEL_171790ad5ebf4754bd4289e75c4f9e27",
        "IPY_MODEL_aa170db914444e1e9d8fcce61efda6f6",
        "IPY_MODEL_6cb3d4fbd0ea41a5b7f6e03391a95698"
       ],
       "layout": "IPY_MODEL_97a4fde9e7454c96bd952775b747bfe9"
      }
     },
     "83e3b21d46044a0faac46d4b8444933a": {
      "model_module": "@jupyter-widgets/base",
      "model_module_version": "2.0.0",
      "model_name": "LayoutModel",
      "state": {}
     },
     "84312635eaa04eb0832277445be1315b": {
      "model_module": "@jupyter-widgets/controls",
      "model_module_version": "2.0.0",
      "model_name": "HTMLModel",
      "state": {
       "layout": "IPY_MODEL_e4e426c939d2437aa67a3ea413e14bb2",
       "style": "IPY_MODEL_fc84eb24bfad489893c8990b0c11a12a",
       "value": " 500/500 [00:18&lt;00:00, 27.27it/s, loss=0.0355]"
      }
     },
     "8454b83189e647ca83e68eaab5a61d04": {
      "model_module": "@jupyter-widgets/base",
      "model_module_version": "2.0.0",
      "model_name": "LayoutModel",
      "state": {}
     },
     "8482f595e35240b2adcbe4a855b024c9": {
      "model_module": "@jupyter-widgets/base",
      "model_module_version": "2.0.0",
      "model_name": "LayoutModel",
      "state": {}
     },
     "84c27ed26f4e44efbd95541c5d2e4d60": {
      "model_module": "@jupyter-widgets/controls",
      "model_module_version": "2.0.0",
      "model_name": "HTMLModel",
      "state": {
       "layout": "IPY_MODEL_7d0eaddc995e49c0abde42a8da2ed679",
       "style": "IPY_MODEL_bcb9f028bd884bf6b411b31288015daa",
       "value": "Epoch 4/60: 100%"
      }
     },
     "84dedb0cde5c4e9c8303597427d8d86a": {
      "model_module": "@jupyter-widgets/controls",
      "model_module_version": "2.0.0",
      "model_name": "ProgressStyleModel",
      "state": {
       "description_width": ""
      }
     },
     "850c2c553d344e6fad75b03ff6f51e67": {
      "model_module": "@jupyter-widgets/controls",
      "model_module_version": "2.0.0",
      "model_name": "HTMLModel",
      "state": {
       "layout": "IPY_MODEL_114d1563a69d480ebb65361ab0e24bcb",
       "style": "IPY_MODEL_9620bd3079404a6fb12c8915d9e95027",
       "value": "Epoch 49/60: 100%"
      }
     },
     "8514c255aa6649b28e51de2b2bbea0e3": {
      "model_module": "@jupyter-widgets/controls",
      "model_module_version": "2.0.0",
      "model_name": "HTMLModel",
      "state": {
       "layout": "IPY_MODEL_332de29de7284e6199086016e2aef232",
       "style": "IPY_MODEL_b03fe9493b5843cc9c60c5040b5fe0aa",
       "value": " 500/500 [00:18&lt;00:00, 27.95it/s, loss=0.00186]"
      }
     },
     "85217c376ea04176b1810ec1ed1f4919": {
      "model_module": "@jupyter-widgets/controls",
      "model_module_version": "2.0.0",
      "model_name": "HTMLModel",
      "state": {
       "layout": "IPY_MODEL_45f255c8ee604679ac76bfab29eaaed6",
       "style": "IPY_MODEL_a7d4cca552a743e69972731e5689aa47",
       "value": "PowerIter L 2/5: 100%"
      }
     },
     "8580a4b56d044a1690a7c84c0739bd66": {
      "model_module": "@jupyter-widgets/controls",
      "model_module_version": "2.0.0",
      "model_name": "HTMLStyleModel",
      "state": {
       "description_width": "",
       "font_size": null,
       "text_color": null
      }
     },
     "858f8defa06a4bab8bc18b06e858bfac": {
      "model_module": "@jupyter-widgets/controls",
      "model_module_version": "2.0.0",
      "model_name": "HTMLModel",
      "state": {
       "layout": "IPY_MODEL_6a937805984a4d34819b2d59c911ee60",
       "style": "IPY_MODEL_7e13dc73afd44ffe813d949e5ac417e6",
       "value": "Epoch 54/60: 100%"
      }
     },
     "85c42303500e4188af1119cc4593cfe4": {
      "model_module": "@jupyter-widgets/controls",
      "model_module_version": "2.0.0",
      "model_name": "HTMLModel",
      "state": {
       "layout": "IPY_MODEL_71b9f85175fc440ca69bc25a1bc33694",
       "style": "IPY_MODEL_e4e0169e55b64fa4a4ed0e758a59a9ed",
       "value": " 500/500 [00:18&lt;00:00, 27.32it/s, loss=0.00202]"
      }
     },
     "85efc6f559804eb6a66435365557b7e6": {
      "model_module": "@jupyter-widgets/base",
      "model_module_version": "2.0.0",
      "model_name": "LayoutModel",
      "state": {}
     },
     "85f30808ce1747f390c3f0f4d22608d2": {
      "model_module": "@jupyter-widgets/base",
      "model_module_version": "2.0.0",
      "model_name": "LayoutModel",
      "state": {}
     },
     "86226c85de24460e9ef9fa94ac085dc4": {
      "model_module": "@jupyter-widgets/controls",
      "model_module_version": "2.0.0",
      "model_name": "HTMLModel",
      "state": {
       "layout": "IPY_MODEL_76ce56bd19e24756b9924acbcd309271",
       "style": "IPY_MODEL_1ca2e1d6b0e34902892587320ff914ac",
       "value": "Epoch 56/60: 100%"
      }
     },
     "86e50787fbba4655adbca2bd4b69e04f": {
      "model_module": "@jupyter-widgets/base",
      "model_module_version": "2.0.0",
      "model_name": "LayoutModel",
      "state": {}
     },
     "8710b90a997645c580d19c929573fccb": {
      "model_module": "@jupyter-widgets/controls",
      "model_module_version": "2.0.0",
      "model_name": "HBoxModel",
      "state": {
       "children": [
        "IPY_MODEL_66f751daffb446528956735200e9b4be",
        "IPY_MODEL_0b4edf393fa14982920f3cba74f34fde",
        "IPY_MODEL_89cb65728ef846ecbbc8a1cf6e6bae71"
       ],
       "layout": "IPY_MODEL_b8e5ef652718456785836807914c4bb1"
      }
     },
     "871fb88fd363441eb64cae454c2997d3": {
      "model_module": "@jupyter-widgets/controls",
      "model_module_version": "2.0.0",
      "model_name": "HTMLModel",
      "state": {
       "layout": "IPY_MODEL_3a29813fd54140c1bda24e4020f7d23b",
       "style": "IPY_MODEL_9874375bf2204cdc89f040487a53ad3a",
       "value": "Epoch 5/60: 100%"
      }
     },
     "8738295f641040998756ec29601a6812": {
      "model_module": "@jupyter-widgets/controls",
      "model_module_version": "2.0.0",
      "model_name": "HBoxModel",
      "state": {
       "children": [
        "IPY_MODEL_1282014c01ee4ac0b852900b8cacda34",
        "IPY_MODEL_10071e3f77374d0eb5abe91079cc2706",
        "IPY_MODEL_4aa22641a62b40159b42925f50adbf3d"
       ],
       "layout": "IPY_MODEL_bc2e59813f1247999bb86020ebd787cc"
      }
     },
     "8742138f681e48b0897a7a882c6ad85d": {
      "model_module": "@jupyter-widgets/controls",
      "model_module_version": "2.0.0",
      "model_name": "HTMLModel",
      "state": {
       "layout": "IPY_MODEL_99d7ef2a629549f1814ad79a3be2ed93",
       "style": "IPY_MODEL_e4d54b5c678a4017a4aa443bfc697e1f",
       "value": "Epoch 22/60: 100%"
      }
     },
     "876515eeeb9e4c4ea6971307bf55c67f": {
      "model_module": "@jupyter-widgets/controls",
      "model_module_version": "2.0.0",
      "model_name": "FloatProgressModel",
      "state": {
       "bar_style": "success",
       "layout": "IPY_MODEL_8454b83189e647ca83e68eaab5a61d04",
       "max": 500,
       "style": "IPY_MODEL_e444a589177745a3945fe2b66a718a42",
       "value": 500
      }
     },
     "877295784f12470997319668b3c68224": {
      "model_module": "@jupyter-widgets/controls",
      "model_module_version": "2.0.0",
      "model_name": "FloatProgressModel",
      "state": {
       "bar_style": "success",
       "layout": "IPY_MODEL_22d37e95ca5b4376a2f5384fc5941b1a",
       "max": 500,
       "style": "IPY_MODEL_19903631cd324cc4ac1c22e6cfbb37fe",
       "value": 500
      }
     },
     "878989a915bc4d1898b4adae177dd419": {
      "model_module": "@jupyter-widgets/controls",
      "model_module_version": "2.0.0",
      "model_name": "HTMLModel",
      "state": {
       "layout": "IPY_MODEL_e7f306d92c874183a787b99f2395a737",
       "style": "IPY_MODEL_12be0b00805144ba85d7a301dafb9ab9",
       "value": " 500/500 [00:18&lt;00:00, 26.79it/s, loss=0.00228]"
      }
     },
     "87a02e237ad94213a47e84957f32b408": {
      "model_module": "@jupyter-widgets/controls",
      "model_module_version": "2.0.0",
      "model_name": "FloatProgressModel",
      "state": {
       "bar_style": "success",
       "layout": "IPY_MODEL_f8943da3f3b24eceade17ed6def634a2",
       "max": 1,
       "style": "IPY_MODEL_929039b7b91e4edeacc360ab158a9e40",
       "value": 1
      }
     },
     "87afa191bbc24c2fad747e0f8ca05a56": {
      "model_module": "@jupyter-widgets/base",
      "model_module_version": "2.0.0",
      "model_name": "LayoutModel",
      "state": {}
     },
     "87c6f1c15e54455b866acdbf83d7475e": {
      "model_module": "@jupyter-widgets/controls",
      "model_module_version": "2.0.0",
      "model_name": "HTMLModel",
      "state": {
       "layout": "IPY_MODEL_dea84f559ddc4b1691203fa3fe9ff3e9",
       "style": "IPY_MODEL_a94c6d7dde644f2ebf08290ed05f8aed",
       "value": "Epoch 27/60: 100%"
      }
     },
     "87d84ba5ad9c4c789f81da3be799168a": {
      "model_module": "@jupyter-widgets/base",
      "model_module_version": "2.0.0",
      "model_name": "LayoutModel",
      "state": {}
     },
     "880e4e2809a44744be65f1ec08637dbf": {
      "model_module": "@jupyter-widgets/controls",
      "model_module_version": "2.0.0",
      "model_name": "HTMLStyleModel",
      "state": {
       "description_width": "",
       "font_size": null,
       "text_color": null
      }
     },
     "882974779ab845769b44a40c9d69a1ee": {
      "model_module": "@jupyter-widgets/controls",
      "model_module_version": "2.0.0",
      "model_name": "HTMLStyleModel",
      "state": {
       "description_width": "",
       "font_size": null,
       "text_color": null
      }
     },
     "885fe897acd44c469a92d355dcf5c702": {
      "model_module": "@jupyter-widgets/controls",
      "model_module_version": "2.0.0",
      "model_name": "HTMLStyleModel",
      "state": {
       "description_width": "",
       "font_size": null,
       "text_color": null
      }
     },
     "8864412536c143bb810ce4f7f44d3ec7": {
      "model_module": "@jupyter-widgets/controls",
      "model_module_version": "2.0.0",
      "model_name": "HTMLStyleModel",
      "state": {
       "description_width": "",
       "font_size": null,
       "text_color": null
      }
     },
     "88a7b23a332043ca8c1347b1fd7f2c8f": {
      "model_module": "@jupyter-widgets/controls",
      "model_module_version": "2.0.0",
      "model_name": "HBoxModel",
      "state": {
       "children": [
        "IPY_MODEL_f26a2162bde14ca992889ba4a2f68817",
        "IPY_MODEL_82939cfd17d34bed8d35db71fd014636",
        "IPY_MODEL_faee790c7e464d0f9a0d6179cf3118bf"
       ],
       "layout": "IPY_MODEL_cb1601d82ca3460bb34d95b7a03a8ca2"
      }
     },
     "8901ba01731e472f8c50b577ffa1e67c": {
      "model_module": "@jupyter-widgets/controls",
      "model_module_version": "2.0.0",
      "model_name": "ProgressStyleModel",
      "state": {
       "description_width": ""
      }
     },
     "893c9c9fe61249c8bf22d7eab7cc0e44": {
      "model_module": "@jupyter-widgets/controls",
      "model_module_version": "2.0.0",
      "model_name": "HTMLModel",
      "state": {
       "layout": "IPY_MODEL_6c6f74a3ab71407790bf50969334d702",
       "style": "IPY_MODEL_e06e2faaeb9f480087c8e09a81ed858d",
       "value": " 1/1 [00:02&lt;00:00,  2.71s/it, loss=0.00727]"
      }
     },
     "894fad50afbf4d5fb7aef6ed44fd4a6c": {
      "model_module": "@jupyter-widgets/base",
      "model_module_version": "2.0.0",
      "model_name": "LayoutModel",
      "state": {}
     },
     "89905658b681476da21985f544e778e3": {
      "model_module": "@jupyter-widgets/controls",
      "model_module_version": "2.0.0",
      "model_name": "HBoxModel",
      "state": {
       "children": [
        "IPY_MODEL_eb27131d7d4e4adfb2a7552611faaa90",
        "IPY_MODEL_618fa98dd898487787401d9505bf01b6",
        "IPY_MODEL_4c38019511384628871a006fef3432d0"
       ],
       "layout": "IPY_MODEL_6de9299b5e4d4bb592f3067f5116b67d"
      }
     },
     "89cb65728ef846ecbbc8a1cf6e6bae71": {
      "model_module": "@jupyter-widgets/controls",
      "model_module_version": "2.0.0",
      "model_name": "HTMLModel",
      "state": {
       "layout": "IPY_MODEL_f19af86ec6d54ce78569a04ca473b591",
       "style": "IPY_MODEL_0486e6c7af50482eb9965e6ad5e1495a",
       "value": " 500/500 [00:18&lt;00:00, 26.98it/s, loss=0.00193]"
      }
     },
     "89d93be841d8495fa035aff8858dd3f0": {
      "model_module": "@jupyter-widgets/base",
      "model_module_version": "2.0.0",
      "model_name": "LayoutModel",
      "state": {}
     },
     "8a01b0c585e442a5a6d8f0422ffa2631": {
      "model_module": "@jupyter-widgets/controls",
      "model_module_version": "2.0.0",
      "model_name": "HTMLModel",
      "state": {
       "layout": "IPY_MODEL_2bf50fca009942c283d7573b02b332f4",
       "style": "IPY_MODEL_0347de1eddc240b4b1bad7d78f7cebf8",
       "value": "Epoch 19/60: 100%"
      }
     },
     "8a0bf4976e164aa98b26d668028513b3": {
      "model_module": "@jupyter-widgets/controls",
      "model_module_version": "2.0.0",
      "model_name": "HTMLStyleModel",
      "state": {
       "description_width": "",
       "font_size": null,
       "text_color": null
      }
     },
     "8a11b1a0b7e448539bbeeeb4b727068b": {
      "model_module": "@jupyter-widgets/controls",
      "model_module_version": "2.0.0",
      "model_name": "HBoxModel",
      "state": {
       "children": [
        "IPY_MODEL_a05e04865ad745639a67ffb5177ccc05",
        "IPY_MODEL_fb1cc679ed034fbb8433105b227be440",
        "IPY_MODEL_786b4070f2db44dd83c94fb77c4165c7"
       ],
       "layout": "IPY_MODEL_b48ae8427e0c4fd0a5de63f904748b4d"
      }
     },
     "8a5601cca405473b89c8eb1d10a958ad": {
      "model_module": "@jupyter-widgets/controls",
      "model_module_version": "2.0.0",
      "model_name": "ProgressStyleModel",
      "state": {
       "description_width": ""
      }
     },
     "8a82b4c48369471cb15dca87211b402e": {
      "model_module": "@jupyter-widgets/controls",
      "model_module_version": "2.0.0",
      "model_name": "HTMLStyleModel",
      "state": {
       "description_width": "",
       "font_size": null,
       "text_color": null
      }
     },
     "8abb228d2d6b4c0a86a5188d0cfa2fbc": {
      "model_module": "@jupyter-widgets/base",
      "model_module_version": "2.0.0",
      "model_name": "LayoutModel",
      "state": {}
     },
     "8aff1ab21e43476dbf6aa6846f422bc1": {
      "model_module": "@jupyter-widgets/controls",
      "model_module_version": "2.0.0",
      "model_name": "HTMLStyleModel",
      "state": {
       "description_width": "",
       "font_size": null,
       "text_color": null
      }
     },
     "8b4133f31f304294ab0d4a4a5a8ee5a1": {
      "model_module": "@jupyter-widgets/controls",
      "model_module_version": "2.0.0",
      "model_name": "HTMLModel",
      "state": {
       "layout": "IPY_MODEL_98f59b22f2f54ebd904d5fdce69a548e",
       "style": "IPY_MODEL_a3985f3fbef747aabe5006de8fb63d22",
       "value": " 1/1 [00:02&lt;00:00,  2.71s/it, loss=0.00827]"
      }
     },
     "8b6d99bc93154826bb2ad2dfbaaecfb4": {
      "model_module": "@jupyter-widgets/controls",
      "model_module_version": "2.0.0",
      "model_name": "HTMLStyleModel",
      "state": {
       "description_width": "",
       "font_size": null,
       "text_color": null
      }
     },
     "8b8515931e6e4f79821cad1f9174c1ef": {
      "model_module": "@jupyter-widgets/controls",
      "model_module_version": "2.0.0",
      "model_name": "HTMLStyleModel",
      "state": {
       "description_width": "",
       "font_size": null,
       "text_color": null
      }
     },
     "8b8a4ba604cc4a7597945effeee6c565": {
      "model_module": "@jupyter-widgets/base",
      "model_module_version": "2.0.0",
      "model_name": "LayoutModel",
      "state": {}
     },
     "8bc5e909b2e447e59bc9d7766d1f3cf0": {
      "model_module": "@jupyter-widgets/controls",
      "model_module_version": "2.0.0",
      "model_name": "HBoxModel",
      "state": {
       "children": [
        "IPY_MODEL_09acb9e1fc3d4d81910543b18b8a9f97",
        "IPY_MODEL_8e1e7a53c0954af187c9a07152e03fb1",
        "IPY_MODEL_0c57bce6240842a4b5e04db88d336278"
       ],
       "layout": "IPY_MODEL_7ebaa100a1004ba4b1f3fcc673ef5174"
      }
     },
     "8c02de2c1eaf4984bb11ea57eab09b90": {
      "model_module": "@jupyter-widgets/controls",
      "model_module_version": "2.0.0",
      "model_name": "HTMLStyleModel",
      "state": {
       "description_width": "",
       "font_size": null,
       "text_color": null
      }
     },
     "8c12e9d4e2094be09404388dc3fdd418": {
      "model_module": "@jupyter-widgets/base",
      "model_module_version": "2.0.0",
      "model_name": "LayoutModel",
      "state": {}
     },
     "8c1473f4240d42c7a89852e8aeed59ca": {
      "model_module": "@jupyter-widgets/controls",
      "model_module_version": "2.0.0",
      "model_name": "FloatProgressModel",
      "state": {
       "bar_style": "success",
       "layout": "IPY_MODEL_b547d4c311b4415d9cdd2af93824d956",
       "max": 10,
       "style": "IPY_MODEL_8a5601cca405473b89c8eb1d10a958ad",
       "value": 10
      }
     },
     "8c1c2b3885b641238889ca52ca962f84": {
      "model_module": "@jupyter-widgets/controls",
      "model_module_version": "2.0.0",
      "model_name": "HTMLModel",
      "state": {
       "layout": "IPY_MODEL_48aa2fa1e1644e13a91ae38fbe11d092",
       "style": "IPY_MODEL_47e36b0ef1a447cbae668963967458de",
       "value": " 500/500 [00:09&lt;00:00, 54.97it/s]"
      }
     },
     "8c3f9a053e4b4ab18f836f19a09b95dd": {
      "model_module": "@jupyter-widgets/controls",
      "model_module_version": "2.0.0",
      "model_name": "FloatProgressModel",
      "state": {
       "bar_style": "success",
       "layout": "IPY_MODEL_38e01d66eea44278ad0fc15b31be6e98",
       "max": 1,
       "style": "IPY_MODEL_52186f329e0d4ee788f08094983b025d",
       "value": 1
      }
     },
     "8c6926508c9b45e4be8b743ac058bc42": {
      "model_module": "@jupyter-widgets/controls",
      "model_module_version": "2.0.0",
      "model_name": "HTMLModel",
      "state": {
       "layout": "IPY_MODEL_afc5523542474f5ca749a8110bda51b0",
       "style": "IPY_MODEL_f44b966641ea4635aeed788693e15d3c",
       "value": " 500/500 [00:18&lt;00:00, 27.76it/s, loss=0.00182]"
      }
     },
     "8c93e5cccf7649108e696abc33a10bdf": {
      "model_module": "@jupyter-widgets/controls",
      "model_module_version": "2.0.0",
      "model_name": "ProgressStyleModel",
      "state": {
       "description_width": ""
      }
     },
     "8c9ae8ceb30941128a3292eb1bcf8139": {
      "model_module": "@jupyter-widgets/controls",
      "model_module_version": "2.0.0",
      "model_name": "FloatProgressModel",
      "state": {
       "bar_style": "success",
       "layout": "IPY_MODEL_70d588f68869441a9cc12b6c5e8a69a7",
       "max": 500,
       "style": "IPY_MODEL_38c32110e70f439691870d609db55f52",
       "value": 500
      }
     },
     "8d086f66c8d84c318337777f421f0489": {
      "model_module": "@jupyter-widgets/controls",
      "model_module_version": "2.0.0",
      "model_name": "ProgressStyleModel",
      "state": {
       "description_width": ""
      }
     },
     "8d1f56dc029546b5a3e961055d72b6d2": {
      "model_module": "@jupyter-widgets/controls",
      "model_module_version": "2.0.0",
      "model_name": "ProgressStyleModel",
      "state": {
       "description_width": ""
      }
     },
     "8d5cd2d0b5764e07865b0a5b2f42881d": {
      "model_module": "@jupyter-widgets/base",
      "model_module_version": "2.0.0",
      "model_name": "LayoutModel",
      "state": {}
     },
     "8d7c207fbb9e477f92509fda2d41faa7": {
      "model_module": "@jupyter-widgets/base",
      "model_module_version": "2.0.0",
      "model_name": "LayoutModel",
      "state": {}
     },
     "8da385642a5542729c7448c2aed3291b": {
      "model_module": "@jupyter-widgets/base",
      "model_module_version": "2.0.0",
      "model_name": "LayoutModel",
      "state": {}
     },
     "8dfcaf5c0a294a658730b150b6e5a289": {
      "model_module": "@jupyter-widgets/base",
      "model_module_version": "2.0.0",
      "model_name": "LayoutModel",
      "state": {}
     },
     "8dfe1a1dd38a412db7921953b2db5866": {
      "model_module": "@jupyter-widgets/controls",
      "model_module_version": "2.0.0",
      "model_name": "FloatProgressModel",
      "state": {
       "bar_style": "success",
       "layout": "IPY_MODEL_e8de83256c194f61b0df902919f841b5",
       "max": 500,
       "style": "IPY_MODEL_5847bd28cac54ba88e5ee3bc996834c0",
       "value": 500
      }
     },
     "8e1e7a53c0954af187c9a07152e03fb1": {
      "model_module": "@jupyter-widgets/controls",
      "model_module_version": "2.0.0",
      "model_name": "FloatProgressModel",
      "state": {
       "bar_style": "success",
       "layout": "IPY_MODEL_470c22e1fe7048be88d685a9e8685bb0",
       "max": 1,
       "style": "IPY_MODEL_61f22a7107984f5087deaf72aeb4f6dd",
       "value": 1
      }
     },
     "8e2dfac92bdb4293bc4a0f994bc586f8": {
      "model_module": "@jupyter-widgets/controls",
      "model_module_version": "2.0.0",
      "model_name": "FloatProgressModel",
      "state": {
       "bar_style": "success",
       "layout": "IPY_MODEL_24e29bd6edf14cf7898f58c318003960",
       "max": 1,
       "style": "IPY_MODEL_26ccd9360a7a4dcabfc66d06ed0ea664",
       "value": 1
      }
     },
     "8e7d30e8c921458f94fe4819faf9f2be": {
      "model_module": "@jupyter-widgets/controls",
      "model_module_version": "2.0.0",
      "model_name": "ProgressStyleModel",
      "state": {
       "description_width": ""
      }
     },
     "8e8b73ed7d7e4a75a34d373c70a1a804": {
      "model_module": "@jupyter-widgets/controls",
      "model_module_version": "2.0.0",
      "model_name": "HBoxModel",
      "state": {
       "children": [
        "IPY_MODEL_d551b1efa28a408c83e6b756efed6c22",
        "IPY_MODEL_5276b1d9c82b48d2a9f80153d43884a6",
        "IPY_MODEL_25274073d8a242338d28f767e4f2abf9"
       ],
       "layout": "IPY_MODEL_6b2bfb375c3f41da9ed521e6803261dd"
      }
     },
     "8ed1d63fa6544d6cb815eb1897bb513d": {
      "model_module": "@jupyter-widgets/base",
      "model_module_version": "2.0.0",
      "model_name": "LayoutModel",
      "state": {}
     },
     "8fb625b4cc924031bb54a56046ee0e23": {
      "model_module": "@jupyter-widgets/controls",
      "model_module_version": "2.0.0",
      "model_name": "HTMLStyleModel",
      "state": {
       "description_width": "",
       "font_size": null,
       "text_color": null
      }
     },
     "8fb8d7654000467f8eab4133a47791b6": {
      "model_module": "@jupyter-widgets/controls",
      "model_module_version": "2.0.0",
      "model_name": "HTMLModel",
      "state": {
       "layout": "IPY_MODEL_2925f9b5d6b549379b6366683c7945a1",
       "style": "IPY_MODEL_cd8c5f6ad58c43a2b7298fead1790d4a",
       "value": " 500/500 [00:18&lt;00:00, 27.87it/s, loss=0.00206]"
      }
     },
     "8fd754339a2e4b91a49d243b0149ab97": {
      "model_module": "@jupyter-widgets/controls",
      "model_module_version": "2.0.0",
      "model_name": "HTMLStyleModel",
      "state": {
       "description_width": "",
       "font_size": null,
       "text_color": null
      }
     },
     "8ffdd38d96db43cda05d5165e8595c8a": {
      "model_module": "@jupyter-widgets/base",
      "model_module_version": "2.0.0",
      "model_name": "LayoutModel",
      "state": {}
     },
     "900c2688d2b944d1a86e145cbafc1dc9": {
      "model_module": "@jupyter-widgets/base",
      "model_module_version": "2.0.0",
      "model_name": "LayoutModel",
      "state": {}
     },
     "90cd7706d426456ab9688da0ad98887d": {
      "model_module": "@jupyter-widgets/base",
      "model_module_version": "2.0.0",
      "model_name": "LayoutModel",
      "state": {}
     },
     "90d3bb9b58384b18890685ce45b011e5": {
      "model_module": "@jupyter-widgets/controls",
      "model_module_version": "2.0.0",
      "model_name": "ProgressStyleModel",
      "state": {
       "description_width": ""
      }
     },
     "90e34122d5de41adb93f6369366a33f4": {
      "model_module": "@jupyter-widgets/controls",
      "model_module_version": "2.0.0",
      "model_name": "HTMLStyleModel",
      "state": {
       "description_width": "",
       "font_size": null,
       "text_color": null
      }
     },
     "910870fbf2b3468d91535a1743f1d8c7": {
      "model_module": "@jupyter-widgets/controls",
      "model_module_version": "2.0.0",
      "model_name": "HTMLStyleModel",
      "state": {
       "description_width": "",
       "font_size": null,
       "text_color": null
      }
     },
     "912d10a4715a4865bdea42f44c4c93e8": {
      "model_module": "@jupyter-widgets/controls",
      "model_module_version": "2.0.0",
      "model_name": "FloatProgressModel",
      "state": {
       "bar_style": "success",
       "layout": "IPY_MODEL_61517cd643e04a8aa971b2ccc4f2397b",
       "max": 500,
       "style": "IPY_MODEL_11255ccf334247c39e4388f6d9b76cc6",
       "value": 500
      }
     },
     "91431aa9011348428c0aa9867feb331f": {
      "model_module": "@jupyter-widgets/base",
      "model_module_version": "2.0.0",
      "model_name": "LayoutModel",
      "state": {}
     },
     "919db287972242129940ad2005c67335": {
      "model_module": "@jupyter-widgets/controls",
      "model_module_version": "2.0.0",
      "model_name": "HTMLModel",
      "state": {
       "layout": "IPY_MODEL_538e87e5233f4e269da6fdd3a6b9552c",
       "style": "IPY_MODEL_caa583dc21db4d42b06ea12a5ede3318",
       "value": " 500/500 [00:18&lt;00:00, 27.47it/s, loss=0.0018]"
      }
     },
     "91e9e2e953af43babfcc6348f6839124": {
      "model_module": "@jupyter-widgets/base",
      "model_module_version": "2.0.0",
      "model_name": "LayoutModel",
      "state": {}
     },
     "91f0fe58e08c4bae8757473c2599a30b": {
      "model_module": "@jupyter-widgets/base",
      "model_module_version": "2.0.0",
      "model_name": "LayoutModel",
      "state": {}
     },
     "91f2c9d63f04433e8b0a40497061ee94": {
      "model_module": "@jupyter-widgets/controls",
      "model_module_version": "2.0.0",
      "model_name": "FloatProgressModel",
      "state": {
       "bar_style": "danger",
       "layout": "IPY_MODEL_52fb11edc0954c389ec1639f9f45342e",
       "max": 500,
       "style": "IPY_MODEL_bf5980802bc64438b381725a4ae53406",
       "value": 9
      }
     },
     "91f915a897f9450885bdb3770c495e4c": {
      "model_module": "@jupyter-widgets/controls",
      "model_module_version": "2.0.0",
      "model_name": "HTMLStyleModel",
      "state": {
       "description_width": "",
       "font_size": null,
       "text_color": null
      }
     },
     "9219f1238c274d4a9ca076f4528297b0": {
      "model_module": "@jupyter-widgets/base",
      "model_module_version": "2.0.0",
      "model_name": "LayoutModel",
      "state": {}
     },
     "9225d4194480474bb2316465b9734487": {
      "model_module": "@jupyter-widgets/base",
      "model_module_version": "2.0.0",
      "model_name": "LayoutModel",
      "state": {}
     },
     "924f9d1c811747de8a293ecd3d9220b6": {
      "model_module": "@jupyter-widgets/base",
      "model_module_version": "2.0.0",
      "model_name": "LayoutModel",
      "state": {}
     },
     "9250b1779eb54733bee7921c5f19b8ee": {
      "model_module": "@jupyter-widgets/base",
      "model_module_version": "2.0.0",
      "model_name": "LayoutModel",
      "state": {}
     },
     "927b3af2e3174c5389fcbca45082439e": {
      "model_module": "@jupyter-widgets/base",
      "model_module_version": "2.0.0",
      "model_name": "LayoutModel",
      "state": {}
     },
     "929039b7b91e4edeacc360ab158a9e40": {
      "model_module": "@jupyter-widgets/controls",
      "model_module_version": "2.0.0",
      "model_name": "ProgressStyleModel",
      "state": {
       "description_width": ""
      }
     },
     "9316eb55770b4d8386fcbc19de444db6": {
      "model_module": "@jupyter-widgets/base",
      "model_module_version": "2.0.0",
      "model_name": "LayoutModel",
      "state": {}
     },
     "933cb2b94464477eb4b5ef823b9c5813": {
      "model_module": "@jupyter-widgets/controls",
      "model_module_version": "2.0.0",
      "model_name": "HTMLStyleModel",
      "state": {
       "description_width": "",
       "font_size": null,
       "text_color": null
      }
     },
     "937b4e88b3234d1bb561f6721a637db2": {
      "model_module": "@jupyter-widgets/base",
      "model_module_version": "2.0.0",
      "model_name": "LayoutModel",
      "state": {}
     },
     "94608fef9e344bb2a1162530450c511f": {
      "model_module": "@jupyter-widgets/base",
      "model_module_version": "2.0.0",
      "model_name": "LayoutModel",
      "state": {}
     },
     "9476ab39b5a84769b179a5f0e63f0419": {
      "model_module": "@jupyter-widgets/controls",
      "model_module_version": "2.0.0",
      "model_name": "HBoxModel",
      "state": {
       "children": [
        "IPY_MODEL_11282a0e5fc94ad1b02be85d50d82209",
        "IPY_MODEL_6b7fd21014954504bd25e1b27119c58b",
        "IPY_MODEL_b5c834d226f343b7ba6d5496797e7877"
       ],
       "layout": "IPY_MODEL_eaffb2a2525d4c7db87c7063a6a68c90"
      }
     },
     "94e11782bb1f4b68bd5a4d7d2ffd5c23": {
      "model_module": "@jupyter-widgets/controls",
      "model_module_version": "2.0.0",
      "model_name": "HTMLStyleModel",
      "state": {
       "description_width": "",
       "font_size": null,
       "text_color": null
      }
     },
     "94e15453d5984585aee45d5756b0b04c": {
      "model_module": "@jupyter-widgets/base",
      "model_module_version": "2.0.0",
      "model_name": "LayoutModel",
      "state": {}
     },
     "952d3c91e4e346e6a36c1885c843a8d4": {
      "model_module": "@jupyter-widgets/base",
      "model_module_version": "2.0.0",
      "model_name": "LayoutModel",
      "state": {}
     },
     "95482193ba454ed49c52470c1af85c01": {
      "model_module": "@jupyter-widgets/base",
      "model_module_version": "2.0.0",
      "model_name": "LayoutModel",
      "state": {}
     },
     "95571cce526d431ca1e3c7bf540cd36e": {
      "model_module": "@jupyter-widgets/base",
      "model_module_version": "2.0.0",
      "model_name": "LayoutModel",
      "state": {}
     },
     "955ff3c60ad24dbbbca8e05145016ec4": {
      "model_module": "@jupyter-widgets/base",
      "model_module_version": "2.0.0",
      "model_name": "LayoutModel",
      "state": {}
     },
     "95613d8418114f8584f08617b036fdac": {
      "model_module": "@jupyter-widgets/base",
      "model_module_version": "2.0.0",
      "model_name": "LayoutModel",
      "state": {}
     },
     "95816b9f249c4745b4b71a34d9acef4e": {
      "model_module": "@jupyter-widgets/base",
      "model_module_version": "2.0.0",
      "model_name": "LayoutModel",
      "state": {}
     },
     "95ca857273a3453a9eecee9b54677bb5": {
      "model_module": "@jupyter-widgets/base",
      "model_module_version": "2.0.0",
      "model_name": "LayoutModel",
      "state": {}
     },
     "961c65e6f21440fcb1de33e5d14194ca": {
      "model_module": "@jupyter-widgets/controls",
      "model_module_version": "2.0.0",
      "model_name": "HTMLStyleModel",
      "state": {
       "description_width": "",
       "font_size": null,
       "text_color": null
      }
     },
     "9620bd3079404a6fb12c8915d9e95027": {
      "model_module": "@jupyter-widgets/controls",
      "model_module_version": "2.0.0",
      "model_name": "HTMLStyleModel",
      "state": {
       "description_width": "",
       "font_size": null,
       "text_color": null
      }
     },
     "963b2db3de7443708c04dd418f9f5569": {
      "model_module": "@jupyter-widgets/base",
      "model_module_version": "2.0.0",
      "model_name": "LayoutModel",
      "state": {}
     },
     "966eff4dd4b44979a42e83072cdea1a1": {
      "model_module": "@jupyter-widgets/controls",
      "model_module_version": "2.0.0",
      "model_name": "HTMLStyleModel",
      "state": {
       "description_width": "",
       "font_size": null,
       "text_color": null
      }
     },
     "967ba1b187884dc09f79e4472ac2700a": {
      "model_module": "@jupyter-widgets/controls",
      "model_module_version": "2.0.0",
      "model_name": "HTMLModel",
      "state": {
       "layout": "IPY_MODEL_0e5d898ff1d24ba785f388d77e23d615",
       "style": "IPY_MODEL_5fd8a14e5bc04253817105321a708f1f",
       "value": " 1/1 [00:02&lt;00:00,  2.70s/it, loss=0.0683]"
      }
     },
     "96cfc9745ccb4364ad0a704331f47957": {
      "model_module": "@jupyter-widgets/controls",
      "model_module_version": "2.0.0",
      "model_name": "HBoxModel",
      "state": {
       "children": [
        "IPY_MODEL_5dcd33bb5dd5447e8992ebc63d5c836c",
        "IPY_MODEL_877295784f12470997319668b3c68224",
        "IPY_MODEL_2e8bd4a1355d4c7b9173c767fe25b726"
       ],
       "layout": "IPY_MODEL_d756f60fd02b44669d68e81e1ba8d9a3"
      }
     },
     "96d889308344424ba569a0b307276cdc": {
      "model_module": "@jupyter-widgets/controls",
      "model_module_version": "2.0.0",
      "model_name": "HTMLModel",
      "state": {
       "layout": "IPY_MODEL_e7e4422eb9fb4ee9ab4551577cd255ec",
       "style": "IPY_MODEL_e888b9f681ee47f7a33a12e5eff4f993",
       "value": " 1/1 [00:02&lt;00:00,  2.70s/it, loss=246]"
      }
     },
     "971403280aea4b75954838c7fa80eae8": {
      "model_module": "@jupyter-widgets/controls",
      "model_module_version": "2.0.0",
      "model_name": "HTMLStyleModel",
      "state": {
       "description_width": "",
       "font_size": null,
       "text_color": null
      }
     },
     "97161636a9b949b79ff3bdc670cf198e": {
      "model_module": "@jupyter-widgets/controls",
      "model_module_version": "2.0.0",
      "model_name": "HTMLModel",
      "state": {
       "layout": "IPY_MODEL_4456f2bfb8e846f8ab9409b3d45af5d3",
       "style": "IPY_MODEL_4f8df09810e3406b94dc0a01f925005c",
       "value": "Epoch 44/60: 100%"
      }
     },
     "9767597d4b0243828abaf014c2e30d71": {
      "model_module": "@jupyter-widgets/base",
      "model_module_version": "2.0.0",
      "model_name": "LayoutModel",
      "state": {}
     },
     "977b0da01cb1425986854eb139cdebc3": {
      "model_module": "@jupyter-widgets/controls",
      "model_module_version": "2.0.0",
      "model_name": "ProgressStyleModel",
      "state": {
       "description_width": ""
      }
     },
     "9784d80846c246f6b59f034e3cdafb5c": {
      "model_module": "@jupyter-widgets/controls",
      "model_module_version": "2.0.0",
      "model_name": "HTMLStyleModel",
      "state": {
       "description_width": "",
       "font_size": null,
       "text_color": null
      }
     },
     "979b939799084ee7a94754eca985d5cc": {
      "model_module": "@jupyter-widgets/controls",
      "model_module_version": "2.0.0",
      "model_name": "HBoxModel",
      "state": {
       "children": [
        "IPY_MODEL_b76f1f5683824929995433f40e5525de",
        "IPY_MODEL_19345e2277e64ff3b5d24a26f265d96f",
        "IPY_MODEL_7eb35d61a419435991d0ca7f473d1a23"
       ],
       "layout": "IPY_MODEL_61ae7a0a68c84cc68677f0090b635fa4"
      }
     },
     "97a4fde9e7454c96bd952775b747bfe9": {
      "model_module": "@jupyter-widgets/base",
      "model_module_version": "2.0.0",
      "model_name": "LayoutModel",
      "state": {}
     },
     "97a58fbffcda4e7395e027cb8f760a9e": {
      "model_module": "@jupyter-widgets/controls",
      "model_module_version": "2.0.0",
      "model_name": "HBoxModel",
      "state": {
       "children": [
        "IPY_MODEL_b5d7f5d662bf4060bc218573a8e4f966",
        "IPY_MODEL_24b6902957ef4f25a2e6021f0ce2ec58",
        "IPY_MODEL_9cd857d23c8343508e5c4966531b2993"
       ],
       "layout": "IPY_MODEL_2b1ede474ef1466c97d46bf8b9ad173a"
      }
     },
     "97aca79a193e4f65b4950b7ea430b499": {
      "model_module": "@jupyter-widgets/base",
      "model_module_version": "2.0.0",
      "model_name": "LayoutModel",
      "state": {}
     },
     "97e15423a1f848279295148269210c46": {
      "model_module": "@jupyter-widgets/controls",
      "model_module_version": "2.0.0",
      "model_name": "HTMLModel",
      "state": {
       "layout": "IPY_MODEL_9e00d4680d404a2ba32cccef55992858",
       "style": "IPY_MODEL_ab5b477c65974de5a3b7745cde004bb2",
       "value": " 500/500 [00:18&lt;00:00, 26.70it/s, loss=0.00265]"
      }
     },
     "97e305b27c0c4cbfabde8bcea8c30dad": {
      "model_module": "@jupyter-widgets/base",
      "model_module_version": "2.0.0",
      "model_name": "LayoutModel",
      "state": {}
     },
     "980c438bb78e48a1b24325485ed44ff3": {
      "model_module": "@jupyter-widgets/controls",
      "model_module_version": "2.0.0",
      "model_name": "HBoxModel",
      "state": {
       "children": [
        "IPY_MODEL_43b71e46fab2475d8149db9c77246160",
        "IPY_MODEL_5a3747306fb74662a3b4088d8193cce2",
        "IPY_MODEL_2a5827c680384c98abb37fa1c31a5833"
       ],
       "layout": "IPY_MODEL_5769ada6717a4c0c865c396652ee92cc"
      }
     },
     "9814a469a02940bfbf5a5e99fc49a0e9": {
      "model_module": "@jupyter-widgets/controls",
      "model_module_version": "2.0.0",
      "model_name": "HTMLModel",
      "state": {
       "layout": "IPY_MODEL_b59c914897874f628798ca7af50d067f",
       "style": "IPY_MODEL_6a5278167fb8404d83992181aa4c6236",
       "value": " 500/500 [00:18&lt;00:00, 27.48it/s, loss=0.0019]"
      }
     },
     "9816dcc77aab44b1a29301ceebb3b244": {
      "model_module": "@jupyter-widgets/base",
      "model_module_version": "2.0.0",
      "model_name": "LayoutModel",
      "state": {}
     },
     "983040d2cb8c4e4d81880dd4c11e9f38": {
      "model_module": "@jupyter-widgets/base",
      "model_module_version": "2.0.0",
      "model_name": "LayoutModel",
      "state": {}
     },
     "985098d1f2df4040a0863ceab05d9d2c": {
      "model_module": "@jupyter-widgets/base",
      "model_module_version": "2.0.0",
      "model_name": "LayoutModel",
      "state": {}
     },
     "9853aa64973c4c39aa98df53bf17ee4d": {
      "model_module": "@jupyter-widgets/controls",
      "model_module_version": "2.0.0",
      "model_name": "FloatProgressModel",
      "state": {
       "bar_style": "success",
       "layout": "IPY_MODEL_fa0c505ad3454422be7ebc36b35b1fcd",
       "max": 500,
       "style": "IPY_MODEL_6bec08ee3e9a41b4911bb505e11af0c5",
       "value": 500
      }
     },
     "9874375bf2204cdc89f040487a53ad3a": {
      "model_module": "@jupyter-widgets/controls",
      "model_module_version": "2.0.0",
      "model_name": "HTMLStyleModel",
      "state": {
       "description_width": "",
       "font_size": null,
       "text_color": null
      }
     },
     "98774a156d594bd59f5c70b626f3dd68": {
      "model_module": "@jupyter-widgets/base",
      "model_module_version": "2.0.0",
      "model_name": "LayoutModel",
      "state": {}
     },
     "989806482a0a44489b99fc6171e458e6": {
      "model_module": "@jupyter-widgets/base",
      "model_module_version": "2.0.0",
      "model_name": "LayoutModel",
      "state": {}
     },
     "98ae0c5553ac4847b1780e042f13e660": {
      "model_module": "@jupyter-widgets/controls",
      "model_module_version": "2.0.0",
      "model_name": "HTMLModel",
      "state": {
       "layout": "IPY_MODEL_9dff83a9f3ac4fa8ac81fc4f1914a00f",
       "style": "IPY_MODEL_c26f24dea2354091b5ce1d68d2b0b340",
       "value": " 500/500 [00:18&lt;00:00, 27.36it/s, loss=0.00187]"
      }
     },
     "98b985d7d7d54428ba62a58bae270e6f": {
      "model_module": "@jupyter-widgets/controls",
      "model_module_version": "2.0.0",
      "model_name": "HTMLStyleModel",
      "state": {
       "description_width": "",
       "font_size": null,
       "text_color": null
      }
     },
     "98d8de4ee0f44e318ca649eda032ce24": {
      "model_module": "@jupyter-widgets/controls",
      "model_module_version": "2.0.0",
      "model_name": "FloatProgressModel",
      "state": {
       "bar_style": "success",
       "layout": "IPY_MODEL_1eb48eaf46ff457db83e550738308277",
       "max": 500,
       "style": "IPY_MODEL_e5f572a6a8b44cad8710d6d4188afc1f",
       "value": 500
      }
     },
     "98f59b22f2f54ebd904d5fdce69a548e": {
      "model_module": "@jupyter-widgets/base",
      "model_module_version": "2.0.0",
      "model_name": "LayoutModel",
      "state": {}
     },
     "98ff04bd64f947329807f5d797be1dca": {
      "model_module": "@jupyter-widgets/controls",
      "model_module_version": "2.0.0",
      "model_name": "HBoxModel",
      "state": {
       "children": [
        "IPY_MODEL_8a01b0c585e442a5a6d8f0422ffa2631",
        "IPY_MODEL_15a7d0ef4b634a3f9449e5dc08c1153f",
        "IPY_MODEL_071e1a308405411aa3813621cd626126"
       ],
       "layout": "IPY_MODEL_9f8848eb89ea4a94af732040c19b670a"
      }
     },
     "994ac11595214a2fad38a8c79e20830e": {
      "model_module": "@jupyter-widgets/controls",
      "model_module_version": "2.0.0",
      "model_name": "HTMLStyleModel",
      "state": {
       "description_width": "",
       "font_size": null,
       "text_color": null
      }
     },
     "99a528f65f4840b18fff16a1e8029c51": {
      "model_module": "@jupyter-widgets/base",
      "model_module_version": "2.0.0",
      "model_name": "LayoutModel",
      "state": {}
     },
     "99b35b81929f4b4f843b7ea9af9a9c1d": {
      "model_module": "@jupyter-widgets/controls",
      "model_module_version": "2.0.0",
      "model_name": "HTMLStyleModel",
      "state": {
       "description_width": "",
       "font_size": null,
       "text_color": null
      }
     },
     "99d7ef2a629549f1814ad79a3be2ed93": {
      "model_module": "@jupyter-widgets/base",
      "model_module_version": "2.0.0",
      "model_name": "LayoutModel",
      "state": {}
     },
     "99fe1396842b451f930fa58786e4648c": {
      "model_module": "@jupyter-widgets/controls",
      "model_module_version": "2.0.0",
      "model_name": "HTMLModel",
      "state": {
       "layout": "IPY_MODEL_7ec76bb7fa6a470ab20417e0324d3925",
       "style": "IPY_MODEL_8580a4b56d044a1690a7c84c0739bd66",
       "value": " 1/1 [00:02&lt;00:00,  2.70s/it, loss=0.0525]"
      }
     },
     "9a3dc3e3f0c247a6b7a70c466fbb4bba": {
      "model_module": "@jupyter-widgets/base",
      "model_module_version": "2.0.0",
      "model_name": "LayoutModel",
      "state": {}
     },
     "9a69a632fdc54e5e9e947270c2047935": {
      "model_module": "@jupyter-widgets/controls",
      "model_module_version": "2.0.0",
      "model_name": "HTMLStyleModel",
      "state": {
       "description_width": "",
       "font_size": null,
       "text_color": null
      }
     },
     "9a8b6471da7749a6888c85e60104b316": {
      "model_module": "@jupyter-widgets/controls",
      "model_module_version": "2.0.0",
      "model_name": "HTMLModel",
      "state": {
       "layout": "IPY_MODEL_cdbee48f24de47e7af402eeed433ae4a",
       "style": "IPY_MODEL_0e4b26984b734fffa577cb65f997d998",
       "value": " 500/500 [00:18&lt;00:00, 26.92it/s, loss=0.00355]"
      }
     },
     "9ac02d57cc334011bdc69bbe85bacec2": {
      "model_module": "@jupyter-widgets/controls",
      "model_module_version": "2.0.0",
      "model_name": "HTMLStyleModel",
      "state": {
       "description_width": "",
       "font_size": null,
       "text_color": null
      }
     },
     "9af5dba519aa41219e3a565b5f4640f3": {
      "model_module": "@jupyter-widgets/base",
      "model_module_version": "2.0.0",
      "model_name": "LayoutModel",
      "state": {}
     },
     "9b160e2658004f3b8c84950bcf3965ce": {
      "model_module": "@jupyter-widgets/controls",
      "model_module_version": "2.0.0",
      "model_name": "HTMLStyleModel",
      "state": {
       "description_width": "",
       "font_size": null,
       "text_color": null
      }
     },
     "9b18475e6bc84bd7a2a19ec535ec2621": {
      "model_module": "@jupyter-widgets/base",
      "model_module_version": "2.0.0",
      "model_name": "LayoutModel",
      "state": {}
     },
     "9b1ad57c90e040beaf5c2ff0132097d1": {
      "model_module": "@jupyter-widgets/base",
      "model_module_version": "2.0.0",
      "model_name": "LayoutModel",
      "state": {}
     },
     "9b34fb0e7e9244f8a7f05ce6a2b65ca1": {
      "model_module": "@jupyter-widgets/base",
      "model_module_version": "2.0.0",
      "model_name": "LayoutModel",
      "state": {}
     },
     "9b512cd97177421b8f065c934d9fe399": {
      "model_module": "@jupyter-widgets/base",
      "model_module_version": "2.0.0",
      "model_name": "LayoutModel",
      "state": {}
     },
     "9b7dee3809534c46b178186727e15b35": {
      "model_module": "@jupyter-widgets/controls",
      "model_module_version": "2.0.0",
      "model_name": "HTMLModel",
      "state": {
       "layout": "IPY_MODEL_c8921b05928a4d4ab4d8ba01f9db1202",
       "style": "IPY_MODEL_fb285fb5be974731a7f06948d7b9385d",
       "value": " 500/500 [00:17&lt;00:00, 27.94it/s, loss=0.00183]"
      }
     },
     "9bb3248dcf944477b13b24545dedb69b": {
      "model_module": "@jupyter-widgets/base",
      "model_module_version": "2.0.0",
      "model_name": "LayoutModel",
      "state": {}
     },
     "9bb7d2ce8710453380bd9e42c29f691a": {
      "model_module": "@jupyter-widgets/controls",
      "model_module_version": "2.0.0",
      "model_name": "HTMLModel",
      "state": {
       "layout": "IPY_MODEL_6fcc9b206644439fa10193241e507b46",
       "style": "IPY_MODEL_c78bc1782fef443b98232c510f540fe9",
       "value": " 1/1 [00:01&lt;00:00,  1.60s/it]"
      }
     },
     "9be60e523574402eb5d139173c0c8bce": {
      "model_module": "@jupyter-widgets/controls",
      "model_module_version": "2.0.0",
      "model_name": "HTMLModel",
      "state": {
       "layout": "IPY_MODEL_54d05bbcafb748dba4775f481f556875",
       "style": "IPY_MODEL_a72f5c087c6045c39b946588d80b4484",
       "value": "PowerIter R 1/5: 100%"
      }
     },
     "9bebe319a39f45eba676be63db955db8": {
      "model_module": "@jupyter-widgets/base",
      "model_module_version": "2.0.0",
      "model_name": "LayoutModel",
      "state": {}
     },
     "9c5221fa09ff4244b8b5e97398065cbe": {
      "model_module": "@jupyter-widgets/controls",
      "model_module_version": "2.0.0",
      "model_name": "FloatProgressModel",
      "state": {
       "bar_style": "success",
       "layout": "IPY_MODEL_3201fa07eb3f4ce4a0d57fb58d32b930",
       "max": 500,
       "style": "IPY_MODEL_0dac2a069a504c0a8571306d069f01f6",
       "value": 500
      }
     },
     "9c65c00051424ed38a139ad195085429": {
      "model_module": "@jupyter-widgets/controls",
      "model_module_version": "2.0.0",
      "model_name": "HBoxModel",
      "state": {
       "children": [
        "IPY_MODEL_adbcb46d832b49a0b3196ce35731cf81",
        "IPY_MODEL_a51edaabb11a437a8d81af2ef2224db8",
        "IPY_MODEL_ece00f9294c94863861d0d8855c2215b"
       ],
       "layout": "IPY_MODEL_2287f6893a5341ffafa8228d8e0699a6"
      }
     },
     "9c79a700f7124e58a3ede1972d904f47": {
      "model_module": "@jupyter-widgets/controls",
      "model_module_version": "2.0.0",
      "model_name": "HBoxModel",
      "state": {
       "children": [
        "IPY_MODEL_0445eb4ae01e4750af349b5a0043dd97",
        "IPY_MODEL_81b860a5ed30411c9d7aee70d0686a6e",
        "IPY_MODEL_49384856edf4408f865472a41156284d"
       ],
       "layout": "IPY_MODEL_2109ac8e15094f0cb2fc0dac4a234ec7"
      }
     },
     "9c8fc5811eb340a0bb8174fc5ef84781": {
      "model_module": "@jupyter-widgets/controls",
      "model_module_version": "2.0.0",
      "model_name": "HTMLStyleModel",
      "state": {
       "description_width": "",
       "font_size": null,
       "text_color": null
      }
     },
     "9c921d87cf2f474487023ca97acfbe3b": {
      "model_module": "@jupyter-widgets/controls",
      "model_module_version": "2.0.0",
      "model_name": "HTMLStyleModel",
      "state": {
       "description_width": "",
       "font_size": null,
       "text_color": null
      }
     },
     "9c968103619b41d08aae8e5c69d664e8": {
      "model_module": "@jupyter-widgets/controls",
      "model_module_version": "2.0.0",
      "model_name": "HTMLModel",
      "state": {
       "layout": "IPY_MODEL_7cd003d65039403da115237164812a00",
       "style": "IPY_MODEL_4487d159717240479ee83b0305b06aa6",
       "value": "PowerIter R 2/5: 100%"
      }
     },
     "9ccfa20673bd4d8f9635e068b97a9fe0": {
      "model_module": "@jupyter-widgets/base",
      "model_module_version": "2.0.0",
      "model_name": "LayoutModel",
      "state": {}
     },
     "9cd857d23c8343508e5c4966531b2993": {
      "model_module": "@jupyter-widgets/controls",
      "model_module_version": "2.0.0",
      "model_name": "HTMLModel",
      "state": {
       "layout": "IPY_MODEL_3813f1a4a2f747ee9a9c74e6922da36c",
       "style": "IPY_MODEL_cf576807a34645b7a43993908f5e962a",
       "value": " 1/1 [00:02&lt;00:00,  2.70s/it, loss=0.0942]"
      }
     },
     "9d057f67c06443bab142e036f493b8dc": {
      "model_module": "@jupyter-widgets/controls",
      "model_module_version": "2.0.0",
      "model_name": "HTMLStyleModel",
      "state": {
       "description_width": "",
       "font_size": null,
       "text_color": null
      }
     },
     "9d07760e2bdd4876862ac21a8f63280a": {
      "model_module": "@jupyter-widgets/controls",
      "model_module_version": "2.0.0",
      "model_name": "HTMLStyleModel",
      "state": {
       "description_width": "",
       "font_size": null,
       "text_color": null
      }
     },
     "9d10aa50456f4cd783089575ba3f848c": {
      "model_module": "@jupyter-widgets/controls",
      "model_module_version": "2.0.0",
      "model_name": "ProgressStyleModel",
      "state": {
       "description_width": ""
      }
     },
     "9d450aeffd634ef4b7d7a555a28083ad": {
      "model_module": "@jupyter-widgets/controls",
      "model_module_version": "2.0.0",
      "model_name": "HBoxModel",
      "state": {
       "children": [
        "IPY_MODEL_c91556e7646c4c63963ea958ca52eae6",
        "IPY_MODEL_5b82cc932ed046b7ab0f2f8fafadab01",
        "IPY_MODEL_919db287972242129940ad2005c67335"
       ],
       "layout": "IPY_MODEL_f63a86b9ba1442aa82f19b1be2385ebe"
      }
     },
     "9d6ef27f34684e26880359bf7da53fe2": {
      "model_module": "@jupyter-widgets/base",
      "model_module_version": "2.0.0",
      "model_name": "LayoutModel",
      "state": {}
     },
     "9d72e96bee284e57aab72810af003ecf": {
      "model_module": "@jupyter-widgets/base",
      "model_module_version": "2.0.0",
      "model_name": "LayoutModel",
      "state": {}
     },
     "9d938f449bc44280a0379310f3cb55db": {
      "model_module": "@jupyter-widgets/base",
      "model_module_version": "2.0.0",
      "model_name": "LayoutModel",
      "state": {}
     },
     "9db65253fbe84b7ba6ac4734554966f5": {
      "model_module": "@jupyter-widgets/controls",
      "model_module_version": "2.0.0",
      "model_name": "FloatProgressModel",
      "state": {
       "bar_style": "success",
       "layout": "IPY_MODEL_4efd3d5c7f42490888c732c0099dcaff",
       "max": 500,
       "style": "IPY_MODEL_fe15d4496344491989f838ee112b4902",
       "value": 500
      }
     },
     "9dff83a9f3ac4fa8ac81fc4f1914a00f": {
      "model_module": "@jupyter-widgets/base",
      "model_module_version": "2.0.0",
      "model_name": "LayoutModel",
      "state": {}
     },
     "9e00d4680d404a2ba32cccef55992858": {
      "model_module": "@jupyter-widgets/base",
      "model_module_version": "2.0.0",
      "model_name": "LayoutModel",
      "state": {}
     },
     "9e0ca847b89142edacede0cec932fd6c": {
      "model_module": "@jupyter-widgets/controls",
      "model_module_version": "2.0.0",
      "model_name": "HTMLStyleModel",
      "state": {
       "description_width": "",
       "font_size": null,
       "text_color": null
      }
     },
     "9e80df461903472aaf571152ec661f2d": {
      "model_module": "@jupyter-widgets/controls",
      "model_module_version": "2.0.0",
      "model_name": "HTMLModel",
      "state": {
       "layout": "IPY_MODEL_76e534cb88734f5a9b0faffe7f33f1ba",
       "style": "IPY_MODEL_333706eb46794bd385b45c43910d0735",
       "value": "PowerIter R 4/5: 100%"
      }
     },
     "9e908081d1744244beff91d14f3b6c67": {
      "model_module": "@jupyter-widgets/base",
      "model_module_version": "2.0.0",
      "model_name": "LayoutModel",
      "state": {}
     },
     "9e9a6356c87a472fbd66b5c15fb8801b": {
      "model_module": "@jupyter-widgets/controls",
      "model_module_version": "2.0.0",
      "model_name": "HBoxModel",
      "state": {
       "children": [
        "IPY_MODEL_7a45f805c10e4602b68092a61210652d",
        "IPY_MODEL_3ddb85aa62a54c15a409c8b0af1fd33a",
        "IPY_MODEL_c76e18e309b146dc85a16ff8f7a90d7f"
       ],
       "layout": "IPY_MODEL_2492e4347d8746719df46fd2933ace03"
      }
     },
     "9e9bee4975f548a4b747c610c22ac535": {
      "model_module": "@jupyter-widgets/controls",
      "model_module_version": "2.0.0",
      "model_name": "HBoxModel",
      "state": {
       "children": [
        "IPY_MODEL_bf4c519283a5490e8d470b5731b98da7",
        "IPY_MODEL_e36e23951bd044019adc9a9d7353723d",
        "IPY_MODEL_aa583a5f7cc8431ba876fc02c65eb8a9"
       ],
       "layout": "IPY_MODEL_9767597d4b0243828abaf014c2e30d71"
      }
     },
     "9eefbfc4482640b4a4323412f898280c": {
      "model_module": "@jupyter-widgets/controls",
      "model_module_version": "2.0.0",
      "model_name": "HTMLModel",
      "state": {
       "layout": "IPY_MODEL_6b8f957939244eb089b11a8ee3e54ab5",
       "style": "IPY_MODEL_1cf781992d774541a1a8c6181089fb81",
       "value": "Epoch 50/60: 100%"
      }
     },
     "9f55ddac1faa4330b959893838cc4498": {
      "model_module": "@jupyter-widgets/base",
      "model_module_version": "2.0.0",
      "model_name": "LayoutModel",
      "state": {}
     },
     "9f56d6a6da2843dab7f99b701030eb62": {
      "model_module": "@jupyter-widgets/controls",
      "model_module_version": "2.0.0",
      "model_name": "HBoxModel",
      "state": {
       "children": [
        "IPY_MODEL_b06a6064174d49f8ad4cfd6283d16161",
        "IPY_MODEL_5f36ba3b35674203ac3dd7458a1e0212",
        "IPY_MODEL_bb6195c0a7894879b8015045321b03e0"
       ],
       "layout": "IPY_MODEL_9bebe319a39f45eba676be63db955db8"
      }
     },
     "9f8848eb89ea4a94af732040c19b670a": {
      "model_module": "@jupyter-widgets/base",
      "model_module_version": "2.0.0",
      "model_name": "LayoutModel",
      "state": {}
     },
     "9fb55427447f4c16b06bb879b4f8fc84": {
      "model_module": "@jupyter-widgets/controls",
      "model_module_version": "2.0.0",
      "model_name": "ProgressStyleModel",
      "state": {
       "description_width": ""
      }
     },
     "9fcc6b067eac4a359ee3de9490e942ae": {
      "model_module": "@jupyter-widgets/controls",
      "model_module_version": "2.0.0",
      "model_name": "HTMLStyleModel",
      "state": {
       "description_width": "",
       "font_size": null,
       "text_color": null
      }
     },
     "9fd37d4a50044523b83df865cb894f95": {
      "model_module": "@jupyter-widgets/base",
      "model_module_version": "2.0.0",
      "model_name": "LayoutModel",
      "state": {}
     },
     "9fe005364ba4414f8496039dbeac2d1f": {
      "model_module": "@jupyter-widgets/controls",
      "model_module_version": "2.0.0",
      "model_name": "HTMLModel",
      "state": {
       "layout": "IPY_MODEL_198d4c5fe65a44a2b22992ab6fa985f0",
       "style": "IPY_MODEL_e6027b3651564f0194e5c7a09d3c12ed",
       "value": " 1/1 [00:02&lt;00:00,  2.70s/it, loss=0.0259]"
      }
     },
     "9fedbafec72244f39958bf26976b124b": {
      "model_module": "@jupyter-widgets/base",
      "model_module_version": "2.0.0",
      "model_name": "LayoutModel",
      "state": {}
     },
     "a0453a0c309344f394511b38aa150bf4": {
      "model_module": "@jupyter-widgets/controls",
      "model_module_version": "2.0.0",
      "model_name": "HTMLModel",
      "state": {
       "layout": "IPY_MODEL_0ef927e4f23f4b47bd0ac15176ee787a",
       "style": "IPY_MODEL_225bfb94a4a24dc490cee625ff278990",
       "value": " 1/1 [00:02&lt;00:00,  2.70s/it, loss=0.0241]"
      }
     },
     "a05e04865ad745639a67ffb5177ccc05": {
      "model_module": "@jupyter-widgets/controls",
      "model_module_version": "2.0.0",
      "model_name": "HTMLModel",
      "state": {
       "layout": "IPY_MODEL_b2656ef1c26e4ecbb8860bd1c5fd00f4",
       "style": "IPY_MODEL_9c921d87cf2f474487023ca97acfbe3b",
       "value": "Epoch 3/60: 100%"
      }
     },
     "a0db54ff3e844274a939d27c82b5d662": {
      "model_module": "@jupyter-widgets/base",
      "model_module_version": "2.0.0",
      "model_name": "LayoutModel",
      "state": {}
     },
     "a0eb3631b85b4ed38a656627a666b4bc": {
      "model_module": "@jupyter-widgets/base",
      "model_module_version": "2.0.0",
      "model_name": "LayoutModel",
      "state": {}
     },
     "a0eec49b9c6649c291ab934f58f588fe": {
      "model_module": "@jupyter-widgets/base",
      "model_module_version": "2.0.0",
      "model_name": "LayoutModel",
      "state": {}
     },
     "a0feb88a18ce451093958efc7bf0b730": {
      "model_module": "@jupyter-widgets/base",
      "model_module_version": "2.0.0",
      "model_name": "LayoutModel",
      "state": {}
     },
     "a108ef9cac7e437bbc750db3d9b4bb6d": {
      "model_module": "@jupyter-widgets/base",
      "model_module_version": "2.0.0",
      "model_name": "LayoutModel",
      "state": {}
     },
     "a1227f8d793e4fe5b740dffc71b91dab": {
      "model_module": "@jupyter-widgets/controls",
      "model_module_version": "2.0.0",
      "model_name": "HTMLStyleModel",
      "state": {
       "description_width": "",
       "font_size": null,
       "text_color": null
      }
     },
     "a19c8d41e42b4bc5ae4d96b6751d6703": {
      "model_module": "@jupyter-widgets/controls",
      "model_module_version": "2.0.0",
      "model_name": "FloatProgressModel",
      "state": {
       "bar_style": "success",
       "layout": "IPY_MODEL_e65d5a56462b49dabae51f6160b12c3b",
       "max": 1,
       "style": "IPY_MODEL_b428a524ffae4b8b918e0843a16f333b",
       "value": 1
      }
     },
     "a267464edd744093a6ab603a73e208a0": {
      "model_module": "@jupyter-widgets/controls",
      "model_module_version": "2.0.0",
      "model_name": "FloatProgressModel",
      "state": {
       "bar_style": "success",
       "layout": "IPY_MODEL_9b1ad57c90e040beaf5c2ff0132097d1",
       "max": 500,
       "style": "IPY_MODEL_d21fa46b7b5f4c279d2c9afb8942b653",
       "value": 500
      }
     },
     "a27f9e5251be4f0297b6cda3c3a68c57": {
      "model_module": "@jupyter-widgets/controls",
      "model_module_version": "2.0.0",
      "model_name": "HTMLModel",
      "state": {
       "layout": "IPY_MODEL_aaa4a3489d564d3290cdb2dac6ef3d6a",
       "style": "IPY_MODEL_9fcc6b067eac4a359ee3de9490e942ae",
       "value": " 1/1 [00:02&lt;00:00,  2.71s/it, loss=0.00799]"
      }
     },
     "a28b853fcac44833b16a3ba79499ffa9": {
      "model_module": "@jupyter-widgets/base",
      "model_module_version": "2.0.0",
      "model_name": "LayoutModel",
      "state": {}
     },
     "a2b1fffb27d24a49953b6769d0507c10": {
      "model_module": "@jupyter-widgets/controls",
      "model_module_version": "2.0.0",
      "model_name": "HTMLStyleModel",
      "state": {
       "description_width": "",
       "font_size": null,
       "text_color": null
      }
     },
     "a2f406e7c53740b991d23faf0fcdca02": {
      "model_module": "@jupyter-widgets/controls",
      "model_module_version": "2.0.0",
      "model_name": "ProgressStyleModel",
      "state": {
       "description_width": ""
      }
     },
     "a311c534a24e4818bfc21f0c6fdebbe5": {
      "model_module": "@jupyter-widgets/controls",
      "model_module_version": "2.0.0",
      "model_name": "HTMLModel",
      "state": {
       "layout": "IPY_MODEL_fe93d25fc9ac42b4b7f2198462e09c21",
       "style": "IPY_MODEL_a4ccd23bfbce44cb9bf09a651bfe6777",
       "value": " 1/1 [00:02&lt;00:00,  2.71s/it, loss=1.46e+8]"
      }
     },
     "a3466ddcce7d43b5b756a198894926e5": {
      "model_module": "@jupyter-widgets/base",
      "model_module_version": "2.0.0",
      "model_name": "LayoutModel",
      "state": {}
     },
     "a3540f7efaf0460dbe01d8c6e4d6c43e": {
      "model_module": "@jupyter-widgets/base",
      "model_module_version": "2.0.0",
      "model_name": "LayoutModel",
      "state": {}
     },
     "a360f55d724544709eee1ec43630a9cc": {
      "model_module": "@jupyter-widgets/controls",
      "model_module_version": "2.0.0",
      "model_name": "HTMLStyleModel",
      "state": {
       "description_width": "",
       "font_size": null,
       "text_color": null
      }
     },
     "a3761353bbce40b88c2e3ecbd3b615cc": {
      "model_module": "@jupyter-widgets/controls",
      "model_module_version": "2.0.0",
      "model_name": "ProgressStyleModel",
      "state": {
       "description_width": ""
      }
     },
     "a3985f3fbef747aabe5006de8fb63d22": {
      "model_module": "@jupyter-widgets/controls",
      "model_module_version": "2.0.0",
      "model_name": "HTMLStyleModel",
      "state": {
       "description_width": "",
       "font_size": null,
       "text_color": null
      }
     },
     "a39ccbdc3a234c159da0d1cff14b99d9": {
      "model_module": "@jupyter-widgets/controls",
      "model_module_version": "2.0.0",
      "model_name": "HTMLStyleModel",
      "state": {
       "description_width": "",
       "font_size": null,
       "text_color": null
      }
     },
     "a3b09349a21943c79fd2812b079114dd": {
      "model_module": "@jupyter-widgets/base",
      "model_module_version": "2.0.0",
      "model_name": "LayoutModel",
      "state": {}
     },
     "a3c6e01cf8b040b38f24f707eca000cf": {
      "model_module": "@jupyter-widgets/controls",
      "model_module_version": "2.0.0",
      "model_name": "HTMLStyleModel",
      "state": {
       "description_width": "",
       "font_size": null,
       "text_color": null
      }
     },
     "a3db6314719141c69e6a925ebcf9c51c": {
      "model_module": "@jupyter-widgets/base",
      "model_module_version": "2.0.0",
      "model_name": "LayoutModel",
      "state": {}
     },
     "a3e135f0189e46299178cae71ca5157d": {
      "model_module": "@jupyter-widgets/controls",
      "model_module_version": "2.0.0",
      "model_name": "ProgressStyleModel",
      "state": {
       "description_width": ""
      }
     },
     "a43013b88a3d400da3a94b414de7e1bd": {
      "model_module": "@jupyter-widgets/controls",
      "model_module_version": "2.0.0",
      "model_name": "FloatProgressModel",
      "state": {
       "bar_style": "success",
       "layout": "IPY_MODEL_90cd7706d426456ab9688da0ad98887d",
       "max": 500,
       "style": "IPY_MODEL_5aab12d5292b44038f69f0dbc1000f1f",
       "value": 500
      }
     },
     "a43190a3643847b4b14331bfeba9d750": {
      "model_module": "@jupyter-widgets/controls",
      "model_module_version": "2.0.0",
      "model_name": "HBoxModel",
      "state": {
       "children": [
        "IPY_MODEL_e2cfb9b371844d9ca2b0a71239b80ba8",
        "IPY_MODEL_a90bb2a5f86c4a42be3e978a2cfa5ebe",
        "IPY_MODEL_f52cc75241484f4b8ca7d1f667f274fe"
       ],
       "layout": "IPY_MODEL_2d1d0beb1d5441d7b8d77d00f54e32af"
      }
     },
     "a43b9b18de024fbd893bec85569f2b43": {
      "model_module": "@jupyter-widgets/controls",
      "model_module_version": "2.0.0",
      "model_name": "HTMLModel",
      "state": {
       "layout": "IPY_MODEL_657ffece016f4adea2e46a11e1f967b5",
       "style": "IPY_MODEL_933cb2b94464477eb4b5ef823b9c5813",
       "value": " 500/500 [00:18&lt;00:00, 27.91it/s, loss=0.00185]"
      }
     },
     "a45643419f9847249c184ba842151f94": {
      "model_module": "@jupyter-widgets/base",
      "model_module_version": "2.0.0",
      "model_name": "LayoutModel",
      "state": {}
     },
     "a48584192baa4445a6c133c9a837c974": {
      "model_module": "@jupyter-widgets/controls",
      "model_module_version": "2.0.0",
      "model_name": "HTMLStyleModel",
      "state": {
       "description_width": "",
       "font_size": null,
       "text_color": null
      }
     },
     "a4bded70a75e4efd95ef3cdd3fa3a3ce": {
      "model_module": "@jupyter-widgets/controls",
      "model_module_version": "2.0.0",
      "model_name": "HBoxModel",
      "state": {
       "children": [
        "IPY_MODEL_b381341cfa6b42a18bab59a4bad596f7",
        "IPY_MODEL_f1d95bf2a51a477b9cbb0273ab93536c",
        "IPY_MODEL_7f8da8d393ba471c8642241447046b82"
       ],
       "layout": "IPY_MODEL_7f6b6bc7095e4c6a93b7f971857f6ee9"
      }
     },
     "a4ccd23bfbce44cb9bf09a651bfe6777": {
      "model_module": "@jupyter-widgets/controls",
      "model_module_version": "2.0.0",
      "model_name": "HTMLStyleModel",
      "state": {
       "description_width": "",
       "font_size": null,
       "text_color": null
      }
     },
     "a4dc6831a1b9473cbff48983121de246": {
      "model_module": "@jupyter-widgets/base",
      "model_module_version": "2.0.0",
      "model_name": "LayoutModel",
      "state": {}
     },
     "a4df9a190c344fcbbb115ac83575f0ba": {
      "model_module": "@jupyter-widgets/base",
      "model_module_version": "2.0.0",
      "model_name": "LayoutModel",
      "state": {}
     },
     "a50ddfd0e8744a84ad44fce73c5e6cff": {
      "model_module": "@jupyter-widgets/base",
      "model_module_version": "2.0.0",
      "model_name": "LayoutModel",
      "state": {}
     },
     "a51edaabb11a437a8d81af2ef2224db8": {
      "model_module": "@jupyter-widgets/controls",
      "model_module_version": "2.0.0",
      "model_name": "FloatProgressModel",
      "state": {
       "bar_style": "success",
       "layout": "IPY_MODEL_a3466ddcce7d43b5b756a198894926e5",
       "max": 1,
       "style": "IPY_MODEL_0e0a2ab25f7944c6933201dc83e2c7db",
       "value": 1
      }
     },
     "a579b827f75d44d5a508d001531685f8": {
      "model_module": "@jupyter-widgets/base",
      "model_module_version": "2.0.0",
      "model_name": "LayoutModel",
      "state": {}
     },
     "a58060f3611d41a7852ce9ee37d4f339": {
      "model_module": "@jupyter-widgets/controls",
      "model_module_version": "2.0.0",
      "model_name": "HBoxModel",
      "state": {
       "children": [
        "IPY_MODEL_6ee7baf24887446f974ae1261026aca2",
        "IPY_MODEL_6accdf9dc6a240409f55cda1e25fb203",
        "IPY_MODEL_093ca13e39ad48978bbc0a13357084a8"
       ],
       "layout": "IPY_MODEL_3c2d5d45124c467985f9ea7f2681ac65"
      }
     },
     "a5e4bd8b233f41dba154276899c3ce87": {
      "model_module": "@jupyter-widgets/base",
      "model_module_version": "2.0.0",
      "model_name": "LayoutModel",
      "state": {}
     },
     "a5fd9b2d558d4a51964d4cb3b819ac1b": {
      "model_module": "@jupyter-widgets/base",
      "model_module_version": "2.0.0",
      "model_name": "LayoutModel",
      "state": {}
     },
     "a6151a3f07ae4ed78051ade2dc8c512e": {
      "model_module": "@jupyter-widgets/controls",
      "model_module_version": "2.0.0",
      "model_name": "HTMLStyleModel",
      "state": {
       "description_width": "",
       "font_size": null,
       "text_color": null
      }
     },
     "a62854ad4b714a148054a4eec8970dd5": {
      "model_module": "@jupyter-widgets/controls",
      "model_module_version": "2.0.0",
      "model_name": "HTMLModel",
      "state": {
       "layout": "IPY_MODEL_f5f8ca48e5cd47ea8ed732397cbb297d",
       "style": "IPY_MODEL_e94c3669c06544b4b557d37bb196b4d9",
       "value": " 1/1 [00:01&lt;00:00,  1.16s/it]"
      }
     },
     "a651e77a44c2472fb8261d6b197d49a0": {
      "model_module": "@jupyter-widgets/base",
      "model_module_version": "2.0.0",
      "model_name": "LayoutModel",
      "state": {}
     },
     "a66961ba17104a97806b4fe35c8df648": {
      "model_module": "@jupyter-widgets/controls",
      "model_module_version": "2.0.0",
      "model_name": "ProgressStyleModel",
      "state": {
       "description_width": ""
      }
     },
     "a6816eb1abcd417db3a2aa166a0865ff": {
      "model_module": "@jupyter-widgets/controls",
      "model_module_version": "2.0.0",
      "model_name": "HTMLStyleModel",
      "state": {
       "description_width": "",
       "font_size": null,
       "text_color": null
      }
     },
     "a69be610b04a4c50a4cafc4e5c4c30b6": {
      "model_module": "@jupyter-widgets/controls",
      "model_module_version": "2.0.0",
      "model_name": "HTMLStyleModel",
      "state": {
       "description_width": "",
       "font_size": null,
       "text_color": null
      }
     },
     "a6d370380f834e75a11c145d67397f47": {
      "model_module": "@jupyter-widgets/controls",
      "model_module_version": "2.0.0",
      "model_name": "HBoxModel",
      "state": {
       "children": [
        "IPY_MODEL_233099a649db49e9a149d3139ff4684d",
        "IPY_MODEL_ccf0f099dd704d2f812a2c6ac8473c80",
        "IPY_MODEL_bb1c5ae7f00c43189b9224eb54913bdc"
       ],
       "layout": "IPY_MODEL_77a3ab422b2e4cf48f7a6b4404fa093d"
      }
     },
     "a7028f68aca7439b94c0733c0cd7ef63": {
      "model_module": "@jupyter-widgets/controls",
      "model_module_version": "2.0.0",
      "model_name": "HTMLModel",
      "state": {
       "layout": "IPY_MODEL_4e5c7522da9747beb2e57692e666f390",
       "style": "IPY_MODEL_8fd754339a2e4b91a49d243b0149ab97",
       "value": "Epoch 55/60: 100%"
      }
     },
     "a724f2d2454d4e7daf921891e5d0918c": {
      "model_module": "@jupyter-widgets/base",
      "model_module_version": "2.0.0",
      "model_name": "LayoutModel",
      "state": {}
     },
     "a72f5c087c6045c39b946588d80b4484": {
      "model_module": "@jupyter-widgets/controls",
      "model_module_version": "2.0.0",
      "model_name": "HTMLStyleModel",
      "state": {
       "description_width": "",
       "font_size": null,
       "text_color": null
      }
     },
     "a73d29b916e846118a4166130e5d9f39": {
      "model_module": "@jupyter-widgets/base",
      "model_module_version": "2.0.0",
      "model_name": "LayoutModel",
      "state": {}
     },
     "a74235d74e894e05aba425f70fdde13f": {
      "model_module": "@jupyter-widgets/controls",
      "model_module_version": "2.0.0",
      "model_name": "FloatProgressModel",
      "state": {
       "bar_style": "success",
       "layout": "IPY_MODEL_4f948122af7e4f3e91056953f1179575",
       "max": 500,
       "style": "IPY_MODEL_1289a27e5e9d40a4816d618688d43464",
       "value": 500
      }
     },
     "a779507d552a48bb87cde7fa91861304": {
      "model_module": "@jupyter-widgets/base",
      "model_module_version": "2.0.0",
      "model_name": "LayoutModel",
      "state": {}
     },
     "a782da42875b4c13afbc14f704739f50": {
      "model_module": "@jupyter-widgets/controls",
      "model_module_version": "2.0.0",
      "model_name": "ProgressStyleModel",
      "state": {
       "description_width": ""
      }
     },
     "a7a4d2be67c7490898a0b9d3a37f3e0b": {
      "model_module": "@jupyter-widgets/controls",
      "model_module_version": "2.0.0",
      "model_name": "HBoxModel",
      "state": {
       "children": [
        "IPY_MODEL_648dfc2c688846e6a2c608c0bfc8a48b",
        "IPY_MODEL_ed8d149fcedf4e52b4f34aa60d367dec",
        "IPY_MODEL_e03743a1cfcc4885a81ec038da242fb3"
       ],
       "layout": "IPY_MODEL_1569a613cde0491299518695816f7763"
      }
     },
     "a7d4cca552a743e69972731e5689aa47": {
      "model_module": "@jupyter-widgets/controls",
      "model_module_version": "2.0.0",
      "model_name": "HTMLStyleModel",
      "state": {
       "description_width": "",
       "font_size": null,
       "text_color": null
      }
     },
     "a7faa73f8c194ea6a715cf82fa25f077": {
      "model_module": "@jupyter-widgets/controls",
      "model_module_version": "2.0.0",
      "model_name": "HTMLModel",
      "state": {
       "layout": "IPY_MODEL_4192f36596394719a4be251386bf7017",
       "style": "IPY_MODEL_2718384a0e2945ab87616ef04e813c04",
       "value": "Epoch 2/60: 100%"
      }
     },
     "a83b3683798b49c7bd53fce53deb0810": {
      "model_module": "@jupyter-widgets/controls",
      "model_module_version": "2.0.0",
      "model_name": "HTMLModel",
      "state": {
       "layout": "IPY_MODEL_132e234c6a484897a96cb61464d5515b",
       "style": "IPY_MODEL_21935231543749ed9024bd27c04874b9",
       "value": "Epoch 17/60: 100%"
      }
     },
     "a8710eea00234c3c8799c17e9c7bd717": {
      "model_module": "@jupyter-widgets/base",
      "model_module_version": "2.0.0",
      "model_name": "LayoutModel",
      "state": {}
     },
     "a88bf39501d545a1985e818a632458f6": {
      "model_module": "@jupyter-widgets/controls",
      "model_module_version": "2.0.0",
      "model_name": "HTMLModel",
      "state": {
       "layout": "IPY_MODEL_6e1e2faebd7f41e78ba69dc56cf618df",
       "style": "IPY_MODEL_afd329fef4504bd9b679c7d0c6ccb1b5",
       "value": " 1/1 [00:02&lt;00:00,  2.72s/it, loss=1.9e+3]"
      }
     },
     "a8d00e71fe974d4789e6f5b8e0484ac2": {
      "model_module": "@jupyter-widgets/base",
      "model_module_version": "2.0.0",
      "model_name": "LayoutModel",
      "state": {}
     },
     "a90bb2a5f86c4a42be3e978a2cfa5ebe": {
      "model_module": "@jupyter-widgets/controls",
      "model_module_version": "2.0.0",
      "model_name": "FloatProgressModel",
      "state": {
       "bar_style": "success",
       "layout": "IPY_MODEL_5268ca2ab4c54f53a2cb4ad9f7e3c134",
       "max": 500,
       "style": "IPY_MODEL_359a46a1a63b424fb920a63894bc7b4e",
       "value": 500
      }
     },
     "a93626cf407d4d74a3b3a9911bd6887b": {
      "model_module": "@jupyter-widgets/controls",
      "model_module_version": "2.0.0",
      "model_name": "ProgressStyleModel",
      "state": {
       "description_width": ""
      }
     },
     "a94a1b0a18d54a898523e71c36257949": {
      "model_module": "@jupyter-widgets/base",
      "model_module_version": "2.0.0",
      "model_name": "LayoutModel",
      "state": {}
     },
     "a94c6d7dde644f2ebf08290ed05f8aed": {
      "model_module": "@jupyter-widgets/controls",
      "model_module_version": "2.0.0",
      "model_name": "HTMLStyleModel",
      "state": {
       "description_width": "",
       "font_size": null,
       "text_color": null
      }
     },
     "a987505344694ba0bf77e0824a75969b": {
      "model_module": "@jupyter-widgets/controls",
      "model_module_version": "2.0.0",
      "model_name": "FloatProgressModel",
      "state": {
       "bar_style": "success",
       "layout": "IPY_MODEL_328fe07f2da24bc18d93ea2fba3769e0",
       "max": 500,
       "style": "IPY_MODEL_d80571d462bf4f1d85407b5726f7e409",
       "value": 500
      }
     },
     "a9ca4bfc073e4cd4ae963a1554b7c2b6": {
      "model_module": "@jupyter-widgets/controls",
      "model_module_version": "2.0.0",
      "model_name": "HBoxModel",
      "state": {
       "children": [
        "IPY_MODEL_be444d8dd3674e9d9eef2f922752e6a6",
        "IPY_MODEL_10fae2fed488426a9f0c7073462b9338",
        "IPY_MODEL_9814a469a02940bfbf5a5e99fc49a0e9"
       ],
       "layout": "IPY_MODEL_76d4e8082671478e9ca7da8f9144a082"
      }
     },
     "a9ca6ddbcc6e48499e9e38c04ba2d2d3": {
      "model_module": "@jupyter-widgets/controls",
      "model_module_version": "2.0.0",
      "model_name": "HTMLStyleModel",
      "state": {
       "description_width": "",
       "font_size": null,
       "text_color": null
      }
     },
     "aa067eba2e3f4536a25f5144b89dcae7": {
      "model_module": "@jupyter-widgets/base",
      "model_module_version": "2.0.0",
      "model_name": "LayoutModel",
      "state": {}
     },
     "aa170db914444e1e9d8fcce61efda6f6": {
      "model_module": "@jupyter-widgets/controls",
      "model_module_version": "2.0.0",
      "model_name": "FloatProgressModel",
      "state": {
       "bar_style": "success",
       "layout": "IPY_MODEL_546e97ba329044d58ca04a10ff824c98",
       "max": 1,
       "style": "IPY_MODEL_30b23d8e56de4b9db681ff370308219e",
       "value": 1
      }
     },
     "aa177c5787864122885d0dbfe3b2430f": {
      "model_module": "@jupyter-widgets/controls",
      "model_module_version": "2.0.0",
      "model_name": "HTMLStyleModel",
      "state": {
       "description_width": "",
       "font_size": null,
       "text_color": null
      }
     },
     "aa583a5f7cc8431ba876fc02c65eb8a9": {
      "model_module": "@jupyter-widgets/controls",
      "model_module_version": "2.0.0",
      "model_name": "HTMLModel",
      "state": {
       "layout": "IPY_MODEL_3c4630df48de473b8c1b586fa3fa881e",
       "style": "IPY_MODEL_e31aecab1eb54c86a84385f69ae16b6a",
       "value": " 1/1 [00:02&lt;00:00,  2.71s/it, loss=0.00557]"
      }
     },
     "aaa208c451d64ff694593b06ea601391": {
      "model_module": "@jupyter-widgets/base",
      "model_module_version": "2.0.0",
      "model_name": "LayoutModel",
      "state": {}
     },
     "aaa4a3489d564d3290cdb2dac6ef3d6a": {
      "model_module": "@jupyter-widgets/base",
      "model_module_version": "2.0.0",
      "model_name": "LayoutModel",
      "state": {}
     },
     "ab54610c1efb456a9dd4a54ce29207b5": {
      "model_module": "@jupyter-widgets/controls",
      "model_module_version": "2.0.0",
      "model_name": "HTMLModel",
      "state": {
       "layout": "IPY_MODEL_64f824ca18db4076b7d86a620bdba536",
       "style": "IPY_MODEL_2ac272099ed941cb867d8a72b6cfb3d5",
       "value": " 500/500 [00:08&lt;00:00, 58.00it/s]"
      }
     },
     "ab5b477c65974de5a3b7745cde004bb2": {
      "model_module": "@jupyter-widgets/controls",
      "model_module_version": "2.0.0",
      "model_name": "HTMLStyleModel",
      "state": {
       "description_width": "",
       "font_size": null,
       "text_color": null
      }
     },
     "ab62f1121389423bb1b35a04b8cb25eb": {
      "model_module": "@jupyter-widgets/controls",
      "model_module_version": "2.0.0",
      "model_name": "HBoxModel",
      "state": {
       "children": [
        "IPY_MODEL_ead64170753e4d5590b382f8cd5d692f",
        "IPY_MODEL_49a22fde9fe246178aa1eaab90053e1c",
        "IPY_MODEL_24c0b99ef9824add881d6573c387d28f"
       ],
       "layout": "IPY_MODEL_32275f161758410ebbfa76f07e7de735"
      }
     },
     "abf2a1b458774d97a98ea06d00a3cb3d": {
      "model_module": "@jupyter-widgets/controls",
      "model_module_version": "2.0.0",
      "model_name": "HTMLModel",
      "state": {
       "layout": "IPY_MODEL_5396f1d46c164858a1b8d578433c52e4",
       "style": "IPY_MODEL_f529125f65f24898b7c43eb82018b8f2",
       "value": " 1/1 [00:02&lt;00:00,  2.71s/it, loss=0.00856]"
      }
     },
     "ac2357bbc5134f35b3402c3168830368": {
      "model_module": "@jupyter-widgets/base",
      "model_module_version": "2.0.0",
      "model_name": "LayoutModel",
      "state": {}
     },
     "ac6e6d36d7e34cdaac89d48917a2938e": {
      "model_module": "@jupyter-widgets/controls",
      "model_module_version": "2.0.0",
      "model_name": "HBoxModel",
      "state": {
       "children": [
        "IPY_MODEL_fd38091d08e442a590b552beb9f8b49e",
        "IPY_MODEL_1152fd93a66d48e19b17e30c5ac20c7c",
        "IPY_MODEL_c8cd5d593166467f9c32311f1d33fd38"
       ],
       "layout": "IPY_MODEL_bf5132cd51054e0d962660ef7b08b891"
      }
     },
     "ac942eea018545b7b2276c968710a645": {
      "model_module": "@jupyter-widgets/controls",
      "model_module_version": "2.0.0",
      "model_name": "HTMLStyleModel",
      "state": {
       "description_width": "",
       "font_size": null,
       "text_color": null
      }
     },
     "aca71ae1f70c4cc3a8d8bdab5da885c9": {
      "model_module": "@jupyter-widgets/base",
      "model_module_version": "2.0.0",
      "model_name": "LayoutModel",
      "state": {}
     },
     "aca7feb709eb4c0998b85661f0450211": {
      "model_module": "@jupyter-widgets/base",
      "model_module_version": "2.0.0",
      "model_name": "LayoutModel",
      "state": {}
     },
     "acbae75ad52d409b9f79270d96be0db3": {
      "model_module": "@jupyter-widgets/base",
      "model_module_version": "2.0.0",
      "model_name": "LayoutModel",
      "state": {}
     },
     "acf7aebe92274a7bb920020799133427": {
      "model_module": "@jupyter-widgets/controls",
      "model_module_version": "2.0.0",
      "model_name": "HBoxModel",
      "state": {
       "children": [
        "IPY_MODEL_b267ca34b56d43b39d468b34ca308d45",
        "IPY_MODEL_1745c29a128a4b7a9531c92ea7fe8135",
        "IPY_MODEL_e1446c7981b9477b8817d2fc3795b974"
       ],
       "layout": "IPY_MODEL_2092a4d8da7345a7b8d8eb86972ec522"
      }
     },
     "adaf16822c4d4800b79658b034c10a63": {
      "model_module": "@jupyter-widgets/controls",
      "model_module_version": "2.0.0",
      "model_name": "HTMLStyleModel",
      "state": {
       "description_width": "",
       "font_size": null,
       "text_color": null
      }
     },
     "adbcb46d832b49a0b3196ce35731cf81": {
      "model_module": "@jupyter-widgets/controls",
      "model_module_version": "2.0.0",
      "model_name": "HTMLModel",
      "state": {
       "layout": "IPY_MODEL_b7346ec3a84345c1808b4c9e24b5ed1c",
       "style": "IPY_MODEL_9b160e2658004f3b8c84950bcf3965ce",
       "value": "Epoch 3/60: 100%"
      }
     },
     "adfa430523ba4f5fbc4ab0126a552c6e": {
      "model_module": "@jupyter-widgets/controls",
      "model_module_version": "2.0.0",
      "model_name": "FloatProgressModel",
      "state": {
       "bar_style": "success",
       "layout": "IPY_MODEL_4e67b1a0ea81410b969eba71ef489696",
       "max": 500,
       "style": "IPY_MODEL_65d0a02782d94952a0ce900143b2cf2d",
       "value": 500
      }
     },
     "ae4a0af770654db3bae2ba81ac2467fd": {
      "model_module": "@jupyter-widgets/controls",
      "model_module_version": "2.0.0",
      "model_name": "HTMLModel",
      "state": {
       "layout": "IPY_MODEL_ba6ea013c33b45bf80485ca53c57e903",
       "style": "IPY_MODEL_5bec79bfc8ac41aca1f00cb0c4f265fe",
       "value": "Epoch 7/60: 100%"
      }
     },
     "ae88a44cfcb848749818b269bbf7a75b": {
      "model_module": "@jupyter-widgets/controls",
      "model_module_version": "2.0.0",
      "model_name": "HTMLModel",
      "state": {
       "layout": "IPY_MODEL_d679c24b838642e892198c8fefaff3bb",
       "style": "IPY_MODEL_77e22dbda9cb4ad68cb3d631b2918418",
       "value": " 1/1 [00:02&lt;00:00,  2.70s/it, loss=0.0645]"
      }
     },
     "aeb30594548e4775a6353f830213594e": {
      "model_module": "@jupyter-widgets/base",
      "model_module_version": "2.0.0",
      "model_name": "LayoutModel",
      "state": {}
     },
     "af001648d8f748f18fd0bca8abbc7bc8": {
      "model_module": "@jupyter-widgets/base",
      "model_module_version": "2.0.0",
      "model_name": "LayoutModel",
      "state": {}
     },
     "af12623be9e1418c986df333a37379d4": {
      "model_module": "@jupyter-widgets/base",
      "model_module_version": "2.0.0",
      "model_name": "LayoutModel",
      "state": {}
     },
     "af64439b43c84f3d91e237f937283230": {
      "model_module": "@jupyter-widgets/controls",
      "model_module_version": "2.0.0",
      "model_name": "ProgressStyleModel",
      "state": {
       "description_width": ""
      }
     },
     "af9ad397a1ff4a458c07d55817cf12d5": {
      "model_module": "@jupyter-widgets/base",
      "model_module_version": "2.0.0",
      "model_name": "LayoutModel",
      "state": {}
     },
     "afc5523542474f5ca749a8110bda51b0": {
      "model_module": "@jupyter-widgets/base",
      "model_module_version": "2.0.0",
      "model_name": "LayoutModel",
      "state": {}
     },
     "afd329fef4504bd9b679c7d0c6ccb1b5": {
      "model_module": "@jupyter-widgets/controls",
      "model_module_version": "2.0.0",
      "model_name": "HTMLStyleModel",
      "state": {
       "description_width": "",
       "font_size": null,
       "text_color": null
      }
     },
     "b00b21b322b04f0d9a9939b301597789": {
      "model_module": "@jupyter-widgets/controls",
      "model_module_version": "2.0.0",
      "model_name": "HTMLStyleModel",
      "state": {
       "description_width": "",
       "font_size": null,
       "text_color": null
      }
     },
     "b03fe9493b5843cc9c60c5040b5fe0aa": {
      "model_module": "@jupyter-widgets/controls",
      "model_module_version": "2.0.0",
      "model_name": "HTMLStyleModel",
      "state": {
       "description_width": "",
       "font_size": null,
       "text_color": null
      }
     },
     "b0677a44c3914735be105672419aaf48": {
      "model_module": "@jupyter-widgets/base",
      "model_module_version": "2.0.0",
      "model_name": "LayoutModel",
      "state": {}
     },
     "b06a6064174d49f8ad4cfd6283d16161": {
      "model_module": "@jupyter-widgets/controls",
      "model_module_version": "2.0.0",
      "model_name": "HTMLModel",
      "state": {
       "layout": "IPY_MODEL_0bbdd2a9b2994cc7a4507b22c78ed395",
       "style": "IPY_MODEL_3252a02844f84d6b828334204267d0ef",
       "value": "Epoch 58/60: 100%"
      }
     },
     "b120c41ce74647a6a32e0c67df75d953": {
      "model_module": "@jupyter-widgets/controls",
      "model_module_version": "2.0.0",
      "model_name": "HTMLModel",
      "state": {
       "layout": "IPY_MODEL_0b106d0cffd24c7c9ffc9ea384eab824",
       "style": "IPY_MODEL_29f9cab286de43c29f22290de8719cca",
       "value": " 500/500 [00:08&lt;00:00, 56.42it/s]"
      }
     },
     "b1286dd3a64f4d9d9896d8c5c6ec04f9": {
      "model_module": "@jupyter-widgets/controls",
      "model_module_version": "2.0.0",
      "model_name": "HTMLStyleModel",
      "state": {
       "description_width": "",
       "font_size": null,
       "text_color": null
      }
     },
     "b133144f77df4e868dd05bec9712b198": {
      "model_module": "@jupyter-widgets/controls",
      "model_module_version": "2.0.0",
      "model_name": "HTMLModel",
      "state": {
       "layout": "IPY_MODEL_9fd37d4a50044523b83df865cb894f95",
       "style": "IPY_MODEL_34b99577e73844bc82ffc9082e33ee30",
       "value": " 500/500 [00:18&lt;00:00, 26.85it/s, loss=0.0222]"
      }
     },
     "b13c015ef8704361aa0ff08c80208ea3": {
      "model_module": "@jupyter-widgets/controls",
      "model_module_version": "2.0.0",
      "model_name": "HTMLModel",
      "state": {
       "layout": "IPY_MODEL_33884ac83c1b43ad82f0b92d62ab17c4",
       "style": "IPY_MODEL_3c30dbbdaba34ff2aee78b2f789adcae",
       "value": "Epoch 23/60: 100%"
      }
     },
     "b195763d437345e49c503ebd5e6ab908": {
      "model_module": "@jupyter-widgets/controls",
      "model_module_version": "2.0.0",
      "model_name": "HTMLModel",
      "state": {
       "layout": "IPY_MODEL_97e305b27c0c4cbfabde8bcea8c30dad",
       "style": "IPY_MODEL_8b8515931e6e4f79821cad1f9174c1ef",
       "value": "Epoch 2/60: 100%"
      }
     },
     "b19f94c006fc48909ffc68407023c2cc": {
      "model_module": "@jupyter-widgets/controls",
      "model_module_version": "2.0.0",
      "model_name": "HBoxModel",
      "state": {
       "children": [
        "IPY_MODEL_d790baba514647b9b54ed0b6f6dfce3e",
        "IPY_MODEL_c113b7c9bf834f71a3715c17be9f127b",
        "IPY_MODEL_ec37c36ca50841fda60c1b378b1cf007"
       ],
       "layout": "IPY_MODEL_7a87b99ce7e34c648fb5c1f4d21db249"
      }
     },
     "b1b71ff61fd84eab8e7fd1e6ce7ae591": {
      "model_module": "@jupyter-widgets/base",
      "model_module_version": "2.0.0",
      "model_name": "LayoutModel",
      "state": {}
     },
     "b205667552374ed695626fe71f2600e9": {
      "model_module": "@jupyter-widgets/controls",
      "model_module_version": "2.0.0",
      "model_name": "HTMLStyleModel",
      "state": {
       "description_width": "",
       "font_size": null,
       "text_color": null
      }
     },
     "b208418ed0564979bdc64c9905998503": {
      "model_module": "@jupyter-widgets/base",
      "model_module_version": "2.0.0",
      "model_name": "LayoutModel",
      "state": {}
     },
     "b20e8b1118194a88a0d208d4a820552b": {
      "model_module": "@jupyter-widgets/controls",
      "model_module_version": "2.0.0",
      "model_name": "HTMLModel",
      "state": {
       "layout": "IPY_MODEL_7d22880d30834276be4bc4e4107a08bc",
       "style": "IPY_MODEL_c0eb4cbb811a42f7a6a4482086604968",
       "value": " 1/1 [00:02&lt;00:00,  2.70s/it, loss=0.0755]"
      }
     },
     "b20fc0a346214f8f83064bf5898cfb94": {
      "model_module": "@jupyter-widgets/base",
      "model_module_version": "2.0.0",
      "model_name": "LayoutModel",
      "state": {}
     },
     "b2113491b17445cebc9d40815cb10798": {
      "model_module": "@jupyter-widgets/controls",
      "model_module_version": "2.0.0",
      "model_name": "ProgressStyleModel",
      "state": {
       "description_width": ""
      }
     },
     "b21ebae52abf4768a07420adca2e6849": {
      "model_module": "@jupyter-widgets/controls",
      "model_module_version": "2.0.0",
      "model_name": "HTMLStyleModel",
      "state": {
       "description_width": "",
       "font_size": null,
       "text_color": null
      }
     },
     "b2451e86a4794fd09b1c713ae8310ebf": {
      "model_module": "@jupyter-widgets/controls",
      "model_module_version": "2.0.0",
      "model_name": "HBoxModel",
      "state": {
       "children": [
        "IPY_MODEL_b4ca55f3ea4749eab7cacc3eb217bb6a",
        "IPY_MODEL_d7a01363608e449db88e4282da757dc1",
        "IPY_MODEL_ae88a44cfcb848749818b269bbf7a75b"
       ],
       "layout": "IPY_MODEL_8dfcaf5c0a294a658730b150b6e5a289"
      }
     },
     "b254205a806f4dd1b3fb295c178f8996": {
      "model_module": "@jupyter-widgets/base",
      "model_module_version": "2.0.0",
      "model_name": "LayoutModel",
      "state": {}
     },
     "b264f03e832347ce80925549a73595fd": {
      "model_module": "@jupyter-widgets/controls",
      "model_module_version": "2.0.0",
      "model_name": "HTMLStyleModel",
      "state": {
       "description_width": "",
       "font_size": null,
       "text_color": null
      }
     },
     "b2656ef1c26e4ecbb8860bd1c5fd00f4": {
      "model_module": "@jupyter-widgets/base",
      "model_module_version": "2.0.0",
      "model_name": "LayoutModel",
      "state": {}
     },
     "b267ca34b56d43b39d468b34ca308d45": {
      "model_module": "@jupyter-widgets/controls",
      "model_module_version": "2.0.0",
      "model_name": "HTMLModel",
      "state": {
       "layout": "IPY_MODEL_6d5d105ede7740febe8ae4a6b70ea12f",
       "style": "IPY_MODEL_cb728d7fa75f45ea8bca784f35f97d45",
       "value": "Epoch 1/60: 100%"
      }
     },
     "b26f9c2b059d4072ab4ca789b4736afc": {
      "model_module": "@jupyter-widgets/controls",
      "model_module_version": "2.0.0",
      "model_name": "HTMLModel",
      "state": {
       "layout": "IPY_MODEL_86e50787fbba4655adbca2bd4b69e04f",
       "style": "IPY_MODEL_d02e7a241d2c47e18b712e26ca6649c2",
       "value": " 500/500 [00:17&lt;00:00, 27.89it/s, loss=0.00184]"
      }
     },
     "b27009a95a604c85aef7d4f4c08b5ff1": {
      "model_module": "@jupyter-widgets/controls",
      "model_module_version": "2.0.0",
      "model_name": "HTMLStyleModel",
      "state": {
       "description_width": "",
       "font_size": null,
       "text_color": null
      }
     },
     "b29c08afc3d241689d8bb121678489ef": {
      "model_module": "@jupyter-widgets/base",
      "model_module_version": "2.0.0",
      "model_name": "LayoutModel",
      "state": {}
     },
     "b2b635df8d234a5f8b96f7c215920048": {
      "model_module": "@jupyter-widgets/base",
      "model_module_version": "2.0.0",
      "model_name": "LayoutModel",
      "state": {}
     },
     "b2bbecbf13fd4fdabc2254dbc27084a4": {
      "model_module": "@jupyter-widgets/base",
      "model_module_version": "2.0.0",
      "model_name": "LayoutModel",
      "state": {}
     },
     "b2be7b09cc3448d083fc4367c6fefade": {
      "model_module": "@jupyter-widgets/base",
      "model_module_version": "2.0.0",
      "model_name": "LayoutModel",
      "state": {}
     },
     "b2c3401b9fb94bf8ab527e4a3e761ed7": {
      "model_module": "@jupyter-widgets/controls",
      "model_module_version": "2.0.0",
      "model_name": "HTMLStyleModel",
      "state": {
       "description_width": "",
       "font_size": null,
       "text_color": null
      }
     },
     "b2fb55cce3a34dd892d645473d047b59": {
      "model_module": "@jupyter-widgets/controls",
      "model_module_version": "2.0.0",
      "model_name": "ProgressStyleModel",
      "state": {
       "description_width": ""
      }
     },
     "b32cf2e7fcfa4a42acb81653884fa5b2": {
      "model_module": "@jupyter-widgets/controls",
      "model_module_version": "2.0.0",
      "model_name": "ProgressStyleModel",
      "state": {
       "description_width": ""
      }
     },
     "b3445fe6f5c744968431a0e475a1eec6": {
      "model_module": "@jupyter-widgets/controls",
      "model_module_version": "2.0.0",
      "model_name": "HTMLModel",
      "state": {
       "layout": "IPY_MODEL_955ff3c60ad24dbbbca8e05145016ec4",
       "style": "IPY_MODEL_61e9f54b07cc4e7dbfc542f3c198176e",
       "value": "Epoch 52/60: 100%"
      }
     },
     "b34a94ff7df54daaa4fdef0d9a3465a7": {
      "model_module": "@jupyter-widgets/base",
      "model_module_version": "2.0.0",
      "model_name": "LayoutModel",
      "state": {}
     },
     "b381341cfa6b42a18bab59a4bad596f7": {
      "model_module": "@jupyter-widgets/controls",
      "model_module_version": "2.0.0",
      "model_name": "HTMLModel",
      "state": {
       "layout": "IPY_MODEL_ff157f19e4b64479b6a44dc75b34fa66",
       "style": "IPY_MODEL_bafc9778bc474f7bab7ac639194477f1",
       "value": "Epoch 15/60: 100%"
      }
     },
     "b3b72f877df54aa2824bcb5ced893b94": {
      "model_module": "@jupyter-widgets/base",
      "model_module_version": "2.0.0",
      "model_name": "LayoutModel",
      "state": {}
     },
     "b3d1de42661649eeb4eb2af377d95c54": {
      "model_module": "@jupyter-widgets/base",
      "model_module_version": "2.0.0",
      "model_name": "LayoutModel",
      "state": {}
     },
     "b3e3d47268b4491da803eb281f51fe6f": {
      "model_module": "@jupyter-widgets/controls",
      "model_module_version": "2.0.0",
      "model_name": "HTMLModel",
      "state": {
       "layout": "IPY_MODEL_6b055a9a681d41d8be7f68e070f54892",
       "style": "IPY_MODEL_6e590c962ca149a5a18724da573975dc",
       "value": " 1/1 [00:02&lt;00:00,  2.70s/it, loss=0.0323]"
      }
     },
     "b404ce3d44bb4e7fa8c7cf108dd91555": {
      "model_module": "@jupyter-widgets/controls",
      "model_module_version": "2.0.0",
      "model_name": "ProgressStyleModel",
      "state": {
       "description_width": ""
      }
     },
     "b428a524ffae4b8b918e0843a16f333b": {
      "model_module": "@jupyter-widgets/controls",
      "model_module_version": "2.0.0",
      "model_name": "ProgressStyleModel",
      "state": {
       "description_width": ""
      }
     },
     "b44cb03c41154106925eabd78567ee19": {
      "model_module": "@jupyter-widgets/controls",
      "model_module_version": "2.0.0",
      "model_name": "HTMLModel",
      "state": {
       "layout": "IPY_MODEL_78b49cac9fe24047a0f9666096e42312",
       "style": "IPY_MODEL_a3c6e01cf8b040b38f24f707eca000cf",
       "value": " 500/500 [00:18&lt;00:00, 26.96it/s, loss=0.00179]"
      }
     },
     "b44d11ad4ac1412e86019545f2465421": {
      "model_module": "@jupyter-widgets/controls",
      "model_module_version": "2.0.0",
      "model_name": "HTMLModel",
      "state": {
       "layout": "IPY_MODEL_ea5fb877129a402eb7cb90ff4f6666ed",
       "style": "IPY_MODEL_d3ee0cfc27b94ef192e24f63aa12af02",
       "value": "Epoch 58/60: 100%"
      }
     },
     "b48ae8427e0c4fd0a5de63f904748b4d": {
      "model_module": "@jupyter-widgets/base",
      "model_module_version": "2.0.0",
      "model_name": "LayoutModel",
      "state": {}
     },
     "b4ca55f3ea4749eab7cacc3eb217bb6a": {
      "model_module": "@jupyter-widgets/controls",
      "model_module_version": "2.0.0",
      "model_name": "HTMLModel",
      "state": {
       "layout": "IPY_MODEL_9f55ddac1faa4330b959893838cc4498",
       "style": "IPY_MODEL_d36458a78ed94148bd66e935c55a79c7",
       "value": "Epoch 14/60: 100%"
      }
     },
     "b5329bba95894cf8a70ad92780bfa418": {
      "model_module": "@jupyter-widgets/controls",
      "model_module_version": "2.0.0",
      "model_name": "FloatProgressModel",
      "state": {
       "bar_style": "success",
       "layout": "IPY_MODEL_91431aa9011348428c0aa9867feb331f",
       "max": 500,
       "style": "IPY_MODEL_7a111fbd87ac47a88434a880ad2edf3c",
       "value": 500
      }
     },
     "b547d4c311b4415d9cdd2af93824d956": {
      "model_module": "@jupyter-widgets/base",
      "model_module_version": "2.0.0",
      "model_name": "LayoutModel",
      "state": {}
     },
     "b549e51977614543889c4fc63ec77c71": {
      "model_module": "@jupyter-widgets/controls",
      "model_module_version": "2.0.0",
      "model_name": "HTMLModel",
      "state": {
       "layout": "IPY_MODEL_e44d538102cb4e8d847ccdce31ddadef",
       "style": "IPY_MODEL_701fddf6672749719154add69a4cc6c5",
       "value": "Epoch 8/60: 100%"
      }
     },
     "b571fa82aad549efb255c568ca90b657": {
      "model_module": "@jupyter-widgets/controls",
      "model_module_version": "2.0.0",
      "model_name": "HTMLModel",
      "state": {
       "layout": "IPY_MODEL_df171993d0ea4f54afc75b30ef11ce4b",
       "style": "IPY_MODEL_f4b43e6f7d174dbca1214dcc74e5cc08",
       "value": "MaxEig: 100%"
      }
     },
     "b58d6e3a5be94ea198651d0e3dfbaa2e": {
      "model_module": "@jupyter-widgets/controls",
      "model_module_version": "2.0.0",
      "model_name": "HTMLModel",
      "state": {
       "layout": "IPY_MODEL_54c45114cdde4c37ab6a7d05afdc4840",
       "style": "IPY_MODEL_d6116da156114c65bbad8dd7455b593e",
       "value": " 1/1 [00:02&lt;00:00,  2.70s/it, loss=8.75e+9]"
      }
     },
     "b59c914897874f628798ca7af50d067f": {
      "model_module": "@jupyter-widgets/base",
      "model_module_version": "2.0.0",
      "model_name": "LayoutModel",
      "state": {}
     },
     "b5c803c0e334409292605bcaa28d798a": {
      "model_module": "@jupyter-widgets/controls",
      "model_module_version": "2.0.0",
      "model_name": "HTMLModel",
      "state": {
       "layout": "IPY_MODEL_e4fece63b3114bb0ab0793ece43449cf",
       "style": "IPY_MODEL_01e803dfe5ec4565a00e73187efc6c33",
       "value": " 500/500 [00:18&lt;00:00, 27.25it/s, loss=0.00192]"
      }
     },
     "b5c834d226f343b7ba6d5496797e7877": {
      "model_module": "@jupyter-widgets/controls",
      "model_module_version": "2.0.0",
      "model_name": "HTMLModel",
      "state": {
       "layout": "IPY_MODEL_da3585d443974cb898a4b431b0283259",
       "style": "IPY_MODEL_e681f7d8e03649b4adfe7237f871a6b2",
       "value": " 1/1 [00:02&lt;00:00,  2.71s/it, loss=0.00635]"
      }
     },
     "b5d22d71af394e2198f2245ffcdea705": {
      "model_module": "@jupyter-widgets/controls",
      "model_module_version": "2.0.0",
      "model_name": "HTMLModel",
      "state": {
       "layout": "IPY_MODEL_a779507d552a48bb87cde7fa91861304",
       "style": "IPY_MODEL_a9ca6ddbcc6e48499e9e38c04ba2d2d3",
       "value": "PowerIter L 4/5: 100%"
      }
     },
     "b5d7f5d662bf4060bc218573a8e4f966": {
      "model_module": "@jupyter-widgets/controls",
      "model_module_version": "2.0.0",
      "model_name": "HTMLModel",
      "state": {
       "layout": "IPY_MODEL_f2531507666740b4b261493926a60cb8",
       "style": "IPY_MODEL_6c846060c0474761a207ab191d69066c",
       "value": "Epoch 4/60: 100%"
      }
     },
     "b5e82066309c4b19aeea69c712830a50": {
      "model_module": "@jupyter-widgets/base",
      "model_module_version": "2.0.0",
      "model_name": "LayoutModel",
      "state": {}
     },
     "b60db463d58e4c3ea6a82721ef07026a": {
      "model_module": "@jupyter-widgets/controls",
      "model_module_version": "2.0.0",
      "model_name": "HTMLModel",
      "state": {
       "layout": "IPY_MODEL_bc6eacc29e454270a0920c07ba30cb2b",
       "style": "IPY_MODEL_cb3b559d80af413b94f4cf55f06d7351",
       "value": " 1/1 [00:02&lt;00:00,  2.71s/it, loss=0.0138]"
      }
     },
     "b6127403cd8840f2b666869c8e6ac216": {
      "model_module": "@jupyter-widgets/base",
      "model_module_version": "2.0.0",
      "model_name": "LayoutModel",
      "state": {}
     },
     "b61ca312e61b44afa426d34a88a4612b": {
      "model_module": "@jupyter-widgets/controls",
      "model_module_version": "2.0.0",
      "model_name": "HTMLStyleModel",
      "state": {
       "description_width": "",
       "font_size": null,
       "text_color": null
      }
     },
     "b64b804cd7464749af513cbae08eca31": {
      "model_module": "@jupyter-widgets/controls",
      "model_module_version": "2.0.0",
      "model_name": "HTMLModel",
      "state": {
       "layout": "IPY_MODEL_6720f8067f354a56af87234412573930",
       "style": "IPY_MODEL_003db2c2af8b40699d0e0387c9a59ab3",
       "value": " 500/500 [00:08&lt;00:00, 57.96it/s]"
      }
     },
     "b669ad5c95494afbb77f7f79fd3e5fbf": {
      "model_module": "@jupyter-widgets/base",
      "model_module_version": "2.0.0",
      "model_name": "LayoutModel",
      "state": {}
     },
     "b67595d1e1e14fdaae82888e70d958cf": {
      "model_module": "@jupyter-widgets/base",
      "model_module_version": "2.0.0",
      "model_name": "LayoutModel",
      "state": {}
     },
     "b6796cf4d4fc48dbbf21aca7f62ef718": {
      "model_module": "@jupyter-widgets/controls",
      "model_module_version": "2.0.0",
      "model_name": "ProgressStyleModel",
      "state": {
       "description_width": ""
      }
     },
     "b6a84e179d254f48b8b5870876013f50": {
      "model_module": "@jupyter-widgets/controls",
      "model_module_version": "2.0.0",
      "model_name": "HTMLModel",
      "state": {
       "layout": "IPY_MODEL_80377ddc2d284b2b8a46dd46f9761af7",
       "style": "IPY_MODEL_d886c37f5b1641a3ac4ad1e3631bc5f6",
       "value": " 500/500 [00:18&lt;00:00, 27.92it/s, loss=0.00188]"
      }
     },
     "b6e11dc79f7e4fb9a15e5f3d4d9b4f12": {
      "model_module": "@jupyter-widgets/controls",
      "model_module_version": "2.0.0",
      "model_name": "FloatProgressModel",
      "state": {
       "bar_style": "success",
       "layout": "IPY_MODEL_83751e83f6084b98a0bdb3d85d0072db",
       "max": 500,
       "style": "IPY_MODEL_e71605c5df1c4b05aee32968a0acee44",
       "value": 500
      }
     },
     "b7043fa785c44fb2a44c8b354c6dde85": {
      "model_module": "@jupyter-widgets/controls",
      "model_module_version": "2.0.0",
      "model_name": "HTMLModel",
      "state": {
       "layout": "IPY_MODEL_6fb8cf26986343f593bd123e82caf3a9",
       "style": "IPY_MODEL_b2c3401b9fb94bf8ab527e4a3e761ed7",
       "value": "Epoch 33/60: 100%"
      }
     },
     "b7346ec3a84345c1808b4c9e24b5ed1c": {
      "model_module": "@jupyter-widgets/base",
      "model_module_version": "2.0.0",
      "model_name": "LayoutModel",
      "state": {}
     },
     "b76f1f5683824929995433f40e5525de": {
      "model_module": "@jupyter-widgets/controls",
      "model_module_version": "2.0.0",
      "model_name": "HTMLModel",
      "state": {
       "layout": "IPY_MODEL_b208418ed0564979bdc64c9905998503",
       "style": "IPY_MODEL_ce1cb5f6fa8748c287aa155aa3ad719f",
       "value": "Epoch 7/60: 100%"
      }
     },
     "b76fd43b07964105ba0f55ec05b4fa4d": {
      "model_module": "@jupyter-widgets/controls",
      "model_module_version": "2.0.0",
      "model_name": "HTMLStyleModel",
      "state": {
       "description_width": "",
       "font_size": null,
       "text_color": null
      }
     },
     "b7befab6208f4bddb107af1e77774295": {
      "model_module": "@jupyter-widgets/controls",
      "model_module_version": "2.0.0",
      "model_name": "HTMLModel",
      "state": {
       "layout": "IPY_MODEL_8da385642a5542729c7448c2aed3291b",
       "style": "IPY_MODEL_5bb3721343ac4e0cad7315d73bcd9543",
       "value": " 500/500 [00:18&lt;00:00, 27.57it/s, loss=0.00217]"
      }
     },
     "b7f26fa901bc4fa2b72278b1de2e9693": {
      "model_module": "@jupyter-widgets/controls",
      "model_module_version": "2.0.0",
      "model_name": "FloatProgressModel",
      "state": {
       "bar_style": "success",
       "layout": "IPY_MODEL_288bb92232d444dc9e9cd568c7aca76b",
       "max": 1,
       "style": "IPY_MODEL_55bd206d91cb49f0bf9b4eee75ed72fe",
       "value": 1
      }
     },
     "b7f9c30044874a64a7b92e2c1b3f312f": {
      "model_module": "@jupyter-widgets/base",
      "model_module_version": "2.0.0",
      "model_name": "LayoutModel",
      "state": {}
     },
     "b8646425ee834c2a9ffb6581d3140ef8": {
      "model_module": "@jupyter-widgets/controls",
      "model_module_version": "2.0.0",
      "model_name": "FloatProgressModel",
      "state": {
       "bar_style": "success",
       "layout": "IPY_MODEL_f8e12b644da04bb4b41b1490db2a90bf",
       "max": 500,
       "style": "IPY_MODEL_778e1fc7257d45b7a5cb85134369f8d8",
       "value": 500
      }
     },
     "b8e5ef652718456785836807914c4bb1": {
      "model_module": "@jupyter-widgets/base",
      "model_module_version": "2.0.0",
      "model_name": "LayoutModel",
      "state": {}
     },
     "b95a9db4123641f4b6744cfa56e002af": {
      "model_module": "@jupyter-widgets/base",
      "model_module_version": "2.0.0",
      "model_name": "LayoutModel",
      "state": {}
     },
     "b967002a9b1c45ee9102f30d04d906e9": {
      "model_module": "@jupyter-widgets/base",
      "model_module_version": "2.0.0",
      "model_name": "LayoutModel",
      "state": {}
     },
     "b96d7ac919af47228028d6cb9907097d": {
      "model_module": "@jupyter-widgets/base",
      "model_module_version": "2.0.0",
      "model_name": "LayoutModel",
      "state": {}
     },
     "b97d323121b647adaf5038324fbd5c39": {
      "model_module": "@jupyter-widgets/base",
      "model_module_version": "2.0.0",
      "model_name": "LayoutModel",
      "state": {}
     },
     "b98b8baf343a44f98cf43b6a1123eb03": {
      "model_module": "@jupyter-widgets/controls",
      "model_module_version": "2.0.0",
      "model_name": "FloatProgressModel",
      "state": {
       "bar_style": "success",
       "layout": "IPY_MODEL_7e30f9cbcef54472a4e41884ff1fa132",
       "max": 500,
       "style": "IPY_MODEL_25a1c22df8fd4686b15aa7732d94b414",
       "value": 500
      }
     },
     "b99b84bb42b348ffa8698993139b8915": {
      "model_module": "@jupyter-widgets/controls",
      "model_module_version": "2.0.0",
      "model_name": "HBoxModel",
      "state": {
       "children": [
        "IPY_MODEL_75069137d7414cf098e7af5f7b0df3f2",
        "IPY_MODEL_ce254c2708d44e63b442548d74252892",
        "IPY_MODEL_96d889308344424ba569a0b307276cdc"
       ],
       "layout": "IPY_MODEL_0970b1ca9b0f4c12b78a08cc1231ec42"
      }
     },
     "b9b54350911b4b1a977d57a2155cfaee": {
      "model_module": "@jupyter-widgets/controls",
      "model_module_version": "2.0.0",
      "model_name": "ProgressStyleModel",
      "state": {
       "description_width": ""
      }
     },
     "b9dce1797c7e4c7fabf291d74006c562": {
      "model_module": "@jupyter-widgets/controls",
      "model_module_version": "2.0.0",
      "model_name": "HBoxModel",
      "state": {
       "children": [
        "IPY_MODEL_02a6585cd3da46ce977c30687097a4fd",
        "IPY_MODEL_fa1b10c4f9d541d6babc8f5e695aa9a9",
        "IPY_MODEL_e4610408ae7f4127a65b9cefeda7c1de"
       ],
       "layout": "IPY_MODEL_b3b72f877df54aa2824bcb5ced893b94"
      }
     },
     "b9e01457109f4a2e9bca9ada18959c24": {
      "model_module": "@jupyter-widgets/controls",
      "model_module_version": "2.0.0",
      "model_name": "HTMLStyleModel",
      "state": {
       "description_width": "",
       "font_size": null,
       "text_color": null
      }
     },
     "ba05c8fbbe964d51a9bcc79b35dd8a33": {
      "model_module": "@jupyter-widgets/base",
      "model_module_version": "2.0.0",
      "model_name": "LayoutModel",
      "state": {}
     },
     "ba10807fb8584a76ab76e599815404bb": {
      "model_module": "@jupyter-widgets/controls",
      "model_module_version": "2.0.0",
      "model_name": "HTMLStyleModel",
      "state": {
       "description_width": "",
       "font_size": null,
       "text_color": null
      }
     },
     "ba235e59bf484a83906c6406853c23d6": {
      "model_module": "@jupyter-widgets/controls",
      "model_module_version": "2.0.0",
      "model_name": "HBoxModel",
      "state": {
       "children": [
        "IPY_MODEL_2c2fbb619f0641b587c181f279f6bfdc",
        "IPY_MODEL_da2d878fd2bc480f992d15b17f974da8",
        "IPY_MODEL_c7668379cb11474a95a377485acee100"
       ],
       "layout": "IPY_MODEL_2c91616e02904d22bc434b3b3f5dc0bf"
      }
     },
     "ba2f90dd222843c58962ed7ce744444f": {
      "model_module": "@jupyter-widgets/controls",
      "model_module_version": "2.0.0",
      "model_name": "FloatProgressModel",
      "state": {
       "bar_style": "success",
       "layout": "IPY_MODEL_f5d6c68e73184114a6ff449b05bc8534",
       "max": 1,
       "style": "IPY_MODEL_a2f406e7c53740b991d23faf0fcdca02",
       "value": 1
      }
     },
     "ba37ea40101b42109c4a1e504681409d": {
      "model_module": "@jupyter-widgets/controls",
      "model_module_version": "2.0.0",
      "model_name": "HTMLModel",
      "state": {
       "layout": "IPY_MODEL_95816b9f249c4745b4b71a34d9acef4e",
       "style": "IPY_MODEL_1317e790dcee426eab8fd1ceb5428294",
       "value": "PowerIter R 5/5: 100%"
      }
     },
     "ba4d2f194f13414f8d1029591c213472": {
      "model_module": "@jupyter-widgets/controls",
      "model_module_version": "2.0.0",
      "model_name": "HTMLModel",
      "state": {
       "layout": "IPY_MODEL_8d5cd2d0b5764e07865b0a5b2f42881d",
       "style": "IPY_MODEL_44f95c198e3e474d9cd27fa920cb2811",
       "value": "Epoch 5/60:   0%"
      }
     },
     "ba573b592b5a4f12bdc40c71d877fa92": {
      "model_module": "@jupyter-widgets/controls",
      "model_module_version": "2.0.0",
      "model_name": "HTMLModel",
      "state": {
       "layout": "IPY_MODEL_a50ddfd0e8744a84ad44fce73c5e6cff",
       "style": "IPY_MODEL_5dbbb759898a452da7ff43ff760ee261",
       "value": "Epoch 15/60: 100%"
      }
     },
     "ba6ea013c33b45bf80485ca53c57e903": {
      "model_module": "@jupyter-widgets/base",
      "model_module_version": "2.0.0",
      "model_name": "LayoutModel",
      "state": {}
     },
     "ba8158ca1803423da1d481b328b69882": {
      "model_module": "@jupyter-widgets/controls",
      "model_module_version": "2.0.0",
      "model_name": "HTMLStyleModel",
      "state": {
       "description_width": "",
       "font_size": null,
       "text_color": null
      }
     },
     "ba9a21131fcc4fcaa440b74fa9071ca4": {
      "model_module": "@jupyter-widgets/base",
      "model_module_version": "2.0.0",
      "model_name": "LayoutModel",
      "state": {}
     },
     "bade033feea04e21a728207ab547efa5": {
      "model_module": "@jupyter-widgets/controls",
      "model_module_version": "2.0.0",
      "model_name": "HTMLStyleModel",
      "state": {
       "description_width": "",
       "font_size": null,
       "text_color": null
      }
     },
     "bafa31d794ab40039f8417e1fc7abbd4": {
      "model_module": "@jupyter-widgets/controls",
      "model_module_version": "2.0.0",
      "model_name": "FloatProgressModel",
      "state": {
       "bar_style": "success",
       "layout": "IPY_MODEL_1c929661b53945bab6d7462395018015",
       "max": 1,
       "style": "IPY_MODEL_4cc963c6f8f4420e80f49936dc3874a5",
       "value": 1
      }
     },
     "bafc9778bc474f7bab7ac639194477f1": {
      "model_module": "@jupyter-widgets/controls",
      "model_module_version": "2.0.0",
      "model_name": "HTMLStyleModel",
      "state": {
       "description_width": "",
       "font_size": null,
       "text_color": null
      }
     },
     "bb00b6aa73a3431fb75f5873589b93c3": {
      "model_module": "@jupyter-widgets/controls",
      "model_module_version": "2.0.0",
      "model_name": "ProgressStyleModel",
      "state": {
       "description_width": ""
      }
     },
     "bb1c5ae7f00c43189b9224eb54913bdc": {
      "model_module": "@jupyter-widgets/controls",
      "model_module_version": "2.0.0",
      "model_name": "HTMLModel",
      "state": {
       "layout": "IPY_MODEL_bcf52730f1ef41a2908b348579faa4a7",
       "style": "IPY_MODEL_383a16a82fe34d049f96ebe22ecea601",
       "value": " 500/500 [00:18&lt;00:00, 26.85it/s, loss=0.0019]"
      }
     },
     "bb6195c0a7894879b8015045321b03e0": {
      "model_module": "@jupyter-widgets/controls",
      "model_module_version": "2.0.0",
      "model_name": "HTMLModel",
      "state": {
       "layout": "IPY_MODEL_5b26599c2f5b4b39979037d4f208c4d4",
       "style": "IPY_MODEL_7f415436bf7c49bfafa97749e932d864",
       "value": " 500/500 [00:18&lt;00:00, 27.24it/s, loss=0.0018]"
      }
     },
     "bb66d284c26d43a282eb3e44c8a2f247": {
      "model_module": "@jupyter-widgets/controls",
      "model_module_version": "2.0.0",
      "model_name": "HTMLModel",
      "state": {
       "layout": "IPY_MODEL_a651e77a44c2472fb8261d6b197d49a0",
       "style": "IPY_MODEL_cdcbc5b589ec4b4fbb69fa4cbca69a51",
       "value": "Epoch 3/60: 100%"
      }
     },
     "bb7f7627b8ef44e5897d59c30259d39b": {
      "model_module": "@jupyter-widgets/controls",
      "model_module_version": "2.0.0",
      "model_name": "HTMLModel",
      "state": {
       "layout": "IPY_MODEL_b2b635df8d234a5f8b96f7c215920048",
       "style": "IPY_MODEL_817fc0805ae14bca890d1f0f54eaf3ab",
       "value": " 500/500 [00:18&lt;00:00, 27.56it/s, loss=0.0125]"
      }
     },
     "bb80badf44824f89b0a40a630d8075ab": {
      "model_module": "@jupyter-widgets/base",
      "model_module_version": "2.0.0",
      "model_name": "LayoutModel",
      "state": {}
     },
     "bb931e93eeb340a9914866d053b3c003": {
      "model_module": "@jupyter-widgets/controls",
      "model_module_version": "2.0.0",
      "model_name": "HTMLStyleModel",
      "state": {
       "description_width": "",
       "font_size": null,
       "text_color": null
      }
     },
     "bbc37b89ee56450592622435558c106e": {
      "model_module": "@jupyter-widgets/base",
      "model_module_version": "2.0.0",
      "model_name": "LayoutModel",
      "state": {}
     },
     "bbcb5dee076f456f9b05432e06b68831": {
      "model_module": "@jupyter-widgets/base",
      "model_module_version": "2.0.0",
      "model_name": "LayoutModel",
      "state": {}
     },
     "bbe854d7814544878e04bc3f507b97b5": {
      "model_module": "@jupyter-widgets/base",
      "model_module_version": "2.0.0",
      "model_name": "LayoutModel",
      "state": {}
     },
     "bc2e59813f1247999bb86020ebd787cc": {
      "model_module": "@jupyter-widgets/base",
      "model_module_version": "2.0.0",
      "model_name": "LayoutModel",
      "state": {}
     },
     "bc68d1109f094c68a8b7d91e342afd08": {
      "model_module": "@jupyter-widgets/controls",
      "model_module_version": "2.0.0",
      "model_name": "HTMLStyleModel",
      "state": {
       "description_width": "",
       "font_size": null,
       "text_color": null
      }
     },
     "bc6eacc29e454270a0920c07ba30cb2b": {
      "model_module": "@jupyter-widgets/base",
      "model_module_version": "2.0.0",
      "model_name": "LayoutModel",
      "state": {}
     },
     "bcb26e035a63455e9897e8f8e77e58b3": {
      "model_module": "@jupyter-widgets/base",
      "model_module_version": "2.0.0",
      "model_name": "LayoutModel",
      "state": {}
     },
     "bcb9f028bd884bf6b411b31288015daa": {
      "model_module": "@jupyter-widgets/controls",
      "model_module_version": "2.0.0",
      "model_name": "HTMLStyleModel",
      "state": {
       "description_width": "",
       "font_size": null,
       "text_color": null
      }
     },
     "bcc7636b433340ebafeed6ce1d1d3c2d": {
      "model_module": "@jupyter-widgets/base",
      "model_module_version": "2.0.0",
      "model_name": "LayoutModel",
      "state": {}
     },
     "bcd99b51f9ca414f9c5842dafe8625a9": {
      "model_module": "@jupyter-widgets/controls",
      "model_module_version": "2.0.0",
      "model_name": "HTMLStyleModel",
      "state": {
       "description_width": "",
       "font_size": null,
       "text_color": null
      }
     },
     "bcf086a86b8141e1a6092e66ea091d46": {
      "model_module": "@jupyter-widgets/controls",
      "model_module_version": "2.0.0",
      "model_name": "HBoxModel",
      "state": {
       "children": [
        "IPY_MODEL_5f28fdc3f9f049cfafaed0f63e59a83a",
        "IPY_MODEL_72e7ece5304c4b3d8c875de9eaadd635",
        "IPY_MODEL_f4c7cede09974da6a960f3c55f5291d5"
       ],
       "layout": "IPY_MODEL_53579a86455a415f8f5ad52c99e8f41c"
      }
     },
     "bcf23360457341a7a8ee9cb6f2936695": {
      "model_module": "@jupyter-widgets/base",
      "model_module_version": "2.0.0",
      "model_name": "LayoutModel",
      "state": {}
     },
     "bcf52730f1ef41a2908b348579faa4a7": {
      "model_module": "@jupyter-widgets/base",
      "model_module_version": "2.0.0",
      "model_name": "LayoutModel",
      "state": {}
     },
     "bd66f29ff2e249128bf20f5362676f21": {
      "model_module": "@jupyter-widgets/controls",
      "model_module_version": "2.0.0",
      "model_name": "ProgressStyleModel",
      "state": {
       "description_width": ""
      }
     },
     "bd7a978ce6cb4eb9ba8c2dc2a37ec0bc": {
      "model_module": "@jupyter-widgets/controls",
      "model_module_version": "2.0.0",
      "model_name": "HTMLModel",
      "state": {
       "layout": "IPY_MODEL_b5e82066309c4b19aeea69c712830a50",
       "style": "IPY_MODEL_09f9e71efd404e57953ad2ae775f97bd",
       "value": "Epoch 3/60: 100%"
      }
     },
     "bd7f2e2098df4ae5900b394c4d86a042": {
      "model_module": "@jupyter-widgets/controls",
      "model_module_version": "2.0.0",
      "model_name": "HTMLStyleModel",
      "state": {
       "description_width": "",
       "font_size": null,
       "text_color": null
      }
     },
     "bd84ad65e7fc40e7a472d72951d3c344": {
      "model_module": "@jupyter-widgets/controls",
      "model_module_version": "2.0.0",
      "model_name": "HTMLStyleModel",
      "state": {
       "description_width": "",
       "font_size": null,
       "text_color": null
      }
     },
     "bd85b001cf0a41c9a2492bc2910fec6b": {
      "model_module": "@jupyter-widgets/base",
      "model_module_version": "2.0.0",
      "model_name": "LayoutModel",
      "state": {}
     },
     "bd95492652bd42249b8488bee5618417": {
      "model_module": "@jupyter-widgets/controls",
      "model_module_version": "2.0.0",
      "model_name": "HTMLModel",
      "state": {
       "layout": "IPY_MODEL_5aad2c730cb645229f7d983073d5a2cb",
       "style": "IPY_MODEL_16425a597f0d40e983d39774e170629e",
       "value": " 500/500 [00:18&lt;00:00, 27.37it/s, loss=0.00183]"
      }
     },
     "bde148d14c704fdcb7bd9baa574e94a5": {
      "model_module": "@jupyter-widgets/controls",
      "model_module_version": "2.0.0",
      "model_name": "FloatProgressModel",
      "state": {
       "bar_style": "success",
       "layout": "IPY_MODEL_927b3af2e3174c5389fcbca45082439e",
       "max": 500,
       "style": "IPY_MODEL_3aeefaf7216047eb979dd81bb6b76e13",
       "value": 500
      }
     },
     "bdf1bba551554fdeafc1ee0452b1ebe6": {
      "model_module": "@jupyter-widgets/base",
      "model_module_version": "2.0.0",
      "model_name": "LayoutModel",
      "state": {}
     },
     "be444d8dd3674e9d9eef2f922752e6a6": {
      "model_module": "@jupyter-widgets/controls",
      "model_module_version": "2.0.0",
      "model_name": "HTMLModel",
      "state": {
       "layout": "IPY_MODEL_2cafeadeb5844145bebb31c04842250b",
       "style": "IPY_MODEL_3c6492b6a561465c864484b339af45af",
       "value": "Epoch 32/60: 100%"
      }
     },
     "be78cbd2be0d444f8c17abb293a214c8": {
      "model_module": "@jupyter-widgets/controls",
      "model_module_version": "2.0.0",
      "model_name": "HTMLStyleModel",
      "state": {
       "description_width": "",
       "font_size": null,
       "text_color": null
      }
     },
     "be7ae70200f640f0a30b20ff6ed0dd4f": {
      "model_module": "@jupyter-widgets/controls",
      "model_module_version": "2.0.0",
      "model_name": "ProgressStyleModel",
      "state": {
       "description_width": ""
      }
     },
     "be7f465a42d34613b99306a697d49e0b": {
      "model_module": "@jupyter-widgets/base",
      "model_module_version": "2.0.0",
      "model_name": "LayoutModel",
      "state": {}
     },
     "be98c691d72c4fcda3cce72780c1093f": {
      "model_module": "@jupyter-widgets/base",
      "model_module_version": "2.0.0",
      "model_name": "LayoutModel",
      "state": {}
     },
     "bea3e9bdb4514450ad70bef463c54da3": {
      "model_module": "@jupyter-widgets/controls",
      "model_module_version": "2.0.0",
      "model_name": "HTMLStyleModel",
      "state": {
       "description_width": "",
       "font_size": null,
       "text_color": null
      }
     },
     "bea934ff037645689b2860eaba760106": {
      "model_module": "@jupyter-widgets/base",
      "model_module_version": "2.0.0",
      "model_name": "LayoutModel",
      "state": {}
     },
     "bef503037fa9499bba4ede1a0e5137fc": {
      "model_module": "@jupyter-widgets/controls",
      "model_module_version": "2.0.0",
      "model_name": "FloatProgressModel",
      "state": {
       "bar_style": "success",
       "layout": "IPY_MODEL_c826d2e91235426ead22d96e3fcdafc9",
       "max": 1,
       "style": "IPY_MODEL_5e9f5f3010c04aa7a76e07740fde5c20",
       "value": 1
      }
     },
     "bf2024672f0949d2a9c822cebe2f9df6": {
      "model_module": "@jupyter-widgets/controls",
      "model_module_version": "2.0.0",
      "model_name": "HBoxModel",
      "state": {
       "children": [
        "IPY_MODEL_850c2c553d344e6fad75b03ff6f51e67",
        "IPY_MODEL_876515eeeb9e4c4ea6971307bf55c67f",
        "IPY_MODEL_8c6926508c9b45e4be8b743ac058bc42"
       ],
       "layout": "IPY_MODEL_de4dda8fbc6e4423ac0c504ebb64041b"
      }
     },
     "bf4c519283a5490e8d470b5731b98da7": {
      "model_module": "@jupyter-widgets/controls",
      "model_module_version": "2.0.0",
      "model_name": "HTMLModel",
      "state": {
       "layout": "IPY_MODEL_fb353605a3ad4538bce19ad203003411",
       "style": "IPY_MODEL_885fe897acd44c469a92d355dcf5c702",
       "value": "Epoch 60/60: 100%"
      }
     },
     "bf5132cd51054e0d962660ef7b08b891": {
      "model_module": "@jupyter-widgets/base",
      "model_module_version": "2.0.0",
      "model_name": "LayoutModel",
      "state": {}
     },
     "bf5980802bc64438b381725a4ae53406": {
      "model_module": "@jupyter-widgets/controls",
      "model_module_version": "2.0.0",
      "model_name": "ProgressStyleModel",
      "state": {
       "description_width": ""
      }
     },
     "bfab51c64d43441fb28c59230d7edd0f": {
      "model_module": "@jupyter-widgets/controls",
      "model_module_version": "2.0.0",
      "model_name": "ProgressStyleModel",
      "state": {
       "description_width": ""
      }
     },
     "bff1704525a14eeda9d3bb1d6e6bedf0": {
      "model_module": "@jupyter-widgets/base",
      "model_module_version": "2.0.0",
      "model_name": "LayoutModel",
      "state": {}
     },
     "c0029ddcb0a84c1286d3b265ef6f33a7": {
      "model_module": "@jupyter-widgets/base",
      "model_module_version": "2.0.0",
      "model_name": "LayoutModel",
      "state": {}
     },
     "c02bac9a90ec449b85c60ec9de53c5f6": {
      "model_module": "@jupyter-widgets/base",
      "model_module_version": "2.0.0",
      "model_name": "LayoutModel",
      "state": {}
     },
     "c057e9a59b27404688aa6b44e239a392": {
      "model_module": "@jupyter-widgets/controls",
      "model_module_version": "2.0.0",
      "model_name": "ProgressStyleModel",
      "state": {
       "description_width": ""
      }
     },
     "c09af38f76a04393bffa582464bded24": {
      "model_module": "@jupyter-widgets/controls",
      "model_module_version": "2.0.0",
      "model_name": "HBoxModel",
      "state": {
       "children": [
        "IPY_MODEL_f8d7dc688ed9438f936f7067aa226c2f",
        "IPY_MODEL_d063f7392ec3430eb8dc6396470b9beb",
        "IPY_MODEL_b5c803c0e334409292605bcaa28d798a"
       ],
       "layout": "IPY_MODEL_9af5dba519aa41219e3a565b5f4640f3"
      }
     },
     "c0b201869bde4fbb95e090340fd43b86": {
      "model_module": "@jupyter-widgets/controls",
      "model_module_version": "2.0.0",
      "model_name": "HBoxModel",
      "state": {
       "children": [
        "IPY_MODEL_a7028f68aca7439b94c0733c0cd7ef63",
        "IPY_MODEL_ed10a2434773475cbcec7d70655a8ec9",
        "IPY_MODEL_ed18a130462c4fc4a03253cab6ba691e"
       ],
       "layout": "IPY_MODEL_6f2c95ff0c9f40b480eb5fa073b77d00"
      }
     },
     "c0b27124e21745ccaa1342316aafbcaf": {
      "model_module": "@jupyter-widgets/base",
      "model_module_version": "2.0.0",
      "model_name": "LayoutModel",
      "state": {}
     },
     "c0c68abb9aed46e1b34166b004f76e29": {
      "model_module": "@jupyter-widgets/controls",
      "model_module_version": "2.0.0",
      "model_name": "FloatProgressModel",
      "state": {
       "bar_style": "success",
       "layout": "IPY_MODEL_746167c09ce44e6b9ff6212af4975c47",
       "max": 500,
       "style": "IPY_MODEL_5cb7fb3aed324ec6a7e372b7ca60aa93",
       "value": 500
      }
     },
     "c0eb4cbb811a42f7a6a4482086604968": {
      "model_module": "@jupyter-widgets/controls",
      "model_module_version": "2.0.0",
      "model_name": "HTMLStyleModel",
      "state": {
       "description_width": "",
       "font_size": null,
       "text_color": null
      }
     },
     "c0f7f7d70927484fbdcee0cd52a8a54b": {
      "model_module": "@jupyter-widgets/controls",
      "model_module_version": "2.0.0",
      "model_name": "HTMLModel",
      "state": {
       "layout": "IPY_MODEL_8d7c207fbb9e477f92509fda2d41faa7",
       "style": "IPY_MODEL_34ec09fc56b249c39789e5971bfead6f",
       "value": " 500/500 [00:18&lt;00:00, 27.73it/s, loss=0.00189]"
      }
     },
     "c113b7c9bf834f71a3715c17be9f127b": {
      "model_module": "@jupyter-widgets/controls",
      "model_module_version": "2.0.0",
      "model_name": "FloatProgressModel",
      "state": {
       "bar_style": "success",
       "layout": "IPY_MODEL_49a0c1cad9384f1ebe9f842d839c368c",
       "max": 1,
       "style": "IPY_MODEL_1de1b46de7de44c191f36e44a3ba7440",
       "value": 1
      }
     },
     "c13c94fcf35441bc957ae1d0226bed98": {
      "model_module": "@jupyter-widgets/controls",
      "model_module_version": "2.0.0",
      "model_name": "HBoxModel",
      "state": {
       "children": [
        "IPY_MODEL_1b0d522e21584ff5b7c90fd49c26a391",
        "IPY_MODEL_4f6e141c95d043f684338c44ce594a87",
        "IPY_MODEL_5f201ad31e2d4311bd8d63c6f2a44f2e"
       ],
       "layout": "IPY_MODEL_45ebc0f90b6d4628a5150acad9982ea1"
      }
     },
     "c159fc4afc5d4bdd988d330a04511ce1": {
      "model_module": "@jupyter-widgets/controls",
      "model_module_version": "2.0.0",
      "model_name": "HTMLModel",
      "state": {
       "layout": "IPY_MODEL_bd85b001cf0a41c9a2492bc2910fec6b",
       "style": "IPY_MODEL_c1b633646299436c9af0ac4a51dd9b8f",
       "value": " 1/1 [00:02&lt;00:00,  2.70s/it, loss=5.96e+32]"
      }
     },
     "c16a23a9b2724c44853370fe706d50ac": {
      "model_module": "@jupyter-widgets/base",
      "model_module_version": "2.0.0",
      "model_name": "LayoutModel",
      "state": {}
     },
     "c171184e068e46f5be675c7eda22e704": {
      "model_module": "@jupyter-widgets/base",
      "model_module_version": "2.0.0",
      "model_name": "LayoutModel",
      "state": {}
     },
     "c1b633646299436c9af0ac4a51dd9b8f": {
      "model_module": "@jupyter-widgets/controls",
      "model_module_version": "2.0.0",
      "model_name": "HTMLStyleModel",
      "state": {
       "description_width": "",
       "font_size": null,
       "text_color": null
      }
     },
     "c1c6c9e74fcc426da194eed5f3b5e176": {
      "model_module": "@jupyter-widgets/controls",
      "model_module_version": "2.0.0",
      "model_name": "HTMLModel",
      "state": {
       "layout": "IPY_MODEL_eb447d505e0942f0ab1b97942e2b828c",
       "style": "IPY_MODEL_c926d7fc38274aa6a54e5809ab852d95",
       "value": "JsenseRecon: 100%"
      }
     },
     "c24eb9b2f4aa443f8ae29154582ce084": {
      "model_module": "@jupyter-widgets/controls",
      "model_module_version": "2.0.0",
      "model_name": "ProgressStyleModel",
      "state": {
       "description_width": ""
      }
     },
     "c25e767dc97d4b0384dff2e9380caeea": {
      "model_module": "@jupyter-widgets/base",
      "model_module_version": "2.0.0",
      "model_name": "LayoutModel",
      "state": {}
     },
     "c26c487668f24d3c92a9b2e9d97094f1": {
      "model_module": "@jupyter-widgets/controls",
      "model_module_version": "2.0.0",
      "model_name": "ProgressStyleModel",
      "state": {
       "description_width": ""
      }
     },
     "c26f24dea2354091b5ce1d68d2b0b340": {
      "model_module": "@jupyter-widgets/controls",
      "model_module_version": "2.0.0",
      "model_name": "HTMLStyleModel",
      "state": {
       "description_width": "",
       "font_size": null,
       "text_color": null
      }
     },
     "c2803dee058941d8982b02921046cfb9": {
      "model_module": "@jupyter-widgets/base",
      "model_module_version": "2.0.0",
      "model_name": "LayoutModel",
      "state": {}
     },
     "c2a5d83fba9e476285608c0ff3bdf68a": {
      "model_module": "@jupyter-widgets/controls",
      "model_module_version": "2.0.0",
      "model_name": "HBoxModel",
      "state": {
       "children": [
        "IPY_MODEL_e208b0f3a672413085bd8c0552001d4a",
        "IPY_MODEL_345b5802c56545cdbff0fe234b2be1e9",
        "IPY_MODEL_a27f9e5251be4f0297b6cda3c3a68c57"
       ],
       "layout": "IPY_MODEL_f3b34d2bb1fd49d1b64060a8dbe888d9"
      }
     },
     "c3169a2ce5d2428080de503e6fc25ea4": {
      "model_module": "@jupyter-widgets/controls",
      "model_module_version": "2.0.0",
      "model_name": "HTMLStyleModel",
      "state": {
       "description_width": "",
       "font_size": null,
       "text_color": null
      }
     },
     "c34d2d567d5644fbbcfdcfcd05d4eed3": {
      "model_module": "@jupyter-widgets/base",
      "model_module_version": "2.0.0",
      "model_name": "LayoutModel",
      "state": {}
     },
     "c36d810d2f494b6b94316f9f13fbbb5e": {
      "model_module": "@jupyter-widgets/controls",
      "model_module_version": "2.0.0",
      "model_name": "HTMLModel",
      "state": {
       "layout": "IPY_MODEL_76e07d523c644806801389a07c383702",
       "style": "IPY_MODEL_bb931e93eeb340a9914866d053b3c003",
       "value": "PowerIter L 5/5: 100%"
      }
     },
     "c371a30deeac406e9668031ed0aa11d3": {
      "model_module": "@jupyter-widgets/controls",
      "model_module_version": "2.0.0",
      "model_name": "HTMLModel",
      "state": {
       "layout": "IPY_MODEL_08c91ee4fecd483e9bb7928174505a29",
       "style": "IPY_MODEL_3784eb3450d144acbb95fbab5630529f",
       "value": "Epoch 18/60: 100%"
      }
     },
     "c380a588756148699a3ca0578d58a086": {
      "model_module": "@jupyter-widgets/controls",
      "model_module_version": "2.0.0",
      "model_name": "HTMLStyleModel",
      "state": {
       "description_width": "",
       "font_size": null,
       "text_color": null
      }
     },
     "c389ff4f166c44e3a4f703fbb23a1a83": {
      "model_module": "@jupyter-widgets/base",
      "model_module_version": "2.0.0",
      "model_name": "LayoutModel",
      "state": {}
     },
     "c3e54f5c13d84801aa4422c2f58bb159": {
      "model_module": "@jupyter-widgets/base",
      "model_module_version": "2.0.0",
      "model_name": "LayoutModel",
      "state": {}
     },
     "c492246fd8eb4cfd97392f04d1b15f2a": {
      "model_module": "@jupyter-widgets/base",
      "model_module_version": "2.0.0",
      "model_name": "LayoutModel",
      "state": {}
     },
     "c49a8dbb207a4be8b0a6abf85f832c28": {
      "model_module": "@jupyter-widgets/base",
      "model_module_version": "2.0.0",
      "model_name": "LayoutModel",
      "state": {}
     },
     "c4b1069ce5614448a5eacb48d14e9f69": {
      "model_module": "@jupyter-widgets/controls",
      "model_module_version": "2.0.0",
      "model_name": "FloatProgressModel",
      "state": {
       "bar_style": "success",
       "layout": "IPY_MODEL_5ec9e4f8d1fa4f809a56896bebf16a0d",
       "max": 1,
       "style": "IPY_MODEL_8e7d30e8c921458f94fe4819faf9f2be",
       "value": 1
      }
     },
     "c4c9d759b5e346e4a4b0f81dd048fe25": {
      "model_module": "@jupyter-widgets/controls",
      "model_module_version": "2.0.0",
      "model_name": "HTMLModel",
      "state": {
       "layout": "IPY_MODEL_0b31706a89054fb7ade80e44cf7b1136",
       "style": "IPY_MODEL_98b985d7d7d54428ba62a58bae270e6f",
       "value": " 1/1 [00:02&lt;00:00,  2.71s/it, loss=0.00687]"
      }
     },
     "c4ca1d4170e84162819729fc9fc84660": {
      "model_module": "@jupyter-widgets/controls",
      "model_module_version": "2.0.0",
      "model_name": "HTMLStyleModel",
      "state": {
       "description_width": "",
       "font_size": null,
       "text_color": null
      }
     },
     "c4eb467152004f70a6f81363c8f1cfb7": {
      "model_module": "@jupyter-widgets/controls",
      "model_module_version": "2.0.0",
      "model_name": "ProgressStyleModel",
      "state": {
       "description_width": ""
      }
     },
     "c55342fa85bf4169854a74bcc3ce1bbb": {
      "model_module": "@jupyter-widgets/controls",
      "model_module_version": "2.0.0",
      "model_name": "HTMLModel",
      "state": {
       "layout": "IPY_MODEL_b3d1de42661649eeb4eb2af377d95c54",
       "style": "IPY_MODEL_24215ec02bac456b8c3a1d04b17a2d88",
       "value": " 1/1 [00:01&lt;00:00,  1.16s/it]"
      }
     },
     "c571623e6e334af99924581c82c9ddc3": {
      "model_module": "@jupyter-widgets/base",
      "model_module_version": "2.0.0",
      "model_name": "LayoutModel",
      "state": {}
     },
     "c593be26621841e19aecb4eef381e491": {
      "model_module": "@jupyter-widgets/base",
      "model_module_version": "2.0.0",
      "model_name": "LayoutModel",
      "state": {}
     },
     "c5cb4d540fac438bb20db7dd5ece239b": {
      "model_module": "@jupyter-widgets/controls",
      "model_module_version": "2.0.0",
      "model_name": "ProgressStyleModel",
      "state": {
       "description_width": ""
      }
     },
     "c6441c21cad645639292e175c2b099af": {
      "model_module": "@jupyter-widgets/base",
      "model_module_version": "2.0.0",
      "model_name": "LayoutModel",
      "state": {}
     },
     "c6fc92e8102e4f03ad143d40fa7b32aa": {
      "model_module": "@jupyter-widgets/controls",
      "model_module_version": "2.0.0",
      "model_name": "HTMLStyleModel",
      "state": {
       "description_width": "",
       "font_size": null,
       "text_color": null
      }
     },
     "c7196d21518b4c3294ec41ea24c72735": {
      "model_module": "@jupyter-widgets/controls",
      "model_module_version": "2.0.0",
      "model_name": "FloatProgressModel",
      "state": {
       "bar_style": "success",
       "layout": "IPY_MODEL_2c3c11411be148138f9659c07d909394",
       "max": 1,
       "style": "IPY_MODEL_f8b5f26eb6d042ae93a9a07112aba526",
       "value": 1
      }
     },
     "c725a5823f3f4a5a8ffa00a10684bc05": {
      "model_module": "@jupyter-widgets/controls",
      "model_module_version": "2.0.0",
      "model_name": "HTMLStyleModel",
      "state": {
       "description_width": "",
       "font_size": null,
       "text_color": null
      }
     },
     "c75b38e3a93a4a558d3a242d78fb766f": {
      "model_module": "@jupyter-widgets/controls",
      "model_module_version": "2.0.0",
      "model_name": "HTMLModel",
      "state": {
       "layout": "IPY_MODEL_eacfb8da2ebc4623acc6d66da4ea2705",
       "style": "IPY_MODEL_cf8d1d5309f34e3f9f9154f7a98a424c",
       "value": "PowerIter R 5/5: 100%"
      }
     },
     "c762547bb69c44fabf767ddc8f8721c3": {
      "model_module": "@jupyter-widgets/base",
      "model_module_version": "2.0.0",
      "model_name": "LayoutModel",
      "state": {}
     },
     "c7668379cb11474a95a377485acee100": {
      "model_module": "@jupyter-widgets/controls",
      "model_module_version": "2.0.0",
      "model_name": "HTMLModel",
      "state": {
       "layout": "IPY_MODEL_cb27ed69711643dfb5acd4bf468ddb13",
       "style": "IPY_MODEL_9784d80846c246f6b59f034e3cdafb5c",
       "value": " 500/500 [00:17&lt;00:00, 27.89it/s, loss=0.00184]"
      }
     },
     "c76e18e309b146dc85a16ff8f7a90d7f": {
      "model_module": "@jupyter-widgets/controls",
      "model_module_version": "2.0.0",
      "model_name": "HTMLModel",
      "state": {
       "layout": "IPY_MODEL_0faad35998e34cacad191759007f944b",
       "style": "IPY_MODEL_72dcd5d5c25848ec873c59170c45e10c",
       "value": " 500/500 [00:18&lt;00:00, 27.51it/s, loss=0.00211]"
      }
     },
     "c78bc1782fef443b98232c510f540fe9": {
      "model_module": "@jupyter-widgets/controls",
      "model_module_version": "2.0.0",
      "model_name": "HTMLStyleModel",
      "state": {
       "description_width": "",
       "font_size": null,
       "text_color": null
      }
     },
     "c826d2e91235426ead22d96e3fcdafc9": {
      "model_module": "@jupyter-widgets/base",
      "model_module_version": "2.0.0",
      "model_name": "LayoutModel",
      "state": {}
     },
     "c833d0254159471bab7d235910d50286": {
      "model_module": "@jupyter-widgets/controls",
      "model_module_version": "2.0.0",
      "model_name": "HBoxModel",
      "state": {
       "children": [
        "IPY_MODEL_e604ed9773a64bccba3b738417b7d64f",
        "IPY_MODEL_da09729ae1c244e5a83d56123aecac88",
        "IPY_MODEL_65999ab891ea4981b7964f3114ef27fd"
       ],
       "layout": "IPY_MODEL_2c683bc832e84d64b6ede79ebf71c591"
      }
     },
     "c868712bc5d24104921c9177dfc44a46": {
      "model_module": "@jupyter-widgets/controls",
      "model_module_version": "2.0.0",
      "model_name": "HBoxModel",
      "state": {
       "children": [
        "IPY_MODEL_618920d4aafe414d9cb36cf579e4f0ff",
        "IPY_MODEL_0cd616dc33364547afcf2cc2ba20e84b",
        "IPY_MODEL_00e7e26515b7481ea54c5482377cdb80"
       ],
       "layout": "IPY_MODEL_b0677a44c3914735be105672419aaf48"
      }
     },
     "c87abc94e7144b39b820977bbf0ee868": {
      "model_module": "@jupyter-widgets/controls",
      "model_module_version": "2.0.0",
      "model_name": "HTMLModel",
      "state": {
       "layout": "IPY_MODEL_2cdd50d91d8b4ce9b366744569724a52",
       "style": "IPY_MODEL_44426f1e201a425aac244a1ccfa1562b",
       "value": " 1/1 [00:02&lt;00:00,  2.71s/it, loss=0.00774]"
      }
     },
     "c8921b05928a4d4ab4d8ba01f9db1202": {
      "model_module": "@jupyter-widgets/base",
      "model_module_version": "2.0.0",
      "model_name": "LayoutModel",
      "state": {}
     },
     "c898139a8d9e42a587899a5beda18f37": {
      "model_module": "@jupyter-widgets/controls",
      "model_module_version": "2.0.0",
      "model_name": "HTMLStyleModel",
      "state": {
       "description_width": "",
       "font_size": null,
       "text_color": null
      }
     },
     "c8cd5d593166467f9c32311f1d33fd38": {
      "model_module": "@jupyter-widgets/controls",
      "model_module_version": "2.0.0",
      "model_name": "HTMLModel",
      "state": {
       "layout": "IPY_MODEL_a8d00e71fe974d4789e6f5b8e0484ac2",
       "style": "IPY_MODEL_b264f03e832347ce80925549a73595fd",
       "value": " 1/1 [00:02&lt;00:00,  2.72s/it, loss=0.0208]"
      }
     },
     "c8d464ffc79545b497545d75b92ced2f": {
      "model_module": "@jupyter-widgets/base",
      "model_module_version": "2.0.0",
      "model_name": "LayoutModel",
      "state": {}
     },
     "c90176a8d5524ec68e1ddc4072201a62": {
      "model_module": "@jupyter-widgets/controls",
      "model_module_version": "2.0.0",
      "model_name": "FloatProgressModel",
      "state": {
       "bar_style": "success",
       "layout": "IPY_MODEL_e6ee0dafcf114a07bbf8b7031bd9054a",
       "max": 500,
       "style": "IPY_MODEL_e5fde160d7a94653b140cdee2a8b2f6e",
       "value": 500
      }
     },
     "c91556e7646c4c63963ea958ca52eae6": {
      "model_module": "@jupyter-widgets/controls",
      "model_module_version": "2.0.0",
      "model_name": "HTMLModel",
      "state": {
       "layout": "IPY_MODEL_f76caf0838484f509058c0f3cfdbc0e0",
       "style": "IPY_MODEL_c380a588756148699a3ca0578d58a086",
       "value": "Epoch 59/60: 100%"
      }
     },
     "c926d7fc38274aa6a54e5809ab852d95": {
      "model_module": "@jupyter-widgets/controls",
      "model_module_version": "2.0.0",
      "model_name": "HTMLStyleModel",
      "state": {
       "description_width": "",
       "font_size": null,
       "text_color": null
      }
     },
     "c98edb1fd98845288ec1f2126318ca6c": {
      "model_module": "@jupyter-widgets/base",
      "model_module_version": "2.0.0",
      "model_name": "LayoutModel",
      "state": {}
     },
     "c997eb8be6344acbbc28051c15a87023": {
      "model_module": "@jupyter-widgets/controls",
      "model_module_version": "2.0.0",
      "model_name": "ProgressStyleModel",
      "state": {
       "description_width": ""
      }
     },
     "ca0730b02ad742d985058d48cf5d72c0": {
      "model_module": "@jupyter-widgets/controls",
      "model_module_version": "2.0.0",
      "model_name": "ProgressStyleModel",
      "state": {
       "description_width": ""
      }
     },
     "ca24eb5a6a9a47358b0892297541cdc9": {
      "model_module": "@jupyter-widgets/base",
      "model_module_version": "2.0.0",
      "model_name": "LayoutModel",
      "state": {}
     },
     "ca3d5af6452543978f89672f3381e83f": {
      "model_module": "@jupyter-widgets/base",
      "model_module_version": "2.0.0",
      "model_name": "LayoutModel",
      "state": {}
     },
     "ca8e2920635e4ca29e5bc037bb5ef3a1": {
      "model_module": "@jupyter-widgets/base",
      "model_module_version": "2.0.0",
      "model_name": "LayoutModel",
      "state": {}
     },
     "caa583dc21db4d42b06ea12a5ede3318": {
      "model_module": "@jupyter-widgets/controls",
      "model_module_version": "2.0.0",
      "model_name": "HTMLStyleModel",
      "state": {
       "description_width": "",
       "font_size": null,
       "text_color": null
      }
     },
     "cb1601d82ca3460bb34d95b7a03a8ca2": {
      "model_module": "@jupyter-widgets/base",
      "model_module_version": "2.0.0",
      "model_name": "LayoutModel",
      "state": {}
     },
     "cb27ed69711643dfb5acd4bf468ddb13": {
      "model_module": "@jupyter-widgets/base",
      "model_module_version": "2.0.0",
      "model_name": "LayoutModel",
      "state": {}
     },
     "cb3087a6ec30401682a0926767326a03": {
      "model_module": "@jupyter-widgets/base",
      "model_module_version": "2.0.0",
      "model_name": "LayoutModel",
      "state": {}
     },
     "cb3b559d80af413b94f4cf55f06d7351": {
      "model_module": "@jupyter-widgets/controls",
      "model_module_version": "2.0.0",
      "model_name": "HTMLStyleModel",
      "state": {
       "description_width": "",
       "font_size": null,
       "text_color": null
      }
     },
     "cb57ba3c716744519ea927a1e204a09e": {
      "model_module": "@jupyter-widgets/base",
      "model_module_version": "2.0.0",
      "model_name": "LayoutModel",
      "state": {}
     },
     "cb71fe1bf7a649fbb2343f9b28329040": {
      "model_module": "@jupyter-widgets/controls",
      "model_module_version": "2.0.0",
      "model_name": "HBoxModel",
      "state": {
       "children": [
        "IPY_MODEL_9e80df461903472aaf571152ec661f2d",
        "IPY_MODEL_3eaa85b3877c459693bc1ad29d93ca3d",
        "IPY_MODEL_a62854ad4b714a148054a4eec8970dd5"
       ],
       "layout": "IPY_MODEL_fdb609aa2e604fcf95ffa3271c37911e"
      }
     },
     "cb728d7fa75f45ea8bca784f35f97d45": {
      "model_module": "@jupyter-widgets/controls",
      "model_module_version": "2.0.0",
      "model_name": "HTMLStyleModel",
      "state": {
       "description_width": "",
       "font_size": null,
       "text_color": null
      }
     },
     "cb9bebe6edee4768b8bb32b5dda65878": {
      "model_module": "@jupyter-widgets/base",
      "model_module_version": "2.0.0",
      "model_name": "LayoutModel",
      "state": {}
     },
     "cbc70e4caee84cad9f048bae9e7e6375": {
      "model_module": "@jupyter-widgets/base",
      "model_module_version": "2.0.0",
      "model_name": "LayoutModel",
      "state": {}
     },
     "cc397a3d2ca443ecbc854e11c5d63014": {
      "model_module": "@jupyter-widgets/controls",
      "model_module_version": "2.0.0",
      "model_name": "HTMLStyleModel",
      "state": {
       "description_width": "",
       "font_size": null,
       "text_color": null
      }
     },
     "cc4f51bb05b34da8b9ef0a6a0b831e0a": {
      "model_module": "@jupyter-widgets/controls",
      "model_module_version": "2.0.0",
      "model_name": "HTMLModel",
      "state": {
       "layout": "IPY_MODEL_91e9e2e953af43babfcc6348f6839124",
       "style": "IPY_MODEL_b9e01457109f4a2e9bca9ada18959c24",
       "value": "Epoch 48/60: 100%"
      }
     },
     "cc857c1325ba4d1c830915fc60e89a7a": {
      "model_module": "@jupyter-widgets/base",
      "model_module_version": "2.0.0",
      "model_name": "LayoutModel",
      "state": {}
     },
     "cc961f62508644c8b3332680a01c7690": {
      "model_module": "@jupyter-widgets/base",
      "model_module_version": "2.0.0",
      "model_name": "LayoutModel",
      "state": {}
     },
     "cccdb548004f40b1b9c4074a8991aa64": {
      "model_module": "@jupyter-widgets/base",
      "model_module_version": "2.0.0",
      "model_name": "LayoutModel",
      "state": {}
     },
     "ccdf6c07600742e7a64876e9e35e741c": {
      "model_module": "@jupyter-widgets/base",
      "model_module_version": "2.0.0",
      "model_name": "LayoutModel",
      "state": {}
     },
     "ccf0f099dd704d2f812a2c6ac8473c80": {
      "model_module": "@jupyter-widgets/controls",
      "model_module_version": "2.0.0",
      "model_name": "FloatProgressModel",
      "state": {
       "bar_style": "success",
       "layout": "IPY_MODEL_4764ae7f78ab45ffbdd6716e7249477a",
       "max": 500,
       "style": "IPY_MODEL_6d586ef184a046f9aca2baba18a1e5d7",
       "value": 500
      }
     },
     "ccf2ac694d1c4aac80b85d08567c7990": {
      "model_module": "@jupyter-widgets/controls",
      "model_module_version": "2.0.0",
      "model_name": "FloatProgressModel",
      "state": {
       "bar_style": "success",
       "layout": "IPY_MODEL_775719ef0fd24b9a878081769c788ba4",
       "max": 500,
       "style": "IPY_MODEL_ca0730b02ad742d985058d48cf5d72c0",
       "value": 500
      }
     },
     "cd17263ce67648d8a1d18771cb0b65ec": {
      "model_module": "@jupyter-widgets/base",
      "model_module_version": "2.0.0",
      "model_name": "LayoutModel",
      "state": {}
     },
     "cd8c5f6ad58c43a2b7298fead1790d4a": {
      "model_module": "@jupyter-widgets/controls",
      "model_module_version": "2.0.0",
      "model_name": "HTMLStyleModel",
      "state": {
       "description_width": "",
       "font_size": null,
       "text_color": null
      }
     },
     "cd9f9851b63b496ebfad6ecca74ae2a2": {
      "model_module": "@jupyter-widgets/base",
      "model_module_version": "2.0.0",
      "model_name": "LayoutModel",
      "state": {}
     },
     "cdbee48f24de47e7af402eeed433ae4a": {
      "model_module": "@jupyter-widgets/base",
      "model_module_version": "2.0.0",
      "model_name": "LayoutModel",
      "state": {}
     },
     "cdcbc5b589ec4b4fbb69fa4cbca69a51": {
      "model_module": "@jupyter-widgets/controls",
      "model_module_version": "2.0.0",
      "model_name": "HTMLStyleModel",
      "state": {
       "description_width": "",
       "font_size": null,
       "text_color": null
      }
     },
     "cde927e0442941f4bc1fb93def318626": {
      "model_module": "@jupyter-widgets/controls",
      "model_module_version": "2.0.0",
      "model_name": "HTMLModel",
      "state": {
       "layout": "IPY_MODEL_9b34fb0e7e9244f8a7f05ce6a2b65ca1",
       "style": "IPY_MODEL_6c458968651a4e1e98dff366e239fb70",
       "value": " 500/500 [00:18&lt;00:00, 27.44it/s, loss=0.00197]"
      }
     },
     "cdfe6f4c7e64424facbec0c7134a7238": {
      "model_module": "@jupyter-widgets/base",
      "model_module_version": "2.0.0",
      "model_name": "LayoutModel",
      "state": {}
     },
     "ce1cb5f6fa8748c287aa155aa3ad719f": {
      "model_module": "@jupyter-widgets/controls",
      "model_module_version": "2.0.0",
      "model_name": "HTMLStyleModel",
      "state": {
       "description_width": "",
       "font_size": null,
       "text_color": null
      }
     },
     "ce234cd8436b44a68f9191de09ec57dc": {
      "model_module": "@jupyter-widgets/controls",
      "model_module_version": "2.0.0",
      "model_name": "HTMLStyleModel",
      "state": {
       "description_width": "",
       "font_size": null,
       "text_color": null
      }
     },
     "ce254c2708d44e63b442548d74252892": {
      "model_module": "@jupyter-widgets/controls",
      "model_module_version": "2.0.0",
      "model_name": "FloatProgressModel",
      "state": {
       "bar_style": "success",
       "layout": "IPY_MODEL_2c6cd94c67ae41a6bdba18f4f5b06c55",
       "max": 1,
       "style": "IPY_MODEL_335a5e8f759b4839ac07ce50ce51c48b",
       "value": 1
      }
     },
     "ce2901104f914fbf951ba90a05ad70a2": {
      "model_module": "@jupyter-widgets/controls",
      "model_module_version": "2.0.0",
      "model_name": "HTMLStyleModel",
      "state": {
       "description_width": "",
       "font_size": null,
       "text_color": null
      }
     },
     "ce3a85b3186547b687ed89d3c0ee40c1": {
      "model_module": "@jupyter-widgets/controls",
      "model_module_version": "2.0.0",
      "model_name": "HTMLStyleModel",
      "state": {
       "description_width": "",
       "font_size": null,
       "text_color": null
      }
     },
     "ce4ca5379e894b579bbe5820c21b3f22": {
      "model_module": "@jupyter-widgets/controls",
      "model_module_version": "2.0.0",
      "model_name": "HTMLModel",
      "state": {
       "layout": "IPY_MODEL_91f0fe58e08c4bae8757473c2599a30b",
       "style": "IPY_MODEL_dde54b1d30ad46a9894a775be36c3b6c",
       "value": "Epoch 48/60: 100%"
      }
     },
     "ce82c13978364d92b83d2e89dd34b560": {
      "model_module": "@jupyter-widgets/controls",
      "model_module_version": "2.0.0",
      "model_name": "HTMLModel",
      "state": {
       "layout": "IPY_MODEL_87d84ba5ad9c4c789f81da3be799168a",
       "style": "IPY_MODEL_33d87d30230747088baaf358e6bfa3bf",
       "value": " 1/1 [00:02&lt;00:00,  2.70s/it, loss=0.0181]"
      }
     },
     "ce8a292c1c3a46a792d2546089cec564": {
      "model_module": "@jupyter-widgets/controls",
      "model_module_version": "2.0.0",
      "model_name": "FloatProgressModel",
      "state": {
       "bar_style": "success",
       "layout": "IPY_MODEL_f5c8b1075fd344c389742bc31d01b77e",
       "max": 1,
       "style": "IPY_MODEL_2ebb2bb60a2443938d281e51ab899b66",
       "value": 1
      }
     },
     "ce991a950d8c458db8a26e466e64b928": {
      "model_module": "@jupyter-widgets/base",
      "model_module_version": "2.0.0",
      "model_name": "LayoutModel",
      "state": {}
     },
     "ceb5b89d0ff34e6eae153ceb284e8ffc": {
      "model_module": "@jupyter-widgets/controls",
      "model_module_version": "2.0.0",
      "model_name": "HTMLModel",
      "state": {
       "layout": "IPY_MODEL_2cc32cac22e243b680873b70fb949419",
       "style": "IPY_MODEL_8c02de2c1eaf4984bb11ea57eab09b90",
       "value": "Epoch 26/60: 100%"
      }
     },
     "ced7a0ccf2424a928d8bf861d7c19714": {
      "model_module": "@jupyter-widgets/base",
      "model_module_version": "2.0.0",
      "model_name": "LayoutModel",
      "state": {}
     },
     "cf41852ac753498185b8bde427ff4672": {
      "model_module": "@jupyter-widgets/controls",
      "model_module_version": "2.0.0",
      "model_name": "HTMLModel",
      "state": {
       "layout": "IPY_MODEL_1bf42a84de5847108dcd36b24fc9a177",
       "style": "IPY_MODEL_82dbeb1ae33943a5ae3a89ba82c335f7",
       "value": "PowerIter L 3/5: 100%"
      }
     },
     "cf4f8a890545497f83804306ff5d8a6d": {
      "model_module": "@jupyter-widgets/controls",
      "model_module_version": "2.0.0",
      "model_name": "HTMLStyleModel",
      "state": {
       "description_width": "",
       "font_size": null,
       "text_color": null
      }
     },
     "cf576807a34645b7a43993908f5e962a": {
      "model_module": "@jupyter-widgets/controls",
      "model_module_version": "2.0.0",
      "model_name": "HTMLStyleModel",
      "state": {
       "description_width": "",
       "font_size": null,
       "text_color": null
      }
     },
     "cf8d1d5309f34e3f9f9154f7a98a424c": {
      "model_module": "@jupyter-widgets/controls",
      "model_module_version": "2.0.0",
      "model_name": "HTMLStyleModel",
      "state": {
       "description_width": "",
       "font_size": null,
       "text_color": null
      }
     },
     "cfce5228ca9f44efadfc0841011697a3": {
      "model_module": "@jupyter-widgets/controls",
      "model_module_version": "2.0.0",
      "model_name": "HBoxModel",
      "state": {
       "children": [
        "IPY_MODEL_ba573b592b5a4f12bdc40c71d877fa92",
        "IPY_MODEL_d07e8d7527f043d981d22514b41d644f",
        "IPY_MODEL_dc30e10b5b194ca0aaa25ec06239adbb"
       ],
       "layout": "IPY_MODEL_a94a1b0a18d54a898523e71c36257949"
      }
     },
     "cff313950f7546b29a8ae119b302b20d": {
      "model_module": "@jupyter-widgets/controls",
      "model_module_version": "2.0.0",
      "model_name": "HBoxModel",
      "state": {
       "children": [
        "IPY_MODEL_871fb88fd363441eb64cae454c2997d3",
        "IPY_MODEL_fd7247c15e634122ad98a78c7da3cd27",
        "IPY_MODEL_c159fc4afc5d4bdd988d330a04511ce1"
       ],
       "layout": "IPY_MODEL_26838c395d384faa89259a5b5101d785"
      }
     },
     "d01f21148adf490394535cc7bc6997dc": {
      "model_module": "@jupyter-widgets/controls",
      "model_module_version": "2.0.0",
      "model_name": "HTMLStyleModel",
      "state": {
       "description_width": "",
       "font_size": null,
       "text_color": null
      }
     },
     "d02e7a241d2c47e18b712e26ca6649c2": {
      "model_module": "@jupyter-widgets/controls",
      "model_module_version": "2.0.0",
      "model_name": "HTMLStyleModel",
      "state": {
       "description_width": "",
       "font_size": null,
       "text_color": null
      }
     },
     "d052e93eee6f4af5ad4d20cf084b6aca": {
      "model_module": "@jupyter-widgets/base",
      "model_module_version": "2.0.0",
      "model_name": "LayoutModel",
      "state": {}
     },
     "d063f7392ec3430eb8dc6396470b9beb": {
      "model_module": "@jupyter-widgets/controls",
      "model_module_version": "2.0.0",
      "model_name": "FloatProgressModel",
      "state": {
       "bar_style": "success",
       "layout": "IPY_MODEL_ed3593ef908945699d43d4673c3e8a66",
       "max": 500,
       "style": "IPY_MODEL_283110951e3a4dd49bca51009d7f9177",
       "value": 500
      }
     },
     "d07e8d7527f043d981d22514b41d644f": {
      "model_module": "@jupyter-widgets/controls",
      "model_module_version": "2.0.0",
      "model_name": "FloatProgressModel",
      "state": {
       "bar_style": "success",
       "layout": "IPY_MODEL_2e648908dd0044089c516ba64839a23d",
       "max": 1,
       "style": "IPY_MODEL_f09afc7ecd0c4442a3a0134799c51b74",
       "value": 1
      }
     },
     "d0c4d556d6db43a5bdf5934974c43759": {
      "model_module": "@jupyter-widgets/base",
      "model_module_version": "2.0.0",
      "model_name": "LayoutModel",
      "state": {}
     },
     "d13034da54494e6c8684f994f46ea31a": {
      "model_module": "@jupyter-widgets/controls",
      "model_module_version": "2.0.0",
      "model_name": "ProgressStyleModel",
      "state": {
       "description_width": ""
      }
     },
     "d13116a0ed354ee88ac7ec476fd4aee7": {
      "model_module": "@jupyter-widgets/base",
      "model_module_version": "2.0.0",
      "model_name": "LayoutModel",
      "state": {}
     },
     "d15b64514e54451289532382484d42b3": {
      "model_module": "@jupyter-widgets/controls",
      "model_module_version": "2.0.0",
      "model_name": "HBoxModel",
      "state": {
       "children": [
        "IPY_MODEL_9eefbfc4482640b4a4323412f898280c",
        "IPY_MODEL_15981adc77c741ca95dab3e618a32bbc",
        "IPY_MODEL_2b080fbeacc24fb29b3a48078aaf6249"
       ],
       "layout": "IPY_MODEL_d18e7bc1935348a08a48fdcf263cf1e8"
      }
     },
     "d167d2d75b924b0a8e1f63c03d630c8e": {
      "model_module": "@jupyter-widgets/controls",
      "model_module_version": "2.0.0",
      "model_name": "HTMLModel",
      "state": {
       "layout": "IPY_MODEL_dbaa5e998a9b446e9fcc10f1900001e7",
       "style": "IPY_MODEL_75a5eff13d0946cf84783887146b6116",
       "value": " 1/1 [00:02&lt;00:00,  2.71s/it, loss=0.0114]"
      }
     },
     "d18e7bc1935348a08a48fdcf263cf1e8": {
      "model_module": "@jupyter-widgets/base",
      "model_module_version": "2.0.0",
      "model_name": "LayoutModel",
      "state": {}
     },
     "d1b1e6883da94af1ae2e45740b52f8b3": {
      "model_module": "@jupyter-widgets/controls",
      "model_module_version": "2.0.0",
      "model_name": "ProgressStyleModel",
      "state": {
       "description_width": ""
      }
     },
     "d1c1574520a34f81ad4eca5b5201edfa": {
      "model_module": "@jupyter-widgets/controls",
      "model_module_version": "2.0.0",
      "model_name": "HTMLStyleModel",
      "state": {
       "description_width": "",
       "font_size": null,
       "text_color": null
      }
     },
     "d1da052bb8094be7829201b86d2af818": {
      "model_module": "@jupyter-widgets/base",
      "model_module_version": "2.0.0",
      "model_name": "LayoutModel",
      "state": {}
     },
     "d1ea25caac5a4dff87010d24f389d0a4": {
      "model_module": "@jupyter-widgets/controls",
      "model_module_version": "2.0.0",
      "model_name": "HTMLStyleModel",
      "state": {
       "description_width": "",
       "font_size": null,
       "text_color": null
      }
     },
     "d1f8e13c973545a490a20fb3634e1e21": {
      "model_module": "@jupyter-widgets/controls",
      "model_module_version": "2.0.0",
      "model_name": "HTMLModel",
      "state": {
       "layout": "IPY_MODEL_d052e93eee6f4af5ad4d20cf084b6aca",
       "style": "IPY_MODEL_9c8fc5811eb340a0bb8174fc5ef84781",
       "value": "Epoch 36/60: 100%"
      }
     },
     "d20e3a0e7f314292a314d0664a0da17a": {
      "model_module": "@jupyter-widgets/base",
      "model_module_version": "2.0.0",
      "model_name": "LayoutModel",
      "state": {}
     },
     "d21fa46b7b5f4c279d2c9afb8942b653": {
      "model_module": "@jupyter-widgets/controls",
      "model_module_version": "2.0.0",
      "model_name": "ProgressStyleModel",
      "state": {
       "description_width": ""
      }
     },
     "d2ab2fafb4314871a48a6659e1a2d0eb": {
      "model_module": "@jupyter-widgets/controls",
      "model_module_version": "2.0.0",
      "model_name": "HTMLModel",
      "state": {
       "layout": "IPY_MODEL_ce991a950d8c458db8a26e466e64b928",
       "style": "IPY_MODEL_d363cdfef4b4492a94773cba6100080c",
       "value": "Epoch 42/60: 100%"
      }
     },
     "d2c2654abedb4336820a18bbea779ff9": {
      "model_module": "@jupyter-widgets/controls",
      "model_module_version": "2.0.0",
      "model_name": "HTMLStyleModel",
      "state": {
       "description_width": "",
       "font_size": null,
       "text_color": null
      }
     },
     "d2c272bdb4384cec8a4a3d87110ef0df": {
      "model_module": "@jupyter-widgets/controls",
      "model_module_version": "2.0.0",
      "model_name": "HTMLModel",
      "state": {
       "layout": "IPY_MODEL_e5d0cba2bed94d02878a9e6b189d415d",
       "style": "IPY_MODEL_cf4f8a890545497f83804306ff5d8a6d",
       "value": "Epoch 5/60: 100%"
      }
     },
     "d2eca4e4fbf94418ba2518bd5724ef57": {
      "model_module": "@jupyter-widgets/controls",
      "model_module_version": "2.0.0",
      "model_name": "FloatProgressModel",
      "state": {
       "bar_style": "success",
       "layout": "IPY_MODEL_3667e5165cb248d18bb5e87026b752cf",
       "max": 1,
       "style": "IPY_MODEL_4e4ac642fc784b95a6a769977e665374",
       "value": 1
      }
     },
     "d2ed9bdeb4974911b165fea7e8900878": {
      "model_module": "@jupyter-widgets/controls",
      "model_module_version": "2.0.0",
      "model_name": "HBoxModel",
      "state": {
       "children": [
        "IPY_MODEL_efdd0ee7d7084dc2880ce6bb4ad7a3b6",
        "IPY_MODEL_4729bf0372b64df9bca517edf5bcc030",
        "IPY_MODEL_6b08a8d4809e41faad925f5dd7ee4811"
       ],
       "layout": "IPY_MODEL_406d8e8e274d4d9f90467b0eb8ab45a7"
      }
     },
     "d363cdfef4b4492a94773cba6100080c": {
      "model_module": "@jupyter-widgets/controls",
      "model_module_version": "2.0.0",
      "model_name": "HTMLStyleModel",
      "state": {
       "description_width": "",
       "font_size": null,
       "text_color": null
      }
     },
     "d36458a78ed94148bd66e935c55a79c7": {
      "model_module": "@jupyter-widgets/controls",
      "model_module_version": "2.0.0",
      "model_name": "HTMLStyleModel",
      "state": {
       "description_width": "",
       "font_size": null,
       "text_color": null
      }
     },
     "d372da035f59437f89d77311b5b92e48": {
      "model_module": "@jupyter-widgets/controls",
      "model_module_version": "2.0.0",
      "model_name": "HTMLModel",
      "state": {
       "layout": "IPY_MODEL_b7f9c30044874a64a7b92e2c1b3f312f",
       "style": "IPY_MODEL_ea2621445b3c42db8f21adceb0e35d19",
       "value": "Epoch 6/60: 100%"
      }
     },
     "d3c52bca68af43c6a111d8229ef17985": {
      "model_module": "@jupyter-widgets/base",
      "model_module_version": "2.0.0",
      "model_name": "LayoutModel",
      "state": {}
     },
     "d3ee0cfc27b94ef192e24f63aa12af02": {
      "model_module": "@jupyter-widgets/controls",
      "model_module_version": "2.0.0",
      "model_name": "HTMLStyleModel",
      "state": {
       "description_width": "",
       "font_size": null,
       "text_color": null
      }
     },
     "d431a12416f242d587fa0adf9251a8e6": {
      "model_module": "@jupyter-widgets/base",
      "model_module_version": "2.0.0",
      "model_name": "LayoutModel",
      "state": {}
     },
     "d4e614c3fceb4a0cb971052698a99b86": {
      "model_module": "@jupyter-widgets/controls",
      "model_module_version": "2.0.0",
      "model_name": "HTMLModel",
      "state": {
       "layout": "IPY_MODEL_fdcc182cca7d4203b8e3729e1e6a243d",
       "style": "IPY_MODEL_9d057f67c06443bab142e036f493b8dc",
       "value": " 1/1 [00:02&lt;00:00,  2.71s/it, loss=0.00922]"
      }
     },
     "d551b1efa28a408c83e6b756efed6c22": {
      "model_module": "@jupyter-widgets/controls",
      "model_module_version": "2.0.0",
      "model_name": "HTMLModel",
      "state": {
       "layout": "IPY_MODEL_ed8092a28a9b4904af03d2235e7dd496",
       "style": "IPY_MODEL_ce3a85b3186547b687ed89d3c0ee40c1",
       "value": "Epoch 28/60: 100%"
      }
     },
     "d553bdb12cae4c8e8b1e7d809c13fb7d": {
      "model_module": "@jupyter-widgets/base",
      "model_module_version": "2.0.0",
      "model_name": "LayoutModel",
      "state": {}
     },
     "d56ae77745874feea265b28218921491": {
      "model_module": "@jupyter-widgets/base",
      "model_module_version": "2.0.0",
      "model_name": "LayoutModel",
      "state": {}
     },
     "d58be24803fa475287f642d7a7c7660c": {
      "model_module": "@jupyter-widgets/base",
      "model_module_version": "2.0.0",
      "model_name": "LayoutModel",
      "state": {}
     },
     "d5cf7fba08304471ba5c922f6374cd7c": {
      "model_module": "@jupyter-widgets/controls",
      "model_module_version": "2.0.0",
      "model_name": "HTMLStyleModel",
      "state": {
       "description_width": "",
       "font_size": null,
       "text_color": null
      }
     },
     "d6116da156114c65bbad8dd7455b593e": {
      "model_module": "@jupyter-widgets/controls",
      "model_module_version": "2.0.0",
      "model_name": "HTMLStyleModel",
      "state": {
       "description_width": "",
       "font_size": null,
       "text_color": null
      }
     },
     "d6618d2f3c004e408eaac9acebe2a75b": {
      "model_module": "@jupyter-widgets/base",
      "model_module_version": "2.0.0",
      "model_name": "LayoutModel",
      "state": {}
     },
     "d679c24b838642e892198c8fefaff3bb": {
      "model_module": "@jupyter-widgets/base",
      "model_module_version": "2.0.0",
      "model_name": "LayoutModel",
      "state": {}
     },
     "d6da9f997fef4c6c8d2c3cd2cf6acac2": {
      "model_module": "@jupyter-widgets/base",
      "model_module_version": "2.0.0",
      "model_name": "LayoutModel",
      "state": {}
     },
     "d730259848634176afb170951ffad0a2": {
      "model_module": "@jupyter-widgets/controls",
      "model_module_version": "2.0.0",
      "model_name": "HTMLStyleModel",
      "state": {
       "description_width": "",
       "font_size": null,
       "text_color": null
      }
     },
     "d756f60fd02b44669d68e81e1ba8d9a3": {
      "model_module": "@jupyter-widgets/base",
      "model_module_version": "2.0.0",
      "model_name": "LayoutModel",
      "state": {}
     },
     "d759528df4ef466698dc79d3fcfdb38c": {
      "model_module": "@jupyter-widgets/controls",
      "model_module_version": "2.0.0",
      "model_name": "HTMLStyleModel",
      "state": {
       "description_width": "",
       "font_size": null,
       "text_color": null
      }
     },
     "d790baba514647b9b54ed0b6f6dfce3e": {
      "model_module": "@jupyter-widgets/controls",
      "model_module_version": "2.0.0",
      "model_name": "HTMLModel",
      "state": {
       "layout": "IPY_MODEL_7bb3521a8bf74fb58a62e73bf347ec88",
       "style": "IPY_MODEL_7d74f72d6d4f45ddb4dda4912cef5794",
       "value": "PowerIter L 4/5: 100%"
      }
     },
     "d7a01363608e449db88e4282da757dc1": {
      "model_module": "@jupyter-widgets/controls",
      "model_module_version": "2.0.0",
      "model_name": "FloatProgressModel",
      "state": {
       "bar_style": "success",
       "layout": "IPY_MODEL_7c950070b97d4e71a8dc5d7f108e764b",
       "max": 1,
       "style": "IPY_MODEL_9d10aa50456f4cd783089575ba3f848c",
       "value": 1
      }
     },
     "d7b782d3e0fd413cb8057123a60c72a9": {
      "model_module": "@jupyter-widgets/controls",
      "model_module_version": "2.0.0",
      "model_name": "HTMLModel",
      "state": {
       "layout": "IPY_MODEL_825757adaac04d02ae7977eb721c6f96",
       "style": "IPY_MODEL_603f1b912c6549448b37f11ef907c4e8",
       "value": " 1/1 [00:02&lt;00:00,  2.70s/it, loss=16.3]"
      }
     },
     "d7e32753944041b7bab65c5646debc82": {
      "model_module": "@jupyter-widgets/controls",
      "model_module_version": "2.0.0",
      "model_name": "HTMLStyleModel",
      "state": {
       "description_width": "",
       "font_size": null,
       "text_color": null
      }
     },
     "d7f9eefd1fa64bd087d46cfbacb7cfa2": {
      "model_module": "@jupyter-widgets/base",
      "model_module_version": "2.0.0",
      "model_name": "LayoutModel",
      "state": {}
     },
     "d80571d462bf4f1d85407b5726f7e409": {
      "model_module": "@jupyter-widgets/controls",
      "model_module_version": "2.0.0",
      "model_name": "ProgressStyleModel",
      "state": {
       "description_width": ""
      }
     },
     "d867e35fafa04212b5030882e279c66f": {
      "model_module": "@jupyter-widgets/controls",
      "model_module_version": "2.0.0",
      "model_name": "ProgressStyleModel",
      "state": {
       "description_width": ""
      }
     },
     "d886c37f5b1641a3ac4ad1e3631bc5f6": {
      "model_module": "@jupyter-widgets/controls",
      "model_module_version": "2.0.0",
      "model_name": "HTMLStyleModel",
      "state": {
       "description_width": "",
       "font_size": null,
       "text_color": null
      }
     },
     "d893dbd030f14962bd5bd7a5978f1dad": {
      "model_module": "@jupyter-widgets/base",
      "model_module_version": "2.0.0",
      "model_name": "LayoutModel",
      "state": {}
     },
     "d8a6f5af87c8462eab0628004e75631f": {
      "model_module": "@jupyter-widgets/controls",
      "model_module_version": "2.0.0",
      "model_name": "HTMLModel",
      "state": {
       "layout": "IPY_MODEL_aa067eba2e3f4536a25f5144b89dcae7",
       "style": "IPY_MODEL_4628e6e058b34c20b37d5d533ed95c71",
       "value": "Epoch 9/60: 100%"
      }
     },
     "d8a7a00d1ec749e6bdb75cbbb02f1420": {
      "model_module": "@jupyter-widgets/controls",
      "model_module_version": "2.0.0",
      "model_name": "HTMLStyleModel",
      "state": {
       "description_width": "",
       "font_size": null,
       "text_color": null
      }
     },
     "d8f3be1505b249039b5a2b123e95154e": {
      "model_module": "@jupyter-widgets/controls",
      "model_module_version": "2.0.0",
      "model_name": "HTMLStyleModel",
      "state": {
       "description_width": "",
       "font_size": null,
       "text_color": null
      }
     },
     "d91a2a3305c04e4bb5f3afcaa4b3e98e": {
      "model_module": "@jupyter-widgets/base",
      "model_module_version": "2.0.0",
      "model_name": "LayoutModel",
      "state": {}
     },
     "d9a0b9e3cc9745bea4cc6673bd04c465": {
      "model_module": "@jupyter-widgets/controls",
      "model_module_version": "2.0.0",
      "model_name": "HTMLStyleModel",
      "state": {
       "description_width": "",
       "font_size": null,
       "text_color": null
      }
     },
     "d9d6af76acc34d98a6ee8e89a038a17e": {
      "model_module": "@jupyter-widgets/controls",
      "model_module_version": "2.0.0",
      "model_name": "FloatProgressModel",
      "state": {
       "bar_style": "danger",
       "layout": "IPY_MODEL_b669ad5c95494afbb77f7f79fd3e5fbf",
       "max": 1,
       "style": "IPY_MODEL_1f7d54b868e840328518692c087489a4"
      }
     },
     "da09729ae1c244e5a83d56123aecac88": {
      "model_module": "@jupyter-widgets/controls",
      "model_module_version": "2.0.0",
      "model_name": "FloatProgressModel",
      "state": {
       "bar_style": "success",
       "layout": "IPY_MODEL_7a95b6652ed9464188cd5ac110896655",
       "max": 500,
       "style": "IPY_MODEL_03ef697b2c7342cea23d4e4b88d2a8d3",
       "value": 500
      }
     },
     "da2d878fd2bc480f992d15b17f974da8": {
      "model_module": "@jupyter-widgets/controls",
      "model_module_version": "2.0.0",
      "model_name": "FloatProgressModel",
      "state": {
       "bar_style": "success",
       "layout": "IPY_MODEL_e59fd84430b6434aa4d9a69f8188367f",
       "max": 500,
       "style": "IPY_MODEL_4159cbec588442ca9608a6bb5a8550cb",
       "value": 500
      }
     },
     "da3585d443974cb898a4b431b0283259": {
      "model_module": "@jupyter-widgets/base",
      "model_module_version": "2.0.0",
      "model_name": "LayoutModel",
      "state": {}
     },
     "da77935e6c0c43488f134ff8e3e47014": {
      "model_module": "@jupyter-widgets/base",
      "model_module_version": "2.0.0",
      "model_name": "LayoutModel",
      "state": {}
     },
     "db32196502ee44018a1a5f241588a30f": {
      "model_module": "@jupyter-widgets/base",
      "model_module_version": "2.0.0",
      "model_name": "LayoutModel",
      "state": {}
     },
     "db550db059ba40a484ac3bb7c1e8d5c0": {
      "model_module": "@jupyter-widgets/base",
      "model_module_version": "2.0.0",
      "model_name": "LayoutModel",
      "state": {}
     },
     "db660362269b4921af6f3469bf014280": {
      "model_module": "@jupyter-widgets/base",
      "model_module_version": "2.0.0",
      "model_name": "LayoutModel",
      "state": {}
     },
     "db74b36c41d441eb991ec5d04d62c65e": {
      "model_module": "@jupyter-widgets/controls",
      "model_module_version": "2.0.0",
      "model_name": "HBoxModel",
      "state": {
       "children": [
        "IPY_MODEL_1228613d0f4a4a18b821e73d5b05c0d5",
        "IPY_MODEL_4bf403c613f941c185e4f184de154fbb",
        "IPY_MODEL_d7b782d3e0fd413cb8057123a60c72a9"
       ],
       "layout": "IPY_MODEL_74e884eedbd54390acee18576ee6cdd0"
      }
     },
     "db78076200224459baa4052c28e293b5": {
      "model_module": "@jupyter-widgets/base",
      "model_module_version": "2.0.0",
      "model_name": "LayoutModel",
      "state": {}
     },
     "dbaa5e998a9b446e9fcc10f1900001e7": {
      "model_module": "@jupyter-widgets/base",
      "model_module_version": "2.0.0",
      "model_name": "LayoutModel",
      "state": {}
     },
     "dbb8abfa370045c7a0496dde6161e787": {
      "model_module": "@jupyter-widgets/base",
      "model_module_version": "2.0.0",
      "model_name": "LayoutModel",
      "state": {}
     },
     "dbbb3cb0e91e4b18ad56d280210d9ccf": {
      "model_module": "@jupyter-widgets/base",
      "model_module_version": "2.0.0",
      "model_name": "LayoutModel",
      "state": {}
     },
     "dbcd9022db304f589dba416bb9df9647": {
      "model_module": "@jupyter-widgets/controls",
      "model_module_version": "2.0.0",
      "model_name": "HBoxModel",
      "state": {
       "children": [
        "IPY_MODEL_b549e51977614543889c4fc63ec77c71",
        "IPY_MODEL_64b2fa5623c14e29811820f1bcfd7c98",
        "IPY_MODEL_610c6cffcbdc4e9791c8f405287d12b8"
       ],
       "layout": "IPY_MODEL_cbc70e4caee84cad9f048bae9e7e6375"
      }
     },
     "dc1cc7f053844a2c9ba133fb6f68fe33": {
      "model_module": "@jupyter-widgets/controls",
      "model_module_version": "2.0.0",
      "model_name": "HTMLModel",
      "state": {
       "layout": "IPY_MODEL_5dc0a475ee70470b8296d2bd812f3c4b",
       "style": "IPY_MODEL_82314d837b0e4173a5655086c7f6647e",
       "value": " 500/500 [00:18&lt;00:00, 27.54it/s, loss=0.00194]"
      }
     },
     "dc30e10b5b194ca0aaa25ec06239adbb": {
      "model_module": "@jupyter-widgets/controls",
      "model_module_version": "2.0.0",
      "model_name": "HTMLModel",
      "state": {
       "layout": "IPY_MODEL_1ecc27e1db4c449a87b97a94a617812e",
       "style": "IPY_MODEL_b21ebae52abf4768a07420adca2e6849",
       "value": " 1/1 [00:02&lt;00:00,  2.72s/it, loss=0.0605]"
      }
     },
     "dc38e988940a4f85a125aa2bdca6367b": {
      "model_module": "@jupyter-widgets/controls",
      "model_module_version": "2.0.0",
      "model_name": "HTMLModel",
      "state": {
       "layout": "IPY_MODEL_094841d5f62b46b4ab881351b10dbb73",
       "style": "IPY_MODEL_d8f3be1505b249039b5a2b123e95154e",
       "value": "Epoch 25/60: 100%"
      }
     },
     "dc79bcf3a9b24c65af2207cff560ebe3": {
      "model_module": "@jupyter-widgets/base",
      "model_module_version": "2.0.0",
      "model_name": "LayoutModel",
      "state": {}
     },
     "dcae0a84f1724fb1ac1345714971ed88": {
      "model_module": "@jupyter-widgets/base",
      "model_module_version": "2.0.0",
      "model_name": "LayoutModel",
      "state": {}
     },
     "dcd5200bc0ff4424b734f185103240c7": {
      "model_module": "@jupyter-widgets/base",
      "model_module_version": "2.0.0",
      "model_name": "LayoutModel",
      "state": {}
     },
     "dce619a8e6574e56aaa656fc76d95af6": {
      "model_module": "@jupyter-widgets/controls",
      "model_module_version": "2.0.0",
      "model_name": "FloatProgressModel",
      "state": {
       "bar_style": "success",
       "layout": "IPY_MODEL_8c12e9d4e2094be09404388dc3fdd418",
       "max": 1,
       "style": "IPY_MODEL_84dedb0cde5c4e9c8303597427d8d86a",
       "value": 1
      }
     },
     "dcfff6b451b442839d4d18b70e1f9d4a": {
      "model_module": "@jupyter-widgets/base",
      "model_module_version": "2.0.0",
      "model_name": "LayoutModel",
      "state": {}
     },
     "dd31e08821c94105b1f07af66710fa02": {
      "model_module": "@jupyter-widgets/controls",
      "model_module_version": "2.0.0",
      "model_name": "HTMLModel",
      "state": {
       "layout": "IPY_MODEL_40ba4655691946c7843cc8b45f3ee6df",
       "style": "IPY_MODEL_69c411121ff44882b3332e00ce12f187",
       "value": " 1/1 [00:02&lt;00:00,  2.71s/it, loss=0.0977]"
      }
     },
     "dd6a50d5d1114b28990644d4be1cd234": {
      "model_module": "@jupyter-widgets/base",
      "model_module_version": "2.0.0",
      "model_name": "LayoutModel",
      "state": {}
     },
     "ddd4e3cf1f8a45a0a23b5f750a487aa6": {
      "model_module": "@jupyter-widgets/controls",
      "model_module_version": "2.0.0",
      "model_name": "HTMLModel",
      "state": {
       "layout": "IPY_MODEL_20eb870b61c746558e763ff71e324594",
       "style": "IPY_MODEL_6ba1c41bb4a6427594e721d44e20b184",
       "value": " 1/1 [00:02&lt;00:00,  2.70s/it, loss=0.0372]"
      }
     },
     "dddd949e1bdf459a94a7bdab2d48a6cf": {
      "model_module": "@jupyter-widgets/controls",
      "model_module_version": "2.0.0",
      "model_name": "HTMLStyleModel",
      "state": {
       "description_width": "",
       "font_size": null,
       "text_color": null
      }
     },
     "dde54b1d30ad46a9894a775be36c3b6c": {
      "model_module": "@jupyter-widgets/controls",
      "model_module_version": "2.0.0",
      "model_name": "HTMLStyleModel",
      "state": {
       "description_width": "",
       "font_size": null,
       "text_color": null
      }
     },
     "de0126ed75024fff8d84b2f2ac0b9e54": {
      "model_module": "@jupyter-widgets/base",
      "model_module_version": "2.0.0",
      "model_name": "LayoutModel",
      "state": {}
     },
     "de01c7ae6ba04f22a889716700df2068": {
      "model_module": "@jupyter-widgets/base",
      "model_module_version": "2.0.0",
      "model_name": "LayoutModel",
      "state": {}
     },
     "de4dda8fbc6e4423ac0c504ebb64041b": {
      "model_module": "@jupyter-widgets/base",
      "model_module_version": "2.0.0",
      "model_name": "LayoutModel",
      "state": {}
     },
     "dea84f559ddc4b1691203fa3fe9ff3e9": {
      "model_module": "@jupyter-widgets/base",
      "model_module_version": "2.0.0",
      "model_name": "LayoutModel",
      "state": {}
     },
     "df171993d0ea4f54afc75b30ef11ce4b": {
      "model_module": "@jupyter-widgets/base",
      "model_module_version": "2.0.0",
      "model_name": "LayoutModel",
      "state": {}
     },
     "df53d84b6f73456f9a39ac2a1381fb4d": {
      "model_module": "@jupyter-widgets/controls",
      "model_module_version": "2.0.0",
      "model_name": "FloatProgressModel",
      "state": {
       "bar_style": "success",
       "layout": "IPY_MODEL_628755122a914b58bbf5ef80ecbf170a",
       "max": 1,
       "style": "IPY_MODEL_e3905d196dfa46efa7b55dde55c5ecdc",
       "value": 1
      }
     },
     "df88f55087b74fa4a3b42398b1ce97d1": {
      "model_module": "@jupyter-widgets/controls",
      "model_module_version": "2.0.0",
      "model_name": "HTMLStyleModel",
      "state": {
       "description_width": "",
       "font_size": null,
       "text_color": null
      }
     },
     "dfb0cad82f55458294710d400e39e40c": {
      "model_module": "@jupyter-widgets/controls",
      "model_module_version": "2.0.0",
      "model_name": "ProgressStyleModel",
      "state": {
       "description_width": ""
      }
     },
     "e01eb470bdbd49fa8b1293a1373dfae6": {
      "model_module": "@jupyter-widgets/controls",
      "model_module_version": "2.0.0",
      "model_name": "HBoxModel",
      "state": {
       "children": [
        "IPY_MODEL_b571fa82aad549efb255c568ca90b657",
        "IPY_MODEL_adfa430523ba4f5fbc4ab0126a552c6e",
        "IPY_MODEL_4a8a8e829eef4d67af4fc0d12f531ece"
       ],
       "layout": "IPY_MODEL_494293a264ab474b912e274a782ceb0b"
      }
     },
     "e02eb9469ba44094a6b12624c591bb48": {
      "model_module": "@jupyter-widgets/controls",
      "model_module_version": "2.0.0",
      "model_name": "HTMLModel",
      "state": {
       "layout": "IPY_MODEL_43fc5af59daf492fb3fa6ea32c48d548",
       "style": "IPY_MODEL_adaf16822c4d4800b79658b034c10a63",
       "value": "Epoch 45/60: 100%"
      }
     },
     "e03743a1cfcc4885a81ec038da242fb3": {
      "model_module": "@jupyter-widgets/controls",
      "model_module_version": "2.0.0",
      "model_name": "HTMLModel",
      "state": {
       "layout": "IPY_MODEL_ba9a21131fcc4fcaa440b74fa9071ca4",
       "style": "IPY_MODEL_8864412536c143bb810ce4f7f44d3ec7",
       "value": " 500/500 [00:09&lt;00:00, 55.51it/s]"
      }
     },
     "e06e2faaeb9f480087c8e09a81ed858d": {
      "model_module": "@jupyter-widgets/controls",
      "model_module_version": "2.0.0",
      "model_name": "HTMLStyleModel",
      "state": {
       "description_width": "",
       "font_size": null,
       "text_color": null
      }
     },
     "e0ec599ef7824e9c98d0219e542a037a": {
      "model_module": "@jupyter-widgets/controls",
      "model_module_version": "2.0.0",
      "model_name": "ProgressStyleModel",
      "state": {
       "description_width": ""
      }
     },
     "e1446c7981b9477b8817d2fc3795b974": {
      "model_module": "@jupyter-widgets/controls",
      "model_module_version": "2.0.0",
      "model_name": "HTMLModel",
      "state": {
       "layout": "IPY_MODEL_6100b17cb284451fb549a36b58e32a26",
       "style": "IPY_MODEL_d1ea25caac5a4dff87010d24f389d0a4",
       "value": " 500/500 [00:18&lt;00:00, 26.95it/s, loss=0.0286]"
      }
     },
     "e18b71b1a09e4043b0373d3fc4bfdcec": {
      "model_module": "@jupyter-widgets/controls",
      "model_module_version": "2.0.0",
      "model_name": "HBoxModel",
      "state": {
       "children": [
        "IPY_MODEL_29e33afe8a4a430fae184149fd059e4c",
        "IPY_MODEL_f8c451cb7a224d6fbf9af3ca3f08ab60",
        "IPY_MODEL_0aff42a1e0c54822b738d18859857000"
       ],
       "layout": "IPY_MODEL_1c4e2e5040f74862bc862757ad102727"
      }
     },
     "e1921370c1e64c808d61b093bed864b3": {
      "model_module": "@jupyter-widgets/controls",
      "model_module_version": "2.0.0",
      "model_name": "HTMLStyleModel",
      "state": {
       "description_width": "",
       "font_size": null,
       "text_color": null
      }
     },
     "e1a3236de51e417c8b2f353707cc49d8": {
      "model_module": "@jupyter-widgets/base",
      "model_module_version": "2.0.0",
      "model_name": "LayoutModel",
      "state": {}
     },
     "e1b79cb03d624acda0329ed8c23591c4": {
      "model_module": "@jupyter-widgets/controls",
      "model_module_version": "2.0.0",
      "model_name": "ProgressStyleModel",
      "state": {
       "description_width": ""
      }
     },
     "e208b0f3a672413085bd8c0552001d4a": {
      "model_module": "@jupyter-widgets/controls",
      "model_module_version": "2.0.0",
      "model_name": "HTMLModel",
      "state": {
       "layout": "IPY_MODEL_d1da052bb8094be7829201b86d2af818",
       "style": "IPY_MODEL_8fb625b4cc924031bb54a56046ee0e23",
       "value": "Epoch 46/60: 100%"
      }
     },
     "e21b4e1033394ebc82687da337d67ea6": {
      "model_module": "@jupyter-widgets/controls",
      "model_module_version": "2.0.0",
      "model_name": "FloatProgressModel",
      "state": {
       "bar_style": "success",
       "layout": "IPY_MODEL_f5df4ecc5aa148b0b0d31c94bc8f996c",
       "max": 1,
       "style": "IPY_MODEL_814154ad08c3458cb0d746f50a4ee9a3",
       "value": 1
      }
     },
     "e21d6dbd14a4428b978d2b74bca8a9a7": {
      "model_module": "@jupyter-widgets/controls",
      "model_module_version": "2.0.0",
      "model_name": "HTMLModel",
      "state": {
       "layout": "IPY_MODEL_7635a191c5f04992b6d1c4779217dde4",
       "style": "IPY_MODEL_b00b21b322b04f0d9a9939b301597789",
       "value": " 0/1 [00:02&lt;?, ?it/s]"
      }
     },
     "e286eaca0efc41adbc6ba180cdaf3f25": {
      "model_module": "@jupyter-widgets/base",
      "model_module_version": "2.0.0",
      "model_name": "LayoutModel",
      "state": {}
     },
     "e2abc1064a3142ad95df2f860cd36928": {
      "model_module": "@jupyter-widgets/controls",
      "model_module_version": "2.0.0",
      "model_name": "HBoxModel",
      "state": {
       "children": [
        "IPY_MODEL_83418678e28141da96dc02cbe643d8a3",
        "IPY_MODEL_f7385059a1d840b59a91c27332138bbe",
        "IPY_MODEL_c87abc94e7144b39b820977bbf0ee868"
       ],
       "layout": "IPY_MODEL_0457dde1c93944769f507a2db6e534c7"
      }
     },
     "e2cfb9b371844d9ca2b0a71239b80ba8": {
      "model_module": "@jupyter-widgets/controls",
      "model_module_version": "2.0.0",
      "model_name": "HTMLModel",
      "state": {
       "layout": "IPY_MODEL_83cae6ffeb0546629a9dc59bb5cdfad3",
       "style": "IPY_MODEL_38ddb705a990477383a0bbf250d5fd16",
       "value": "PowerIter R 3/5: 100%"
      }
     },
     "e2fc110d27b04034aebcd81505637826": {
      "model_module": "@jupyter-widgets/controls",
      "model_module_version": "2.0.0",
      "model_name": "FloatProgressModel",
      "state": {
       "bar_style": "success",
       "layout": "IPY_MODEL_9816dcc77aab44b1a29301ceebb3b244",
       "max": 500,
       "style": "IPY_MODEL_6e1f448b359c4d0badf55768bd5489e7",
       "value": 500
      }
     },
     "e31aecab1eb54c86a84385f69ae16b6a": {
      "model_module": "@jupyter-widgets/controls",
      "model_module_version": "2.0.0",
      "model_name": "HTMLStyleModel",
      "state": {
       "description_width": "",
       "font_size": null,
       "text_color": null
      }
     },
     "e353269077d645d998d2f3c92faadbf8": {
      "model_module": "@jupyter-widgets/controls",
      "model_module_version": "2.0.0",
      "model_name": "HTMLModel",
      "state": {
       "layout": "IPY_MODEL_a8710eea00234c3c8799c17e9c7bd717",
       "style": "IPY_MODEL_4ac76b60bfda4263a51295cfd95fd744",
       "value": " 1/1 [00:02&lt;00:00,  2.71s/it, loss=0.0075]"
      }
     },
     "e36e23951bd044019adc9a9d7353723d": {
      "model_module": "@jupyter-widgets/controls",
      "model_module_version": "2.0.0",
      "model_name": "FloatProgressModel",
      "state": {
       "bar_style": "success",
       "layout": "IPY_MODEL_af12623be9e1418c986df333a37379d4",
       "max": 1,
       "style": "IPY_MODEL_1279c46f59404b8f870ba9ec87ebe880",
       "value": 1
      }
     },
     "e3905d196dfa46efa7b55dde55c5ecdc": {
      "model_module": "@jupyter-widgets/controls",
      "model_module_version": "2.0.0",
      "model_name": "ProgressStyleModel",
      "state": {
       "description_width": ""
      }
     },
     "e3a6bec76fdf4c74a3b4a0c72a03fdf3": {
      "model_module": "@jupyter-widgets/controls",
      "model_module_version": "2.0.0",
      "model_name": "HTMLStyleModel",
      "state": {
       "description_width": "",
       "font_size": null,
       "text_color": null
      }
     },
     "e3b6a12e819f4a2a8d4dcfbc38d14e06": {
      "model_module": "@jupyter-widgets/base",
      "model_module_version": "2.0.0",
      "model_name": "LayoutModel",
      "state": {}
     },
     "e3c7329aae43429f9f8be6f1871b79aa": {
      "model_module": "@jupyter-widgets/controls",
      "model_module_version": "2.0.0",
      "model_name": "HTMLStyleModel",
      "state": {
       "description_width": "",
       "font_size": null,
       "text_color": null
      }
     },
     "e3d03cc0017c4ae79cabb5b6e542204e": {
      "model_module": "@jupyter-widgets/controls",
      "model_module_version": "2.0.0",
      "model_name": "HBoxModel",
      "state": {
       "children": [
        "IPY_MODEL_05bddfe63cad4fd9b8cbc531c8936b0e",
        "IPY_MODEL_30d62d132a5c427db844779b8e0cb901",
        "IPY_MODEL_096732e00cf7478b9f413471316a757e"
       ],
       "layout": "IPY_MODEL_f549a3da628f41089d344276836c5061"
      }
     },
     "e3da4e27ab6044b9804077d7223aa650": {
      "model_module": "@jupyter-widgets/controls",
      "model_module_version": "2.0.0",
      "model_name": "HTMLStyleModel",
      "state": {
       "description_width": "",
       "font_size": null,
       "text_color": null
      }
     },
     "e3fe7608c525466d8bf5b4fbf9e3c9ab": {
      "model_module": "@jupyter-widgets/controls",
      "model_module_version": "2.0.0",
      "model_name": "HTMLModel",
      "state": {
       "layout": "IPY_MODEL_4c1c999617054dc3a510778743e41da6",
       "style": "IPY_MODEL_48d1c6b4129f44cbbfbe23715f336b21",
       "value": " 1/1 [00:02&lt;00:00,  2.71s/it, loss=0.0565]"
      }
     },
     "e4026519442343498be7d95dd7a5e54c": {
      "model_module": "@jupyter-widgets/base",
      "model_module_version": "2.0.0",
      "model_name": "LayoutModel",
      "state": {}
     },
     "e416a1554e70467dab21a0a3534e9086": {
      "model_module": "@jupyter-widgets/base",
      "model_module_version": "2.0.0",
      "model_name": "LayoutModel",
      "state": {}
     },
     "e444a589177745a3945fe2b66a718a42": {
      "model_module": "@jupyter-widgets/controls",
      "model_module_version": "2.0.0",
      "model_name": "ProgressStyleModel",
      "state": {
       "description_width": ""
      }
     },
     "e44d538102cb4e8d847ccdce31ddadef": {
      "model_module": "@jupyter-widgets/base",
      "model_module_version": "2.0.0",
      "model_name": "LayoutModel",
      "state": {}
     },
     "e4610408ae7f4127a65b9cefeda7c1de": {
      "model_module": "@jupyter-widgets/controls",
      "model_module_version": "2.0.0",
      "model_name": "HTMLModel",
      "state": {
       "layout": "IPY_MODEL_b967002a9b1c45ee9102f30d04d906e9",
       "style": "IPY_MODEL_78449dc12df3454f913ad4c99f32b75b",
       "value": " 1/1 [00:02&lt;00:00,  2.70s/it, loss=0.0168]"
      }
     },
     "e4ac114037564218a1d30fb69732f7e2": {
      "model_module": "@jupyter-widgets/base",
      "model_module_version": "2.0.0",
      "model_name": "LayoutModel",
      "state": {}
     },
     "e4c0269805a1458c96f2a37dbe312e1d": {
      "model_module": "@jupyter-widgets/controls",
      "model_module_version": "2.0.0",
      "model_name": "FloatProgressModel",
      "state": {
       "bar_style": "success",
       "layout": "IPY_MODEL_70af24c9445541dea9a882fd84f78858",
       "max": 500,
       "style": "IPY_MODEL_33bd51b8964944dc9267e466b79d668d",
       "value": 500
      }
     },
     "e4d54b5c678a4017a4aa443bfc697e1f": {
      "model_module": "@jupyter-widgets/controls",
      "model_module_version": "2.0.0",
      "model_name": "HTMLStyleModel",
      "state": {
       "description_width": "",
       "font_size": null,
       "text_color": null
      }
     },
     "e4e0169e55b64fa4a4ed0e758a59a9ed": {
      "model_module": "@jupyter-widgets/controls",
      "model_module_version": "2.0.0",
      "model_name": "HTMLStyleModel",
      "state": {
       "description_width": "",
       "font_size": null,
       "text_color": null
      }
     },
     "e4e426c939d2437aa67a3ea413e14bb2": {
      "model_module": "@jupyter-widgets/base",
      "model_module_version": "2.0.0",
      "model_name": "LayoutModel",
      "state": {}
     },
     "e4fece63b3114bb0ab0793ece43449cf": {
      "model_module": "@jupyter-widgets/base",
      "model_module_version": "2.0.0",
      "model_name": "LayoutModel",
      "state": {}
     },
     "e50fc2954acf47d8ac79f552dc8e161c": {
      "model_module": "@jupyter-widgets/base",
      "model_module_version": "2.0.0",
      "model_name": "LayoutModel",
      "state": {}
     },
     "e52965d09eda422e9827b3ccb3a11226": {
      "model_module": "@jupyter-widgets/controls",
      "model_module_version": "2.0.0",
      "model_name": "HTMLModel",
      "state": {
       "layout": "IPY_MODEL_fb0b59b402434ccdb91cccdf19feeaea",
       "style": "IPY_MODEL_3be79816485b4ebb901d1b40247593a4",
       "value": "Epoch 51/60: 100%"
      }
     },
     "e570e960be2147ffbd78abe57c269297": {
      "model_module": "@jupyter-widgets/controls",
      "model_module_version": "2.0.0",
      "model_name": "HBoxModel",
      "state": {
       "children": [
        "IPY_MODEL_b13c015ef8704361aa0ff08c80208ea3",
        "IPY_MODEL_28683a55d79742dfbd3dfd51f0110932",
        "IPY_MODEL_cde927e0442941f4bc1fb93def318626"
       ],
       "layout": "IPY_MODEL_c2803dee058941d8982b02921046cfb9"
      }
     },
     "e57ad25c9825415887d71839c00a3554": {
      "model_module": "@jupyter-widgets/controls",
      "model_module_version": "2.0.0",
      "model_name": "HTMLModel",
      "state": {
       "layout": "IPY_MODEL_d20e3a0e7f314292a314d0664a0da17a",
       "style": "IPY_MODEL_03d2deac9295464b9aae69ab244638ef",
       "value": "Epoch 24/60: 100%"
      }
     },
     "e58f440ad3764c9fa0eba09a0b33dea0": {
      "model_module": "@jupyter-widgets/controls",
      "model_module_version": "2.0.0",
      "model_name": "HBoxModel",
      "state": {
       "children": [
        "IPY_MODEL_128ff278871545b7b7b985863bc7c278",
        "IPY_MODEL_6ec1882852e2498ba843ad103487ba59",
        "IPY_MODEL_4d9c176f76a04ed98f012ef65257d043"
       ],
       "layout": "IPY_MODEL_64abbd2205df45eeb0309e83b4afac34"
      }
     },
     "e59fd84430b6434aa4d9a69f8188367f": {
      "model_module": "@jupyter-widgets/base",
      "model_module_version": "2.0.0",
      "model_name": "LayoutModel",
      "state": {}
     },
     "e5a210347663413b906be9b866d466d5": {
      "model_module": "@jupyter-widgets/controls",
      "model_module_version": "2.0.0",
      "model_name": "HTMLStyleModel",
      "state": {
       "description_width": "",
       "font_size": null,
       "text_color": null
      }
     },
     "e5d0cba2bed94d02878a9e6b189d415d": {
      "model_module": "@jupyter-widgets/base",
      "model_module_version": "2.0.0",
      "model_name": "LayoutModel",
      "state": {}
     },
     "e5d90f15defb4658b3464c7769e46d00": {
      "model_module": "@jupyter-widgets/controls",
      "model_module_version": "2.0.0",
      "model_name": "HTMLStyleModel",
      "state": {
       "description_width": "",
       "font_size": null,
       "text_color": null
      }
     },
     "e5f572a6a8b44cad8710d6d4188afc1f": {
      "model_module": "@jupyter-widgets/controls",
      "model_module_version": "2.0.0",
      "model_name": "ProgressStyleModel",
      "state": {
       "description_width": ""
      }
     },
     "e5fde160d7a94653b140cdee2a8b2f6e": {
      "model_module": "@jupyter-widgets/controls",
      "model_module_version": "2.0.0",
      "model_name": "ProgressStyleModel",
      "state": {
       "description_width": ""
      }
     },
     "e6027b3651564f0194e5c7a09d3c12ed": {
      "model_module": "@jupyter-widgets/controls",
      "model_module_version": "2.0.0",
      "model_name": "HTMLStyleModel",
      "state": {
       "description_width": "",
       "font_size": null,
       "text_color": null
      }
     },
     "e604ed9773a64bccba3b738417b7d64f": {
      "model_module": "@jupyter-widgets/controls",
      "model_module_version": "2.0.0",
      "model_name": "HTMLModel",
      "state": {
       "layout": "IPY_MODEL_ca24eb5a6a9a47358b0892297541cdc9",
       "style": "IPY_MODEL_90e34122d5de41adb93f6369366a33f4",
       "value": "Epoch 1/60: 100%"
      }
     },
     "e6092565300f4457b6a837587bfb663a": {
      "model_module": "@jupyter-widgets/base",
      "model_module_version": "2.0.0",
      "model_name": "LayoutModel",
      "state": {}
     },
     "e61ba46a42834d5a993cfdfbfd4c79df": {
      "model_module": "@jupyter-widgets/controls",
      "model_module_version": "2.0.0",
      "model_name": "HTMLModel",
      "state": {
       "layout": "IPY_MODEL_6df18fb72408497685bc7c8efb70d616",
       "style": "IPY_MODEL_a6151a3f07ae4ed78051ade2dc8c512e",
       "value": "Epoch 5/60: 100%"
      }
     },
     "e61c0c0fdc79476aab809cb5be8f7667": {
      "model_module": "@jupyter-widgets/controls",
      "model_module_version": "2.0.0",
      "model_name": "HTMLStyleModel",
      "state": {
       "description_width": "",
       "font_size": null,
       "text_color": null
      }
     },
     "e65d5a56462b49dabae51f6160b12c3b": {
      "model_module": "@jupyter-widgets/base",
      "model_module_version": "2.0.0",
      "model_name": "LayoutModel",
      "state": {}
     },
     "e681f7d8e03649b4adfe7237f871a6b2": {
      "model_module": "@jupyter-widgets/controls",
      "model_module_version": "2.0.0",
      "model_name": "HTMLStyleModel",
      "state": {
       "description_width": "",
       "font_size": null,
       "text_color": null
      }
     },
     "e68b3b101d5142b392f253c53cfe8d16": {
      "model_module": "@jupyter-widgets/controls",
      "model_module_version": "2.0.0",
      "model_name": "HTMLStyleModel",
      "state": {
       "description_width": "",
       "font_size": null,
       "text_color": null
      }
     },
     "e6c60814c5324cb1aeacb8bdf02e30ba": {
      "model_module": "@jupyter-widgets/controls",
      "model_module_version": "2.0.0",
      "model_name": "HTMLStyleModel",
      "state": {
       "description_width": "",
       "font_size": null,
       "text_color": null
      }
     },
     "e6ee0dafcf114a07bbf8b7031bd9054a": {
      "model_module": "@jupyter-widgets/base",
      "model_module_version": "2.0.0",
      "model_name": "LayoutModel",
      "state": {}
     },
     "e71605c5df1c4b05aee32968a0acee44": {
      "model_module": "@jupyter-widgets/controls",
      "model_module_version": "2.0.0",
      "model_name": "ProgressStyleModel",
      "state": {
       "description_width": ""
      }
     },
     "e72cd27a3ead4e48b43ca35086d62101": {
      "model_module": "@jupyter-widgets/base",
      "model_module_version": "2.0.0",
      "model_name": "LayoutModel",
      "state": {}
     },
     "e749e58528a24451a8759880644878aa": {
      "model_module": "@jupyter-widgets/controls",
      "model_module_version": "2.0.0",
      "model_name": "HTMLStyleModel",
      "state": {
       "description_width": "",
       "font_size": null,
       "text_color": null
      }
     },
     "e75f32e64a97403099aed437d3aa93fd": {
      "model_module": "@jupyter-widgets/base",
      "model_module_version": "2.0.0",
      "model_name": "LayoutModel",
      "state": {}
     },
     "e78113bdb29e4121a12d3dd2b2acdfa3": {
      "model_module": "@jupyter-widgets/controls",
      "model_module_version": "2.0.0",
      "model_name": "HBoxModel",
      "state": {
       "children": [
        "IPY_MODEL_f2e37b351b324dfcaefd86fcff381dac",
        "IPY_MODEL_fd4d188e1edd4c90b72eea41b0cbaa8f",
        "IPY_MODEL_4432b5ca2907455d97a846c88179467a"
       ],
       "layout": "IPY_MODEL_9250b1779eb54733bee7921c5f19b8ee"
      }
     },
     "e78c1a69406044a8a665ac080b65241a": {
      "model_module": "@jupyter-widgets/controls",
      "model_module_version": "2.0.0",
      "model_name": "HTMLStyleModel",
      "state": {
       "description_width": "",
       "font_size": null,
       "text_color": null
      }
     },
     "e795fbd107e043ea9183960cb1c5c62f": {
      "model_module": "@jupyter-widgets/base",
      "model_module_version": "2.0.0",
      "model_name": "LayoutModel",
      "state": {}
     },
     "e7e4422eb9fb4ee9ab4551577cd255ec": {
      "model_module": "@jupyter-widgets/base",
      "model_module_version": "2.0.0",
      "model_name": "LayoutModel",
      "state": {}
     },
     "e7f306d92c874183a787b99f2395a737": {
      "model_module": "@jupyter-widgets/base",
      "model_module_version": "2.0.0",
      "model_name": "LayoutModel",
      "state": {}
     },
     "e840c0955ce449b397f27cf6550dca1a": {
      "model_module": "@jupyter-widgets/controls",
      "model_module_version": "2.0.0",
      "model_name": "HTMLStyleModel",
      "state": {
       "description_width": "",
       "font_size": null,
       "text_color": null
      }
     },
     "e888b9f681ee47f7a33a12e5eff4f993": {
      "model_module": "@jupyter-widgets/controls",
      "model_module_version": "2.0.0",
      "model_name": "HTMLStyleModel",
      "state": {
       "description_width": "",
       "font_size": null,
       "text_color": null
      }
     },
     "e899b01ddbf64208b61afe9ce05bd3e9": {
      "model_module": "@jupyter-widgets/controls",
      "model_module_version": "2.0.0",
      "model_name": "HBoxModel",
      "state": {
       "children": [
        "IPY_MODEL_b195763d437345e49c503ebd5e6ab908",
        "IPY_MODEL_24a44eac644f4f94b76a2de5f5873ef5",
        "IPY_MODEL_a88bf39501d545a1985e818a632458f6"
       ],
       "layout": "IPY_MODEL_a28b853fcac44833b16a3ba79499ffa9"
      }
     },
     "e8de83256c194f61b0df902919f841b5": {
      "model_module": "@jupyter-widgets/base",
      "model_module_version": "2.0.0",
      "model_name": "LayoutModel",
      "state": {}
     },
     "e921b8b791424e66802b659dd59011fa": {
      "model_module": "@jupyter-widgets/base",
      "model_module_version": "2.0.0",
      "model_name": "LayoutModel",
      "state": {}
     },
     "e928d616e8ac4b5b88fa23b9f86ba688": {
      "model_module": "@jupyter-widgets/base",
      "model_module_version": "2.0.0",
      "model_name": "LayoutModel",
      "state": {}
     },
     "e94c3669c06544b4b557d37bb196b4d9": {
      "model_module": "@jupyter-widgets/controls",
      "model_module_version": "2.0.0",
      "model_name": "HTMLStyleModel",
      "state": {
       "description_width": "",
       "font_size": null,
       "text_color": null
      }
     },
     "e955b0276e1a4db1b0045e1a9b546868": {
      "model_module": "@jupyter-widgets/base",
      "model_module_version": "2.0.0",
      "model_name": "LayoutModel",
      "state": {}
     },
     "e964bd6fdf204ad8816fa328812e54de": {
      "model_module": "@jupyter-widgets/controls",
      "model_module_version": "2.0.0",
      "model_name": "ProgressStyleModel",
      "state": {
       "description_width": ""
      }
     },
     "e98c4f48aa4c4054a1ab91a14458a22e": {
      "model_module": "@jupyter-widgets/controls",
      "model_module_version": "2.0.0",
      "model_name": "HTMLStyleModel",
      "state": {
       "description_width": "",
       "font_size": null,
       "text_color": null
      }
     },
     "e98e9bccdac3496d829758404a004f72": {
      "model_module": "@jupyter-widgets/controls",
      "model_module_version": "2.0.0",
      "model_name": "HTMLModel",
      "state": {
       "layout": "IPY_MODEL_a4df9a190c344fcbbb115ac83575f0ba",
       "style": "IPY_MODEL_49a73e29c963475a854bde4e8d379a6f",
       "value": "Epoch 20/60: 100%"
      }
     },
     "e9c5df82486e498bb59d810c0208b58f": {
      "model_module": "@jupyter-widgets/controls",
      "model_module_version": "2.0.0",
      "model_name": "HTMLModel",
      "state": {
       "layout": "IPY_MODEL_9225d4194480474bb2316465b9734487",
       "style": "IPY_MODEL_256d6e15f29e4671bc78533e45724664",
       "value": "Epoch 26/60: 100%"
      }
     },
     "e9dd38c5498640d89053e7ee52034afa": {
      "model_module": "@jupyter-widgets/base",
      "model_module_version": "2.0.0",
      "model_name": "LayoutModel",
      "state": {}
     },
     "ea2621445b3c42db8f21adceb0e35d19": {
      "model_module": "@jupyter-widgets/controls",
      "model_module_version": "2.0.0",
      "model_name": "HTMLStyleModel",
      "state": {
       "description_width": "",
       "font_size": null,
       "text_color": null
      }
     },
     "ea385909c7524001805bc77916097b07": {
      "model_module": "@jupyter-widgets/controls",
      "model_module_version": "2.0.0",
      "model_name": "HTMLStyleModel",
      "state": {
       "description_width": "",
       "font_size": null,
       "text_color": null
      }
     },
     "ea413f43e037477bb68ef93d483143dc": {
      "model_module": "@jupyter-widgets/controls",
      "model_module_version": "2.0.0",
      "model_name": "HTMLModel",
      "state": {
       "layout": "IPY_MODEL_1b614220e123444baf839a1b96085b89",
       "style": "IPY_MODEL_d9a0b9e3cc9745bea4cc6673bd04c465",
       "value": " 1/1 [00:00&lt;00:00,  2.98it/s]"
      }
     },
     "ea5fb877129a402eb7cb90ff4f6666ed": {
      "model_module": "@jupyter-widgets/base",
      "model_module_version": "2.0.0",
      "model_name": "LayoutModel",
      "state": {}
     },
     "ea7a7b5b23dd4e28a056f4eef788a141": {
      "model_module": "@jupyter-widgets/controls",
      "model_module_version": "2.0.0",
      "model_name": "HBoxModel",
      "state": {
       "children": [
        "IPY_MODEL_2762adcc8eca4f5caa875835eba527ea",
        "IPY_MODEL_f4cfdc0f709742fab588c7c7b2166c20",
        "IPY_MODEL_e3fe7608c525466d8bf5b4fbf9e3c9ab"
       ],
       "layout": "IPY_MODEL_0d77a9f454fa4f25816064842b4bd0e2"
      }
     },
     "ea7c521e9ed94aa3b3cba1da55b41a9c": {
      "model_module": "@jupyter-widgets/base",
      "model_module_version": "2.0.0",
      "model_name": "LayoutModel",
      "state": {}
     },
     "ea8b015ae7c8419fa06e709f8c59ee9f": {
      "model_module": "@jupyter-widgets/controls",
      "model_module_version": "2.0.0",
      "model_name": "HTMLModel",
      "state": {
       "layout": "IPY_MODEL_1aacd20516744cd78bc8fc048c26acb0",
       "style": "IPY_MODEL_3a4dee5be096410eb82c9846d8d32865",
       "value": " 1/1 [00:02&lt;00:00,  2.70s/it, loss=16.3]"
      }
     },
     "ea90996dce974694a8ef59ff82f60140": {
      "model_module": "@jupyter-widgets/base",
      "model_module_version": "2.0.0",
      "model_name": "LayoutModel",
      "state": {}
     },
     "eac54208018d42a6a77a61bcd39fdf25": {
      "model_module": "@jupyter-widgets/controls",
      "model_module_version": "2.0.0",
      "model_name": "HTMLModel",
      "state": {
       "layout": "IPY_MODEL_10ce801d51ad400b99c67e10c08a634e",
       "style": "IPY_MODEL_c3169a2ce5d2428080de503e6fc25ea4",
       "value": "PowerIter R 4/5: 100%"
      }
     },
     "eacfb8da2ebc4623acc6d66da4ea2705": {
      "model_module": "@jupyter-widgets/base",
      "model_module_version": "2.0.0",
      "model_name": "LayoutModel",
      "state": {}
     },
     "ead64170753e4d5590b382f8cd5d692f": {
      "model_module": "@jupyter-widgets/controls",
      "model_module_version": "2.0.0",
      "model_name": "HTMLModel",
      "state": {
       "layout": "IPY_MODEL_aca71ae1f70c4cc3a8d8bdab5da885c9",
       "style": "IPY_MODEL_6a4fb7a6e3ac493c961885b3f23103d9",
       "value": "Epoch 36/60: 100%"
      }
     },
     "eaffb2a2525d4c7db87c7063a6a68c90": {
      "model_module": "@jupyter-widgets/base",
      "model_module_version": "2.0.0",
      "model_name": "LayoutModel",
      "state": {}
     },
     "eb27131d7d4e4adfb2a7552611faaa90": {
      "model_module": "@jupyter-widgets/controls",
      "model_module_version": "2.0.0",
      "model_name": "HTMLModel",
      "state": {
       "layout": "IPY_MODEL_10654d6f680541c4975ba25240bc898c",
       "style": "IPY_MODEL_34d2a9b6503847568fd16dbe08a680db",
       "value": "Epoch 40/60: 100%"
      }
     },
     "eb447d505e0942f0ab1b97942e2b828c": {
      "model_module": "@jupyter-widgets/base",
      "model_module_version": "2.0.0",
      "model_name": "LayoutModel",
      "state": {}
     },
     "eb491f58d0e74e55b5321e8a22bc5066": {
      "model_module": "@jupyter-widgets/controls",
      "model_module_version": "2.0.0",
      "model_name": "HTMLModel",
      "state": {
       "layout": "IPY_MODEL_3bc14162b5014f2596d0a0b641c09a48",
       "style": "IPY_MODEL_e1921370c1e64c808d61b093bed864b3",
       "value": " 1/1 [00:02&lt;00:00,  2.71s/it, loss=0.0129]"
      }
     },
     "ec04dd225f9740ea89b6c8f95b4ef9c2": {
      "model_module": "@jupyter-widgets/controls",
      "model_module_version": "2.0.0",
      "model_name": "ProgressStyleModel",
      "state": {
       "description_width": ""
      }
     },
     "ec37c36ca50841fda60c1b378b1cf007": {
      "model_module": "@jupyter-widgets/controls",
      "model_module_version": "2.0.0",
      "model_name": "HTMLModel",
      "state": {
       "layout": "IPY_MODEL_e3b6a12e819f4a2a8d4dcfbc38d14e06",
       "style": "IPY_MODEL_b1286dd3a64f4d9d9896d8c5c6ec04f9",
       "value": " 1/1 [00:01&lt;00:00,  1.32s/it]"
      }
     },
     "ece00f9294c94863861d0d8855c2215b": {
      "model_module": "@jupyter-widgets/controls",
      "model_module_version": "2.0.0",
      "model_name": "HTMLModel",
      "state": {
       "layout": "IPY_MODEL_068ac241f4444482ad84cedd76718cef",
       "style": "IPY_MODEL_e3a6bec76fdf4c74a3b4a0c72a03fdf3",
       "value": " 1/1 [00:02&lt;00:00,  2.70s/it, loss=0.096]"
      }
     },
     "ecf68a19ab6241e09bf5a89b3e03bb50": {
      "model_module": "@jupyter-widgets/controls",
      "model_module_version": "2.0.0",
      "model_name": "FloatProgressModel",
      "state": {
       "bar_style": "success",
       "layout": "IPY_MODEL_1d786258d62f44b9a3c3fe6e6cb7b577",
       "max": 500,
       "style": "IPY_MODEL_6c40e5a2fd2c4444be7e211fe54ea6d8",
       "value": 500
      }
     },
     "ed10a2434773475cbcec7d70655a8ec9": {
      "model_module": "@jupyter-widgets/controls",
      "model_module_version": "2.0.0",
      "model_name": "FloatProgressModel",
      "state": {
       "bar_style": "success",
       "layout": "IPY_MODEL_5b151f482bb943eab6497d5d039f0dc2",
       "max": 500,
       "style": "IPY_MODEL_234a9ba108e94462aa1e059a62d3a3b4",
       "value": 500
      }
     },
     "ed18a130462c4fc4a03253cab6ba691e": {
      "model_module": "@jupyter-widgets/controls",
      "model_module_version": "2.0.0",
      "model_name": "HTMLModel",
      "state": {
       "layout": "IPY_MODEL_8b8a4ba604cc4a7597945effeee6c565",
       "style": "IPY_MODEL_e3da4e27ab6044b9804077d7223aa650",
       "value": " 500/500 [00:17&lt;00:00, 27.91it/s, loss=0.00181]"
      }
     },
     "ed2fc7cf954645bfbadc365ee0d49c43": {
      "model_module": "@jupyter-widgets/base",
      "model_module_version": "2.0.0",
      "model_name": "LayoutModel",
      "state": {}
     },
     "ed3593ef908945699d43d4673c3e8a66": {
      "model_module": "@jupyter-widgets/base",
      "model_module_version": "2.0.0",
      "model_name": "LayoutModel",
      "state": {}
     },
     "ed4011e0299546a2bb9cb57fb9dc1eb6": {
      "model_module": "@jupyter-widgets/base",
      "model_module_version": "2.0.0",
      "model_name": "LayoutModel",
      "state": {}
     },
     "ed59854883be45f09f7a5074800131a5": {
      "model_module": "@jupyter-widgets/controls",
      "model_module_version": "2.0.0",
      "model_name": "HBoxModel",
      "state": {
       "children": [
        "IPY_MODEL_858f8defa06a4bab8bc18b06e858bfac",
        "IPY_MODEL_ccf2ac694d1c4aac80b85d08567c7990",
        "IPY_MODEL_77ed884c93de4f23a6f21dce8c3353a1"
       ],
       "layout": "IPY_MODEL_ccdf6c07600742e7a64876e9e35e741c"
      }
     },
     "ed68303bb9554044b74d9a2620fb4b66": {
      "model_module": "@jupyter-widgets/controls",
      "model_module_version": "2.0.0",
      "model_name": "HTMLStyleModel",
      "state": {
       "description_width": "",
       "font_size": null,
       "text_color": null
      }
     },
     "ed8092a28a9b4904af03d2235e7dd496": {
      "model_module": "@jupyter-widgets/base",
      "model_module_version": "2.0.0",
      "model_name": "LayoutModel",
      "state": {}
     },
     "ed8d149fcedf4e52b4f34aa60d367dec": {
      "model_module": "@jupyter-widgets/controls",
      "model_module_version": "2.0.0",
      "model_name": "FloatProgressModel",
      "state": {
       "bar_style": "success",
       "layout": "IPY_MODEL_a4dc6831a1b9473cbff48983121de246",
       "max": 500,
       "style": "IPY_MODEL_c4eb467152004f70a6f81363c8f1cfb7",
       "value": 500
      }
     },
     "ed91b20579ed446cb9f9d9d7047c6520": {
      "model_module": "@jupyter-widgets/base",
      "model_module_version": "2.0.0",
      "model_name": "LayoutModel",
      "state": {}
     },
     "edb8d8a8f0ec42b982b4011e13204f48": {
      "model_module": "@jupyter-widgets/controls",
      "model_module_version": "2.0.0",
      "model_name": "HTMLStyleModel",
      "state": {
       "description_width": "",
       "font_size": null,
       "text_color": null
      }
     },
     "edeac7b431f549029c5747fabe15830e": {
      "model_module": "@jupyter-widgets/base",
      "model_module_version": "2.0.0",
      "model_name": "LayoutModel",
      "state": {}
     },
     "ee04089b300f41b08cc019b89abcfe24": {
      "model_module": "@jupyter-widgets/controls",
      "model_module_version": "2.0.0",
      "model_name": "HTMLModel",
      "state": {
       "layout": "IPY_MODEL_2c88d422911240e8805640dea3db5107",
       "style": "IPY_MODEL_f809165d38274e3cbcdebb95ec5e97e4",
       "value": "Epoch 4/60: 100%"
      }
     },
     "ee3b217a2c4745e5805599615591acd6": {
      "model_module": "@jupyter-widgets/base",
      "model_module_version": "2.0.0",
      "model_name": "LayoutModel",
      "state": {}
     },
     "ee5ed59e0f1b43699ac4a316b27a5294": {
      "model_module": "@jupyter-widgets/controls",
      "model_module_version": "2.0.0",
      "model_name": "HTMLModel",
      "state": {
       "layout": "IPY_MODEL_c34d2d567d5644fbbcfdcfcd05d4eed3",
       "style": "IPY_MODEL_15585c3513c64b2c9317ba836583480d",
       "value": " 9/500 [00:00&lt;00:18, 26.61it/s, loss=1.07e+35]"
      }
     },
     "eeabe0fb50d441e98ec724250daca3c9": {
      "model_module": "@jupyter-widgets/base",
      "model_module_version": "2.0.0",
      "model_name": "LayoutModel",
      "state": {}
     },
     "eeae0f46e4e74e55a4b798165bc8e088": {
      "model_module": "@jupyter-widgets/base",
      "model_module_version": "2.0.0",
      "model_name": "LayoutModel",
      "state": {}
     },
     "ef3867af0c9443d69cbd66d0ff6a3b0e": {
      "model_module": "@jupyter-widgets/base",
      "model_module_version": "2.0.0",
      "model_name": "LayoutModel",
      "state": {}
     },
     "ef8d728fcc3f4562ab72367d4f6240ec": {
      "model_module": "@jupyter-widgets/controls",
      "model_module_version": "2.0.0",
      "model_name": "HTMLModel",
      "state": {
       "layout": "IPY_MODEL_83e3b21d46044a0faac46d4b8444933a",
       "style": "IPY_MODEL_a2b1fffb27d24a49953b6769d0507c10",
       "value": " 1/1 [00:02&lt;00:00,  2.70s/it, loss=0.072]"
      }
     },
     "efdd0ee7d7084dc2880ce6bb4ad7a3b6": {
      "model_module": "@jupyter-widgets/controls",
      "model_module_version": "2.0.0",
      "model_name": "HTMLModel",
      "state": {
       "layout": "IPY_MODEL_0444a6e1001d4a49a16aec2148d81411",
       "style": "IPY_MODEL_a39ccbdc3a234c159da0d1cff14b99d9",
       "value": "Epoch 52/60: 100%"
      }
     },
     "f083cb7468f54a1d936defe1d598d048": {
      "model_module": "@jupyter-widgets/controls",
      "model_module_version": "2.0.0",
      "model_name": "HTMLModel",
      "state": {
       "layout": "IPY_MODEL_f97fe7bbbc394e37b4d3f4a119595d9d",
       "style": "IPY_MODEL_72aa6c8e1b8a4bb09669f28c1c208e19",
       "value": "Epoch 1/60: 100%"
      }
     },
     "f09afc7ecd0c4442a3a0134799c51b74": {
      "model_module": "@jupyter-widgets/controls",
      "model_module_version": "2.0.0",
      "model_name": "ProgressStyleModel",
      "state": {
       "description_width": ""
      }
     },
     "f0d9e76c5b5246aba7f2556120fe1cf5": {
      "model_module": "@jupyter-widgets/base",
      "model_module_version": "2.0.0",
      "model_name": "LayoutModel",
      "state": {}
     },
     "f116902a1b5941fd9175f9a6f59d5d8c": {
      "model_module": "@jupyter-widgets/base",
      "model_module_version": "2.0.0",
      "model_name": "LayoutModel",
      "state": {}
     },
     "f129d9bc62134d15bb6a2f701aea9c15": {
      "model_module": "@jupyter-widgets/controls",
      "model_module_version": "2.0.0",
      "model_name": "HTMLModel",
      "state": {
       "layout": "IPY_MODEL_691d299633314d10aaf7e910473b5ee3",
       "style": "IPY_MODEL_39854f199b9e4a93aa6893bd071fd107",
       "value": " 1/1 [00:02&lt;00:00,  2.70s/it, loss=0.03]"
      }
     },
     "f19af86ec6d54ce78569a04ca473b591": {
      "model_module": "@jupyter-widgets/base",
      "model_module_version": "2.0.0",
      "model_name": "LayoutModel",
      "state": {}
     },
     "f1d95bf2a51a477b9cbb0273ab93536c": {
      "model_module": "@jupyter-widgets/controls",
      "model_module_version": "2.0.0",
      "model_name": "FloatProgressModel",
      "state": {
       "bar_style": "success",
       "layout": "IPY_MODEL_82f41365161949b1a39db6b8a05bd08c",
       "max": 500,
       "style": "IPY_MODEL_795b9dd34b754f9a8ea1b356eae27fa1",
       "value": 500
      }
     },
     "f202e1456c9f464aa8ead455e713728e": {
      "model_module": "@jupyter-widgets/controls",
      "model_module_version": "2.0.0",
      "model_name": "HBoxModel",
      "state": {
       "children": [
        "IPY_MODEL_7d51f7de994a46458e77e3454cec0d98",
        "IPY_MODEL_b5329bba95894cf8a70ad92780bfa418",
        "IPY_MODEL_45167c76bc2e47b99399ca2e0f5cd82c"
       ],
       "layout": "IPY_MODEL_e795fbd107e043ea9183960cb1c5c62f"
      }
     },
     "f2286f051c7d4a2c853b3418ab33ee85": {
      "model_module": "@jupyter-widgets/base",
      "model_module_version": "2.0.0",
      "model_name": "LayoutModel",
      "state": {}
     },
     "f2531507666740b4b261493926a60cb8": {
      "model_module": "@jupyter-widgets/base",
      "model_module_version": "2.0.0",
      "model_name": "LayoutModel",
      "state": {}
     },
     "f255cd0c083141baad6f7fd9a6331e40": {
      "model_module": "@jupyter-widgets/controls",
      "model_module_version": "2.0.0",
      "model_name": "HTMLStyleModel",
      "state": {
       "description_width": "",
       "font_size": null,
       "text_color": null
      }
     },
     "f25cf5cd3b95403a98863397cd09c766": {
      "model_module": "@jupyter-widgets/controls",
      "model_module_version": "2.0.0",
      "model_name": "ProgressStyleModel",
      "state": {
       "description_width": ""
      }
     },
     "f26a2162bde14ca992889ba4a2f68817": {
      "model_module": "@jupyter-widgets/controls",
      "model_module_version": "2.0.0",
      "model_name": "HTMLModel",
      "state": {
       "layout": "IPY_MODEL_100899bb3a004f128757fe1e10797ce2",
       "style": "IPY_MODEL_df88f55087b74fa4a3b42398b1ce97d1",
       "value": "Epoch 39/60: 100%"
      }
     },
     "f27483edc1aa43e2b3093c36ac600d7d": {
      "model_module": "@jupyter-widgets/controls",
      "model_module_version": "2.0.0",
      "model_name": "HBoxModel",
      "state": {
       "children": [
        "IPY_MODEL_a7faa73f8c194ea6a715cf82fa25f077",
        "IPY_MODEL_bafa31d794ab40039f8417e1fc7abbd4",
        "IPY_MODEL_72f2ab3054e9480ca3cd6e039cfae68e"
       ],
       "layout": "IPY_MODEL_f4dd1797bfef4b948e083f8daf6be20f"
      }
     },
     "f28279b5504849bfb354fbc9280a2dee": {
      "model_module": "@jupyter-widgets/controls",
      "model_module_version": "2.0.0",
      "model_name": "HTMLModel",
      "state": {
       "layout": "IPY_MODEL_d58be24803fa475287f642d7a7c7660c",
       "style": "IPY_MODEL_0b9a8a0c469d4238b0223828fb5f13ed",
       "value": "Epoch 17/60: 100%"
      }
     },
     "f2955991320c4196806ef046f7253e10": {
      "model_module": "@jupyter-widgets/base",
      "model_module_version": "2.0.0",
      "model_name": "LayoutModel",
      "state": {}
     },
     "f2ccc48913fc4ca9b0706b31c5fc6240": {
      "model_module": "@jupyter-widgets/controls",
      "model_module_version": "2.0.0",
      "model_name": "HBoxModel",
      "state": {
       "children": [
        "IPY_MODEL_ba4d2f194f13414f8d1029591c213472",
        "IPY_MODEL_7564b12b5e634ea7a659b76fab6669ea",
        "IPY_MODEL_e21d6dbd14a4428b978d2b74bca8a9a7"
       ],
       "layout": "IPY_MODEL_bb80badf44824f89b0a40a630d8075ab"
      }
     },
     "f2e37b351b324dfcaefd86fcff381dac": {
      "model_module": "@jupyter-widgets/controls",
      "model_module_version": "2.0.0",
      "model_name": "HTMLModel",
      "state": {
       "layout": "IPY_MODEL_11c662b523324e71a5fbb316b2a00067",
       "style": "IPY_MODEL_253e66084ddb47a882363790b9df7e1b",
       "value": "PowerIter R 1/5: 100%"
      }
     },
     "f2e9898dd4f34b14bb2104d8207f8cec": {
      "model_module": "@jupyter-widgets/base",
      "model_module_version": "2.0.0",
      "model_name": "LayoutModel",
      "state": {}
     },
     "f2ec8333e43143ad80565c4676f104d8": {
      "model_module": "@jupyter-widgets/controls",
      "model_module_version": "2.0.0",
      "model_name": "HTMLModel",
      "state": {
       "layout": "IPY_MODEL_0c424b2cacd441d889a8f4f4a582d0c6",
       "style": "IPY_MODEL_0208b60e9b904897810d06fda68ff2a3",
       "value": " 500/500 [00:18&lt;00:00, 27.58it/s, loss=0.00214]"
      }
     },
     "f32c38953dd54667b7f259828812bd95": {
      "model_module": "@jupyter-widgets/base",
      "model_module_version": "2.0.0",
      "model_name": "LayoutModel",
      "state": {}
     },
     "f3b19ce2ef234c0b8a12ec6a74b69f68": {
      "model_module": "@jupyter-widgets/base",
      "model_module_version": "2.0.0",
      "model_name": "LayoutModel",
      "state": {}
     },
     "f3b34d2bb1fd49d1b64060a8dbe888d9": {
      "model_module": "@jupyter-widgets/base",
      "model_module_version": "2.0.0",
      "model_name": "LayoutModel",
      "state": {}
     },
     "f432da6406564623974d4ee8fd194c0a": {
      "model_module": "@jupyter-widgets/base",
      "model_module_version": "2.0.0",
      "model_name": "LayoutModel",
      "state": {}
     },
     "f43b73d7262a40c6b02394a55a817e3c": {
      "model_module": "@jupyter-widgets/controls",
      "model_module_version": "2.0.0",
      "model_name": "HTMLStyleModel",
      "state": {
       "description_width": "",
       "font_size": null,
       "text_color": null
      }
     },
     "f44b966641ea4635aeed788693e15d3c": {
      "model_module": "@jupyter-widgets/controls",
      "model_module_version": "2.0.0",
      "model_name": "HTMLStyleModel",
      "state": {
       "description_width": "",
       "font_size": null,
       "text_color": null
      }
     },
     "f46efb737c0d4d69be8125e7e13244b3": {
      "model_module": "@jupyter-widgets/controls",
      "model_module_version": "2.0.0",
      "model_name": "HBoxModel",
      "state": {
       "children": [
        "IPY_MODEL_1c7b0948c4cf4993ae7126e1ec38240a",
        "IPY_MODEL_49088ef0847a454bba13d1726c4bab8c",
        "IPY_MODEL_7c93700715f54cd6bbb66619f78be4f2"
       ],
       "layout": "IPY_MODEL_1c7b977a60b641c69176962ac3ac9df1"
      }
     },
     "f49ef747a1ad4fd4aa0196681be79403": {
      "model_module": "@jupyter-widgets/base",
      "model_module_version": "2.0.0",
      "model_name": "LayoutModel",
      "state": {}
     },
     "f4b43e6f7d174dbca1214dcc74e5cc08": {
      "model_module": "@jupyter-widgets/controls",
      "model_module_version": "2.0.0",
      "model_name": "HTMLStyleModel",
      "state": {
       "description_width": "",
       "font_size": null,
       "text_color": null
      }
     },
     "f4ba66f5edaf4b8db46af8d7472dacfd": {
      "model_module": "@jupyter-widgets/base",
      "model_module_version": "2.0.0",
      "model_name": "LayoutModel",
      "state": {}
     },
     "f4c7cede09974da6a960f3c55f5291d5": {
      "model_module": "@jupyter-widgets/controls",
      "model_module_version": "2.0.0",
      "model_name": "HTMLModel",
      "state": {
       "layout": "IPY_MODEL_4b0c0ab90c61402a85cd6258959858e5",
       "style": "IPY_MODEL_49af531a6f894506ba43f8d0e3b989c0",
       "value": " 500/500 [00:09&lt;00:00, 54.74it/s]"
      }
     },
     "f4cfdc0f709742fab588c7c7b2166c20": {
      "model_module": "@jupyter-widgets/controls",
      "model_module_version": "2.0.0",
      "model_name": "FloatProgressModel",
      "state": {
       "bar_style": "success",
       "layout": "IPY_MODEL_bcf23360457341a7a8ee9cb6f2936695",
       "max": 1,
       "style": "IPY_MODEL_fe02d0cb95a64e6582effa748b4c15ed",
       "value": 1
      }
     },
     "f4dd1797bfef4b948e083f8daf6be20f": {
      "model_module": "@jupyter-widgets/base",
      "model_module_version": "2.0.0",
      "model_name": "LayoutModel",
      "state": {}
     },
     "f4ef1dba5d704a7a90cc7fbddc6ccfe8": {
      "model_module": "@jupyter-widgets/controls",
      "model_module_version": "2.0.0",
      "model_name": "FloatProgressModel",
      "state": {
       "bar_style": "success",
       "layout": "IPY_MODEL_64938176d7854eda87dd668b23a9ff84",
       "max": 500,
       "style": "IPY_MODEL_5786b063d582492aa00b3ff56d014321",
       "value": 500
      }
     },
     "f50464b15d2e4c319b51bc795e36879b": {
      "model_module": "@jupyter-widgets/controls",
      "model_module_version": "2.0.0",
      "model_name": "FloatProgressModel",
      "state": {
       "bar_style": "success",
       "layout": "IPY_MODEL_43a7fa50081a4166b4797f6cab2f1340",
       "max": 1,
       "style": "IPY_MODEL_09cb0d30d8484c38a966483753268349",
       "value": 1
      }
     },
     "f5115cc215dc4afa9b35023c9596a1de": {
      "model_module": "@jupyter-widgets/controls",
      "model_module_version": "2.0.0",
      "model_name": "FloatProgressModel",
      "state": {
       "bar_style": "success",
       "layout": "IPY_MODEL_894fad50afbf4d5fb7aef6ed44fd4a6c",
       "max": 500,
       "style": "IPY_MODEL_fe908f1650474edc8f32feb65401129d",
       "value": 500
      }
     },
     "f529125f65f24898b7c43eb82018b8f2": {
      "model_module": "@jupyter-widgets/controls",
      "model_module_version": "2.0.0",
      "model_name": "HTMLStyleModel",
      "state": {
       "description_width": "",
       "font_size": null,
       "text_color": null
      }
     },
     "f52cc75241484f4b8ca7d1f667f274fe": {
      "model_module": "@jupyter-widgets/controls",
      "model_module_version": "2.0.0",
      "model_name": "HTMLModel",
      "state": {
       "layout": "IPY_MODEL_1b39af08828644ceb5cc4ef093d1268f",
       "style": "IPY_MODEL_ba10807fb8584a76ab76e599815404bb",
       "value": " 500/500 [00:08&lt;00:00, 57.02it/s]"
      }
     },
     "f549a3da628f41089d344276836c5061": {
      "model_module": "@jupyter-widgets/base",
      "model_module_version": "2.0.0",
      "model_name": "LayoutModel",
      "state": {}
     },
     "f560dae6486446eda7ee4323808339db": {
      "model_module": "@jupyter-widgets/controls",
      "model_module_version": "2.0.0",
      "model_name": "HTMLModel",
      "state": {
       "layout": "IPY_MODEL_d431a12416f242d587fa0adf9251a8e6",
       "style": "IPY_MODEL_28a3dc5f8fe34202990078b40a9dc259",
       "value": " 500/500 [00:18&lt;00:00, 27.47it/s, loss=0.00204]"
      }
     },
     "f57f67bbbae74ef3aff90ce9a17bbd95": {
      "model_module": "@jupyter-widgets/controls",
      "model_module_version": "2.0.0",
      "model_name": "HTMLModel",
      "state": {
       "layout": "IPY_MODEL_bbc37b89ee56450592622435558c106e",
       "style": "IPY_MODEL_b27009a95a604c85aef7d4f4c08b5ff1",
       "value": " 500/500 [00:17&lt;00:00, 27.95it/s, loss=0.00181]"
      }
     },
     "f5b707478ba44698b723a2e838f5bb97": {
      "model_module": "@jupyter-widgets/controls",
      "model_module_version": "2.0.0",
      "model_name": "HTMLStyleModel",
      "state": {
       "description_width": "",
       "font_size": null,
       "text_color": null
      }
     },
     "f5c8b1075fd344c389742bc31d01b77e": {
      "model_module": "@jupyter-widgets/base",
      "model_module_version": "2.0.0",
      "model_name": "LayoutModel",
      "state": {}
     },
     "f5d6c68e73184114a6ff449b05bc8534": {
      "model_module": "@jupyter-widgets/base",
      "model_module_version": "2.0.0",
      "model_name": "LayoutModel",
      "state": {}
     },
     "f5dbbd0c94da43a5857e85c769c1f3b5": {
      "model_module": "@jupyter-widgets/controls",
      "model_module_version": "2.0.0",
      "model_name": "HTMLModel",
      "state": {
       "layout": "IPY_MODEL_985098d1f2df4040a0863ceab05d9d2c",
       "style": "IPY_MODEL_6e3befa78c9848bfbeee8575243bfd1e",
       "value": " 1/1 [00:02&lt;00:00,  2.71s/it, loss=0.00651]"
      }
     },
     "f5df4ecc5aa148b0b0d31c94bc8f996c": {
      "model_module": "@jupyter-widgets/base",
      "model_module_version": "2.0.0",
      "model_name": "LayoutModel",
      "state": {}
     },
     "f5f8ca48e5cd47ea8ed732397cbb297d": {
      "model_module": "@jupyter-widgets/base",
      "model_module_version": "2.0.0",
      "model_name": "LayoutModel",
      "state": {}
     },
     "f63a86b9ba1442aa82f19b1be2385ebe": {
      "model_module": "@jupyter-widgets/base",
      "model_module_version": "2.0.0",
      "model_name": "LayoutModel",
      "state": {}
     },
     "f693c07bcfc148038a133800d7eac20e": {
      "model_module": "@jupyter-widgets/controls",
      "model_module_version": "2.0.0",
      "model_name": "HTMLStyleModel",
      "state": {
       "description_width": "",
       "font_size": null,
       "text_color": null
      }
     },
     "f6f1ffeff1c74273b3bfb6563b2a11f7": {
      "model_module": "@jupyter-widgets/base",
      "model_module_version": "2.0.0",
      "model_name": "LayoutModel",
      "state": {}
     },
     "f7385059a1d840b59a91c27332138bbe": {
      "model_module": "@jupyter-widgets/controls",
      "model_module_version": "2.0.0",
      "model_name": "FloatProgressModel",
      "state": {
       "bar_style": "success",
       "layout": "IPY_MODEL_e955b0276e1a4db1b0045e1a9b546868",
       "max": 1,
       "style": "IPY_MODEL_e964bd6fdf204ad8816fa328812e54de",
       "value": 1
      }
     },
     "f74d79751d024cd3b21a875f44ab1922": {
      "model_module": "@jupyter-widgets/base",
      "model_module_version": "2.0.0",
      "model_name": "LayoutModel",
      "state": {}
     },
     "f76121fef5b24958a2ce7cf6e9f94d44": {
      "model_module": "@jupyter-widgets/controls",
      "model_module_version": "2.0.0",
      "model_name": "ProgressStyleModel",
      "state": {
       "description_width": ""
      }
     },
     "f76caf0838484f509058c0f3cfdbc0e0": {
      "model_module": "@jupyter-widgets/base",
      "model_module_version": "2.0.0",
      "model_name": "LayoutModel",
      "state": {}
     },
     "f809165d38274e3cbcdebb95ec5e97e4": {
      "model_module": "@jupyter-widgets/controls",
      "model_module_version": "2.0.0",
      "model_name": "HTMLStyleModel",
      "state": {
       "description_width": "",
       "font_size": null,
       "text_color": null
      }
     },
     "f8943da3f3b24eceade17ed6def634a2": {
      "model_module": "@jupyter-widgets/base",
      "model_module_version": "2.0.0",
      "model_name": "LayoutModel",
      "state": {}
     },
     "f89fb551b5f94cc4a49f8b8caf4c4410": {
      "model_module": "@jupyter-widgets/controls",
      "model_module_version": "2.0.0",
      "model_name": "HTMLStyleModel",
      "state": {
       "description_width": "",
       "font_size": null,
       "text_color": null
      }
     },
     "f8af510abfcc4393a5017dc7f8b2871f": {
      "model_module": "@jupyter-widgets/controls",
      "model_module_version": "2.0.0",
      "model_name": "HBoxModel",
      "state": {
       "children": [
        "IPY_MODEL_f9c5f05483f846da9a5ff36e8937872d",
        "IPY_MODEL_7cddedb745ad424e9bc71ac563f3a71a",
        "IPY_MODEL_84312635eaa04eb0832277445be1315b"
       ],
       "layout": "IPY_MODEL_40202147af424b4b8badb8e1ec446c44"
      }
     },
     "f8b5f26eb6d042ae93a9a07112aba526": {
      "model_module": "@jupyter-widgets/controls",
      "model_module_version": "2.0.0",
      "model_name": "ProgressStyleModel",
      "state": {
       "description_width": ""
      }
     },
     "f8bb004f6ffb4974a9a50e2c7595568c": {
      "model_module": "@jupyter-widgets/base",
      "model_module_version": "2.0.0",
      "model_name": "LayoutModel",
      "state": {}
     },
     "f8bdf6c19ea64394a269e289c2a5e093": {
      "model_module": "@jupyter-widgets/controls",
      "model_module_version": "2.0.0",
      "model_name": "HTMLStyleModel",
      "state": {
       "description_width": "",
       "font_size": null,
       "text_color": null
      }
     },
     "f8c451cb7a224d6fbf9af3ca3f08ab60": {
      "model_module": "@jupyter-widgets/controls",
      "model_module_version": "2.0.0",
      "model_name": "FloatProgressModel",
      "state": {
       "bar_style": "success",
       "layout": "IPY_MODEL_15036cc425fe447a8a5bb1dc5671166d",
       "max": 1,
       "style": "IPY_MODEL_20f6ec4f4154489fb5c66ad5d365530f",
       "value": 1
      }
     },
     "f8d7dc688ed9438f936f7067aa226c2f": {
      "model_module": "@jupyter-widgets/controls",
      "model_module_version": "2.0.0",
      "model_name": "HTMLModel",
      "state": {
       "layout": "IPY_MODEL_cd17263ce67648d8a1d18771cb0b65ec",
       "style": "IPY_MODEL_994ac11595214a2fad38a8c79e20830e",
       "value": "Epoch 29/60: 100%"
      }
     },
     "f8e12b644da04bb4b41b1490db2a90bf": {
      "model_module": "@jupyter-widgets/base",
      "model_module_version": "2.0.0",
      "model_name": "LayoutModel",
      "state": {}
     },
     "f8f0857295284b3ba69e4d63038b3aef": {
      "model_module": "@jupyter-widgets/controls",
      "model_module_version": "2.0.0",
      "model_name": "HBoxModel",
      "state": {
       "children": [
        "IPY_MODEL_0132c233ae324758b1c12fd6bf1eeace",
        "IPY_MODEL_366419491f85415fa34a7699d3c5d4fe",
        "IPY_MODEL_24b0ca797d6e4a96b799aa611bc917b6"
       ],
       "layout": "IPY_MODEL_ed91b20579ed446cb9f9d9d7047c6520"
      }
     },
     "f90f5cca8ab74984b21eb84b09350b61": {
      "model_module": "@jupyter-widgets/controls",
      "model_module_version": "2.0.0",
      "model_name": "FloatProgressModel",
      "state": {
       "bar_style": "success",
       "layout": "IPY_MODEL_fde1bf61353b41ae8c0b6fcf78190c1e",
       "max": 1,
       "style": "IPY_MODEL_2d829c98c5d249e4aab1d66a3c318bc3",
       "value": 1
      }
     },
     "f9102f9a0d1740fcabef26f2802cb07d": {
      "model_module": "@jupyter-widgets/base",
      "model_module_version": "2.0.0",
      "model_name": "LayoutModel",
      "state": {}
     },
     "f97fe7bbbc394e37b4d3f4a119595d9d": {
      "model_module": "@jupyter-widgets/base",
      "model_module_version": "2.0.0",
      "model_name": "LayoutModel",
      "state": {}
     },
     "f9967fc23c1c48ca9ab3773bb9e04aea": {
      "model_module": "@jupyter-widgets/controls",
      "model_module_version": "2.0.0",
      "model_name": "HTMLStyleModel",
      "state": {
       "description_width": "",
       "font_size": null,
       "text_color": null
      }
     },
     "f9ae2f8923914d4fb3e6e7fe11847bf2": {
      "model_module": "@jupyter-widgets/base",
      "model_module_version": "2.0.0",
      "model_name": "LayoutModel",
      "state": {}
     },
     "f9c5f05483f846da9a5ff36e8937872d": {
      "model_module": "@jupyter-widgets/controls",
      "model_module_version": "2.0.0",
      "model_name": "HTMLModel",
      "state": {
       "layout": "IPY_MODEL_963b2db3de7443708c04dd418f9f5569",
       "style": "IPY_MODEL_e78c1a69406044a8a665ac080b65241a",
       "value": "Epoch 2/60: 100%"
      }
     },
     "f9ccdac8a2fb4478a57835547b139d7a": {
      "model_module": "@jupyter-widgets/controls",
      "model_module_version": "2.0.0",
      "model_name": "HTMLStyleModel",
      "state": {
       "description_width": "",
       "font_size": null,
       "text_color": null
      }
     },
     "f9d5942dfdfb4625844bf4f21236698e": {
      "model_module": "@jupyter-widgets/controls",
      "model_module_version": "2.0.0",
      "model_name": "HTMLModel",
      "state": {
       "layout": "IPY_MODEL_9316eb55770b4d8386fcbc19de444db6",
       "style": "IPY_MODEL_0504091070fe4aa7960b85b9166b2097",
       "value": "Epoch 49/60: 100%"
      }
     },
     "f9d90979d9d2400ebcd89216bd213a49": {
      "model_module": "@jupyter-widgets/controls",
      "model_module_version": "2.0.0",
      "model_name": "HTMLModel",
      "state": {
       "layout": "IPY_MODEL_f74d79751d024cd3b21a875f44ab1922",
       "style": "IPY_MODEL_3afc15fd1d844a7bb8706c070960e453",
       "value": " 500/500 [00:17&lt;00:00, 27.78it/s, loss=0.00183]"
      }
     },
     "f9e0ecb4795d4048a3d8a872d79bbe98": {
      "model_module": "@jupyter-widgets/controls",
      "model_module_version": "2.0.0",
      "model_name": "ProgressStyleModel",
      "state": {
       "description_width": ""
      }
     },
     "fa0c505ad3454422be7ebc36b35b1fcd": {
      "model_module": "@jupyter-widgets/base",
      "model_module_version": "2.0.0",
      "model_name": "LayoutModel",
      "state": {}
     },
     "fa1b10c4f9d541d6babc8f5e695aa9a9": {
      "model_module": "@jupyter-widgets/controls",
      "model_module_version": "2.0.0",
      "model_name": "FloatProgressModel",
      "state": {
       "bar_style": "success",
       "layout": "IPY_MODEL_c0b27124e21745ccaa1342316aafbcaf",
       "max": 1,
       "style": "IPY_MODEL_af64439b43c84f3d91e237f937283230",
       "value": 1
      }
     },
     "fa2c553a33c045fb9fd55ec5564ab6a6": {
      "model_module": "@jupyter-widgets/controls",
      "model_module_version": "2.0.0",
      "model_name": "ProgressStyleModel",
      "state": {
       "description_width": ""
      }
     },
     "fa354b8378ea46feaa5b9ec4c35522bd": {
      "model_module": "@jupyter-widgets/controls",
      "model_module_version": "2.0.0",
      "model_name": "HBoxModel",
      "state": {
       "children": [
        "IPY_MODEL_ae4a0af770654db3bae2ba81ac2467fd",
        "IPY_MODEL_4c320ff5bfa743d4a87c8bfa929eed93",
        "IPY_MODEL_21a7498625994868a0ecd4b2ac680bd9"
       ],
       "layout": "IPY_MODEL_e72cd27a3ead4e48b43ca35086d62101"
      }
     },
     "fa4a446a048143be882de892270937bc": {
      "model_module": "@jupyter-widgets/base",
      "model_module_version": "2.0.0",
      "model_name": "LayoutModel",
      "state": {}
     },
     "fa746c6d54334f059672eab919492a32": {
      "model_module": "@jupyter-widgets/controls",
      "model_module_version": "2.0.0",
      "model_name": "HBoxModel",
      "state": {
       "children": [
        "IPY_MODEL_17144e36043740bf9676bec0efd72840",
        "IPY_MODEL_75600d7e284249138a5889ad0eb0d310",
        "IPY_MODEL_f5dbbd0c94da43a5857e85c769c1f3b5"
       ],
       "layout": "IPY_MODEL_275f129c9c444612ac049fb4d16f3023"
      }
     },
     "fa990fc3f9574fe08d422baaab343b5b": {
      "model_module": "@jupyter-widgets/base",
      "model_module_version": "2.0.0",
      "model_name": "LayoutModel",
      "state": {}
     },
     "fa9aa79ba96946a89ccada05ca43c68b": {
      "model_module": "@jupyter-widgets/controls",
      "model_module_version": "2.0.0",
      "model_name": "HTMLModel",
      "state": {
       "layout": "IPY_MODEL_16d551e4b3384f2e93413bf9d5d84f3b",
       "style": "IPY_MODEL_7f8b45e1bc9046ee868168e3e808f8e8",
       "value": "Epoch 6/60:   0%"
      }
     },
     "facf19dda6ac4f44998c752393f065bf": {
      "model_module": "@jupyter-widgets/controls",
      "model_module_version": "2.0.0",
      "model_name": "HTMLModel",
      "state": {
       "layout": "IPY_MODEL_bbcb5dee076f456f9b05432e06b68831",
       "style": "IPY_MODEL_2a1929e786f84fa792f86b24430d130c",
       "value": " 10/10 [01:14&lt;00:00,  6.71s/it]"
      }
     },
     "faee790c7e464d0f9a0d6179cf3118bf": {
      "model_module": "@jupyter-widgets/controls",
      "model_module_version": "2.0.0",
      "model_name": "HTMLModel",
      "state": {
       "layout": "IPY_MODEL_c8d464ffc79545b497545d75b92ced2f",
       "style": "IPY_MODEL_c898139a8d9e42a587899a5beda18f37",
       "value": " 1/1 [00:02&lt;00:00,  2.71s/it, loss=0.0107]"
      }
     },
     "fb0aae80999b49b7adf71fc33ea4a4be": {
      "model_module": "@jupyter-widgets/base",
      "model_module_version": "2.0.0",
      "model_name": "LayoutModel",
      "state": {}
     },
     "fb0b59b402434ccdb91cccdf19feeaea": {
      "model_module": "@jupyter-widgets/base",
      "model_module_version": "2.0.0",
      "model_name": "LayoutModel",
      "state": {}
     },
     "fb1cc679ed034fbb8433105b227be440": {
      "model_module": "@jupyter-widgets/controls",
      "model_module_version": "2.0.0",
      "model_name": "FloatProgressModel",
      "state": {
       "bar_style": "success",
       "layout": "IPY_MODEL_c593be26621841e19aecb4eef381e491",
       "max": 500,
       "style": "IPY_MODEL_b2fb55cce3a34dd892d645473d047b59",
       "value": 500
      }
     },
     "fb285fb5be974731a7f06948d7b9385d": {
      "model_module": "@jupyter-widgets/controls",
      "model_module_version": "2.0.0",
      "model_name": "HTMLStyleModel",
      "state": {
       "description_width": "",
       "font_size": null,
       "text_color": null
      }
     },
     "fb353605a3ad4538bce19ad203003411": {
      "model_module": "@jupyter-widgets/base",
      "model_module_version": "2.0.0",
      "model_name": "LayoutModel",
      "state": {}
     },
     "fb6de6ffd1f24d989efde0d868643006": {
      "model_module": "@jupyter-widgets/base",
      "model_module_version": "2.0.0",
      "model_name": "LayoutModel",
      "state": {}
     },
     "fb7059238d4c4019b0ef6397b57bc659": {
      "model_module": "@jupyter-widgets/controls",
      "model_module_version": "2.0.0",
      "model_name": "ProgressStyleModel",
      "state": {
       "description_width": ""
      }
     },
     "fb7c830ba589475f98106f4ee4ba4cb1": {
      "model_module": "@jupyter-widgets/base",
      "model_module_version": "2.0.0",
      "model_name": "LayoutModel",
      "state": {}
     },
     "fc54d49009d345f99cc2444a80da11a7": {
      "model_module": "@jupyter-widgets/controls",
      "model_module_version": "2.0.0",
      "model_name": "HBoxModel",
      "state": {
       "children": [
        "IPY_MODEL_0439b06fcea34215a10a484983907b4f",
        "IPY_MODEL_c4b1069ce5614448a5eacb48d14e9f69",
        "IPY_MODEL_0c18bc6e85ab4c24ac437e9813ec5cf3"
       ],
       "layout": "IPY_MODEL_1e2c23fcb9b341019ecdec297a69a1fe"
      }
     },
     "fc84eb24bfad489893c8990b0c11a12a": {
      "model_module": "@jupyter-widgets/controls",
      "model_module_version": "2.0.0",
      "model_name": "HTMLStyleModel",
      "state": {
       "description_width": "",
       "font_size": null,
       "text_color": null
      }
     },
     "fcb2e51b13864d5a91334b0bf404bcd5": {
      "model_module": "@jupyter-widgets/controls",
      "model_module_version": "2.0.0",
      "model_name": "HTMLModel",
      "state": {
       "layout": "IPY_MODEL_20bf09fe9f534e3faaf1c26e6e7be927",
       "style": "IPY_MODEL_47d51071cc26475db28106f94d97e3eb",
       "value": "Epoch 16/60: 100%"
      }
     },
     "fcd6fa5d20e247d3b5c16a9230567141": {
      "model_module": "@jupyter-widgets/base",
      "model_module_version": "2.0.0",
      "model_name": "LayoutModel",
      "state": {}
     },
     "fcedb0723fe14944b8135bfdcc7296cd": {
      "model_module": "@jupyter-widgets/controls",
      "model_module_version": "2.0.0",
      "model_name": "HTMLModel",
      "state": {
       "layout": "IPY_MODEL_1f1b1d70d23e43f8888831581d7070ab",
       "style": "IPY_MODEL_073f3ee3909e41efa087d97d00b7e845",
       "value": " 500/500 [00:17&lt;00:00, 26.10it/s, loss=0.00182]"
      }
     },
     "fd38091d08e442a590b552beb9f8b49e": {
      "model_module": "@jupyter-widgets/controls",
      "model_module_version": "2.0.0",
      "model_name": "HTMLModel",
      "state": {
       "layout": "IPY_MODEL_85f30808ce1747f390c3f0f4d22608d2",
       "style": "IPY_MODEL_ce2901104f914fbf951ba90a05ad70a2",
       "value": "Epoch 29/60: 100%"
      }
     },
     "fd3a5887066a489a8b5947a35c80db8a": {
      "model_module": "@jupyter-widgets/controls",
      "model_module_version": "2.0.0",
      "model_name": "ProgressStyleModel",
      "state": {
       "description_width": ""
      }
     },
     "fd3f0f673cc44b678e05b50cafce31bb": {
      "model_module": "@jupyter-widgets/controls",
      "model_module_version": "2.0.0",
      "model_name": "HBoxModel",
      "state": {
       "children": [
        "IPY_MODEL_5b45cdb9507c4becaec21c80cf7a254d",
        "IPY_MODEL_01909e7798cd49e6830d3f0e75028caa",
        "IPY_MODEL_bb7f7627b8ef44e5897d59c30259d39b"
       ],
       "layout": "IPY_MODEL_8abb228d2d6b4c0a86a5188d0cfa2fbc"
      }
     },
     "fd4d188e1edd4c90b72eea41b0cbaa8f": {
      "model_module": "@jupyter-widgets/controls",
      "model_module_version": "2.0.0",
      "model_name": "FloatProgressModel",
      "state": {
       "bar_style": "success",
       "layout": "IPY_MODEL_63139b42fa544696a9139286335c2442",
       "max": 500,
       "style": "IPY_MODEL_3208d38809074094981a0e5ebb589e2e",
       "value": 500
      }
     },
     "fd7247c15e634122ad98a78c7da3cd27": {
      "model_module": "@jupyter-widgets/controls",
      "model_module_version": "2.0.0",
      "model_name": "FloatProgressModel",
      "state": {
       "bar_style": "success",
       "layout": "IPY_MODEL_ca8e2920635e4ca29e5bc037bb5ef3a1",
       "max": 1,
       "style": "IPY_MODEL_3bfd270daa3342e094488a9a34160cb6",
       "value": 1
      }
     },
     "fd86db58b4944c408a897b89bdea7243": {
      "model_module": "@jupyter-widgets/controls",
      "model_module_version": "2.0.0",
      "model_name": "HBoxModel",
      "state": {
       "children": [
        "IPY_MODEL_cc4f51bb05b34da8b9ef0a6a0b831e0a",
        "IPY_MODEL_e2fc110d27b04034aebcd81505637826",
        "IPY_MODEL_bd95492652bd42249b8488bee5618417"
       ],
       "layout": "IPY_MODEL_625ad4fedb0d46d592dfdb2e12f5c039"
      }
     },
     "fdb609aa2e604fcf95ffa3271c37911e": {
      "model_module": "@jupyter-widgets/base",
      "model_module_version": "2.0.0",
      "model_name": "LayoutModel",
      "state": {}
     },
     "fdcc182cca7d4203b8e3729e1e6a243d": {
      "model_module": "@jupyter-widgets/base",
      "model_module_version": "2.0.0",
      "model_name": "LayoutModel",
      "state": {}
     },
     "fdd34fb5edb145c58eac6fd1ce825f46": {
      "model_module": "@jupyter-widgets/controls",
      "model_module_version": "2.0.0",
      "model_name": "FloatProgressModel",
      "state": {
       "bar_style": "success",
       "layout": "IPY_MODEL_b67595d1e1e14fdaae82888e70d958cf",
       "max": 1,
       "style": "IPY_MODEL_085eacf453274b28a6794f3140ccc1bd",
       "value": 1
      }
     },
     "fdd3cb9738c54e78912f2ea28a6266bf": {
      "model_module": "@jupyter-widgets/controls",
      "model_module_version": "2.0.0",
      "model_name": "HTMLModel",
      "state": {
       "layout": "IPY_MODEL_f116902a1b5941fd9175f9a6f59d5d8c",
       "style": "IPY_MODEL_2aa520babbb94361bb8014183ab504d6",
       "value": " 500/500 [00:18&lt;00:00, 26.54it/s, loss=0.00198]"
      }
     },
     "fde1bf61353b41ae8c0b6fcf78190c1e": {
      "model_module": "@jupyter-widgets/base",
      "model_module_version": "2.0.0",
      "model_name": "LayoutModel",
      "state": {}
     },
     "fe02d0cb95a64e6582effa748b4c15ed": {
      "model_module": "@jupyter-widgets/controls",
      "model_module_version": "2.0.0",
      "model_name": "ProgressStyleModel",
      "state": {
       "description_width": ""
      }
     },
     "fe15d4496344491989f838ee112b4902": {
      "model_module": "@jupyter-widgets/controls",
      "model_module_version": "2.0.0",
      "model_name": "ProgressStyleModel",
      "state": {
       "description_width": ""
      }
     },
     "fe908f1650474edc8f32feb65401129d": {
      "model_module": "@jupyter-widgets/controls",
      "model_module_version": "2.0.0",
      "model_name": "ProgressStyleModel",
      "state": {
       "description_width": ""
      }
     },
     "fe93d25fc9ac42b4b7f2198462e09c21": {
      "model_module": "@jupyter-widgets/base",
      "model_module_version": "2.0.0",
      "model_name": "LayoutModel",
      "state": {}
     },
     "fea78cea3c524ad6b8eb5d64bc6dc67f": {
      "model_module": "@jupyter-widgets/controls",
      "model_module_version": "2.0.0",
      "model_name": "HTMLModel",
      "state": {
       "layout": "IPY_MODEL_cb9bebe6edee4768b8bb32b5dda65878",
       "style": "IPY_MODEL_78540a5ca0574a25897a904eb65cc25e",
       "value": "Epoch 2/60: 100%"
      }
     },
     "febd852158f74ab7a3a061359e699fee": {
      "model_module": "@jupyter-widgets/controls",
      "model_module_version": "2.0.0",
      "model_name": "HTMLModel",
      "state": {
       "layout": "IPY_MODEL_c492246fd8eb4cfd97392f04d1b15f2a",
       "style": "IPY_MODEL_a69be610b04a4c50a4cafc4e5c4c30b6",
       "value": " 500/500 [00:18&lt;00:00, 27.74it/s, loss=0.00675]"
      }
     },
     "fee7590a0dc1403a94e8d4b5c5145eb4": {
      "model_module": "@jupyter-widgets/controls",
      "model_module_version": "2.0.0",
      "model_name": "HBoxModel",
      "state": {
       "children": [
        "IPY_MODEL_0c62331aa80d4f12949d5a5dd7dbfbb8",
        "IPY_MODEL_494ce93458bb4171a6a37a456747785e",
        "IPY_MODEL_826cfb4187874c0e96c820705ecce2a4"
       ],
       "layout": "IPY_MODEL_de01c7ae6ba04f22a889716700df2068"
      }
     },
     "ff157f19e4b64479b6a44dc75b34fa66": {
      "model_module": "@jupyter-widgets/base",
      "model_module_version": "2.0.0",
      "model_name": "LayoutModel",
      "state": {}
     },
     "ff81e2bbd2684dfc8f4f5cae4c7024cb": {
      "model_module": "@jupyter-widgets/base",
      "model_module_version": "2.0.0",
      "model_name": "LayoutModel",
      "state": {}
     },
     "ffb421ada6744dacb831140c923ee973": {
      "model_module": "@jupyter-widgets/base",
      "model_module_version": "2.0.0",
      "model_name": "LayoutModel",
      "state": {}
     },
     "ffbbddc153f7413c8871fb2c5915045e": {
      "model_module": "@jupyter-widgets/base",
      "model_module_version": "2.0.0",
      "model_name": "LayoutModel",
      "state": {}
     },
     "ffc8b68011a143f7bbf426079c0a7bb5": {
      "model_module": "@jupyter-widgets/base",
      "model_module_version": "2.0.0",
      "model_name": "LayoutModel",
      "state": {}
     },
     "ffeb7639f11b4995bdefeab8b36d7d26": {
      "model_module": "@jupyter-widgets/base",
      "model_module_version": "2.0.0",
      "model_name": "LayoutModel",
      "state": {}
     },
     "fff3fe58a5264139845748a4b6719d8c": {
      "model_module": "@jupyter-widgets/controls",
      "model_module_version": "2.0.0",
      "model_name": "HTMLStyleModel",
      "state": {
       "description_width": "",
       "font_size": null,
       "text_color": null
      }
     }
    },
    "version_major": 2,
    "version_minor": 0
   }
  }
 },
 "nbformat": 4,
 "nbformat_minor": 5
}
